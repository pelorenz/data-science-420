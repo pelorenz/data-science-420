{
 "cells": [
  {
   "cell_type": "markdown",
   "metadata": {},
   "source": [
    "# Lesson 04\n",
    "# Peter Lorenz"
   ]
  },
  {
   "cell_type": "markdown",
   "metadata": {},
   "source": [
    "## 0. Preliminaries\n",
    "Import the required libraries:"
   ]
  },
  {
   "cell_type": "code",
   "execution_count": 106,
   "metadata": {},
   "outputs": [],
   "source": [
    "import numpy as np\n",
    "import pandas as pd\n",
    "import seaborn as sns\n",
    "\n",
    "from mlxtend.feature_selection import SequentialFeatureSelector as SFS\n",
    "from mlxtend.plotting import plot_sequential_feature_selection as plot_sfs\n",
    "from sklearn import linear_model\n",
    "from sklearn.feature_selection import RFE # Recursive Feature Elimination\n",
    "from sklearn.linear_model import LinearRegression\n",
    "from sklearn.metrics import mutual_info_score\n",
    "\n",
    "import matplotlib as mpl\n",
    "import matplotlib.pyplot as plt"
   ]
  },
  {
   "cell_type": "markdown",
   "metadata": {},
   "source": [
    "Set some global options:"
   ]
  },
  {
   "cell_type": "code",
   "execution_count": 19,
   "metadata": {},
   "outputs": [],
   "source": [
    "# Display plots inline\n",
    "%matplotlib inline\n",
    "\n",
    "# Display multiple cell outputs\n",
    "from IPython.core.interactiveshell import InteractiveShell\n",
    "InteractiveShell.ast_node_interactivity = \"all\"\n",
    "\n",
    "# Suppress scientific notation\n",
    "np.set_printoptions(suppress=True)\n",
    "np.set_printoptions(precision=3)\n",
    "pd.set_option('display.float_format', lambda x: '%.3f' % x)"
   ]
  },
  {
   "cell_type": "markdown",
   "metadata": {},
   "source": [
    "Declare constants:"
   ]
  },
  {
   "cell_type": "code",
   "execution_count": 71,
   "metadata": {},
   "outputs": [],
   "source": [
    "# Number of bins for computing mutual information score\n",
    "MI_BINS = 20"
   ]
  },
  {
   "cell_type": "markdown",
   "metadata": {},
   "source": [
    "Declare utility functions:"
   ]
  },
  {
   "cell_type": "code",
   "execution_count": 88,
   "metadata": {},
   "outputs": [],
   "source": [
    "# Compute mutual information score between given column and the target variable\n",
    "def calc_MI(df, target_arr, col):\n",
    "    c_xy = np.histogram2d(df[col], target_arr, MI_BINS)[0]\n",
    "    mi = mutual_info_score(None, None, contingency = c_xy)\n",
    "    \n",
    "    # Return tuple of column name and MI score vs. target\n",
    "    return (col, round(mi, 3))"
   ]
  },
  {
   "cell_type": "markdown",
   "metadata": {},
   "source": [
    "## 1. Read data\n",
    "We begin by importing our data set:"
   ]
  },
  {
   "cell_type": "code",
   "execution_count": 65,
   "metadata": {
    "scrolled": true
   },
   "outputs": [
    {
     "data": {
      "text/plain": [
       "(1993, 128)"
      ]
     },
     "execution_count": 65,
     "metadata": {},
     "output_type": "execute_result"
    },
    {
     "data": {
      "text/html": [
       "<div>\n",
       "<style scoped>\n",
       "    .dataframe tbody tr th:only-of-type {\n",
       "        vertical-align: middle;\n",
       "    }\n",
       "\n",
       "    .dataframe tbody tr th {\n",
       "        vertical-align: top;\n",
       "    }\n",
       "\n",
       "    .dataframe thead th {\n",
       "        text-align: right;\n",
       "    }\n",
       "</style>\n",
       "<table border=\"1\" class=\"dataframe\">\n",
       "  <thead>\n",
       "    <tr style=\"text-align: right;\">\n",
       "      <th></th>\n",
       "      <th>0</th>\n",
       "      <th>1</th>\n",
       "      <th>2</th>\n",
       "      <th>3</th>\n",
       "      <th>4</th>\n",
       "    </tr>\n",
       "  </thead>\n",
       "  <tbody>\n",
       "    <tr>\n",
       "      <th>state</th>\n",
       "      <td>53</td>\n",
       "      <td>24</td>\n",
       "      <td>34</td>\n",
       "      <td>42</td>\n",
       "      <td>6</td>\n",
       "    </tr>\n",
       "    <tr>\n",
       "      <th>county</th>\n",
       "      <td>?</td>\n",
       "      <td>?</td>\n",
       "      <td>5</td>\n",
       "      <td>95</td>\n",
       "      <td>?</td>\n",
       "    </tr>\n",
       "    <tr>\n",
       "      <th>community</th>\n",
       "      <td>?</td>\n",
       "      <td>?</td>\n",
       "      <td>81440</td>\n",
       "      <td>6096</td>\n",
       "      <td>?</td>\n",
       "    </tr>\n",
       "    <tr>\n",
       "      <th>communityname</th>\n",
       "      <td>Tukwilacity</td>\n",
       "      <td>Aberdeentown</td>\n",
       "      <td>Willingborotownship</td>\n",
       "      <td>Bethlehemtownship</td>\n",
       "      <td>SouthPasadenacity</td>\n",
       "    </tr>\n",
       "    <tr>\n",
       "      <th>fold</th>\n",
       "      <td>1</td>\n",
       "      <td>1</td>\n",
       "      <td>1</td>\n",
       "      <td>1</td>\n",
       "      <td>1</td>\n",
       "    </tr>\n",
       "    <tr>\n",
       "      <th>population</th>\n",
       "      <td>0.000</td>\n",
       "      <td>0.000</td>\n",
       "      <td>0.040</td>\n",
       "      <td>0.010</td>\n",
       "      <td>0.020</td>\n",
       "    </tr>\n",
       "    <tr>\n",
       "      <th>householdsize</th>\n",
       "      <td>0.160</td>\n",
       "      <td>0.420</td>\n",
       "      <td>0.770</td>\n",
       "      <td>0.550</td>\n",
       "      <td>0.280</td>\n",
       "    </tr>\n",
       "    <tr>\n",
       "      <th>racepctblack</th>\n",
       "      <td>0.120</td>\n",
       "      <td>0.490</td>\n",
       "      <td>1.000</td>\n",
       "      <td>0.020</td>\n",
       "      <td>0.060</td>\n",
       "    </tr>\n",
       "    <tr>\n",
       "      <th>racePctWhite</th>\n",
       "      <td>0.740</td>\n",
       "      <td>0.560</td>\n",
       "      <td>0.080</td>\n",
       "      <td>0.950</td>\n",
       "      <td>0.540</td>\n",
       "    </tr>\n",
       "    <tr>\n",
       "      <th>racePctAsian</th>\n",
       "      <td>0.450</td>\n",
       "      <td>0.170</td>\n",
       "      <td>0.120</td>\n",
       "      <td>0.090</td>\n",
       "      <td>1.000</td>\n",
       "    </tr>\n",
       "    <tr>\n",
       "      <th>racePctHisp</th>\n",
       "      <td>0.070</td>\n",
       "      <td>0.040</td>\n",
       "      <td>0.100</td>\n",
       "      <td>0.050</td>\n",
       "      <td>0.250</td>\n",
       "    </tr>\n",
       "    <tr>\n",
       "      <th>agePct12t21</th>\n",
       "      <td>0.260</td>\n",
       "      <td>0.390</td>\n",
       "      <td>0.510</td>\n",
       "      <td>0.380</td>\n",
       "      <td>0.310</td>\n",
       "    </tr>\n",
       "    <tr>\n",
       "      <th>agePct12t29</th>\n",
       "      <td>0.590</td>\n",
       "      <td>0.470</td>\n",
       "      <td>0.500</td>\n",
       "      <td>0.380</td>\n",
       "      <td>0.480</td>\n",
       "    </tr>\n",
       "    <tr>\n",
       "      <th>agePct16t24</th>\n",
       "      <td>0.350</td>\n",
       "      <td>0.280</td>\n",
       "      <td>0.340</td>\n",
       "      <td>0.230</td>\n",
       "      <td>0.270</td>\n",
       "    </tr>\n",
       "    <tr>\n",
       "      <th>agePct65up</th>\n",
       "      <td>0.270</td>\n",
       "      <td>0.320</td>\n",
       "      <td>0.210</td>\n",
       "      <td>0.360</td>\n",
       "      <td>0.370</td>\n",
       "    </tr>\n",
       "    <tr>\n",
       "      <th>numbUrban</th>\n",
       "      <td>0.020</td>\n",
       "      <td>0.000</td>\n",
       "      <td>0.060</td>\n",
       "      <td>0.020</td>\n",
       "      <td>0.040</td>\n",
       "    </tr>\n",
       "    <tr>\n",
       "      <th>pctUrban</th>\n",
       "      <td>1.000</td>\n",
       "      <td>0.000</td>\n",
       "      <td>1.000</td>\n",
       "      <td>0.900</td>\n",
       "      <td>1.000</td>\n",
       "    </tr>\n",
       "    <tr>\n",
       "      <th>medIncome</th>\n",
       "      <td>0.310</td>\n",
       "      <td>0.300</td>\n",
       "      <td>0.580</td>\n",
       "      <td>0.500</td>\n",
       "      <td>0.520</td>\n",
       "    </tr>\n",
       "    <tr>\n",
       "      <th>pctWWage</th>\n",
       "      <td>0.720</td>\n",
       "      <td>0.580</td>\n",
       "      <td>0.890</td>\n",
       "      <td>0.720</td>\n",
       "      <td>0.680</td>\n",
       "    </tr>\n",
       "    <tr>\n",
       "      <th>pctWFarmSelf</th>\n",
       "      <td>0.110</td>\n",
       "      <td>0.190</td>\n",
       "      <td>0.210</td>\n",
       "      <td>0.160</td>\n",
       "      <td>0.200</td>\n",
       "    </tr>\n",
       "    <tr>\n",
       "      <th>pctWInvInc</th>\n",
       "      <td>0.450</td>\n",
       "      <td>0.390</td>\n",
       "      <td>0.430</td>\n",
       "      <td>0.680</td>\n",
       "      <td>0.610</td>\n",
       "    </tr>\n",
       "    <tr>\n",
       "      <th>pctWSocSec</th>\n",
       "      <td>0.250</td>\n",
       "      <td>0.380</td>\n",
       "      <td>0.360</td>\n",
       "      <td>0.440</td>\n",
       "      <td>0.280</td>\n",
       "    </tr>\n",
       "    <tr>\n",
       "      <th>pctWPubAsst</th>\n",
       "      <td>0.290</td>\n",
       "      <td>0.400</td>\n",
       "      <td>0.200</td>\n",
       "      <td>0.110</td>\n",
       "      <td>0.150</td>\n",
       "    </tr>\n",
       "    <tr>\n",
       "      <th>pctWRetire</th>\n",
       "      <td>0.390</td>\n",
       "      <td>0.840</td>\n",
       "      <td>0.820</td>\n",
       "      <td>0.710</td>\n",
       "      <td>0.250</td>\n",
       "    </tr>\n",
       "    <tr>\n",
       "      <th>medFamInc</th>\n",
       "      <td>0.290</td>\n",
       "      <td>0.280</td>\n",
       "      <td>0.510</td>\n",
       "      <td>0.460</td>\n",
       "      <td>0.620</td>\n",
       "    </tr>\n",
       "    <tr>\n",
       "      <th>perCapInc</th>\n",
       "      <td>0.370</td>\n",
       "      <td>0.270</td>\n",
       "      <td>0.360</td>\n",
       "      <td>0.430</td>\n",
       "      <td>0.720</td>\n",
       "    </tr>\n",
       "    <tr>\n",
       "      <th>whitePerCap</th>\n",
       "      <td>0.380</td>\n",
       "      <td>0.290</td>\n",
       "      <td>0.400</td>\n",
       "      <td>0.410</td>\n",
       "      <td>0.760</td>\n",
       "    </tr>\n",
       "    <tr>\n",
       "      <th>blackPerCap</th>\n",
       "      <td>0.330</td>\n",
       "      <td>0.270</td>\n",
       "      <td>0.390</td>\n",
       "      <td>0.280</td>\n",
       "      <td>0.770</td>\n",
       "    </tr>\n",
       "    <tr>\n",
       "      <th>indianPerCap</th>\n",
       "      <td>0.160</td>\n",
       "      <td>0.070</td>\n",
       "      <td>0.160</td>\n",
       "      <td>0.000</td>\n",
       "      <td>0.280</td>\n",
       "    </tr>\n",
       "    <tr>\n",
       "      <th>AsianPerCap</th>\n",
       "      <td>0.300</td>\n",
       "      <td>0.290</td>\n",
       "      <td>0.250</td>\n",
       "      <td>0.740</td>\n",
       "      <td>0.520</td>\n",
       "    </tr>\n",
       "    <tr>\n",
       "      <th>OtherPerCap</th>\n",
       "      <td>0.22</td>\n",
       "      <td>0.28</td>\n",
       "      <td>0.36</td>\n",
       "      <td>0.51</td>\n",
       "      <td>0.48</td>\n",
       "    </tr>\n",
       "    <tr>\n",
       "      <th>HispPerCap</th>\n",
       "      <td>0.350</td>\n",
       "      <td>0.390</td>\n",
       "      <td>0.440</td>\n",
       "      <td>0.480</td>\n",
       "      <td>0.600</td>\n",
       "    </tr>\n",
       "    <tr>\n",
       "      <th>NumUnderPov</th>\n",
       "      <td>0.010</td>\n",
       "      <td>0.010</td>\n",
       "      <td>0.010</td>\n",
       "      <td>0.000</td>\n",
       "      <td>0.010</td>\n",
       "    </tr>\n",
       "    <tr>\n",
       "      <th>PctPopUnderPov</th>\n",
       "      <td>0.240</td>\n",
       "      <td>0.270</td>\n",
       "      <td>0.100</td>\n",
       "      <td>0.060</td>\n",
       "      <td>0.120</td>\n",
       "    </tr>\n",
       "    <tr>\n",
       "      <th>PctLess9thGrade</th>\n",
       "      <td>0.140</td>\n",
       "      <td>0.270</td>\n",
       "      <td>0.090</td>\n",
       "      <td>0.250</td>\n",
       "      <td>0.130</td>\n",
       "    </tr>\n",
       "    <tr>\n",
       "      <th>PctNotHSGrad</th>\n",
       "      <td>0.240</td>\n",
       "      <td>0.430</td>\n",
       "      <td>0.250</td>\n",
       "      <td>0.300</td>\n",
       "      <td>0.120</td>\n",
       "    </tr>\n",
       "    <tr>\n",
       "      <th>PctBSorMore</th>\n",
       "      <td>0.300</td>\n",
       "      <td>0.190</td>\n",
       "      <td>0.310</td>\n",
       "      <td>0.330</td>\n",
       "      <td>0.800</td>\n",
       "    </tr>\n",
       "    <tr>\n",
       "      <th>PctUnemployed</th>\n",
       "      <td>0.270</td>\n",
       "      <td>0.360</td>\n",
       "      <td>0.330</td>\n",
       "      <td>0.120</td>\n",
       "      <td>0.100</td>\n",
       "    </tr>\n",
       "    <tr>\n",
       "      <th>PctEmploy</th>\n",
       "      <td>0.730</td>\n",
       "      <td>0.580</td>\n",
       "      <td>0.710</td>\n",
       "      <td>0.650</td>\n",
       "      <td>0.650</td>\n",
       "    </tr>\n",
       "    <tr>\n",
       "      <th>PctEmplManu</th>\n",
       "      <td>0.570</td>\n",
       "      <td>0.320</td>\n",
       "      <td>0.360</td>\n",
       "      <td>0.670</td>\n",
       "      <td>0.190</td>\n",
       "    </tr>\n",
       "    <tr>\n",
       "      <th>PctEmplProfServ</th>\n",
       "      <td>0.150</td>\n",
       "      <td>0.290</td>\n",
       "      <td>0.450</td>\n",
       "      <td>0.380</td>\n",
       "      <td>0.770</td>\n",
       "    </tr>\n",
       "    <tr>\n",
       "      <th>PctOccupManu</th>\n",
       "      <td>0.420</td>\n",
       "      <td>0.490</td>\n",
       "      <td>0.370</td>\n",
       "      <td>0.420</td>\n",
       "      <td>0.060</td>\n",
       "    </tr>\n",
       "    <tr>\n",
       "      <th>PctOccupMgmtProf</th>\n",
       "      <td>0.360</td>\n",
       "      <td>0.320</td>\n",
       "      <td>0.390</td>\n",
       "      <td>0.460</td>\n",
       "      <td>0.910</td>\n",
       "    </tr>\n",
       "    <tr>\n",
       "      <th>MalePctDivorce</th>\n",
       "      <td>1.000</td>\n",
       "      <td>0.630</td>\n",
       "      <td>0.340</td>\n",
       "      <td>0.220</td>\n",
       "      <td>0.490</td>\n",
       "    </tr>\n",
       "    <tr>\n",
       "      <th>MalePctNevMarr</th>\n",
       "      <td>0.630</td>\n",
       "      <td>0.410</td>\n",
       "      <td>0.450</td>\n",
       "      <td>0.270</td>\n",
       "      <td>0.570</td>\n",
       "    </tr>\n",
       "    <tr>\n",
       "      <th>FemalePctDiv</th>\n",
       "      <td>0.910</td>\n",
       "      <td>0.710</td>\n",
       "      <td>0.490</td>\n",
       "      <td>0.200</td>\n",
       "      <td>0.610</td>\n",
       "    </tr>\n",
       "    <tr>\n",
       "      <th>TotalPctDiv</th>\n",
       "      <td>1.000</td>\n",
       "      <td>0.700</td>\n",
       "      <td>0.440</td>\n",
       "      <td>0.210</td>\n",
       "      <td>0.580</td>\n",
       "    </tr>\n",
       "    <tr>\n",
       "      <th>PersPerFam</th>\n",
       "      <td>0.290</td>\n",
       "      <td>0.450</td>\n",
       "      <td>0.750</td>\n",
       "      <td>0.510</td>\n",
       "      <td>0.440</td>\n",
       "    </tr>\n",
       "    <tr>\n",
       "      <th>PctFam2Par</th>\n",
       "      <td>0.430</td>\n",
       "      <td>0.420</td>\n",
       "      <td>0.650</td>\n",
       "      <td>0.910</td>\n",
       "      <td>0.620</td>\n",
       "    </tr>\n",
       "    <tr>\n",
       "      <th>PctKids2Par</th>\n",
       "      <td>0.470</td>\n",
       "      <td>0.440</td>\n",
       "      <td>0.540</td>\n",
       "      <td>0.910</td>\n",
       "      <td>0.690</td>\n",
       "    </tr>\n",
       "    <tr>\n",
       "      <th>PctYoungKids2Par</th>\n",
       "      <td>0.600</td>\n",
       "      <td>0.430</td>\n",
       "      <td>0.830</td>\n",
       "      <td>0.890</td>\n",
       "      <td>0.870</td>\n",
       "    </tr>\n",
       "    <tr>\n",
       "      <th>PctTeen2Par</th>\n",
       "      <td>0.390</td>\n",
       "      <td>0.430</td>\n",
       "      <td>0.650</td>\n",
       "      <td>0.850</td>\n",
       "      <td>0.530</td>\n",
       "    </tr>\n",
       "    <tr>\n",
       "      <th>PctWorkMomYoungKids</th>\n",
       "      <td>0.460</td>\n",
       "      <td>0.710</td>\n",
       "      <td>0.850</td>\n",
       "      <td>0.400</td>\n",
       "      <td>0.300</td>\n",
       "    </tr>\n",
       "    <tr>\n",
       "      <th>PctWorkMom</th>\n",
       "      <td>0.530</td>\n",
       "      <td>0.670</td>\n",
       "      <td>0.860</td>\n",
       "      <td>0.600</td>\n",
       "      <td>0.430</td>\n",
       "    </tr>\n",
       "    <tr>\n",
       "      <th>NumIlleg</th>\n",
       "      <td>0.000</td>\n",
       "      <td>0.010</td>\n",
       "      <td>0.030</td>\n",
       "      <td>0.000</td>\n",
       "      <td>0.000</td>\n",
       "    </tr>\n",
       "    <tr>\n",
       "      <th>PctIlleg</th>\n",
       "      <td>0.240</td>\n",
       "      <td>0.460</td>\n",
       "      <td>0.330</td>\n",
       "      <td>0.060</td>\n",
       "      <td>0.110</td>\n",
       "    </tr>\n",
       "    <tr>\n",
       "      <th>NumImmig</th>\n",
       "      <td>0.010</td>\n",
       "      <td>0.000</td>\n",
       "      <td>0.020</td>\n",
       "      <td>0.000</td>\n",
       "      <td>0.040</td>\n",
       "    </tr>\n",
       "    <tr>\n",
       "      <th>PctImmigRecent</th>\n",
       "      <td>0.520</td>\n",
       "      <td>0.070</td>\n",
       "      <td>0.110</td>\n",
       "      <td>0.030</td>\n",
       "      <td>0.300</td>\n",
       "    </tr>\n",
       "    <tr>\n",
       "      <th>PctImmigRec5</th>\n",
       "      <td>0.620</td>\n",
       "      <td>0.060</td>\n",
       "      <td>0.200</td>\n",
       "      <td>0.070</td>\n",
       "      <td>0.350</td>\n",
       "    </tr>\n",
       "    <tr>\n",
       "      <th>PctImmigRec8</th>\n",
       "      <td>0.640</td>\n",
       "      <td>0.150</td>\n",
       "      <td>0.300</td>\n",
       "      <td>0.200</td>\n",
       "      <td>0.430</td>\n",
       "    </tr>\n",
       "    <tr>\n",
       "      <th>PctImmigRec10</th>\n",
       "      <td>0.630</td>\n",
       "      <td>0.190</td>\n",
       "      <td>0.310</td>\n",
       "      <td>0.270</td>\n",
       "      <td>0.470</td>\n",
       "    </tr>\n",
       "    <tr>\n",
       "      <th>PctRecentImmig</th>\n",
       "      <td>0.250</td>\n",
       "      <td>0.020</td>\n",
       "      <td>0.050</td>\n",
       "      <td>0.010</td>\n",
       "      <td>0.500</td>\n",
       "    </tr>\n",
       "    <tr>\n",
       "      <th>PctRecImmig5</th>\n",
       "      <td>0.270</td>\n",
       "      <td>0.020</td>\n",
       "      <td>0.080</td>\n",
       "      <td>0.020</td>\n",
       "      <td>0.500</td>\n",
       "    </tr>\n",
       "    <tr>\n",
       "      <th>PctRecImmig8</th>\n",
       "      <td>0.250</td>\n",
       "      <td>0.040</td>\n",
       "      <td>0.110</td>\n",
       "      <td>0.040</td>\n",
       "      <td>0.560</td>\n",
       "    </tr>\n",
       "    <tr>\n",
       "      <th>PctRecImmig10</th>\n",
       "      <td>0.230</td>\n",
       "      <td>0.050</td>\n",
       "      <td>0.110</td>\n",
       "      <td>0.050</td>\n",
       "      <td>0.570</td>\n",
       "    </tr>\n",
       "    <tr>\n",
       "      <th>PctSpeakEnglOnly</th>\n",
       "      <td>0.840</td>\n",
       "      <td>0.880</td>\n",
       "      <td>0.810</td>\n",
       "      <td>0.880</td>\n",
       "      <td>0.450</td>\n",
       "    </tr>\n",
       "    <tr>\n",
       "      <th>PctNotSpeakEnglWell</th>\n",
       "      <td>0.100</td>\n",
       "      <td>0.040</td>\n",
       "      <td>0.080</td>\n",
       "      <td>0.050</td>\n",
       "      <td>0.280</td>\n",
       "    </tr>\n",
       "    <tr>\n",
       "      <th>PctLargHouseFam</th>\n",
       "      <td>0.160</td>\n",
       "      <td>0.200</td>\n",
       "      <td>0.560</td>\n",
       "      <td>0.160</td>\n",
       "      <td>0.250</td>\n",
       "    </tr>\n",
       "    <tr>\n",
       "      <th>PctLargHouseOccup</th>\n",
       "      <td>0.100</td>\n",
       "      <td>0.200</td>\n",
       "      <td>0.620</td>\n",
       "      <td>0.190</td>\n",
       "      <td>0.190</td>\n",
       "    </tr>\n",
       "    <tr>\n",
       "      <th>PersPerOccupHous</th>\n",
       "      <td>0.170</td>\n",
       "      <td>0.460</td>\n",
       "      <td>0.850</td>\n",
       "      <td>0.590</td>\n",
       "      <td>0.290</td>\n",
       "    </tr>\n",
       "    <tr>\n",
       "      <th>PersPerOwnOccHous</th>\n",
       "      <td>0.290</td>\n",
       "      <td>0.520</td>\n",
       "      <td>0.770</td>\n",
       "      <td>0.600</td>\n",
       "      <td>0.530</td>\n",
       "    </tr>\n",
       "    <tr>\n",
       "      <th>PersPerRentOccHous</th>\n",
       "      <td>0.170</td>\n",
       "      <td>0.430</td>\n",
       "      <td>1.000</td>\n",
       "      <td>0.370</td>\n",
       "      <td>0.180</td>\n",
       "    </tr>\n",
       "    <tr>\n",
       "      <th>PctPersOwnOccup</th>\n",
       "      <td>0.260</td>\n",
       "      <td>0.420</td>\n",
       "      <td>0.940</td>\n",
       "      <td>0.890</td>\n",
       "      <td>0.390</td>\n",
       "    </tr>\n",
       "    <tr>\n",
       "      <th>PctPersDenseHous</th>\n",
       "      <td>0.200</td>\n",
       "      <td>0.150</td>\n",
       "      <td>0.120</td>\n",
       "      <td>0.020</td>\n",
       "      <td>0.260</td>\n",
       "    </tr>\n",
       "    <tr>\n",
       "      <th>PctHousLess3BR</th>\n",
       "      <td>0.820</td>\n",
       "      <td>0.510</td>\n",
       "      <td>0.010</td>\n",
       "      <td>0.190</td>\n",
       "      <td>0.730</td>\n",
       "    </tr>\n",
       "    <tr>\n",
       "      <th>MedNumBR</th>\n",
       "      <td>0.000</td>\n",
       "      <td>0.500</td>\n",
       "      <td>0.500</td>\n",
       "      <td>0.500</td>\n",
       "      <td>0.000</td>\n",
       "    </tr>\n",
       "    <tr>\n",
       "      <th>HousVacant</th>\n",
       "      <td>0.020</td>\n",
       "      <td>0.010</td>\n",
       "      <td>0.010</td>\n",
       "      <td>0.010</td>\n",
       "      <td>0.020</td>\n",
       "    </tr>\n",
       "    <tr>\n",
       "      <th>PctHousOccup</th>\n",
       "      <td>0.790</td>\n",
       "      <td>0.860</td>\n",
       "      <td>0.970</td>\n",
       "      <td>0.890</td>\n",
       "      <td>0.840</td>\n",
       "    </tr>\n",
       "    <tr>\n",
       "      <th>PctHousOwnOcc</th>\n",
       "      <td>0.240</td>\n",
       "      <td>0.410</td>\n",
       "      <td>0.960</td>\n",
       "      <td>0.870</td>\n",
       "      <td>0.300</td>\n",
       "    </tr>\n",
       "    <tr>\n",
       "      <th>PctVacantBoarded</th>\n",
       "      <td>0.020</td>\n",
       "      <td>0.290</td>\n",
       "      <td>0.600</td>\n",
       "      <td>0.040</td>\n",
       "      <td>0.160</td>\n",
       "    </tr>\n",
       "    <tr>\n",
       "      <th>PctVacMore6Mos</th>\n",
       "      <td>0.250</td>\n",
       "      <td>0.300</td>\n",
       "      <td>0.470</td>\n",
       "      <td>0.550</td>\n",
       "      <td>0.280</td>\n",
       "    </tr>\n",
       "    <tr>\n",
       "      <th>MedYrHousBuilt</th>\n",
       "      <td>0.650</td>\n",
       "      <td>0.520</td>\n",
       "      <td>0.520</td>\n",
       "      <td>0.730</td>\n",
       "      <td>0.250</td>\n",
       "    </tr>\n",
       "    <tr>\n",
       "      <th>PctHousNoPhone</th>\n",
       "      <td>0.160</td>\n",
       "      <td>0.470</td>\n",
       "      <td>0.110</td>\n",
       "      <td>0.050</td>\n",
       "      <td>0.020</td>\n",
       "    </tr>\n",
       "    <tr>\n",
       "      <th>PctWOFullPlumb</th>\n",
       "      <td>0.000</td>\n",
       "      <td>0.450</td>\n",
       "      <td>0.110</td>\n",
       "      <td>0.140</td>\n",
       "      <td>0.050</td>\n",
       "    </tr>\n",
       "    <tr>\n",
       "      <th>OwnOccLowQuart</th>\n",
       "      <td>0.210</td>\n",
       "      <td>0.180</td>\n",
       "      <td>0.240</td>\n",
       "      <td>0.310</td>\n",
       "      <td>0.940</td>\n",
       "    </tr>\n",
       "    <tr>\n",
       "      <th>OwnOccMedVal</th>\n",
       "      <td>0.200</td>\n",
       "      <td>0.170</td>\n",
       "      <td>0.210</td>\n",
       "      <td>0.310</td>\n",
       "      <td>1.000</td>\n",
       "    </tr>\n",
       "    <tr>\n",
       "      <th>OwnOccHiQuart</th>\n",
       "      <td>0.210</td>\n",
       "      <td>0.160</td>\n",
       "      <td>0.190</td>\n",
       "      <td>0.300</td>\n",
       "      <td>1.000</td>\n",
       "    </tr>\n",
       "    <tr>\n",
       "      <th>RentLowQ</th>\n",
       "      <td>0.420</td>\n",
       "      <td>0.270</td>\n",
       "      <td>0.750</td>\n",
       "      <td>0.400</td>\n",
       "      <td>0.670</td>\n",
       "    </tr>\n",
       "    <tr>\n",
       "      <th>RentMedian</th>\n",
       "      <td>0.380</td>\n",
       "      <td>0.290</td>\n",
       "      <td>0.700</td>\n",
       "      <td>0.360</td>\n",
       "      <td>0.630</td>\n",
       "    </tr>\n",
       "    <tr>\n",
       "      <th>RentHighQ</th>\n",
       "      <td>0.400</td>\n",
       "      <td>0.270</td>\n",
       "      <td>0.770</td>\n",
       "      <td>0.380</td>\n",
       "      <td>0.680</td>\n",
       "    </tr>\n",
       "    <tr>\n",
       "      <th>MedRent</th>\n",
       "      <td>0.370</td>\n",
       "      <td>0.310</td>\n",
       "      <td>0.890</td>\n",
       "      <td>0.380</td>\n",
       "      <td>0.620</td>\n",
       "    </tr>\n",
       "    <tr>\n",
       "      <th>MedRentPctHousInc</th>\n",
       "      <td>0.290</td>\n",
       "      <td>0.480</td>\n",
       "      <td>0.630</td>\n",
       "      <td>0.220</td>\n",
       "      <td>0.470</td>\n",
       "    </tr>\n",
       "    <tr>\n",
       "      <th>MedOwnCostPctInc</th>\n",
       "      <td>0.320</td>\n",
       "      <td>0.390</td>\n",
       "      <td>0.510</td>\n",
       "      <td>0.510</td>\n",
       "      <td>0.590</td>\n",
       "    </tr>\n",
       "    <tr>\n",
       "      <th>MedOwnCostPctIncNoMtg</th>\n",
       "      <td>0.180</td>\n",
       "      <td>0.280</td>\n",
       "      <td>0.470</td>\n",
       "      <td>0.210</td>\n",
       "      <td>0.110</td>\n",
       "    </tr>\n",
       "    <tr>\n",
       "      <th>NumInShelters</th>\n",
       "      <td>0.000</td>\n",
       "      <td>0.000</td>\n",
       "      <td>0.000</td>\n",
       "      <td>0.000</td>\n",
       "      <td>0.000</td>\n",
       "    </tr>\n",
       "    <tr>\n",
       "      <th>NumStreet</th>\n",
       "      <td>0.000</td>\n",
       "      <td>0.000</td>\n",
       "      <td>0.000</td>\n",
       "      <td>0.000</td>\n",
       "      <td>0.000</td>\n",
       "    </tr>\n",
       "    <tr>\n",
       "      <th>PctForeignBorn</th>\n",
       "      <td>0.210</td>\n",
       "      <td>0.140</td>\n",
       "      <td>0.190</td>\n",
       "      <td>0.110</td>\n",
       "      <td>0.700</td>\n",
       "    </tr>\n",
       "    <tr>\n",
       "      <th>PctBornSameState</th>\n",
       "      <td>0.500</td>\n",
       "      <td>0.490</td>\n",
       "      <td>0.300</td>\n",
       "      <td>0.720</td>\n",
       "      <td>0.420</td>\n",
       "    </tr>\n",
       "    <tr>\n",
       "      <th>PctSameHouse85</th>\n",
       "      <td>0.340</td>\n",
       "      <td>0.540</td>\n",
       "      <td>0.730</td>\n",
       "      <td>0.640</td>\n",
       "      <td>0.490</td>\n",
       "    </tr>\n",
       "    <tr>\n",
       "      <th>PctSameCity85</th>\n",
       "      <td>0.600</td>\n",
       "      <td>0.670</td>\n",
       "      <td>0.640</td>\n",
       "      <td>0.610</td>\n",
       "      <td>0.730</td>\n",
       "    </tr>\n",
       "    <tr>\n",
       "      <th>PctSameState85</th>\n",
       "      <td>0.520</td>\n",
       "      <td>0.560</td>\n",
       "      <td>0.650</td>\n",
       "      <td>0.530</td>\n",
       "      <td>0.640</td>\n",
       "    </tr>\n",
       "    <tr>\n",
       "      <th>LemasSwornFT</th>\n",
       "      <td>?</td>\n",
       "      <td>?</td>\n",
       "      <td>?</td>\n",
       "      <td>?</td>\n",
       "      <td>?</td>\n",
       "    </tr>\n",
       "    <tr>\n",
       "      <th>LemasSwFTPerPop</th>\n",
       "      <td>?</td>\n",
       "      <td>?</td>\n",
       "      <td>?</td>\n",
       "      <td>?</td>\n",
       "      <td>?</td>\n",
       "    </tr>\n",
       "    <tr>\n",
       "      <th>LemasSwFTFieldOps</th>\n",
       "      <td>?</td>\n",
       "      <td>?</td>\n",
       "      <td>?</td>\n",
       "      <td>?</td>\n",
       "      <td>?</td>\n",
       "    </tr>\n",
       "    <tr>\n",
       "      <th>LemasSwFTFieldPerPop</th>\n",
       "      <td>?</td>\n",
       "      <td>?</td>\n",
       "      <td>?</td>\n",
       "      <td>?</td>\n",
       "      <td>?</td>\n",
       "    </tr>\n",
       "    <tr>\n",
       "      <th>LemasTotalReq</th>\n",
       "      <td>?</td>\n",
       "      <td>?</td>\n",
       "      <td>?</td>\n",
       "      <td>?</td>\n",
       "      <td>?</td>\n",
       "    </tr>\n",
       "    <tr>\n",
       "      <th>LemasTotReqPerPop</th>\n",
       "      <td>?</td>\n",
       "      <td>?</td>\n",
       "      <td>?</td>\n",
       "      <td>?</td>\n",
       "      <td>?</td>\n",
       "    </tr>\n",
       "    <tr>\n",
       "      <th>PolicReqPerOffic</th>\n",
       "      <td>?</td>\n",
       "      <td>?</td>\n",
       "      <td>?</td>\n",
       "      <td>?</td>\n",
       "      <td>?</td>\n",
       "    </tr>\n",
       "    <tr>\n",
       "      <th>PolicPerPop</th>\n",
       "      <td>?</td>\n",
       "      <td>?</td>\n",
       "      <td>?</td>\n",
       "      <td>?</td>\n",
       "      <td>?</td>\n",
       "    </tr>\n",
       "    <tr>\n",
       "      <th>RacialMatchCommPol</th>\n",
       "      <td>?</td>\n",
       "      <td>?</td>\n",
       "      <td>?</td>\n",
       "      <td>?</td>\n",
       "      <td>?</td>\n",
       "    </tr>\n",
       "    <tr>\n",
       "      <th>PctPolicWhite</th>\n",
       "      <td>?</td>\n",
       "      <td>?</td>\n",
       "      <td>?</td>\n",
       "      <td>?</td>\n",
       "      <td>?</td>\n",
       "    </tr>\n",
       "    <tr>\n",
       "      <th>PctPolicBlack</th>\n",
       "      <td>?</td>\n",
       "      <td>?</td>\n",
       "      <td>?</td>\n",
       "      <td>?</td>\n",
       "      <td>?</td>\n",
       "    </tr>\n",
       "    <tr>\n",
       "      <th>PctPolicHisp</th>\n",
       "      <td>?</td>\n",
       "      <td>?</td>\n",
       "      <td>?</td>\n",
       "      <td>?</td>\n",
       "      <td>?</td>\n",
       "    </tr>\n",
       "    <tr>\n",
       "      <th>PctPolicAsian</th>\n",
       "      <td>?</td>\n",
       "      <td>?</td>\n",
       "      <td>?</td>\n",
       "      <td>?</td>\n",
       "      <td>?</td>\n",
       "    </tr>\n",
       "    <tr>\n",
       "      <th>PctPolicMinor</th>\n",
       "      <td>?</td>\n",
       "      <td>?</td>\n",
       "      <td>?</td>\n",
       "      <td>?</td>\n",
       "      <td>?</td>\n",
       "    </tr>\n",
       "    <tr>\n",
       "      <th>OfficAssgnDrugUnits</th>\n",
       "      <td>?</td>\n",
       "      <td>?</td>\n",
       "      <td>?</td>\n",
       "      <td>?</td>\n",
       "      <td>?</td>\n",
       "    </tr>\n",
       "    <tr>\n",
       "      <th>NumKindsDrugsSeiz</th>\n",
       "      <td>?</td>\n",
       "      <td>?</td>\n",
       "      <td>?</td>\n",
       "      <td>?</td>\n",
       "      <td>?</td>\n",
       "    </tr>\n",
       "    <tr>\n",
       "      <th>PolicAveOTWorked</th>\n",
       "      <td>?</td>\n",
       "      <td>?</td>\n",
       "      <td>?</td>\n",
       "      <td>?</td>\n",
       "      <td>?</td>\n",
       "    </tr>\n",
       "    <tr>\n",
       "      <th>LandArea</th>\n",
       "      <td>0.020</td>\n",
       "      <td>0.010</td>\n",
       "      <td>0.020</td>\n",
       "      <td>0.040</td>\n",
       "      <td>0.010</td>\n",
       "    </tr>\n",
       "    <tr>\n",
       "      <th>PopDens</th>\n",
       "      <td>0.120</td>\n",
       "      <td>0.210</td>\n",
       "      <td>0.390</td>\n",
       "      <td>0.090</td>\n",
       "      <td>0.580</td>\n",
       "    </tr>\n",
       "    <tr>\n",
       "      <th>PctUsePubTrans</th>\n",
       "      <td>0.450</td>\n",
       "      <td>0.020</td>\n",
       "      <td>0.280</td>\n",
       "      <td>0.020</td>\n",
       "      <td>0.100</td>\n",
       "    </tr>\n",
       "    <tr>\n",
       "      <th>PolicCars</th>\n",
       "      <td>?</td>\n",
       "      <td>?</td>\n",
       "      <td>?</td>\n",
       "      <td>?</td>\n",
       "      <td>?</td>\n",
       "    </tr>\n",
       "    <tr>\n",
       "      <th>PolicOperBudg</th>\n",
       "      <td>?</td>\n",
       "      <td>?</td>\n",
       "      <td>?</td>\n",
       "      <td>?</td>\n",
       "      <td>?</td>\n",
       "    </tr>\n",
       "    <tr>\n",
       "      <th>LemasPctPolicOnPatr</th>\n",
       "      <td>?</td>\n",
       "      <td>?</td>\n",
       "      <td>?</td>\n",
       "      <td>?</td>\n",
       "      <td>?</td>\n",
       "    </tr>\n",
       "    <tr>\n",
       "      <th>LemasGangUnitDeploy</th>\n",
       "      <td>?</td>\n",
       "      <td>?</td>\n",
       "      <td>?</td>\n",
       "      <td>?</td>\n",
       "      <td>?</td>\n",
       "    </tr>\n",
       "    <tr>\n",
       "      <th>LemasPctOfficDrugUn</th>\n",
       "      <td>0.000</td>\n",
       "      <td>0.000</td>\n",
       "      <td>0.000</td>\n",
       "      <td>0.000</td>\n",
       "      <td>0.000</td>\n",
       "    </tr>\n",
       "    <tr>\n",
       "      <th>PolicBudgPerPop</th>\n",
       "      <td>?</td>\n",
       "      <td>?</td>\n",
       "      <td>?</td>\n",
       "      <td>?</td>\n",
       "      <td>?</td>\n",
       "    </tr>\n",
       "    <tr>\n",
       "      <th>ViolentCrimesPerPop</th>\n",
       "      <td>0.670</td>\n",
       "      <td>0.430</td>\n",
       "      <td>0.120</td>\n",
       "      <td>0.030</td>\n",
       "      <td>0.140</td>\n",
       "    </tr>\n",
       "  </tbody>\n",
       "</table>\n",
       "</div>"
      ],
      "text/plain": [
       "                                 0             1                    2  \\\n",
       "state                           53            24                   34   \n",
       "county                           ?             ?                    5   \n",
       "community                        ?             ?                81440   \n",
       "communityname          Tukwilacity  Aberdeentown  Willingborotownship   \n",
       "fold                             1             1                    1   \n",
       "population                   0.000         0.000                0.040   \n",
       "householdsize                0.160         0.420                0.770   \n",
       "racepctblack                 0.120         0.490                1.000   \n",
       "racePctWhite                 0.740         0.560                0.080   \n",
       "racePctAsian                 0.450         0.170                0.120   \n",
       "racePctHisp                  0.070         0.040                0.100   \n",
       "agePct12t21                  0.260         0.390                0.510   \n",
       "agePct12t29                  0.590         0.470                0.500   \n",
       "agePct16t24                  0.350         0.280                0.340   \n",
       "agePct65up                   0.270         0.320                0.210   \n",
       "numbUrban                    0.020         0.000                0.060   \n",
       "pctUrban                     1.000         0.000                1.000   \n",
       "medIncome                    0.310         0.300                0.580   \n",
       "pctWWage                     0.720         0.580                0.890   \n",
       "pctWFarmSelf                 0.110         0.190                0.210   \n",
       "pctWInvInc                   0.450         0.390                0.430   \n",
       "pctWSocSec                   0.250         0.380                0.360   \n",
       "pctWPubAsst                  0.290         0.400                0.200   \n",
       "pctWRetire                   0.390         0.840                0.820   \n",
       "medFamInc                    0.290         0.280                0.510   \n",
       "perCapInc                    0.370         0.270                0.360   \n",
       "whitePerCap                  0.380         0.290                0.400   \n",
       "blackPerCap                  0.330         0.270                0.390   \n",
       "indianPerCap                 0.160         0.070                0.160   \n",
       "AsianPerCap                  0.300         0.290                0.250   \n",
       "OtherPerCap                   0.22          0.28                 0.36   \n",
       "HispPerCap                   0.350         0.390                0.440   \n",
       "NumUnderPov                  0.010         0.010                0.010   \n",
       "PctPopUnderPov               0.240         0.270                0.100   \n",
       "PctLess9thGrade              0.140         0.270                0.090   \n",
       "PctNotHSGrad                 0.240         0.430                0.250   \n",
       "PctBSorMore                  0.300         0.190                0.310   \n",
       "PctUnemployed                0.270         0.360                0.330   \n",
       "PctEmploy                    0.730         0.580                0.710   \n",
       "PctEmplManu                  0.570         0.320                0.360   \n",
       "PctEmplProfServ              0.150         0.290                0.450   \n",
       "PctOccupManu                 0.420         0.490                0.370   \n",
       "PctOccupMgmtProf             0.360         0.320                0.390   \n",
       "MalePctDivorce               1.000         0.630                0.340   \n",
       "MalePctNevMarr               0.630         0.410                0.450   \n",
       "FemalePctDiv                 0.910         0.710                0.490   \n",
       "TotalPctDiv                  1.000         0.700                0.440   \n",
       "PersPerFam                   0.290         0.450                0.750   \n",
       "PctFam2Par                   0.430         0.420                0.650   \n",
       "PctKids2Par                  0.470         0.440                0.540   \n",
       "PctYoungKids2Par             0.600         0.430                0.830   \n",
       "PctTeen2Par                  0.390         0.430                0.650   \n",
       "PctWorkMomYoungKids          0.460         0.710                0.850   \n",
       "PctWorkMom                   0.530         0.670                0.860   \n",
       "NumIlleg                     0.000         0.010                0.030   \n",
       "PctIlleg                     0.240         0.460                0.330   \n",
       "NumImmig                     0.010         0.000                0.020   \n",
       "PctImmigRecent               0.520         0.070                0.110   \n",
       "PctImmigRec5                 0.620         0.060                0.200   \n",
       "PctImmigRec8                 0.640         0.150                0.300   \n",
       "PctImmigRec10                0.630         0.190                0.310   \n",
       "PctRecentImmig               0.250         0.020                0.050   \n",
       "PctRecImmig5                 0.270         0.020                0.080   \n",
       "PctRecImmig8                 0.250         0.040                0.110   \n",
       "PctRecImmig10                0.230         0.050                0.110   \n",
       "PctSpeakEnglOnly             0.840         0.880                0.810   \n",
       "PctNotSpeakEnglWell          0.100         0.040                0.080   \n",
       "PctLargHouseFam              0.160         0.200                0.560   \n",
       "PctLargHouseOccup            0.100         0.200                0.620   \n",
       "PersPerOccupHous             0.170         0.460                0.850   \n",
       "PersPerOwnOccHous            0.290         0.520                0.770   \n",
       "PersPerRentOccHous           0.170         0.430                1.000   \n",
       "PctPersOwnOccup              0.260         0.420                0.940   \n",
       "PctPersDenseHous             0.200         0.150                0.120   \n",
       "PctHousLess3BR               0.820         0.510                0.010   \n",
       "MedNumBR                     0.000         0.500                0.500   \n",
       "HousVacant                   0.020         0.010                0.010   \n",
       "PctHousOccup                 0.790         0.860                0.970   \n",
       "PctHousOwnOcc                0.240         0.410                0.960   \n",
       "PctVacantBoarded             0.020         0.290                0.600   \n",
       "PctVacMore6Mos               0.250         0.300                0.470   \n",
       "MedYrHousBuilt               0.650         0.520                0.520   \n",
       "PctHousNoPhone               0.160         0.470                0.110   \n",
       "PctWOFullPlumb               0.000         0.450                0.110   \n",
       "OwnOccLowQuart               0.210         0.180                0.240   \n",
       "OwnOccMedVal                 0.200         0.170                0.210   \n",
       "OwnOccHiQuart                0.210         0.160                0.190   \n",
       "RentLowQ                     0.420         0.270                0.750   \n",
       "RentMedian                   0.380         0.290                0.700   \n",
       "RentHighQ                    0.400         0.270                0.770   \n",
       "MedRent                      0.370         0.310                0.890   \n",
       "MedRentPctHousInc            0.290         0.480                0.630   \n",
       "MedOwnCostPctInc             0.320         0.390                0.510   \n",
       "MedOwnCostPctIncNoMtg        0.180         0.280                0.470   \n",
       "NumInShelters                0.000         0.000                0.000   \n",
       "NumStreet                    0.000         0.000                0.000   \n",
       "PctForeignBorn               0.210         0.140                0.190   \n",
       "PctBornSameState             0.500         0.490                0.300   \n",
       "PctSameHouse85               0.340         0.540                0.730   \n",
       "PctSameCity85                0.600         0.670                0.640   \n",
       "PctSameState85               0.520         0.560                0.650   \n",
       "LemasSwornFT                     ?             ?                    ?   \n",
       "LemasSwFTPerPop                  ?             ?                    ?   \n",
       "LemasSwFTFieldOps                ?             ?                    ?   \n",
       "LemasSwFTFieldPerPop             ?             ?                    ?   \n",
       "LemasTotalReq                    ?             ?                    ?   \n",
       "LemasTotReqPerPop                ?             ?                    ?   \n",
       "PolicReqPerOffic                 ?             ?                    ?   \n",
       "PolicPerPop                      ?             ?                    ?   \n",
       "RacialMatchCommPol               ?             ?                    ?   \n",
       "PctPolicWhite                    ?             ?                    ?   \n",
       "PctPolicBlack                    ?             ?                    ?   \n",
       "PctPolicHisp                     ?             ?                    ?   \n",
       "PctPolicAsian                    ?             ?                    ?   \n",
       "PctPolicMinor                    ?             ?                    ?   \n",
       "OfficAssgnDrugUnits              ?             ?                    ?   \n",
       "NumKindsDrugsSeiz                ?             ?                    ?   \n",
       "PolicAveOTWorked                 ?             ?                    ?   \n",
       "LandArea                     0.020         0.010                0.020   \n",
       "PopDens                      0.120         0.210                0.390   \n",
       "PctUsePubTrans               0.450         0.020                0.280   \n",
       "PolicCars                        ?             ?                    ?   \n",
       "PolicOperBudg                    ?             ?                    ?   \n",
       "LemasPctPolicOnPatr              ?             ?                    ?   \n",
       "LemasGangUnitDeploy              ?             ?                    ?   \n",
       "LemasPctOfficDrugUn          0.000         0.000                0.000   \n",
       "PolicBudgPerPop                  ?             ?                    ?   \n",
       "ViolentCrimesPerPop          0.670         0.430                0.120   \n",
       "\n",
       "                                       3                  4  \n",
       "state                                 42                  6  \n",
       "county                                95                  ?  \n",
       "community                           6096                  ?  \n",
       "communityname          Bethlehemtownship  SouthPasadenacity  \n",
       "fold                                   1                  1  \n",
       "population                         0.010              0.020  \n",
       "householdsize                      0.550              0.280  \n",
       "racepctblack                       0.020              0.060  \n",
       "racePctWhite                       0.950              0.540  \n",
       "racePctAsian                       0.090              1.000  \n",
       "racePctHisp                        0.050              0.250  \n",
       "agePct12t21                        0.380              0.310  \n",
       "agePct12t29                        0.380              0.480  \n",
       "agePct16t24                        0.230              0.270  \n",
       "agePct65up                         0.360              0.370  \n",
       "numbUrban                          0.020              0.040  \n",
       "pctUrban                           0.900              1.000  \n",
       "medIncome                          0.500              0.520  \n",
       "pctWWage                           0.720              0.680  \n",
       "pctWFarmSelf                       0.160              0.200  \n",
       "pctWInvInc                         0.680              0.610  \n",
       "pctWSocSec                         0.440              0.280  \n",
       "pctWPubAsst                        0.110              0.150  \n",
       "pctWRetire                         0.710              0.250  \n",
       "medFamInc                          0.460              0.620  \n",
       "perCapInc                          0.430              0.720  \n",
       "whitePerCap                        0.410              0.760  \n",
       "blackPerCap                        0.280              0.770  \n",
       "indianPerCap                       0.000              0.280  \n",
       "AsianPerCap                        0.740              0.520  \n",
       "OtherPerCap                         0.51               0.48  \n",
       "HispPerCap                         0.480              0.600  \n",
       "NumUnderPov                        0.000              0.010  \n",
       "PctPopUnderPov                     0.060              0.120  \n",
       "PctLess9thGrade                    0.250              0.130  \n",
       "PctNotHSGrad                       0.300              0.120  \n",
       "PctBSorMore                        0.330              0.800  \n",
       "PctUnemployed                      0.120              0.100  \n",
       "PctEmploy                          0.650              0.650  \n",
       "PctEmplManu                        0.670              0.190  \n",
       "PctEmplProfServ                    0.380              0.770  \n",
       "PctOccupManu                       0.420              0.060  \n",
       "PctOccupMgmtProf                   0.460              0.910  \n",
       "MalePctDivorce                     0.220              0.490  \n",
       "MalePctNevMarr                     0.270              0.570  \n",
       "FemalePctDiv                       0.200              0.610  \n",
       "TotalPctDiv                        0.210              0.580  \n",
       "PersPerFam                         0.510              0.440  \n",
       "PctFam2Par                         0.910              0.620  \n",
       "PctKids2Par                        0.910              0.690  \n",
       "PctYoungKids2Par                   0.890              0.870  \n",
       "PctTeen2Par                        0.850              0.530  \n",
       "PctWorkMomYoungKids                0.400              0.300  \n",
       "PctWorkMom                         0.600              0.430  \n",
       "NumIlleg                           0.000              0.000  \n",
       "PctIlleg                           0.060              0.110  \n",
       "NumImmig                           0.000              0.040  \n",
       "PctImmigRecent                     0.030              0.300  \n",
       "PctImmigRec5                       0.070              0.350  \n",
       "PctImmigRec8                       0.200              0.430  \n",
       "PctImmigRec10                      0.270              0.470  \n",
       "PctRecentImmig                     0.010              0.500  \n",
       "PctRecImmig5                       0.020              0.500  \n",
       "PctRecImmig8                       0.040              0.560  \n",
       "PctRecImmig10                      0.050              0.570  \n",
       "PctSpeakEnglOnly                   0.880              0.450  \n",
       "PctNotSpeakEnglWell                0.050              0.280  \n",
       "PctLargHouseFam                    0.160              0.250  \n",
       "PctLargHouseOccup                  0.190              0.190  \n",
       "PersPerOccupHous                   0.590              0.290  \n",
       "PersPerOwnOccHous                  0.600              0.530  \n",
       "PersPerRentOccHous                 0.370              0.180  \n",
       "PctPersOwnOccup                    0.890              0.390  \n",
       "PctPersDenseHous                   0.020              0.260  \n",
       "PctHousLess3BR                     0.190              0.730  \n",
       "MedNumBR                           0.500              0.000  \n",
       "HousVacant                         0.010              0.020  \n",
       "PctHousOccup                       0.890              0.840  \n",
       "PctHousOwnOcc                      0.870              0.300  \n",
       "PctVacantBoarded                   0.040              0.160  \n",
       "PctVacMore6Mos                     0.550              0.280  \n",
       "MedYrHousBuilt                     0.730              0.250  \n",
       "PctHousNoPhone                     0.050              0.020  \n",
       "PctWOFullPlumb                     0.140              0.050  \n",
       "OwnOccLowQuart                     0.310              0.940  \n",
       "OwnOccMedVal                       0.310              1.000  \n",
       "OwnOccHiQuart                      0.300              1.000  \n",
       "RentLowQ                           0.400              0.670  \n",
       "RentMedian                         0.360              0.630  \n",
       "RentHighQ                          0.380              0.680  \n",
       "MedRent                            0.380              0.620  \n",
       "MedRentPctHousInc                  0.220              0.470  \n",
       "MedOwnCostPctInc                   0.510              0.590  \n",
       "MedOwnCostPctIncNoMtg              0.210              0.110  \n",
       "NumInShelters                      0.000              0.000  \n",
       "NumStreet                          0.000              0.000  \n",
       "PctForeignBorn                     0.110              0.700  \n",
       "PctBornSameState                   0.720              0.420  \n",
       "PctSameHouse85                     0.640              0.490  \n",
       "PctSameCity85                      0.610              0.730  \n",
       "PctSameState85                     0.530              0.640  \n",
       "LemasSwornFT                           ?                  ?  \n",
       "LemasSwFTPerPop                        ?                  ?  \n",
       "LemasSwFTFieldOps                      ?                  ?  \n",
       "LemasSwFTFieldPerPop                   ?                  ?  \n",
       "LemasTotalReq                          ?                  ?  \n",
       "LemasTotReqPerPop                      ?                  ?  \n",
       "PolicReqPerOffic                       ?                  ?  \n",
       "PolicPerPop                            ?                  ?  \n",
       "RacialMatchCommPol                     ?                  ?  \n",
       "PctPolicWhite                          ?                  ?  \n",
       "PctPolicBlack                          ?                  ?  \n",
       "PctPolicHisp                           ?                  ?  \n",
       "PctPolicAsian                          ?                  ?  \n",
       "PctPolicMinor                          ?                  ?  \n",
       "OfficAssgnDrugUnits                    ?                  ?  \n",
       "NumKindsDrugsSeiz                      ?                  ?  \n",
       "PolicAveOTWorked                       ?                  ?  \n",
       "LandArea                           0.040              0.010  \n",
       "PopDens                            0.090              0.580  \n",
       "PctUsePubTrans                     0.020              0.100  \n",
       "PolicCars                              ?                  ?  \n",
       "PolicOperBudg                          ?                  ?  \n",
       "LemasPctPolicOnPatr                    ?                  ?  \n",
       "LemasGangUnitDeploy                    ?                  ?  \n",
       "LemasPctOfficDrugUn                0.000              0.000  \n",
       "PolicBudgPerPop                        ?                  ?  \n",
       "ViolentCrimesPerPop                0.030              0.140  "
      ]
     },
     "execution_count": 65,
     "metadata": {},
     "output_type": "execute_result"
    }
   ],
   "source": [
    "# Internet location of the data set\n",
    "url = 'http://archive.ics.uci.edu/ml/machine-learning-databases/communities/communities.data'\n",
    "\n",
    "# Download the data into a dataframe object\n",
    "crime_data = pd.read_csv(url)\n",
    "\n",
    "# Add columns\n",
    "crime_data.columns = ['state', 'county', 'community', 'communityname', 'fold', 'population', \n",
    "                      'householdsize', 'racepctblack', 'racePctWhite', 'racePctAsian', 'racePctHisp', \n",
    "                      'agePct12t21', 'agePct12t29', 'agePct16t24', 'agePct65up', 'numbUrban', \n",
    "                      'pctUrban', 'medIncome', 'pctWWage', 'pctWFarmSelf', 'pctWInvInc', \n",
    "                      'pctWSocSec', 'pctWPubAsst', 'pctWRetire', 'medFamInc', 'perCapInc', \n",
    "                      'whitePerCap', 'blackPerCap', 'indianPerCap', 'AsianPerCap', 'OtherPerCap', \n",
    "                      'HispPerCap', 'NumUnderPov', 'PctPopUnderPov', 'PctLess9thGrade', \n",
    "                      'PctNotHSGrad', 'PctBSorMore', 'PctUnemployed', 'PctEmploy', 'PctEmplManu', \n",
    "                      'PctEmplProfServ', 'PctOccupManu', 'PctOccupMgmtProf', 'MalePctDivorce', \n",
    "                      'MalePctNevMarr', 'FemalePctDiv', 'TotalPctDiv', 'PersPerFam', 'PctFam2Par', \n",
    "                      'PctKids2Par', 'PctYoungKids2Par', 'PctTeen2Par', 'PctWorkMomYoungKids', \n",
    "                      'PctWorkMom', 'NumIlleg', 'PctIlleg', 'NumImmig', 'PctImmigRecent', \n",
    "                      'PctImmigRec5', 'PctImmigRec8', 'PctImmigRec10', 'PctRecentImmig', \n",
    "                      'PctRecImmig5', 'PctRecImmig8', 'PctRecImmig10', 'PctSpeakEnglOnly', \n",
    "                      'PctNotSpeakEnglWell', 'PctLargHouseFam', 'PctLargHouseOccup', \n",
    "                      'PersPerOccupHous', 'PersPerOwnOccHous', 'PersPerRentOccHous', \n",
    "                      'PctPersOwnOccup', 'PctPersDenseHous', 'PctHousLess3BR', 'MedNumBR', \n",
    "                      'HousVacant', 'PctHousOccup', 'PctHousOwnOcc', 'PctVacantBoarded', \n",
    "                      'PctVacMore6Mos', 'MedYrHousBuilt', 'PctHousNoPhone', 'PctWOFullPlumb', \n",
    "                      'OwnOccLowQuart', 'OwnOccMedVal', 'OwnOccHiQuart', 'RentLowQ', 'RentMedian', \n",
    "                      'RentHighQ', 'MedRent', 'MedRentPctHousInc', 'MedOwnCostPctInc', \n",
    "                      'MedOwnCostPctIncNoMtg', 'NumInShelters', 'NumStreet', 'PctForeignBorn', \n",
    "                      'PctBornSameState', 'PctSameHouse85', 'PctSameCity85', 'PctSameState85', \n",
    "                      'LemasSwornFT', 'LemasSwFTPerPop', 'LemasSwFTFieldOps', 'LemasSwFTFieldPerPop', \n",
    "                      'LemasTotalReq', 'LemasTotReqPerPop', 'PolicReqPerOffic', 'PolicPerPop', \n",
    "                      'RacialMatchCommPol', 'PctPolicWhite', 'PctPolicBlack', 'PctPolicHisp', \n",
    "                      'PctPolicAsian', 'PctPolicMinor', 'OfficAssgnDrugUnits', 'NumKindsDrugsSeiz', \n",
    "                      'PolicAveOTWorked', 'LandArea', 'PopDens', 'PctUsePubTrans', 'PolicCars', \n",
    "                      'PolicOperBudg', 'LemasPctPolicOnPatr', 'LemasGangUnitDeploy', \n",
    "                      'LemasPctOfficDrugUn', 'PolicBudgPerPop', 'ViolentCrimesPerPop']\n",
    "\n",
    "# Display shape\n",
    "crime_data.shape\n",
    "\n",
    "# Display initial rows, all columns vertically\n",
    "with pd.option_context('display.max_rows', None, 'display.max_columns', 128):\n",
    "    crime_data.head().T"
   ]
  },
  {
   "cell_type": "markdown",
   "metadata": {},
   "source": [
    "### Data Cleaning\n",
    "Next we clean the data to render it suitable for analysis. First we remove the non-numeric columns used for labeling and set them aside:"
   ]
  },
  {
   "cell_type": "code",
   "execution_count": 66,
   "metadata": {},
   "outputs": [],
   "source": [
    "# Extract and reserve identifying columns\n",
    "\n",
    "# Reserve the original data frame\n",
    "crime_data_orig = crime_data\n",
    "\n",
    "# Set aside state in an array and drop from data set\n",
    "state_arr = np.array(crime_data['state'].values)\n",
    "crime_data = crime_data.drop(['state'], axis=1)\n",
    "\n",
    "# Set aside county in an array and drop from data set\n",
    "county_arr = np.array(crime_data['county'].values)\n",
    "crime_data = crime_data.drop(['county'], axis=1)\n",
    "\n",
    "# Set aside community in an array and drop from data set\n",
    "community_arr = np.array(crime_data['community'].values)\n",
    "crime_data = crime_data.drop(['community'], axis=1)\n",
    "\n",
    "# Set aside communityname in an array and drop from data set\n",
    "communityname_arr = np.array(crime_data['communityname'].values)\n",
    "crime_data = crime_data.drop(['communityname'], axis=1)\n",
    "\n",
    "# Set aside fold in an array and drop from data set\n",
    "fold_arr = np.array(crime_data['fold'].values)\n",
    "crime_data = crime_data.drop(['fold'], axis=1)"
   ]
  },
  {
   "cell_type": "markdown",
   "metadata": {},
   "source": [
    "Then we impute missing values in the remaining columns and cast the dataframe as float:"
   ]
  },
  {
   "cell_type": "code",
   "execution_count": 67,
   "metadata": {},
   "outputs": [
    {
     "data": {
      "text/html": [
       "<div>\n",
       "<style scoped>\n",
       "    .dataframe tbody tr th:only-of-type {\n",
       "        vertical-align: middle;\n",
       "    }\n",
       "\n",
       "    .dataframe tbody tr th {\n",
       "        vertical-align: top;\n",
       "    }\n",
       "\n",
       "    .dataframe thead th {\n",
       "        text-align: right;\n",
       "    }\n",
       "</style>\n",
       "<table border=\"1\" class=\"dataframe\">\n",
       "  <thead>\n",
       "    <tr style=\"text-align: right;\">\n",
       "      <th></th>\n",
       "      <th>0</th>\n",
       "      <th>1</th>\n",
       "      <th>2</th>\n",
       "      <th>3</th>\n",
       "      <th>4</th>\n",
       "    </tr>\n",
       "  </thead>\n",
       "  <tbody>\n",
       "    <tr>\n",
       "      <th>population</th>\n",
       "      <td>0.000</td>\n",
       "      <td>0.000</td>\n",
       "      <td>0.040</td>\n",
       "      <td>0.010</td>\n",
       "      <td>0.020</td>\n",
       "    </tr>\n",
       "    <tr>\n",
       "      <th>householdsize</th>\n",
       "      <td>0.160</td>\n",
       "      <td>0.420</td>\n",
       "      <td>0.770</td>\n",
       "      <td>0.550</td>\n",
       "      <td>0.280</td>\n",
       "    </tr>\n",
       "    <tr>\n",
       "      <th>racepctblack</th>\n",
       "      <td>0.120</td>\n",
       "      <td>0.490</td>\n",
       "      <td>1.000</td>\n",
       "      <td>0.020</td>\n",
       "      <td>0.060</td>\n",
       "    </tr>\n",
       "    <tr>\n",
       "      <th>racePctWhite</th>\n",
       "      <td>0.740</td>\n",
       "      <td>0.560</td>\n",
       "      <td>0.080</td>\n",
       "      <td>0.950</td>\n",
       "      <td>0.540</td>\n",
       "    </tr>\n",
       "    <tr>\n",
       "      <th>racePctAsian</th>\n",
       "      <td>0.450</td>\n",
       "      <td>0.170</td>\n",
       "      <td>0.120</td>\n",
       "      <td>0.090</td>\n",
       "      <td>1.000</td>\n",
       "    </tr>\n",
       "    <tr>\n",
       "      <th>...</th>\n",
       "      <td>...</td>\n",
       "      <td>...</td>\n",
       "      <td>...</td>\n",
       "      <td>...</td>\n",
       "      <td>...</td>\n",
       "    </tr>\n",
       "    <tr>\n",
       "      <th>LemasPctPolicOnPatr</th>\n",
       "      <td>0.750</td>\n",
       "      <td>0.750</td>\n",
       "      <td>0.750</td>\n",
       "      <td>0.750</td>\n",
       "      <td>0.750</td>\n",
       "    </tr>\n",
       "    <tr>\n",
       "      <th>LemasGangUnitDeploy</th>\n",
       "      <td>0.500</td>\n",
       "      <td>0.500</td>\n",
       "      <td>0.500</td>\n",
       "      <td>0.500</td>\n",
       "      <td>0.500</td>\n",
       "    </tr>\n",
       "    <tr>\n",
       "      <th>LemasPctOfficDrugUn</th>\n",
       "      <td>0.000</td>\n",
       "      <td>0.000</td>\n",
       "      <td>0.000</td>\n",
       "      <td>0.000</td>\n",
       "      <td>0.000</td>\n",
       "    </tr>\n",
       "    <tr>\n",
       "      <th>PolicBudgPerPop</th>\n",
       "      <td>0.155</td>\n",
       "      <td>0.155</td>\n",
       "      <td>0.155</td>\n",
       "      <td>0.155</td>\n",
       "      <td>0.155</td>\n",
       "    </tr>\n",
       "    <tr>\n",
       "      <th>ViolentCrimesPerPop</th>\n",
       "      <td>0.670</td>\n",
       "      <td>0.430</td>\n",
       "      <td>0.120</td>\n",
       "      <td>0.030</td>\n",
       "      <td>0.140</td>\n",
       "    </tr>\n",
       "  </tbody>\n",
       "</table>\n",
       "<p>123 rows × 5 columns</p>\n",
       "</div>"
      ],
      "text/plain": [
       "                        0     1     2     3     4\n",
       "population          0.000 0.000 0.040 0.010 0.020\n",
       "householdsize       0.160 0.420 0.770 0.550 0.280\n",
       "racepctblack        0.120 0.490 1.000 0.020 0.060\n",
       "racePctWhite        0.740 0.560 0.080 0.950 0.540\n",
       "racePctAsian        0.450 0.170 0.120 0.090 1.000\n",
       "...                   ...   ...   ...   ...   ...\n",
       "LemasPctPolicOnPatr 0.750 0.750 0.750 0.750 0.750\n",
       "LemasGangUnitDeploy 0.500 0.500 0.500 0.500 0.500\n",
       "LemasPctOfficDrugUn 0.000 0.000 0.000 0.000 0.000\n",
       "PolicBudgPerPop     0.155 0.155 0.155 0.155 0.155\n",
       "ViolentCrimesPerPop 0.670 0.430 0.120 0.030 0.140\n",
       "\n",
       "[123 rows x 5 columns]"
      ]
     },
     "execution_count": 67,
     "metadata": {},
     "output_type": "execute_result"
    }
   ],
   "source": [
    "# Impute missing values using column median\n",
    "crime_data = crime_data.replace('?', np.NaN)\n",
    "crime_data = crime_data.apply(lambda x: x.fillna(x.median()))\n",
    "\n",
    "# Cast columns to float64\n",
    "crime_data = crime_data.astype(np.float64)\n",
    "\n",
    "# Display abbreviated data set\n",
    "crime_data.head().T"
   ]
  },
  {
   "cell_type": "markdown",
   "metadata": {},
   "source": [
    "Observe that the missing values have now been replaced with the median for each column.\n",
    "\n",
    "Finally, we extract and reserve the target variable *ViolentCrimesPerPop*:"
   ]
  },
  {
   "cell_type": "code",
   "execution_count": 82,
   "metadata": {},
   "outputs": [],
   "source": [
    "# Set aside communityname in an array and drop from data set\n",
    "target_arr = np.array(crime_data['ViolentCrimesPerPop'].values)\n",
    "crime_data = crime_data.drop(['ViolentCrimesPerPop'], axis=1)"
   ]
  },
  {
   "cell_type": "markdown",
   "metadata": {},
   "source": [
    "Now our data set contains only predictor variables and these variables have been cleaned of missing values. We are ready to proceed to feature selection."
   ]
  },
  {
   "cell_type": "markdown",
   "metadata": {},
   "source": [
    "## 2. Apply three techniques for feature selection\n",
    "Here we apply three techniques for feature selection."
   ]
  },
  {
   "cell_type": "markdown",
   "metadata": {},
   "source": [
    "### Filter methods\n",
    "Our first method for feature selection is *Filter methods*. We use the *mutual information score* to assess the correlation of each variable with the target variable *ViolentCrimesPerPop*. We compute *mutual information score* for each column target variable, then sort the scores from greatest to least as follows:"
   ]
  },
  {
   "cell_type": "code",
   "execution_count": 89,
   "metadata": {},
   "outputs": [
    {
     "data": {
      "text/plain": [
       "[('PctKids2Par', 0.51),\n",
       " ('PctIlleg', 0.475),\n",
       " ('PctFam2Par', 0.443),\n",
       " ('racePctWhite', 0.413),\n",
       " ('PctYoungKids2Par', 0.405),\n",
       " ('PctTeen2Par', 0.378),\n",
       " ('PctPopUnderPov', 0.353),\n",
       " ('pctWInvInc', 0.348),\n",
       " ('PctPersDenseHous', 0.347),\n",
       " ('pctWPubAsst', 0.339),\n",
       " ('racepctblack', 0.335),\n",
       " ('FemalePctDiv', 0.335),\n",
       " ('TotalPctDiv', 0.331),\n",
       " ('PctHousNoPhone', 0.298),\n",
       " ('MalePctDivorce', 0.296),\n",
       " ('PctPersOwnOccup', 0.296),\n",
       " ('PctUnemployed', 0.27),\n",
       " ('PctHousOwnOcc', 0.255),\n",
       " ('PctHousLess3BR', 0.254),\n",
       " ('PctNotHSGrad', 0.243),\n",
       " ('PctLess9thGrade', 0.239),\n",
       " ('medFamInc', 0.233),\n",
       " ('medIncome', 0.22),\n",
       " ('NumUnderPov', 0.218),\n",
       " ('PctLargHouseFam', 0.217),\n",
       " ('PctVacantBoarded', 0.211),\n",
       " ('racePctHisp', 0.205),\n",
       " ('HousVacant', 0.202),\n",
       " ('NumIlleg', 0.2),\n",
       " ('blackPerCap', 0.188),\n",
       " ('perCapInc', 0.18),\n",
       " ('PctWOFullPlumb', 0.18),\n",
       " ('PctOccupMgmtProf', 0.174),\n",
       " ('PctHousOccup', 0.173),\n",
       " ('RacialMatchCommPol', 0.173),\n",
       " ('PctNotSpeakEnglWell', 0.166),\n",
       " ('PctLargHouseOccup', 0.166),\n",
       " ('PctPolicWhite', 0.166),\n",
       " ('PctPolicBlack', 0.166),\n",
       " ('PctPolicMinor', 0.165),\n",
       " ('PctBSorMore', 0.164),\n",
       " ('PctOccupManu', 0.164),\n",
       " ('PctSpeakEnglOnly', 0.163),\n",
       " ('LemasPctOfficDrugUn', 0.163),\n",
       " ('agePct16t24', 0.162),\n",
       " ('numbUrban', 0.16),\n",
       " ('HispPerCap', 0.159),\n",
       " ('PctEmploy', 0.158),\n",
       " ('MalePctNevMarr', 0.158),\n",
       " ('PctImmigRec8', 0.158),\n",
       " ('PctImmigRec10', 0.157),\n",
       " ('MedRentPctHousInc', 0.157),\n",
       " ('population', 0.156),\n",
       " ('OtherPerCap', 0.155),\n",
       " ('PersPerOwnOccHous', 0.153),\n",
       " ('PopDens', 0.152),\n",
       " ('PctSameHouse85', 0.15),\n",
       " ('pctWWage', 0.146),\n",
       " ('PolicReqPerOffic', 0.146),\n",
       " ('agePct12t29', 0.144),\n",
       " ('PersPerRentOccHous', 0.144),\n",
       " ('PolicAveOTWorked', 0.144),\n",
       " ('AsianPerCap', 0.142),\n",
       " ('PctImmigRec5', 0.142),\n",
       " ('PctRecImmig10', 0.141),\n",
       " ('LemasPctPolicOnPatr', 0.14),\n",
       " ('PctForeignBorn', 0.139),\n",
       " ('MedRent', 0.137),\n",
       " ('RentHighQ', 0.136),\n",
       " ('PctImmigRecent', 0.135),\n",
       " ('RentMedian', 0.133),\n",
       " ('PctRecImmig5', 0.132),\n",
       " ('PctRecImmig8', 0.132),\n",
       " ('PctRecentImmig', 0.13),\n",
       " ('RentLowQ', 0.13),\n",
       " ('NumInShelters', 0.128),\n",
       " ('whitePerCap', 0.127),\n",
       " ('OwnOccLowQuart', 0.127),\n",
       " ('PolicCars', 0.127),\n",
       " ('LemasSwFTPerPop', 0.126),\n",
       " ('PolicPerPop', 0.126),\n",
       " ('OwnOccMedVal', 0.125),\n",
       " ('LemasSwFTFieldPerPop', 0.124),\n",
       " ('NumKindsDrugsSeiz', 0.123),\n",
       " ('PctUsePubTrans', 0.122),\n",
       " ('PersPerFam', 0.121),\n",
       " ('NumImmig', 0.12),\n",
       " ('LemasTotReqPerPop', 0.12),\n",
       " ('agePct12t21', 0.118),\n",
       " ('indianPerCap', 0.118),\n",
       " ('NumStreet', 0.117),\n",
       " ('MedYrHousBuilt', 0.115),\n",
       " ('PctPolicHisp', 0.115),\n",
       " ('householdsize', 0.114),\n",
       " ('PersPerOccupHous', 0.113),\n",
       " ('OwnOccHiQuart', 0.113),\n",
       " ('PctWorkMom', 0.111),\n",
       " ('PolicBudgPerPop', 0.111),\n",
       " ('LemasTotalReq', 0.109),\n",
       " ('pctWFarmSelf', 0.108),\n",
       " ('MedOwnCostPctInc', 0.104),\n",
       " ('MedOwnCostPctIncNoMtg', 0.104),\n",
       " ('agePct65up', 0.102),\n",
       " ('PctBornSameState', 0.101),\n",
       " ('PctEmplManu', 0.099),\n",
       " ('PctEmplProfServ', 0.098),\n",
       " ('PctWorkMomYoungKids', 0.098),\n",
       " ('PctSameState85', 0.098),\n",
       " ('MedNumBR', 0.096),\n",
       " ('PctSameCity85', 0.096),\n",
       " ('pctWRetire', 0.095),\n",
       " ('OfficAssgnDrugUnits', 0.093),\n",
       " ('PolicOperBudg', 0.093),\n",
       " ('racePctAsian', 0.092),\n",
       " ('pctWSocSec', 0.09),\n",
       " ('LemasSwFTFieldOps', 0.089),\n",
       " ('PctPolicAsian', 0.088),\n",
       " ('LemasSwornFT', 0.087),\n",
       " ('PctVacMore6Mos', 0.086),\n",
       " ('LandArea', 0.085),\n",
       " ('pctUrban', 0.081),\n",
       " ('LemasGangUnitDeploy', 0.038)]"
      ]
     },
     "execution_count": 89,
     "metadata": {},
     "output_type": "execute_result"
    }
   ],
   "source": [
    "# For each column, apply mutual information computation then sort the results\n",
    "sorted([calc_MI(crime_data, target_arr, c) for c in crime_data.columns], \n",
    "       key=lambda x: x[1],\n",
    "       reverse=True)"
   ]
  },
  {
   "cell_type": "markdown",
   "metadata": {},
   "source": [
    "We find the variables listed according to their shared information with the target. For example, the percentage of kids in family housing with two parents (*PctKids2Par*) is found to be the variable with the highest shared information with the target with a *mutual information score* of 0.51. The top 5 features based on mutual information score are:\n",
    "1. PctKids2Par\n",
    "1. PctIlleg\n",
    "1. PctFam2Par\n",
    "1. racePctWhite\n",
    "1. PctYoungKids2Par"
   ]
  },
  {
   "cell_type": "markdown",
   "metadata": {},
   "source": [
    "### Wrapper methods\n",
    "Our second method for feature selection is *Wrapper methods*. We apply 2 methods: *backward selection* and *forward_selection*:"
   ]
  },
  {
   "cell_type": "markdown",
   "metadata": {},
   "source": [
    "#### Backward Selection\n",
    "In backward selection, we start with all features and progressively remove the least helpful features until left with a subset of features that represents the best predictors of the target variable:"
   ]
  },
  {
   "cell_type": "code",
   "execution_count": 91,
   "metadata": {},
   "outputs": [
    {
     "name": "stdout",
     "output_type": "stream",
     "text": [
      "Fitting estimator with 122 features.\n",
      "Fitting estimator with 121 features.\n",
      "Fitting estimator with 120 features.\n",
      "Fitting estimator with 119 features.\n",
      "Fitting estimator with 118 features.\n",
      "Fitting estimator with 117 features.\n",
      "Fitting estimator with 116 features.\n",
      "Fitting estimator with 115 features.\n",
      "Fitting estimator with 114 features.\n",
      "Fitting estimator with 113 features.\n",
      "Fitting estimator with 112 features.\n",
      "Fitting estimator with 111 features.\n",
      "Fitting estimator with 110 features.\n",
      "Fitting estimator with 109 features.\n",
      "Fitting estimator with 108 features.\n",
      "Fitting estimator with 107 features.\n",
      "Fitting estimator with 106 features.\n",
      "Fitting estimator with 105 features.\n",
      "Fitting estimator with 104 features.\n",
      "Fitting estimator with 103 features.\n",
      "Fitting estimator with 102 features.\n",
      "Fitting estimator with 101 features.\n",
      "Fitting estimator with 100 features.\n",
      "Fitting estimator with 99 features.\n",
      "Fitting estimator with 98 features.\n",
      "Fitting estimator with 97 features.\n",
      "Fitting estimator with 96 features.\n",
      "Fitting estimator with 95 features.\n",
      "Fitting estimator with 94 features.\n",
      "Fitting estimator with 93 features.\n",
      "Fitting estimator with 92 features.\n",
      "Fitting estimator with 91 features.\n",
      "Fitting estimator with 90 features.\n",
      "Fitting estimator with 89 features.\n",
      "Fitting estimator with 88 features.\n",
      "Fitting estimator with 87 features.\n",
      "Fitting estimator with 86 features.\n",
      "Fitting estimator with 85 features.\n",
      "Fitting estimator with 84 features.\n",
      "Fitting estimator with 83 features.\n",
      "Fitting estimator with 82 features.\n",
      "Fitting estimator with 81 features.\n",
      "Fitting estimator with 80 features.\n",
      "Fitting estimator with 79 features.\n",
      "Fitting estimator with 78 features.\n",
      "Fitting estimator with 77 features.\n",
      "Fitting estimator with 76 features.\n",
      "Fitting estimator with 75 features.\n",
      "Fitting estimator with 74 features.\n",
      "Fitting estimator with 73 features.\n",
      "Fitting estimator with 72 features.\n",
      "Fitting estimator with 71 features.\n",
      "Fitting estimator with 70 features.\n",
      "Fitting estimator with 69 features.\n",
      "Fitting estimator with 68 features.\n",
      "Fitting estimator with 67 features.\n",
      "Fitting estimator with 66 features.\n",
      "Fitting estimator with 65 features.\n",
      "Fitting estimator with 64 features.\n",
      "Fitting estimator with 63 features.\n",
      "Fitting estimator with 62 features.\n",
      "Fitting estimator with 61 features.\n",
      "Fitting estimator with 60 features.\n",
      "Fitting estimator with 59 features.\n",
      "Fitting estimator with 58 features.\n",
      "Fitting estimator with 57 features.\n",
      "Fitting estimator with 56 features.\n",
      "Fitting estimator with 55 features.\n",
      "Fitting estimator with 54 features.\n",
      "Fitting estimator with 53 features.\n",
      "Fitting estimator with 52 features.\n",
      "Fitting estimator with 51 features.\n",
      "Fitting estimator with 50 features.\n",
      "Fitting estimator with 49 features.\n",
      "Fitting estimator with 48 features.\n",
      "Fitting estimator with 47 features.\n",
      "Fitting estimator with 46 features.\n",
      "Fitting estimator with 45 features.\n",
      "Fitting estimator with 44 features.\n",
      "Fitting estimator with 43 features.\n",
      "Fitting estimator with 42 features.\n",
      "Fitting estimator with 41 features.\n",
      "Fitting estimator with 40 features.\n",
      "Fitting estimator with 39 features.\n",
      "Fitting estimator with 38 features.\n",
      "Fitting estimator with 37 features.\n",
      "Fitting estimator with 36 features.\n",
      "Fitting estimator with 35 features.\n",
      "Fitting estimator with 34 features.\n",
      "Fitting estimator with 33 features.\n",
      "Fitting estimator with 32 features.\n",
      "Fitting estimator with 31 features.\n",
      "Fitting estimator with 30 features.\n",
      "Fitting estimator with 29 features.\n",
      "Fitting estimator with 28 features.\n",
      "Fitting estimator with 27 features.\n",
      "Fitting estimator with 26 features.\n",
      "Fitting estimator with 25 features.\n",
      "Fitting estimator with 24 features.\n",
      "Fitting estimator with 23 features.\n",
      "Fitting estimator with 22 features.\n",
      "Fitting estimator with 21 features.\n",
      "Fitting estimator with 20 features.\n",
      "Fitting estimator with 19 features.\n",
      "Fitting estimator with 18 features.\n",
      "Fitting estimator with 17 features.\n",
      "Fitting estimator with 16 features.\n",
      "Fitting estimator with 15 features.\n",
      "Fitting estimator with 14 features.\n",
      "Fitting estimator with 13 features.\n",
      "Fitting estimator with 12 features.\n",
      "Fitting estimator with 11 features.\n",
      "Fitting estimator with 10 features.\n",
      "Fitting estimator with 9 features.\n",
      "Fitting estimator with 8 features.\n",
      "Fitting estimator with 7 features.\n",
      "Fitting estimator with 6 features.\n"
     ]
    }
   ],
   "source": [
    "# Perform linear regression on a successively smaller subset of features, pruning less predictive features\n",
    "estimator = LinearRegression()\n",
    "back_selector = RFE(estimator, 5, step = 1, verbose = True) # select 5 features, removing 1 feature at a time\n",
    "back_selector = back_selector.fit(crime_data, target_arr)"
   ]
  },
  {
   "cell_type": "markdown",
   "metadata": {},
   "source": [
    "We now list the features selected by backward selection:"
   ]
  },
  {
   "cell_type": "code",
   "execution_count": 93,
   "metadata": {},
   "outputs": [
    {
     "data": {
      "text/plain": [
       "Index(['numbUrban', 'MalePctDivorce', 'TotalPctDiv', 'LemasSwFTPerPop',\n",
       "       'PolicPerPop'],\n",
       "      dtype='object')"
      ]
     },
     "execution_count": 93,
     "metadata": {},
     "output_type": "execute_result"
    }
   ],
   "source": [
    "# List selected features\n",
    "crime_data.columns[back_selector.support_]"
   ]
  },
  {
   "cell_type": "markdown",
   "metadata": {},
   "source": [
    "The top 5 features based on backward selection are:\n",
    "1. numbUrban\n",
    "1. MalePctDivorce\n",
    "1. TotalPctDiv\n",
    "1. LemasSwFTPerPop\n",
    "1. PolicPerPop\n",
    "\n",
    "Remarkably, none of the 5 features chosen by backward selection is in our list of top 5 features by mutual information. One possible explanation is that linear regression is not the best model to apply to our data set. Given these conflicting results, it is clear we require additional information to determine which features are in fact the best features for our model.\n",
    "\n",
    "We now test the accuracy of our subset of features by running the model with the subset of features:"
   ]
  },
  {
   "cell_type": "code",
   "execution_count": 97,
   "metadata": {},
   "outputs": [],
   "source": [
    "# Run the model against the select subset of features to obtain predictions\n",
    "yhat_backward = back_selector.predict(crime_data)"
   ]
  },
  {
   "cell_type": "markdown",
   "metadata": {},
   "source": [
    "For comparison, we train the estimator on the data set with the full set of features:"
   ]
  },
  {
   "cell_type": "code",
   "execution_count": 100,
   "metadata": {},
   "outputs": [],
   "source": [
    "# Apply estimator to full set of features\n",
    "estimator = estimator.fit(crime_data, target_arr)\n",
    "yhat_estimator = estimator.predict(crime_data)"
   ]
  },
  {
   "cell_type": "markdown",
   "metadata": {},
   "source": [
    "To compare the models, we look at the correlation matrix between the respective estimators:"
   ]
  },
  {
   "cell_type": "code",
   "execution_count": 101,
   "metadata": {
    "scrolled": true
   },
   "outputs": [
    {
     "data": {
      "text/plain": [
       "array([[1.   , 0.734, 0.614],\n",
       "       [0.734, 1.   , 0.837],\n",
       "       [0.614, 0.837, 1.   ]])"
      ]
     },
     "execution_count": 101,
     "metadata": {},
     "output_type": "execute_result"
    }
   ],
   "source": [
    "# Display correlation matrix of our two sets of predictions and the target\n",
    "np.corrcoef([yhat_backward, yhat_estimator, target_arr])"
   ]
  },
  {
   "cell_type": "markdown",
   "metadata": {},
   "source": [
    "The model based on the full set of features (0.84 correlation with target) outperforms the model based on the limited set of 5 features (0.61 correlation with target). One reason could be that 5 features is not the optimal number of features to retain in the reduced feature set."
   ]
  },
  {
   "cell_type": "markdown",
   "metadata": {},
   "source": [
    "#### Forward Selection\n",
    "In forward selection, we start with a single feature and progressively add the most helpful features until we have a subset of features that (again) represents the best predictors of the target variable. For performance reasons, we cap the number of features at 20 (which is more than enough to illustrate the tapering performance increases of the model as we add features):"
   ]
  },
  {
   "cell_type": "code",
   "execution_count": 130,
   "metadata": {},
   "outputs": [],
   "source": [
    "# Number of features to use in forward selection\n",
    "NUMBER_OF_FEATURES = 20\n",
    "\n",
    "# Perform linear regression on a successively larger subset of features, adding most predictive features\n",
    "estimator = LinearRegression()\n",
    "\n",
    "# Note: scoring set to R-squared as MSE resulted in 'nan' for standard errors\n",
    "stepwise_selector = SFS(estimator, \n",
    "    k_features = NUMBER_OF_FEATURES, \n",
    "    forward = True, \n",
    "    floating = False, \n",
    "    scoring = 'r2')\n",
    "\n",
    "stepwise_selector = stepwise_selector.fit(crime_data.values, target_arr)"
   ]
  },
  {
   "cell_type": "markdown",
   "metadata": {},
   "source": [
    "First we extract the top 5 features:"
   ]
  },
  {
   "cell_type": "code",
   "execution_count": 143,
   "metadata": {
    "scrolled": true
   },
   "outputs": [
    {
     "data": {
      "text/plain": [
       "Index(['racePctWhite', 'pctUrban', 'PctKids2Par', 'PctWorkMom', 'HousVacant'], dtype='object')"
      ]
     },
     "execution_count": 143,
     "metadata": {},
     "output_type": "execute_result"
    }
   ],
   "source": [
    "# Extract the top 5 features\n",
    "best_features = list(map(int, [x for x in stepwise_selector.get_metric_dict()[5]['feature_names']]))\n",
    "crime_data.columns[best_features]"
   ]
  },
  {
   "cell_type": "markdown",
   "metadata": {},
   "source": [
    "The top 5 features based on forward selection are:\n",
    "1. racePctWhite\n",
    "1. pctUrban\n",
    "1. PctKids2Par\n",
    "1. PctWorkMom\n",
    "1. HousVacant\n",
    "\n",
    "Note that there is no intersection with the 5 features selected using backward selection. However, two features overlap with the 5 top features according to mutual information score: *PctKids2Par* and *racePctWhite*.\n",
    "\n",
    "Now plot model performance for each subset of features:"
   ]
  },
  {
   "cell_type": "code",
   "execution_count": 131,
   "metadata": {},
   "outputs": [
    {
     "data": {
      "text/plain": [
       "Text(0.5, 1.0, 'Sequential selection (w. StdErr)')"
      ]
     },
     "execution_count": 131,
     "metadata": {},
     "output_type": "execute_result"
    },
    {
     "data": {
      "image/png": "[encoded data removed]",
      "text/plain": [
       "<Figure size 432x288 with 1 Axes>"
      ]
     },
     "metadata": {
      "needs_background": "light"
     },
     "output_type": "display_data"
    }
   ],
   "source": [
    "# Plot model performance at each increment\n",
    "# WARNING: This can take a litle while!\n",
    "fig = plot_sfs(stepwise_selector.get_metric_dict(), kind = 'std_err')\n",
    "plt.title('Sequential selection (w. StdErr)')\n",
    "plt.grid()\n",
    "plt.show()"
   ]
  },
  {
   "cell_type": "markdown",
   "metadata": {},
   "source": [
    "The graph shows that performance increases sharply with the 3 top features in the model, then the performance increases become more gradual."
   ]
  },
  {
   "cell_type": "markdown",
   "metadata": {},
   "source": [
    "### Embedded methods\n",
    "Our third method for feature selection is *Embedded methods*. We apply 2 methods: *LASSO* and *ridge regression*. Both are implementations of linear regression that attempt to minimize prediction error and a penalty based on the model's parameters and a *shrinkage constant* (alpha)."
   ]
  },
  {
   "cell_type": "markdown",
   "metadata": {},
   "source": [
    "#### LASSO\n",
    "\n",
    "In LASSO we penalize the model's parameters using the sum of absolute values of the parameters (L1-regularization). Feature selection is controlled by the *alpha* parameter, which shrinks more and more feature coefficients to 0 as it increases. We experimented with different values of alpha to achieve a model in which fewer than 10 features were preserved (note that our value of alpha is singificantly lower than the value used in class). We started at alpha=0.001 and advanced by 0.001 up to 0.04 (at which point no features remain):"
   ]
  },
  {
   "cell_type": "code",
   "execution_count": 171,
   "metadata": {},
   "outputs": [
    {
     "data": {
      "text/plain": [
       "Lasso(alpha=0.001, copy_X=True, fit_intercept=True, max_iter=1000,\n",
       "      normalize=False, positive=False, precompute=False, random_state=None,\n",
       "      selection='cyclic', tol=0.0001, warm_start=False)"
      ]
     },
     "execution_count": 171,
     "metadata": {},
     "output_type": "execute_result"
    },
    {
     "data": {
      "text/plain": [
       "Lasso(alpha=0.002, copy_X=True, fit_intercept=True, max_iter=1000,\n",
       "      normalize=False, positive=False, precompute=False, random_state=None,\n",
       "      selection='cyclic', tol=0.0001, warm_start=False)"
      ]
     },
     "execution_count": 171,
     "metadata": {},
     "output_type": "execute_result"
    },
    {
     "data": {
      "text/plain": [
       "Lasso(alpha=0.003, copy_X=True, fit_intercept=True, max_iter=1000,\n",
       "      normalize=False, positive=False, precompute=False, random_state=None,\n",
       "      selection='cyclic', tol=0.0001, warm_start=False)"
      ]
     },
     "execution_count": 171,
     "metadata": {},
     "output_type": "execute_result"
    },
    {
     "data": {
      "text/plain": [
       "Lasso(alpha=0.004, copy_X=True, fit_intercept=True, max_iter=1000,\n",
       "      normalize=False, positive=False, precompute=False, random_state=None,\n",
       "      selection='cyclic', tol=0.0001, warm_start=False)"
      ]
     },
     "execution_count": 171,
     "metadata": {},
     "output_type": "execute_result"
    },
    {
     "data": {
      "text/plain": [
       "Lasso(alpha=0.005, copy_X=True, fit_intercept=True, max_iter=1000,\n",
       "      normalize=False, positive=False, precompute=False, random_state=None,\n",
       "      selection='cyclic', tol=0.0001, warm_start=False)"
      ]
     },
     "execution_count": 171,
     "metadata": {},
     "output_type": "execute_result"
    },
    {
     "data": {
      "text/plain": [
       "Lasso(alpha=0.006, copy_X=True, fit_intercept=True, max_iter=1000,\n",
       "      normalize=False, positive=False, precompute=False, random_state=None,\n",
       "      selection='cyclic', tol=0.0001, warm_start=False)"
      ]
     },
     "execution_count": 171,
     "metadata": {},
     "output_type": "execute_result"
    },
    {
     "data": {
      "text/plain": [
       "Lasso(alpha=0.007, copy_X=True, fit_intercept=True, max_iter=1000,\n",
       "      normalize=False, positive=False, precompute=False, random_state=None,\n",
       "      selection='cyclic', tol=0.0001, warm_start=False)"
      ]
     },
     "execution_count": 171,
     "metadata": {},
     "output_type": "execute_result"
    },
    {
     "data": {
      "text/plain": [
       "Lasso(alpha=0.008, copy_X=True, fit_intercept=True, max_iter=1000,\n",
       "      normalize=False, positive=False, precompute=False, random_state=None,\n",
       "      selection='cyclic', tol=0.0001, warm_start=False)"
      ]
     },
     "execution_count": 171,
     "metadata": {},
     "output_type": "execute_result"
    },
    {
     "data": {
      "text/plain": [
       "Lasso(alpha=0.009000000000000001, copy_X=True, fit_intercept=True,\n",
       "      max_iter=1000, normalize=False, positive=False, precompute=False,\n",
       "      random_state=None, selection='cyclic', tol=0.0001, warm_start=False)"
      ]
     },
     "execution_count": 171,
     "metadata": {},
     "output_type": "execute_result"
    },
    {
     "data": {
      "text/plain": [
       "Lasso(alpha=0.010000000000000002, copy_X=True, fit_intercept=True,\n",
       "      max_iter=1000, normalize=False, positive=False, precompute=False,\n",
       "      random_state=None, selection='cyclic', tol=0.0001, warm_start=False)"
      ]
     },
     "execution_count": 171,
     "metadata": {},
     "output_type": "execute_result"
    },
    {
     "data": {
      "text/plain": [
       "Lasso(alpha=0.011, copy_X=True, fit_intercept=True, max_iter=1000,\n",
       "      normalize=False, positive=False, precompute=False, random_state=None,\n",
       "      selection='cyclic', tol=0.0001, warm_start=False)"
      ]
     },
     "execution_count": 171,
     "metadata": {},
     "output_type": "execute_result"
    },
    {
     "data": {
      "text/plain": [
       "Lasso(alpha=0.012, copy_X=True, fit_intercept=True, max_iter=1000,\n",
       "      normalize=False, positive=False, precompute=False, random_state=None,\n",
       "      selection='cyclic', tol=0.0001, warm_start=False)"
      ]
     },
     "execution_count": 171,
     "metadata": {},
     "output_type": "execute_result"
    },
    {
     "data": {
      "text/plain": [
       "Lasso(alpha=0.013000000000000001, copy_X=True, fit_intercept=True,\n",
       "      max_iter=1000, normalize=False, positive=False, precompute=False,\n",
       "      random_state=None, selection='cyclic', tol=0.0001, warm_start=False)"
      ]
     },
     "execution_count": 171,
     "metadata": {},
     "output_type": "execute_result"
    },
    {
     "data": {
      "text/plain": [
       "Lasso(alpha=0.014000000000000002, copy_X=True, fit_intercept=True,\n",
       "      max_iter=1000, normalize=False, positive=False, precompute=False,\n",
       "      random_state=None, selection='cyclic', tol=0.0001, warm_start=False)"
      ]
     },
     "execution_count": 171,
     "metadata": {},
     "output_type": "execute_result"
    },
    {
     "data": {
      "text/plain": [
       "Lasso(alpha=0.015, copy_X=True, fit_intercept=True, max_iter=1000,\n",
       "      normalize=False, positive=False, precompute=False, random_state=None,\n",
       "      selection='cyclic', tol=0.0001, warm_start=False)"
      ]
     },
     "execution_count": 171,
     "metadata": {},
     "output_type": "execute_result"
    },
    {
     "data": {
      "text/plain": [
       "Lasso(alpha=0.016, copy_X=True, fit_intercept=True, max_iter=1000,\n",
       "      normalize=False, positive=False, precompute=False, random_state=None,\n",
       "      selection='cyclic', tol=0.0001, warm_start=False)"
      ]
     },
     "execution_count": 171,
     "metadata": {},
     "output_type": "execute_result"
    },
    {
     "data": {
      "text/plain": [
       "Lasso(alpha=0.017, copy_X=True, fit_intercept=True, max_iter=1000,\n",
       "      normalize=False, positive=False, precompute=False, random_state=None,\n",
       "      selection='cyclic', tol=0.0001, warm_start=False)"
      ]
     },
     "execution_count": 171,
     "metadata": {},
     "output_type": "execute_result"
    },
    {
     "data": {
      "text/plain": [
       "Lasso(alpha=0.018000000000000002, copy_X=True, fit_intercept=True,\n",
       "      max_iter=1000, normalize=False, positive=False, precompute=False,\n",
       "      random_state=None, selection='cyclic', tol=0.0001, warm_start=False)"
      ]
     },
     "execution_count": 171,
     "metadata": {},
     "output_type": "execute_result"
    },
    {
     "data": {
      "text/plain": [
       "Lasso(alpha=0.019000000000000003, copy_X=True, fit_intercept=True,\n",
       "      max_iter=1000, normalize=False, positive=False, precompute=False,\n",
       "      random_state=None, selection='cyclic', tol=0.0001, warm_start=False)"
      ]
     },
     "execution_count": 171,
     "metadata": {},
     "output_type": "execute_result"
    },
    {
     "data": {
      "text/plain": [
       "Lasso(alpha=0.02, copy_X=True, fit_intercept=True, max_iter=1000,\n",
       "      normalize=False, positive=False, precompute=False, random_state=None,\n",
       "      selection='cyclic', tol=0.0001, warm_start=False)"
      ]
     },
     "execution_count": 171,
     "metadata": {},
     "output_type": "execute_result"
    },
    {
     "data": {
      "text/plain": [
       "Lasso(alpha=0.021, copy_X=True, fit_intercept=True, max_iter=1000,\n",
       "      normalize=False, positive=False, precompute=False, random_state=None,\n",
       "      selection='cyclic', tol=0.0001, warm_start=False)"
      ]
     },
     "execution_count": 171,
     "metadata": {},
     "output_type": "execute_result"
    },
    {
     "data": {
      "text/plain": [
       "Lasso(alpha=0.022000000000000002, copy_X=True, fit_intercept=True,\n",
       "      max_iter=1000, normalize=False, positive=False, precompute=False,\n",
       "      random_state=None, selection='cyclic', tol=0.0001, warm_start=False)"
      ]
     },
     "execution_count": 171,
     "metadata": {},
     "output_type": "execute_result"
    },
    {
     "data": {
      "text/plain": [
       "Lasso(alpha=0.023, copy_X=True, fit_intercept=True, max_iter=1000,\n",
       "      normalize=False, positive=False, precompute=False, random_state=None,\n",
       "      selection='cyclic', tol=0.0001, warm_start=False)"
      ]
     },
     "execution_count": 171,
     "metadata": {},
     "output_type": "execute_result"
    },
    {
     "data": {
      "text/plain": [
       "Lasso(alpha=0.024, copy_X=True, fit_intercept=True, max_iter=1000,\n",
       "      normalize=False, positive=False, precompute=False, random_state=None,\n",
       "      selection='cyclic', tol=0.0001, warm_start=False)"
      ]
     },
     "execution_count": 171,
     "metadata": {},
     "output_type": "execute_result"
    },
    {
     "data": {
      "text/plain": [
       "Lasso(alpha=0.025, copy_X=True, fit_intercept=True, max_iter=1000,\n",
       "      normalize=False, positive=False, precompute=False, random_state=None,\n",
       "      selection='cyclic', tol=0.0001, warm_start=False)"
      ]
     },
     "execution_count": 171,
     "metadata": {},
     "output_type": "execute_result"
    },
    {
     "data": {
      "text/plain": [
       "Lasso(alpha=0.026000000000000002, copy_X=True, fit_intercept=True,\n",
       "      max_iter=1000, normalize=False, positive=False, precompute=False,\n",
       "      random_state=None, selection='cyclic', tol=0.0001, warm_start=False)"
      ]
     },
     "execution_count": 171,
     "metadata": {},
     "output_type": "execute_result"
    },
    {
     "data": {
      "text/plain": [
       "Lasso(alpha=0.027000000000000003, copy_X=True, fit_intercept=True,\n",
       "      max_iter=1000, normalize=False, positive=False, precompute=False,\n",
       "      random_state=None, selection='cyclic', tol=0.0001, warm_start=False)"
      ]
     },
     "execution_count": 171,
     "metadata": {},
     "output_type": "execute_result"
    },
    {
     "data": {
      "text/plain": [
       "Lasso(alpha=0.028, copy_X=True, fit_intercept=True, max_iter=1000,\n",
       "      normalize=False, positive=False, precompute=False, random_state=None,\n",
       "      selection='cyclic', tol=0.0001, warm_start=False)"
      ]
     },
     "execution_count": 171,
     "metadata": {},
     "output_type": "execute_result"
    },
    {
     "data": {
      "text/plain": [
       "Lasso(alpha=0.029, copy_X=True, fit_intercept=True, max_iter=1000,\n",
       "      normalize=False, positive=False, precompute=False, random_state=None,\n",
       "      selection='cyclic', tol=0.0001, warm_start=False)"
      ]
     },
     "execution_count": 171,
     "metadata": {},
     "output_type": "execute_result"
    },
    {
     "data": {
      "text/plain": [
       "Lasso(alpha=0.030000000000000002, copy_X=True, fit_intercept=True,\n",
       "      max_iter=1000, normalize=False, positive=False, precompute=False,\n",
       "      random_state=None, selection='cyclic', tol=0.0001, warm_start=False)"
      ]
     },
     "execution_count": 171,
     "metadata": {},
     "output_type": "execute_result"
    },
    {
     "data": {
      "text/plain": [
       "Lasso(alpha=0.031, copy_X=True, fit_intercept=True, max_iter=1000,\n",
       "      normalize=False, positive=False, precompute=False, random_state=None,\n",
       "      selection='cyclic', tol=0.0001, warm_start=False)"
      ]
     },
     "execution_count": 171,
     "metadata": {},
     "output_type": "execute_result"
    },
    {
     "data": {
      "text/plain": [
       "Lasso(alpha=0.032, copy_X=True, fit_intercept=True, max_iter=1000,\n",
       "      normalize=False, positive=False, precompute=False, random_state=None,\n",
       "      selection='cyclic', tol=0.0001, warm_start=False)"
      ]
     },
     "execution_count": 171,
     "metadata": {},
     "output_type": "execute_result"
    },
    {
     "data": {
      "text/plain": [
       "Lasso(alpha=0.033, copy_X=True, fit_intercept=True, max_iter=1000,\n",
       "      normalize=False, positive=False, precompute=False, random_state=None,\n",
       "      selection='cyclic', tol=0.0001, warm_start=False)"
      ]
     },
     "execution_count": 171,
     "metadata": {},
     "output_type": "execute_result"
    },
    {
     "data": {
      "text/plain": [
       "Lasso(alpha=0.034, copy_X=True, fit_intercept=True, max_iter=1000,\n",
       "      normalize=False, positive=False, precompute=False, random_state=None,\n",
       "      selection='cyclic', tol=0.0001, warm_start=False)"
      ]
     },
     "execution_count": 171,
     "metadata": {},
     "output_type": "execute_result"
    },
    {
     "data": {
      "text/plain": [
       "Lasso(alpha=0.035, copy_X=True, fit_intercept=True, max_iter=1000,\n",
       "      normalize=False, positive=False, precompute=False, random_state=None,\n",
       "      selection='cyclic', tol=0.0001, warm_start=False)"
      ]
     },
     "execution_count": 171,
     "metadata": {},
     "output_type": "execute_result"
    },
    {
     "data": {
      "text/plain": [
       "Lasso(alpha=0.036000000000000004, copy_X=True, fit_intercept=True,\n",
       "      max_iter=1000, normalize=False, positive=False, precompute=False,\n",
       "      random_state=None, selection='cyclic', tol=0.0001, warm_start=False)"
      ]
     },
     "execution_count": 171,
     "metadata": {},
     "output_type": "execute_result"
    },
    {
     "data": {
      "text/plain": [
       "Lasso(alpha=0.037000000000000005, copy_X=True, fit_intercept=True,\n",
       "      max_iter=1000, normalize=False, positive=False, precompute=False,\n",
       "      random_state=None, selection='cyclic', tol=0.0001, warm_start=False)"
      ]
     },
     "execution_count": 171,
     "metadata": {},
     "output_type": "execute_result"
    },
    {
     "data": {
      "text/plain": [
       "Lasso(alpha=0.038, copy_X=True, fit_intercept=True, max_iter=1000,\n",
       "      normalize=False, positive=False, precompute=False, random_state=None,\n",
       "      selection='cyclic', tol=0.0001, warm_start=False)"
      ]
     },
     "execution_count": 171,
     "metadata": {},
     "output_type": "execute_result"
    },
    {
     "data": {
      "text/plain": [
       "Lasso(alpha=0.039, copy_X=True, fit_intercept=True, max_iter=1000,\n",
       "      normalize=False, positive=False, precompute=False, random_state=None,\n",
       "      selection='cyclic', tol=0.0001, warm_start=False)"
      ]
     },
     "execution_count": 171,
     "metadata": {},
     "output_type": "execute_result"
    }
   ],
   "source": [
    "# Compile variables and features at different values of alpha\n",
    "results = pd.DataFrame(columns = ['alpha', 'col', 'coef'])\n",
    "\n",
    "for alpha in np.arange(0.001, 0.04, .001):\n",
    "    clf = linear_model.Lasso(alpha = alpha)\n",
    "    clf.fit(crime_data, target_arr)\n",
    "    dd = pd.DataFrame({'col': crime_data.columns, 'coef': clf.coef_})\n",
    "    dd['alpha'] = alpha\n",
    "    results = results.append(dd, sort = False)\n",
    "\n",
    "# Display the first results\n",
    "results.head()"
   ]
  },
  {
   "cell_type": "markdown",
   "metadata": {},
   "source": [
    "The results of our experimentation can be plotted as follows:"
   ]
  },
  {
   "cell_type": "code",
   "execution_count": 173,
   "metadata": {
    "scrolled": false
   },
   "outputs": [
    {
     "data": {
      "text/plain": [
       "[(-2.5, 2.5)]"
      ]
     },
     "execution_count": 173,
     "metadata": {},
     "output_type": "execute_result"
    },
    {
     "data": {
      "text/plain": [
       "<matplotlib.legend.Legend at 0x39c29f4548>"
      ]
     },
     "execution_count": 173,
     "metadata": {},
     "output_type": "execute_result"
    },
    {
     "data": {
      "image/png": "[encoded data removed]",
      "text/plain": [
       "<Figure size 432x288 with 1 Axes>"
      ]
     },
     "metadata": {
      "needs_background": "light"
     },
     "output_type": "display_data"
    }
   ],
   "source": [
    "ax = sns.lineplot(x = 'alpha', y = 'coef', hue = 'col', data = results)\n",
    "ax.set(ylim = (-2.5, 2.5))\n",
    "ax.legend(loc = 'center right', bbox_to_anchor = (1.5, 0.5), ncol = 1)"
   ]
  },
  {
   "cell_type": "markdown",
   "metadata": {},
   "source": [
    "Note that from an initial field of 122 features, only 3 remain at alpha = 0.02 and all are eliminated by alpha = 0.04. For our purposes, we set alpha = 0.005 in order to examine several of the most important features:"
   ]
  },
  {
   "cell_type": "code",
   "execution_count": 174,
   "metadata": {},
   "outputs": [
    {
     "data": {
      "text/plain": [
       "Lasso(alpha=0.005, copy_X=True, fit_intercept=True, max_iter=1000,\n",
       "      normalize=False, positive=False, precompute=False, random_state=None,\n",
       "      selection='cyclic', tol=0.0001, warm_start=False)"
      ]
     },
     "execution_count": 174,
     "metadata": {},
     "output_type": "execute_result"
    }
   ],
   "source": [
    "# Set alpha to low value so that some features are retained\n",
    "alpha = 0.005\n",
    "\n",
    "# Apply LASSO regression\n",
    "clf = linear_model.Lasso(alpha = alpha)\n",
    "clf.fit(crime_data, target_arr)"
   ]
  },
  {
   "cell_type": "markdown",
   "metadata": {},
   "source": [
    "We next plot the model coefficients using a barplot to show which features have been retained and which have effectively dropped out of the model:"
   ]
  },
  {
   "cell_type": "code",
   "execution_count": 144,
   "metadata": {},
   "outputs": [
    {
     "data": {
      "image/png": "[encoded data removed]",
      "text/plain": [
       "<Figure size 432x288 with 1 Axes>"
      ]
     },
     "metadata": {
      "needs_background": "light"
     },
     "output_type": "display_data"
    }
   ],
   "source": [
    "# Display plot of retained coefficients\n",
    "dd = pd.DataFrame({'col': crime_data.columns, 'coef': clf.coef_})\n",
    "ax = sns.barplot(x = 'col', y = 'coef', data = dd)"
   ]
  },
  {
   "cell_type": "markdown",
   "metadata": {},
   "source": [
    "The barplot shows 9 features that were selected via LASSO. Next we get the list of features retained by the model (alpha = 0.005):"
   ]
  },
  {
   "cell_type": "code",
   "execution_count": 151,
   "metadata": {},
   "outputs": [
    {
     "data": {
      "text/plain": [
       "[('PctKids2Par', 0.3105472743478821),\n",
       " ('PctIlleg', 0.2026536438961),\n",
       " ('racePctWhite', 0.20092343838985624),\n",
       " ('HousVacant', 0.04256871693751991),\n",
       " ('MalePctDivorce', 0.04023322637030142),\n",
       " ('pctUrban', 0.02131012375119378),\n",
       " ('PctPersDenseHous', 0.012699481411152949),\n",
       " ('LemasPctOfficDrugUn', 0.010927931622242737),\n",
       " ('PctVacantBoarded', 0.003556356541513352)]"
      ]
     },
     "execution_count": 151,
     "metadata": {},
     "output_type": "execute_result"
    }
   ],
   "source": [
    "# Merge column names and coefficients into single list, taking absolute value of coefficients\n",
    "retained = list(zip(crime_data.columns[np.where(clf.coef_ != 0)], \n",
    "                    map(abs, clf.coef_[np.where(clf.coef_ != 0)])))\n",
    "\n",
    "# Now sort the list by coefficient absolute value to get the top features\n",
    "sorted(retained, key=lambda x: x[1], reverse=True)"
   ]
  },
  {
   "cell_type": "markdown",
   "metadata": {},
   "source": [
    "So the top 5 features according to LASSO are:\n",
    "1. PctKids2Par\n",
    "1. PctIlleg\n",
    "1. racePctWhite\n",
    "1. HousVacant\n",
    "1. MalePctDivorce\n",
    "\n",
    "Three of these features were also selected by mutual information score: *PctKids2Par*, *PctIlleg*, and *racePctWhite*. One top-5 LASSO feature was selected by backward selection: *MalePctDivorce*. Three top-5 LASSO features were selected by forward selection: *PctKids2Par*, *racePctWhite*, and *HousVacant*. All in all, two features appeared in the top 5 of 3 of the models: *PctKids2Par* and *racePctWhite*.\n",
    "\n",
    "Now we compare our LASSO model with a non-regularized model that retains all features:"
   ]
  },
  {
   "cell_type": "code",
   "execution_count": 175,
   "metadata": {},
   "outputs": [
    {
     "data": {
      "text/plain": [
       "LinearRegression(copy_X=True, fit_intercept=True, n_jobs=None, normalize=False)"
      ]
     },
     "execution_count": 175,
     "metadata": {},
     "output_type": "execute_result"
    },
    {
     "data": {
      "text/plain": [
       "array([[1.   , 0.947],\n",
       "       [0.947, 1.   ]])"
      ]
     },
     "execution_count": 175,
     "metadata": {},
     "output_type": "execute_result"
    }
   ],
   "source": [
    "# Create non-regularized model for comparison\n",
    "lm = linear_model.LinearRegression()\n",
    "lm.fit(crime_data, target_arr)\n",
    "\n",
    "# Predictions when using LinearRegression\n",
    "pred_lm = lm.predict(crime_data)\n",
    "\n",
    "# Prediction when using LASSO\n",
    "pred_clf = clf.predict(crime_data)\n",
    "\n",
    "# Display the correlation matrix\n",
    "np.corrcoef(pred_lm, pred_clf)"
   ]
  },
  {
   "cell_type": "markdown",
   "metadata": {},
   "source": [
    "The results suggest that using a limited set of features has only a minor impact on the predictions and likely generalizes better to other data sets as well."
   ]
  },
  {
   "cell_type": "markdown",
   "metadata": {},
   "source": [
    "#### Ridge regression\n",
    "\n",
    "In ridge regression we penalize the model's parameters using the sum of squared values of the parameters (L2-regularization)."
   ]
  },
  {
   "cell_type": "code",
   "execution_count": null,
   "metadata": {},
   "outputs": [],
   "source": []
  },
  {
   "cell_type": "markdown",
   "metadata": {},
   "source": [
    "## 3. Describe your findings\n",
    "In this assignment we found that ..."
   ]
  }
 ],
 "metadata": {
  "kernelspec": {
   "display_name": "Python 3",
   "language": "python",
   "name": "python3"
  },
  "language_info": {
   "codemirror_mode": {
    "name": "ipython",
    "version": 3
   },
   "file_extension": ".py",
   "mimetype": "text/x-python",
   "name": "python",
   "nbconvert_exporter": "python",
   "pygments_lexer": "ipython3",
   "version": "3.7.7"
  }
 },
 "nbformat": 4,
 "nbformat_minor": 2
}
