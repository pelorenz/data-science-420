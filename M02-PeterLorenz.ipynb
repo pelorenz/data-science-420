{
 "cells": [
  {
   "cell_type": "markdown",
   "metadata": {},
   "source": [
    "# Milestone 02\n",
    "# Peter Lorenz"
   ]
  },
  {
   "cell_type": "markdown",
   "metadata": {},
   "source": [
    "## 0. Preliminaries\n",
    "\n",
    "Import the required libraries:"
   ]
  },
  {
   "cell_type": "code",
   "execution_count": 15,
   "metadata": {},
   "outputs": [],
   "source": [
    "import sys\n",
    "import warnings\n",
    "\n",
    "warnings.simplefilter(action='ignore', category=FutureWarning)\n",
    "\n",
    "import matplotlib.pyplot as plt\n",
    "import numpy as np\n",
    "import pandas as pd\n",
    "import seaborn as sns\n",
    "\n",
    "from imblearn.over_sampling import SMOTE\n",
    "from sklearn import metrics\n",
    "from sklearn.ensemble import RandomForestClassifier\n",
    "from sklearn.metrics import classification_report\n",
    "from sklearn.metrics import confusion_matrix\n",
    "from sklearn.metrics import make_scorer\n",
    "from sklearn.metrics import precision_score\n",
    "from sklearn.metrics import recall_score\n",
    "from sklearn.metrics import roc_auc_score\n",
    "from sklearn.model_selection import GridSearchCV\n",
    "from sklearn.model_selection import train_test_split\n",
    "from sklearn.preprocessing import RobustScaler\n",
    "from sklearn.tree import DecisionTreeClassifier"
   ]
  },
  {
   "cell_type": "markdown",
   "metadata": {},
   "source": [
    "Set global options:"
   ]
  },
  {
   "cell_type": "code",
   "execution_count": 2,
   "metadata": {},
   "outputs": [],
   "source": [
    "# Display plots inline\n",
    "%matplotlib inline\n",
    "\n",
    "# Display multiple cell outputs\n",
    "from IPython.core.interactiveshell import InteractiveShell\n",
    "InteractiveShell.ast_node_interactivity = \"all\"\n",
    "\n",
    "# Suppress scientific notation\n",
    "np.set_printoptions(suppress=True)\n",
    "np.set_printoptions(precision=3)\n",
    "pd.set_option('display.float_format', lambda x: '%.3f' % x)\n",
    "\n",
    "# Do not truncate numpy arrays\n",
    "np.set_printoptions(threshold=sys.maxsize)"
   ]
  },
  {
   "cell_type": "markdown",
   "metadata": {},
   "source": [
    "Declare constants:"
   ]
  },
  {
   "cell_type": "code",
   "execution_count": null,
   "metadata": {},
   "outputs": [],
   "source": []
  },
  {
   "cell_type": "markdown",
   "metadata": {},
   "source": [
    "Declare utility functions:"
   ]
  },
  {
   "cell_type": "code",
   "execution_count": null,
   "metadata": {},
   "outputs": [],
   "source": []
  },
  {
   "cell_type": "markdown",
   "metadata": {},
   "source": [
    "## 1. Split data from Milestone 1 into training and testing\n",
    "In this section, we split the prepared data from Milestone 1 into training and test data sets. But first we must reload and clean this data.\n",
    "\n",
    "### Read and clean data (from Milestone 1)\n",
    "Here we follow the steps taken in Milestone 1 to prepare our data for modeling. Commentary is kept to a minimum as these matters have already been discussed in Milestone 1. Also, cell output is kept to the minimum necessary to confirm that the code is functioning as expected."
   ]
  },
  {
   "cell_type": "code",
   "execution_count": 3,
   "metadata": {},
   "outputs": [
    {
     "name": "stdout",
     "output_type": "stream",
     "text": [
      "Sensor data set:\n"
     ]
    },
    {
     "data": {
      "text/plain": [
       "(1566, 590)"
      ]
     },
     "execution_count": 3,
     "metadata": {},
     "output_type": "execute_result"
    },
    {
     "data": {
      "text/html": [
       "<div>\n",
       "<style scoped>\n",
       "    .dataframe tbody tr th:only-of-type {\n",
       "        vertical-align: middle;\n",
       "    }\n",
       "\n",
       "    .dataframe tbody tr th {\n",
       "        vertical-align: top;\n",
       "    }\n",
       "\n",
       "    .dataframe thead th {\n",
       "        text-align: right;\n",
       "    }\n",
       "</style>\n",
       "<table border=\"1\" class=\"dataframe\">\n",
       "  <thead>\n",
       "    <tr style=\"text-align: right;\">\n",
       "      <th></th>\n",
       "      <th>s1</th>\n",
       "      <th>s2</th>\n",
       "      <th>s3</th>\n",
       "      <th>s4</th>\n",
       "      <th>s5</th>\n",
       "      <th>s6</th>\n",
       "      <th>s7</th>\n",
       "      <th>s8</th>\n",
       "      <th>s9</th>\n",
       "      <th>s10</th>\n",
       "      <th>...</th>\n",
       "      <th>s581</th>\n",
       "      <th>s582</th>\n",
       "      <th>s583</th>\n",
       "      <th>s584</th>\n",
       "      <th>s585</th>\n",
       "      <th>s586</th>\n",
       "      <th>s587</th>\n",
       "      <th>s588</th>\n",
       "      <th>s589</th>\n",
       "      <th>s590</th>\n",
       "    </tr>\n",
       "  </thead>\n",
       "  <tbody>\n",
       "    <tr>\n",
       "      <th>0</th>\n",
       "      <td>3095.780</td>\n",
       "      <td>2465.140</td>\n",
       "      <td>2230.422</td>\n",
       "      <td>1463.661</td>\n",
       "      <td>0.829</td>\n",
       "      <td>100.000</td>\n",
       "      <td>102.343</td>\n",
       "      <td>0.125</td>\n",
       "      <td>1.497</td>\n",
       "      <td>-0.001</td>\n",
       "      <td>...</td>\n",
       "      <td>0.006</td>\n",
       "      <td>208.204</td>\n",
       "      <td>0.502</td>\n",
       "      <td>0.022</td>\n",
       "      <td>0.005</td>\n",
       "      <td>4.445</td>\n",
       "      <td>0.010</td>\n",
       "      <td>0.020</td>\n",
       "      <td>0.006</td>\n",
       "      <td>208.204</td>\n",
       "    </tr>\n",
       "    <tr>\n",
       "      <th>1</th>\n",
       "      <td>2932.610</td>\n",
       "      <td>2559.940</td>\n",
       "      <td>2186.411</td>\n",
       "      <td>1698.017</td>\n",
       "      <td>1.510</td>\n",
       "      <td>100.000</td>\n",
       "      <td>95.488</td>\n",
       "      <td>0.124</td>\n",
       "      <td>1.444</td>\n",
       "      <td>0.004</td>\n",
       "      <td>...</td>\n",
       "      <td>0.015</td>\n",
       "      <td>82.860</td>\n",
       "      <td>0.496</td>\n",
       "      <td>0.016</td>\n",
       "      <td>0.004</td>\n",
       "      <td>3.175</td>\n",
       "      <td>0.058</td>\n",
       "      <td>0.048</td>\n",
       "      <td>0.015</td>\n",
       "      <td>82.860</td>\n",
       "    </tr>\n",
       "    <tr>\n",
       "      <th>2</th>\n",
       "      <td>2988.720</td>\n",
       "      <td>2479.900</td>\n",
       "      <td>2199.033</td>\n",
       "      <td>909.793</td>\n",
       "      <td>1.320</td>\n",
       "      <td>100.000</td>\n",
       "      <td>104.237</td>\n",
       "      <td>0.122</td>\n",
       "      <td>1.488</td>\n",
       "      <td>-0.012</td>\n",
       "      <td>...</td>\n",
       "      <td>0.004</td>\n",
       "      <td>73.843</td>\n",
       "      <td>0.499</td>\n",
       "      <td>0.010</td>\n",
       "      <td>0.003</td>\n",
       "      <td>2.054</td>\n",
       "      <td>0.020</td>\n",
       "      <td>0.015</td>\n",
       "      <td>0.004</td>\n",
       "      <td>73.843</td>\n",
       "    </tr>\n",
       "    <tr>\n",
       "      <th>3</th>\n",
       "      <td>3032.240</td>\n",
       "      <td>2502.870</td>\n",
       "      <td>2233.367</td>\n",
       "      <td>1326.520</td>\n",
       "      <td>1.533</td>\n",
       "      <td>100.000</td>\n",
       "      <td>100.397</td>\n",
       "      <td>0.123</td>\n",
       "      <td>1.503</td>\n",
       "      <td>-0.003</td>\n",
       "      <td>...</td>\n",
       "      <td>nan</td>\n",
       "      <td>nan</td>\n",
       "      <td>0.480</td>\n",
       "      <td>0.477</td>\n",
       "      <td>0.104</td>\n",
       "      <td>99.303</td>\n",
       "      <td>0.020</td>\n",
       "      <td>0.015</td>\n",
       "      <td>0.004</td>\n",
       "      <td>73.843</td>\n",
       "    </tr>\n",
       "    <tr>\n",
       "      <th>4</th>\n",
       "      <td>2946.250</td>\n",
       "      <td>2432.840</td>\n",
       "      <td>2233.367</td>\n",
       "      <td>1326.520</td>\n",
       "      <td>1.533</td>\n",
       "      <td>100.000</td>\n",
       "      <td>100.397</td>\n",
       "      <td>0.123</td>\n",
       "      <td>1.529</td>\n",
       "      <td>0.017</td>\n",
       "      <td>...</td>\n",
       "      <td>0.005</td>\n",
       "      <td>44.008</td>\n",
       "      <td>0.495</td>\n",
       "      <td>0.019</td>\n",
       "      <td>0.004</td>\n",
       "      <td>3.828</td>\n",
       "      <td>0.034</td>\n",
       "      <td>0.015</td>\n",
       "      <td>0.005</td>\n",
       "      <td>44.008</td>\n",
       "    </tr>\n",
       "  </tbody>\n",
       "</table>\n",
       "<p>5 rows × 590 columns</p>\n",
       "</div>"
      ],
      "text/plain": [
       "        s1       s2       s3       s4    s5      s6      s7    s8    s9  \\\n",
       "0 3095.780 2465.140 2230.422 1463.661 0.829 100.000 102.343 0.125 1.497   \n",
       "1 2932.610 2559.940 2186.411 1698.017 1.510 100.000  95.488 0.124 1.444   \n",
       "2 2988.720 2479.900 2199.033  909.793 1.320 100.000 104.237 0.122 1.488   \n",
       "3 3032.240 2502.870 2233.367 1326.520 1.533 100.000 100.397 0.123 1.503   \n",
       "4 2946.250 2432.840 2233.367 1326.520 1.533 100.000 100.397 0.123 1.529   \n",
       "\n",
       "     s10  ...  s581    s582  s583  s584  s585   s586  s587  s588  s589    s590  \n",
       "0 -0.001  ... 0.006 208.204 0.502 0.022 0.005  4.445 0.010 0.020 0.006 208.204  \n",
       "1  0.004  ... 0.015  82.860 0.496 0.016 0.004  3.175 0.058 0.048 0.015  82.860  \n",
       "2 -0.012  ... 0.004  73.843 0.499 0.010 0.003  2.054 0.020 0.015 0.004  73.843  \n",
       "3 -0.003  ...   nan     nan 0.480 0.477 0.104 99.303 0.020 0.015 0.004  73.843  \n",
       "4  0.017  ... 0.005  44.008 0.495 0.019 0.004  3.828 0.034 0.015 0.005  44.008  \n",
       "\n",
       "[5 rows x 590 columns]"
      ]
     },
     "execution_count": 3,
     "metadata": {},
     "output_type": "execute_result"
    },
    {
     "name": "stdout",
     "output_type": "stream",
     "text": [
      "Sensor labels:\n"
     ]
    },
    {
     "data": {
      "text/plain": [
       "(1566, 3)"
      ]
     },
     "execution_count": 3,
     "metadata": {},
     "output_type": "execute_result"
    },
    {
     "data": {
      "text/html": [
       "<div>\n",
       "<style scoped>\n",
       "    .dataframe tbody tr th:only-of-type {\n",
       "        vertical-align: middle;\n",
       "    }\n",
       "\n",
       "    .dataframe tbody tr th {\n",
       "        vertical-align: top;\n",
       "    }\n",
       "\n",
       "    .dataframe thead th {\n",
       "        text-align: right;\n",
       "    }\n",
       "</style>\n",
       "<table border=\"1\" class=\"dataframe\">\n",
       "  <thead>\n",
       "    <tr style=\"text-align: right;\">\n",
       "      <th></th>\n",
       "      <th>result</th>\n",
       "      <th>date</th>\n",
       "      <th>time</th>\n",
       "    </tr>\n",
       "  </thead>\n",
       "  <tbody>\n",
       "    <tr>\n",
       "      <th>0</th>\n",
       "      <td>-1</td>\n",
       "      <td>\"19/07/2008</td>\n",
       "      <td>12:32:00\"</td>\n",
       "    </tr>\n",
       "    <tr>\n",
       "      <th>1</th>\n",
       "      <td>1</td>\n",
       "      <td>\"19/07/2008</td>\n",
       "      <td>13:17:00\"</td>\n",
       "    </tr>\n",
       "    <tr>\n",
       "      <th>2</th>\n",
       "      <td>-1</td>\n",
       "      <td>\"19/07/2008</td>\n",
       "      <td>14:43:00\"</td>\n",
       "    </tr>\n",
       "    <tr>\n",
       "      <th>3</th>\n",
       "      <td>-1</td>\n",
       "      <td>\"19/07/2008</td>\n",
       "      <td>15:22:00\"</td>\n",
       "    </tr>\n",
       "    <tr>\n",
       "      <th>4</th>\n",
       "      <td>-1</td>\n",
       "      <td>\"19/07/2008</td>\n",
       "      <td>17:53:00\"</td>\n",
       "    </tr>\n",
       "  </tbody>\n",
       "</table>\n",
       "</div>"
      ],
      "text/plain": [
       "   result         date       time\n",
       "0      -1  \"19/07/2008  12:32:00\"\n",
       "1       1  \"19/07/2008  13:17:00\"\n",
       "2      -1  \"19/07/2008  14:43:00\"\n",
       "3      -1  \"19/07/2008  15:22:00\"\n",
       "4      -1  \"19/07/2008  17:53:00\""
      ]
     },
     "execution_count": 3,
     "metadata": {},
     "output_type": "execute_result"
    }
   ],
   "source": [
    "# Internet location of the data set and labels\n",
    "url = \"https://archive.ics.uci.edu/ml/machine-learning-databases/secom/secom.data\"\n",
    "labels_url = \"https://archive.ics.uci.edu/ml/machine-learning-databases/secom/secom_labels.data\"\n",
    "\n",
    "# Download sensor data and labels into a dataframe object, specify python engine for regex\n",
    "sensor_data = pd.read_csv(url, sep='\\s{1,}', engine='python')\n",
    "sensor_labels_data = pd.read_csv(labels_url, sep='\\s{1,}', engine='python')\n",
    "\n",
    "# Generate index-based column names for the sensor data set\n",
    "sensor_data.columns = list('s' + str(idx + 1) for idx in range(0, sensor_data.shape[1]))\n",
    "\n",
    "# Assign column names to the labels\n",
    "sensor_labels_data.columns = ['result', 'date', 'time']\n",
    "\n",
    "# Save the original data frame for future reference as we modify its contents\n",
    "sensor_data_orig = sensor_data\n",
    "\n",
    "# Confirm that data set and labels are loaded\n",
    "print('Sensor data set:')\n",
    "sensor_data.shape\n",
    "sensor_data.head()\n",
    "\n",
    "print('Sensor labels:')\n",
    "sensor_labels_data.shape\n",
    "sensor_labels_data.head()"
   ]
  },
  {
   "cell_type": "markdown",
   "metadata": {},
   "source": [
    "Drop columns with more than 5% NaN:"
   ]
  },
  {
   "cell_type": "code",
   "execution_count": 4,
   "metadata": {},
   "outputs": [
    {
     "data": {
      "text/plain": [
       "(1566, 538)"
      ]
     },
     "execution_count": 4,
     "metadata": {},
     "output_type": "execute_result"
    }
   ],
   "source": [
    "# Count NaN's per column\n",
    "df_na = sensor_data.isna().sum()\n",
    "\n",
    "# Identify columns above cutoff of 5% NaN's\n",
    "nan_5_pct = df_na[df_na > 0.05 * sensor_data.shape[0]]\n",
    "\n",
    "# Drop columns with more than 5% NaN's\n",
    "sensor_data = sensor_data.drop(list(nan_5_pct.index), axis=1)\n",
    "sensor_data.shape"
   ]
  },
  {
   "cell_type": "markdown",
   "metadata": {},
   "source": [
    "Impute fields with NaN in the remaining columns:"
   ]
  },
  {
   "cell_type": "code",
   "execution_count": 5,
   "metadata": {},
   "outputs": [],
   "source": [
    "# Impute and replace missing values using column median\n",
    "sensor_data = sensor_data.replace('?', \n",
    "                                  np.NaN).apply(lambda x: x.fillna(x.median()))"
   ]
  },
  {
   "cell_type": "markdown",
   "metadata": {},
   "source": [
    "Remove columns with zero variance:"
   ]
  },
  {
   "cell_type": "code",
   "execution_count": 6,
   "metadata": {},
   "outputs": [],
   "source": [
    "# Identify columns with zero variance\n",
    "zero_variance_cols = np.array(sensor_data.columns[sensor_data.var() == 0])\n",
    "\n",
    "# Drop columns with zero variance\n",
    "sensor_data = sensor_data.drop(zero_variance_cols, axis=1)"
   ]
  },
  {
   "cell_type": "markdown",
   "metadata": {},
   "source": [
    "Remove columns consisting of more than 20% zeros:"
   ]
  },
  {
   "cell_type": "code",
   "execution_count": 7,
   "metadata": {},
   "outputs": [
    {
     "data": {
      "text/plain": [
       "(1566, 401)"
      ]
     },
     "execution_count": 7,
     "metadata": {},
     "output_type": "execute_result"
    }
   ],
   "source": [
    "# Count zeroes per column\n",
    "zero_counts = sensor_data[sensor_data == 0].count(axis=0)\n",
    "\n",
    "# Identify columns above cutoff of 20% zero\n",
    "zero_20_pct = zero_counts[zero_counts > 0.2 * sensor_data.shape[0]]\n",
    "\n",
    "# Drop columns with more than 20% zeros\n",
    "sensor_data = sensor_data.drop(list(zero_20_pct.index), axis=1)\n",
    "sensor_data.shape"
   ]
  },
  {
   "cell_type": "markdown",
   "metadata": {},
   "source": [
    "Our data set is now almost ready for modeling. We deal with class imbalance and feature standardization after splitting the data into test and training sets.\n",
    "\n",
    "### Split data into training and test\n",
    "We now split the data into training and test sets, reserving 100 rows for testing and using the rest to train our models:"
   ]
  },
  {
   "cell_type": "code",
   "execution_count": 39,
   "metadata": {},
   "outputs": [],
   "source": [
    "# Split data into training and test\n",
    "X_train, X_test, y_train, y_test = \\\n",
    "    train_test_split(sensor_data, \n",
    "                     sensor_labels_data['result'], \n",
    "                     test_size = 0.0639, # 100 test rows\n",
    "                     random_state = 0)"
   ]
  },
  {
   "cell_type": "markdown",
   "metadata": {},
   "source": [
    "Now that the test data has been isolated, we can deal with class imbalance and feature standardization in the training data.\n",
    "\n",
    "### Perform oversampling to balance classes\n",
    "To address class imbalance we perform oversampling on the training data:"
   ]
  },
  {
   "cell_type": "code",
   "execution_count": 40,
   "metadata": {},
   "outputs": [
    {
     "data": {
      "text/plain": [
       "(2728, 401)"
      ]
     },
     "execution_count": 40,
     "metadata": {},
     "output_type": "execute_result"
    },
    {
     "data": {
      "text/html": [
       "<div>\n",
       "<style scoped>\n",
       "    .dataframe tbody tr th:only-of-type {\n",
       "        vertical-align: middle;\n",
       "    }\n",
       "\n",
       "    .dataframe tbody tr th {\n",
       "        vertical-align: top;\n",
       "    }\n",
       "\n",
       "    .dataframe thead th {\n",
       "        text-align: right;\n",
       "    }\n",
       "</style>\n",
       "<table border=\"1\" class=\"dataframe\">\n",
       "  <thead>\n",
       "    <tr style=\"text-align: right;\">\n",
       "      <th></th>\n",
       "      <th>s1</th>\n",
       "      <th>s2</th>\n",
       "      <th>s3</th>\n",
       "      <th>s4</th>\n",
       "      <th>s5</th>\n",
       "      <th>s7</th>\n",
       "      <th>s8</th>\n",
       "      <th>s9</th>\n",
       "      <th>s10</th>\n",
       "      <th>s11</th>\n",
       "      <th>...</th>\n",
       "      <th>s577</th>\n",
       "      <th>s578</th>\n",
       "      <th>s583</th>\n",
       "      <th>s584</th>\n",
       "      <th>s585</th>\n",
       "      <th>s586</th>\n",
       "      <th>s587</th>\n",
       "      <th>s588</th>\n",
       "      <th>s589</th>\n",
       "      <th>s590</th>\n",
       "    </tr>\n",
       "  </thead>\n",
       "  <tbody>\n",
       "    <tr>\n",
       "      <th>0</th>\n",
       "      <td>3060.550</td>\n",
       "      <td>2420.030</td>\n",
       "      <td>2217.000</td>\n",
       "      <td>1436.831</td>\n",
       "      <td>1.660</td>\n",
       "      <td>93.661</td>\n",
       "      <td>0.120</td>\n",
       "      <td>1.616</td>\n",
       "      <td>-0.006</td>\n",
       "      <td>-0.011</td>\n",
       "      <td>...</td>\n",
       "      <td>1.358</td>\n",
       "      <td>12.201</td>\n",
       "      <td>0.499</td>\n",
       "      <td>0.015</td>\n",
       "      <td>0.003</td>\n",
       "      <td>2.919</td>\n",
       "      <td>0.016</td>\n",
       "      <td>0.041</td>\n",
       "      <td>0.012</td>\n",
       "      <td>259.283</td>\n",
       "    </tr>\n",
       "    <tr>\n",
       "      <th>1</th>\n",
       "      <td>3075.320</td>\n",
       "      <td>2491.070</td>\n",
       "      <td>2185.100</td>\n",
       "      <td>1201.049</td>\n",
       "      <td>0.782</td>\n",
       "      <td>105.849</td>\n",
       "      <td>0.121</td>\n",
       "      <td>1.400</td>\n",
       "      <td>-0.015</td>\n",
       "      <td>-0.001</td>\n",
       "      <td>...</td>\n",
       "      <td>1.097</td>\n",
       "      <td>16.904</td>\n",
       "      <td>0.497</td>\n",
       "      <td>0.013</td>\n",
       "      <td>0.003</td>\n",
       "      <td>2.577</td>\n",
       "      <td>0.022</td>\n",
       "      <td>0.011</td>\n",
       "      <td>0.003</td>\n",
       "      <td>47.069</td>\n",
       "    </tr>\n",
       "    <tr>\n",
       "      <th>2</th>\n",
       "      <td>3093.120</td>\n",
       "      <td>2500.900</td>\n",
       "      <td>2219.767</td>\n",
       "      <td>2086.471</td>\n",
       "      <td>1.338</td>\n",
       "      <td>98.890</td>\n",
       "      <td>0.123</td>\n",
       "      <td>1.412</td>\n",
       "      <td>0.009</td>\n",
       "      <td>-0.011</td>\n",
       "      <td>...</td>\n",
       "      <td>1.195</td>\n",
       "      <td>18.395</td>\n",
       "      <td>0.504</td>\n",
       "      <td>0.013</td>\n",
       "      <td>0.004</td>\n",
       "      <td>2.634</td>\n",
       "      <td>0.029</td>\n",
       "      <td>0.031</td>\n",
       "      <td>0.011</td>\n",
       "      <td>106.558</td>\n",
       "    </tr>\n",
       "    <tr>\n",
       "      <th>3</th>\n",
       "      <td>3012.410</td>\n",
       "      <td>2481.590</td>\n",
       "      <td>2141.067</td>\n",
       "      <td>1236.521</td>\n",
       "      <td>0.970</td>\n",
       "      <td>98.334</td>\n",
       "      <td>0.124</td>\n",
       "      <td>1.548</td>\n",
       "      <td>0.015</td>\n",
       "      <td>-0.003</td>\n",
       "      <td>...</td>\n",
       "      <td>1.922</td>\n",
       "      <td>16.213</td>\n",
       "      <td>0.496</td>\n",
       "      <td>0.014</td>\n",
       "      <td>0.004</td>\n",
       "      <td>2.775</td>\n",
       "      <td>0.015</td>\n",
       "      <td>0.010</td>\n",
       "      <td>0.003</td>\n",
       "      <td>64.882</td>\n",
       "    </tr>\n",
       "    <tr>\n",
       "      <th>4</th>\n",
       "      <td>3057.650</td>\n",
       "      <td>2540.350</td>\n",
       "      <td>2203.456</td>\n",
       "      <td>1441.145</td>\n",
       "      <td>0.826</td>\n",
       "      <td>104.677</td>\n",
       "      <td>0.123</td>\n",
       "      <td>1.553</td>\n",
       "      <td>-0.022</td>\n",
       "      <td>0.001</td>\n",
       "      <td>...</td>\n",
       "      <td>1.701</td>\n",
       "      <td>24.310</td>\n",
       "      <td>0.501</td>\n",
       "      <td>0.014</td>\n",
       "      <td>0.004</td>\n",
       "      <td>2.867</td>\n",
       "      <td>0.042</td>\n",
       "      <td>0.010</td>\n",
       "      <td>0.003</td>\n",
       "      <td>23.385</td>\n",
       "    </tr>\n",
       "  </tbody>\n",
       "</table>\n",
       "<p>5 rows × 401 columns</p>\n",
       "</div>"
      ],
      "text/plain": [
       "        s1       s2       s3       s4    s5      s7    s8    s9    s10    s11  \\\n",
       "0 3060.550 2420.030 2217.000 1436.831 1.660  93.661 0.120 1.616 -0.006 -0.011   \n",
       "1 3075.320 2491.070 2185.100 1201.049 0.782 105.849 0.121 1.400 -0.015 -0.001   \n",
       "2 3093.120 2500.900 2219.767 2086.471 1.338  98.890 0.123 1.412  0.009 -0.011   \n",
       "3 3012.410 2481.590 2141.067 1236.521 0.970  98.334 0.124 1.548  0.015 -0.003   \n",
       "4 3057.650 2540.350 2203.456 1441.145 0.826 104.677 0.123 1.553 -0.022  0.001   \n",
       "\n",
       "   ...  s577   s578  s583  s584  s585  s586  s587  s588  s589    s590  \n",
       "0  ... 1.358 12.201 0.499 0.015 0.003 2.919 0.016 0.041 0.012 259.283  \n",
       "1  ... 1.097 16.904 0.497 0.013 0.003 2.577 0.022 0.011 0.003  47.069  \n",
       "2  ... 1.195 18.395 0.504 0.013 0.004 2.634 0.029 0.031 0.011 106.558  \n",
       "3  ... 1.922 16.213 0.496 0.014 0.004 2.775 0.015 0.010 0.003  64.882  \n",
       "4  ... 1.701 24.310 0.501 0.014 0.004 2.867 0.042 0.010 0.003  23.385  \n",
       "\n",
       "[5 rows x 401 columns]"
      ]
     },
     "execution_count": 40,
     "metadata": {},
     "output_type": "execute_result"
    }
   ],
   "source": [
    "# Instantiate SMOTE reference\n",
    "sm = SMOTE(random_state=1)\n",
    "\n",
    "# Apply oversampling to model data and label column\n",
    "X_resample, y_resample = sm.fit_resample(X_train, y_train)\n",
    "\n",
    "# Convert resampled model data to dataframe\n",
    "df_resample = pd.DataFrame(X_resample, columns=X_train.columns)\n",
    "\n",
    "# Display shape and initial rows\n",
    "df_resample.shape\n",
    "df_resample.head()\n",
    "\n",
    "# Convert labels array to dataframe\n",
    "df_labels_resample = pd.DataFrame(y_resample, columns=['result'])"
   ]
  },
  {
   "cell_type": "markdown",
   "metadata": {},
   "source": [
    "We confirm that the classes are balanced in the training set:"
   ]
  },
  {
   "cell_type": "code",
   "execution_count": 41,
   "metadata": {},
   "outputs": [
    {
     "data": {
      "text/plain": [
       "<matplotlib.axes._subplots.AxesSubplot at 0xe7e69a6b88>"
      ]
     },
     "execution_count": 41,
     "metadata": {},
     "output_type": "execute_result"
    },
    {
     "data": {
      "image/png": "[encoded data removed]",
      "text/plain": [
       "<Figure size 432x288 with 1 Axes>"
      ]
     },
     "metadata": {
      "needs_background": "light"
     },
     "output_type": "display_data"
    }
   ],
   "source": [
    "# Display plot of classes in the target variable\n",
    "sns.countplot(x='result', data=df_labels_resample)"
   ]
  },
  {
   "cell_type": "markdown",
   "metadata": {},
   "source": [
    "After oversampling, we now have equal numbers of positive and negative outcomes. We are ready to proceed to feature standardization.\n",
    "\n",
    "### Feature standardization\n",
    "We choose RobustScaler over StandardScaler due to the skewness of a significant number of features in the data set, as determined in Milestone 1. Because StandardScaler must compute the mean and standard deviation, it is susceptible to outliers. On the other hand, RobustScaler is based on percentiles and, hence, is less susceptible to outliers. We not apply RobustScaler to our training set:"
   ]
  },
  {
   "cell_type": "code",
   "execution_count": 42,
   "metadata": {},
   "outputs": [
    {
     "data": {
      "text/html": [
       "<div>\n",
       "<style scoped>\n",
       "    .dataframe tbody tr th:only-of-type {\n",
       "        vertical-align: middle;\n",
       "    }\n",
       "\n",
       "    .dataframe tbody tr th {\n",
       "        vertical-align: top;\n",
       "    }\n",
       "\n",
       "    .dataframe thead th {\n",
       "        text-align: right;\n",
       "    }\n",
       "</style>\n",
       "<table border=\"1\" class=\"dataframe\">\n",
       "  <thead>\n",
       "    <tr style=\"text-align: right;\">\n",
       "      <th></th>\n",
       "      <th>s1</th>\n",
       "      <th>s2</th>\n",
       "      <th>s3</th>\n",
       "      <th>s4</th>\n",
       "      <th>s5</th>\n",
       "      <th>s7</th>\n",
       "      <th>s8</th>\n",
       "      <th>s9</th>\n",
       "      <th>s10</th>\n",
       "      <th>s11</th>\n",
       "      <th>...</th>\n",
       "      <th>s577</th>\n",
       "      <th>s578</th>\n",
       "      <th>s583</th>\n",
       "      <th>s584</th>\n",
       "      <th>s585</th>\n",
       "      <th>s586</th>\n",
       "      <th>s587</th>\n",
       "      <th>s588</th>\n",
       "      <th>s589</th>\n",
       "      <th>s590</th>\n",
       "    </tr>\n",
       "  </thead>\n",
       "  <tbody>\n",
       "    <tr>\n",
       "      <th>0</th>\n",
       "      <td>0.639</td>\n",
       "      <td>-1.015</td>\n",
       "      <td>0.525</td>\n",
       "      <td>0.307</td>\n",
       "      <td>0.849</td>\n",
       "      <td>-1.482</td>\n",
       "      <td>-0.963</td>\n",
       "      <td>1.805</td>\n",
       "      <td>-0.281</td>\n",
       "      <td>-1.117</td>\n",
       "      <td>...</td>\n",
       "      <td>-0.579</td>\n",
       "      <td>-0.287</td>\n",
       "      <td>-0.408</td>\n",
       "      <td>0.136</td>\n",
       "      <td>-0.336</td>\n",
       "      <td>0.133</td>\n",
       "      <td>-0.379</td>\n",
       "      <td>2.533</td>\n",
       "      <td>2.280</td>\n",
       "      <td>2.588</td>\n",
       "    </tr>\n",
       "    <tr>\n",
       "      <th>1</th>\n",
       "      <td>0.802</td>\n",
       "      <td>-0.081</td>\n",
       "      <td>-0.426</td>\n",
       "      <td>-0.216</td>\n",
       "      <td>-1.262</td>\n",
       "      <td>0.876</td>\n",
       "      <td>-0.597</td>\n",
       "      <td>-0.763</td>\n",
       "      <td>-0.806</td>\n",
       "      <td>-0.143</td>\n",
       "      <td>...</td>\n",
       "      <td>-1.140</td>\n",
       "      <td>0.637</td>\n",
       "      <td>-0.744</td>\n",
       "      <td>-0.216</td>\n",
       "      <td>-0.336</td>\n",
       "      <td>-0.202</td>\n",
       "      <td>0.129</td>\n",
       "      <td>-0.549</td>\n",
       "      <td>-0.528</td>\n",
       "      <td>-0.410</td>\n",
       "    </tr>\n",
       "    <tr>\n",
       "      <th>2</th>\n",
       "      <td>1.000</td>\n",
       "      <td>0.049</td>\n",
       "      <td>0.608</td>\n",
       "      <td>1.749</td>\n",
       "      <td>0.074</td>\n",
       "      <td>-0.470</td>\n",
       "      <td>0.459</td>\n",
       "      <td>-0.626</td>\n",
       "      <td>0.615</td>\n",
       "      <td>-1.117</td>\n",
       "      <td>...</td>\n",
       "      <td>-0.930</td>\n",
       "      <td>0.930</td>\n",
       "      <td>0.792</td>\n",
       "      <td>-0.118</td>\n",
       "      <td>0.350</td>\n",
       "      <td>-0.146</td>\n",
       "      <td>0.651</td>\n",
       "      <td>1.567</td>\n",
       "      <td>1.790</td>\n",
       "      <td>0.431</td>\n",
       "    </tr>\n",
       "    <tr>\n",
       "      <th>3</th>\n",
       "      <td>0.105</td>\n",
       "      <td>-0.205</td>\n",
       "      <td>-1.739</td>\n",
       "      <td>-0.137</td>\n",
       "      <td>-0.811</td>\n",
       "      <td>-0.578</td>\n",
       "      <td>0.622</td>\n",
       "      <td>0.991</td>\n",
       "      <td>0.961</td>\n",
       "      <td>-0.391</td>\n",
       "      <td>...</td>\n",
       "      <td>0.633</td>\n",
       "      <td>0.501</td>\n",
       "      <td>-1.033</td>\n",
       "      <td>-0.021</td>\n",
       "      <td>0.350</td>\n",
       "      <td>-0.008</td>\n",
       "      <td>-0.387</td>\n",
       "      <td>-0.590</td>\n",
       "      <td>-0.561</td>\n",
       "      <td>-0.158</td>\n",
       "    </tr>\n",
       "    <tr>\n",
       "      <th>4</th>\n",
       "      <td>0.606</td>\n",
       "      <td>0.568</td>\n",
       "      <td>0.122</td>\n",
       "      <td>0.317</td>\n",
       "      <td>-1.156</td>\n",
       "      <td>0.650</td>\n",
       "      <td>0.378</td>\n",
       "      <td>1.050</td>\n",
       "      <td>-1.194</td>\n",
       "      <td>0.039</td>\n",
       "      <td>...</td>\n",
       "      <td>0.159</td>\n",
       "      <td>2.093</td>\n",
       "      <td>0.120</td>\n",
       "      <td>0.097</td>\n",
       "      <td>-0.140</td>\n",
       "      <td>0.082</td>\n",
       "      <td>1.614</td>\n",
       "      <td>-0.621</td>\n",
       "      <td>-0.593</td>\n",
       "      <td>-0.744</td>\n",
       "    </tr>\n",
       "  </tbody>\n",
       "</table>\n",
       "<p>5 rows × 401 columns</p>\n",
       "</div>"
      ],
      "text/plain": [
       "     s1     s2     s3     s4     s5     s7     s8     s9    s10    s11  ...  \\\n",
       "0 0.639 -1.015  0.525  0.307  0.849 -1.482 -0.963  1.805 -0.281 -1.117  ...   \n",
       "1 0.802 -0.081 -0.426 -0.216 -1.262  0.876 -0.597 -0.763 -0.806 -0.143  ...   \n",
       "2 1.000  0.049  0.608  1.749  0.074 -0.470  0.459 -0.626  0.615 -1.117  ...   \n",
       "3 0.105 -0.205 -1.739 -0.137 -0.811 -0.578  0.622  0.991  0.961 -0.391  ...   \n",
       "4 0.606  0.568  0.122  0.317 -1.156  0.650  0.378  1.050 -1.194  0.039  ...   \n",
       "\n",
       "    s577   s578   s583   s584   s585   s586   s587   s588   s589   s590  \n",
       "0 -0.579 -0.287 -0.408  0.136 -0.336  0.133 -0.379  2.533  2.280  2.588  \n",
       "1 -1.140  0.637 -0.744 -0.216 -0.336 -0.202  0.129 -0.549 -0.528 -0.410  \n",
       "2 -0.930  0.930  0.792 -0.118  0.350 -0.146  0.651  1.567  1.790  0.431  \n",
       "3  0.633  0.501 -1.033 -0.021  0.350 -0.008 -0.387 -0.590 -0.561 -0.158  \n",
       "4  0.159  2.093  0.120  0.097 -0.140  0.082  1.614 -0.621 -0.593 -0.744  \n",
       "\n",
       "[5 rows x 401 columns]"
      ]
     },
     "execution_count": 42,
     "metadata": {},
     "output_type": "execute_result"
    }
   ],
   "source": [
    "# Scale data\n",
    "scaler = RobustScaler()\n",
    "X_resample = pd.DataFrame(scaler.fit_transform(df_resample), \n",
    "                          columns=df_resample.columns)\n",
    "\n",
    "# Display scaled data set\n",
    "X_resample.head()"
   ]
  },
  {
   "cell_type": "markdown",
   "metadata": {},
   "source": [
    "We now turn to our results from Milestone 1 to select the features for our models.\n",
    "\n",
    "### Feature selection\n",
    "In Milestone 1, we applied four different methods to select the best features from our large set of features. Since stepwise selection produced the features with the most correlation with the other methods, we will go with the twenty best features chosen by this method:\n",
    "\n",
    "1. s22\n",
    "1. s34\n",
    "1. s65\n",
    "1. s104\n",
    "1. s125\n",
    "1. s130\n",
    "1. s144\n",
    "1. s189\n",
    "1. s313\n",
    "1. s438\n",
    "\n",
    "Now that our training data set has been resampled and standardized, we are ready to proceed to modeling.\n",
    "\n",
    "## 2. Build decision tree model\n",
    "In this section, we build a decision tree model to detect faulty products. Using the gini coefficient, we begin by identifying the optimal value for the max_depth hyperparameter:"
   ]
  },
  {
   "cell_type": "code",
   "execution_count": 43,
   "metadata": {},
   "outputs": [
    {
     "data": {
      "text/plain": [
       "GridSearchCV(cv=None, error_score=nan,\n",
       "             estimator=DecisionTreeClassifier(ccp_alpha=0.0, class_weight=None,\n",
       "                                              criterion='gini', max_depth=None,\n",
       "                                              max_features=None,\n",
       "                                              max_leaf_nodes=None,\n",
       "                                              min_impurity_decrease=0.0,\n",
       "                                              min_impurity_split=None,\n",
       "                                              min_samples_leaf=1,\n",
       "                                              min_samples_split=2,\n",
       "                                              min_weight_fraction_leaf=0.0,\n",
       "                                              presort='deprecated',\n",
       "                                              random_state=0, splitter='best'),\n",
       "             iid='deprecated', n_jobs=None,\n",
       "             param_grid={'max_depth': array([3, 4, 5, 6])},\n",
       "             pre_dispatch='2*n_jobs', refit='AUC', return_train_score=False,\n",
       "             scoring={'AUC': 'roc_auc'}, verbose=0)"
      ]
     },
     "execution_count": 43,
     "metadata": {},
     "output_type": "execute_result"
    },
    {
     "name": "stdout",
     "output_type": "stream",
     "text": [
      "Optimal max depth:  6\n"
     ]
    }
   ],
   "source": [
    "# Range of values to test (both methods)\n",
    "param_grid = {'max_depth': np.arange(3, 7)}\n",
    "\n",
    "# Metrics to prioritize\n",
    "scoring = {'AUC': 'roc_auc'}\n",
    "\n",
    "# Search trees under specified range of values\n",
    "tree_dt = GridSearchCV(DecisionTreeClassifier(criterion = 'gini', \n",
    "                                              random_state=0), \n",
    "                       param_grid,\n",
    "                       refit='AUC',\n",
    "                       scoring=scoring)\n",
    "\n",
    "# Fit model under optimal parameters\n",
    "tree_dt.fit(X_resample, y_resample)\n",
    "tree_pred_dt = tree_dt.predict(X_test)\n",
    "tree_perf_dt = roc_auc_score(y_test, tree_pred_dt)\n",
    "\n",
    "# Display optimal parameters\n",
    "print('Optimal max depth: ', tree_dt.best_params_['max_depth'])"
   ]
  },
  {
   "cell_type": "markdown",
   "metadata": {},
   "source": [
    "We now build our model using the optimal max_depth of 6 and display the confusion matrix, accuracy metrics, and ROC plot:"
   ]
  },
  {
   "cell_type": "code",
   "execution_count": 44,
   "metadata": {},
   "outputs": [
    {
     "data": {
      "text/plain": [
       "DecisionTreeClassifier(ccp_alpha=0.0, class_weight=None, criterion='gini',\n",
       "                       max_depth=6, max_features=None, max_leaf_nodes=None,\n",
       "                       min_impurity_decrease=0.0, min_impurity_split=None,\n",
       "                       min_samples_leaf=1, min_samples_split=2,\n",
       "                       min_weight_fraction_leaf=0.0, presort='deprecated',\n",
       "                       random_state=0, splitter='best')"
      ]
     },
     "execution_count": 44,
     "metadata": {},
     "output_type": "execute_result"
    },
    {
     "name": "stdout",
     "output_type": "stream",
     "text": [
      "Max depth: 6\n"
     ]
    },
    {
     "data": {
      "text/plain": [
       "array([[10, 88],\n",
       "       [ 0,  3]], dtype=int64)"
      ]
     },
     "execution_count": 44,
     "metadata": {},
     "output_type": "execute_result"
    },
    {
     "name": "stdout",
     "output_type": "stream",
     "text": [
      "              precision    recall  f1-score   support\n",
      "\n",
      "          -1       1.00      0.10      0.19        98\n",
      "           1       0.03      1.00      0.06         3\n",
      "\n",
      "    accuracy                           0.13       101\n",
      "   macro avg       0.52      0.55      0.12       101\n",
      "weighted avg       0.97      0.13      0.18       101\n",
      "\n"
     ]
    },
    {
     "data": {
      "text/plain": [
       "Text(0.5, 1.0, 'Receiver Operating Characteristic')"
      ]
     },
     "execution_count": 44,
     "metadata": {},
     "output_type": "execute_result"
    },
    {
     "data": {
      "text/plain": [
       "[<matplotlib.lines.Line2D at 0xe7ecf169c8>]"
      ]
     },
     "execution_count": 44,
     "metadata": {},
     "output_type": "execute_result"
    },
    {
     "data": {
      "text/plain": [
       "<matplotlib.legend.Legend at 0xe7ecf16948>"
      ]
     },
     "execution_count": 44,
     "metadata": {},
     "output_type": "execute_result"
    },
    {
     "data": {
      "text/plain": [
       "[<matplotlib.lines.Line2D at 0xe7e6a16f08>]"
      ]
     },
     "execution_count": 44,
     "metadata": {},
     "output_type": "execute_result"
    },
    {
     "data": {
      "text/plain": [
       "(0, 1)"
      ]
     },
     "execution_count": 44,
     "metadata": {},
     "output_type": "execute_result"
    },
    {
     "data": {
      "text/plain": [
       "(0, 1)"
      ]
     },
     "execution_count": 44,
     "metadata": {},
     "output_type": "execute_result"
    },
    {
     "data": {
      "text/plain": [
       "Text(0, 0.5, 'True Positive Rate')"
      ]
     },
     "execution_count": 44,
     "metadata": {},
     "output_type": "execute_result"
    },
    {
     "data": {
      "text/plain": [
       "Text(0.5, 0, 'False Positive Rate')"
      ]
     },
     "execution_count": 44,
     "metadata": {},
     "output_type": "execute_result"
    },
    {
     "data": {
      "image/png": "[encoded data removed]",
      "text/plain": [
       "<Figure size 432x288 with 1 Axes>"
      ]
     },
     "metadata": {
      "needs_background": "light"
     },
     "output_type": "display_data"
    },
    {
     "name": "stdout",
     "output_type": "stream",
     "text": [
      "Area under the ROC curve (AUC): 0.5510204081632653\n"
     ]
    }
   ],
   "source": [
    "# Construct decision tree classifier\n",
    "dt_clf = DecisionTreeClassifier(criterion = 'gini', max_depth = 6, \n",
    "                                random_state=0)\n",
    "dt_clf.fit(X_resample, y_resample)\n",
    "\n",
    "# Display tree depth\n",
    "print('Max depth:', dt_clf.tree_.max_depth)\n",
    "\n",
    "# Predict based on test data\n",
    "y_pred_test_dt = dt_clf.predict(X_test)\n",
    "\n",
    "# Display confusion matrix\n",
    "confusion_matrix(y_test, y_pred_test_dt)\n",
    "\n",
    "# Display performance metrics\n",
    "print(classification_report(y_test, y_pred_test_dt))\n",
    "\n",
    "# Compute ROC metrics\n",
    "fpr, tpr, thresholds = metrics.roc_curve(y_test, y_pred_test_dt)\n",
    "roc_auc = metrics.auc(fpr, tpr)\n",
    "\n",
    "# Display ROC plot\n",
    "plt.title('Receiver Operating Characteristic')\n",
    "plt.plot(fpr, tpr, 'b', label = 'AUC = %0.2f' % roc_auc)\n",
    "plt.legend(loc = 'lower right')\n",
    "plt.plot([0, 1], [0, 1],'r--')\n",
    "plt.xlim([0, 1])\n",
    "plt.ylim([0, 1])\n",
    "plt.ylabel('True Positive Rate')\n",
    "plt.xlabel('False Positive Rate')\n",
    "plt.show()\n",
    "\n",
    "# Display ROC score\n",
    "print('Area under the ROC curve (AUC):', \n",
    "     roc_auc_score(y_test, y_pred_test_dt))"
   ]
  },
  {
   "cell_type": "markdown",
   "metadata": {},
   "source": [
    "The performance of the model is acceptable. All true positives were detected (3 of 3), though quite a few true negatives (over half) were incorrectly flagged as positives (25 out of 47).\n",
    "\n",
    "## 3. Build ensemble model\n",
    "In this section, we build an ensemble model to detect faulty products using a random forest to reduce the possibility of overfitting. We begin by finding the optimal values of the n_estimators and max_depth hyperparameters for our random forest:"
   ]
  },
  {
   "cell_type": "code",
   "execution_count": 17,
   "metadata": {},
   "outputs": [
    {
     "data": {
      "text/plain": [
       "GridSearchCV(cv=None, error_score=nan,\n",
       "             estimator=RandomForestClassifier(bootstrap=True, ccp_alpha=0.0,\n",
       "                                              class_weight=None,\n",
       "                                              criterion='gini', max_depth=None,\n",
       "                                              max_features='auto',\n",
       "                                              max_leaf_nodes=None,\n",
       "                                              max_samples=None,\n",
       "                                              min_impurity_decrease=0.0,\n",
       "                                              min_impurity_split=None,\n",
       "                                              min_samples_leaf=1,\n",
       "                                              min_samples_split=2,\n",
       "                                              min_weight_fraction_leaf=0.0,\n",
       "                                              n_estimators=100, n_jobs=None,\n",
       "                                              oob_score=False, random_state=0,\n",
       "                                              verbose=0, warm_start=False),\n",
       "             iid='deprecated', n_jobs=None,\n",
       "             param_grid={'max_depth': array([4, 8]),\n",
       "                         'n_estimators': array([20, 40, 60, 80])},\n",
       "             pre_dispatch='2*n_jobs', refit=True, return_train_score=False,\n",
       "             scoring=None, verbose=0)"
      ]
     },
     "execution_count": 17,
     "metadata": {},
     "output_type": "execute_result"
    },
    {
     "name": "stdout",
     "output_type": "stream",
     "text": [
      "Optimal number of estimators:  60\n",
      "Optimal max depth:  8\n"
     ]
    }
   ],
   "source": [
    "# Range of values to test (both methods)\n",
    "param_grid = { 'n_estimators': np.arange(20, 100, 20),\n",
    "               'max_depth': np.arange(4, 12, 4)}\n",
    "\n",
    "# Search trees under specified range of values\n",
    "gs = GridSearchCV(RandomForestClassifier(verbose=0, random_state=0), \n",
    "                  param_grid)\n",
    "\n",
    "# Fit model under optimal parameters\n",
    "gs.fit(X_resample, y_resample)\n",
    "gs_pred = gs.predict(X_test)\n",
    "gs_perf = roc_auc_score(y_test, gs_pred)\n",
    "\n",
    "# Display optimal parameters\n",
    "print('Optimal number of estimators: ', gs.best_params_['n_estimators'])\n",
    "print('Optimal max depth: ', gs.best_params_['max_depth'])"
   ]
  },
  {
   "cell_type": "code",
   "execution_count": 20,
   "metadata": {},
   "outputs": [
    {
     "data": {
      "text/plain": [
       "RandomForestClassifier(bootstrap=True, ccp_alpha=0.0, class_weight=None,\n",
       "                       criterion='gini', max_depth=8, max_features='auto',\n",
       "                       max_leaf_nodes=None, max_samples=None,\n",
       "                       min_impurity_decrease=0.0, min_impurity_split=None,\n",
       "                       min_samples_leaf=1, min_samples_split=2,\n",
       "                       min_weight_fraction_leaf=0.0, n_estimators=60,\n",
       "                       n_jobs=None, oob_score=False, random_state=0, verbose=0,\n",
       "                       warm_start=False)"
      ]
     },
     "execution_count": 20,
     "metadata": {},
     "output_type": "execute_result"
    },
    {
     "name": "stdout",
     "output_type": "stream",
     "text": [
      "[0.001 0.001 0.001 0.002 0.002 0.002 0.001 0.002 0.001 0.001 0.001 0.001\n",
      " 0.002 0.002 0.002 0.001 0.001 0.005 0.002 0.002 0.001 0.003 0.    0.001\n",
      " 0.001 0.001 0.016 0.001 0.001 0.003 0.005 0.015 0.001 0.001 0.002 0.002\n",
      " 0.001 0.001 0.014 0.002 0.001 0.001 0.002 0.001 0.003 0.002 0.001 0.\n",
      " 0.001 0.001 0.004 0.003 0.002 0.013 0.039 0.001 0.001 0.001 0.004 0.005\n",
      " 0.002 0.002 0.001 0.001 0.003 0.002 0.002 0.002 0.001 0.001 0.003 0.003\n",
      " 0.001 0.001 0.001 0.001 0.001 0.001 0.003 0.002 0.002 0.005 0.001 0.001\n",
      " 0.002 0.003 0.001 0.005 0.001 0.025 0.002 0.002 0.001 0.001 0.001 0.001\n",
      " 0.004 0.005 0.004 0.    0.001 0.    0.01  0.003 0.006 0.013 0.004 0.02\n",
      " 0.008 0.    0.005 0.02  0.006 0.002 0.004 0.001 0.002 0.001 0.001 0.001\n",
      " 0.003 0.001 0.001 0.003 0.    0.001 0.002 0.002 0.001 0.001 0.002 0.015\n",
      " 0.002 0.001 0.002 0.001 0.002 0.001 0.002 0.002 0.003 0.001 0.001 0.002\n",
      " 0.001 0.001 0.002 0.001 0.003 0.001 0.001 0.002 0.001 0.002 0.001 0.004\n",
      " 0.002 0.005 0.003 0.001 0.001 0.003 0.004 0.001 0.002 0.002 0.003 0.002\n",
      " 0.003 0.001 0.005 0.001 0.001 0.007 0.001 0.001 0.003 0.003 0.001 0.006\n",
      " 0.001 0.001 0.003 0.001 0.001 0.003 0.002 0.002 0.001 0.    0.002 0.002\n",
      " 0.001 0.001 0.002 0.001 0.003 0.    0.001 0.    0.005 0.001 0.001 0.001\n",
      " 0.002 0.001 0.002 0.003 0.002 0.004 0.001 0.001 0.006 0.001 0.007 0.001\n",
      " 0.001 0.001 0.001 0.003 0.004 0.001 0.001 0.005 0.002 0.003 0.006 0.002\n",
      " 0.003 0.004 0.001 0.001 0.002 0.002 0.001 0.001 0.    0.002 0.001 0.001\n",
      " 0.001 0.003 0.001 0.001 0.005 0.002 0.002 0.005 0.001 0.001 0.002 0.004\n",
      " 0.001 0.001 0.003 0.003 0.003 0.003 0.003 0.002 0.002 0.    0.012 0.004\n",
      " 0.002 0.002 0.001 0.001 0.005 0.001 0.001 0.001 0.002 0.002 0.001 0.001\n",
      " 0.002 0.001 0.    0.001 0.002 0.001 0.    0.001 0.001 0.012 0.001 0.006\n",
      " 0.001 0.007 0.001 0.007 0.004 0.001 0.002 0.002 0.001 0.002 0.002 0.001\n",
      " 0.002 0.    0.    0.006 0.001 0.001 0.    0.002 0.001 0.014 0.001 0.001\n",
      " 0.004 0.003 0.003 0.005 0.001 0.008 0.002 0.002 0.001 0.001 0.004 0.001\n",
      " 0.001 0.002 0.    0.001 0.    0.002 0.003 0.001 0.001 0.003 0.001 0.003\n",
      " 0.003 0.003 0.001 0.002 0.007 0.001 0.006 0.002 0.003 0.003 0.001 0.001\n",
      " 0.    0.001 0.001 0.012 0.002 0.001 0.002 0.001 0.002 0.002 0.002 0.001\n",
      " 0.002 0.001 0.    0.001 0.001 0.001 0.012 0.001 0.003 0.    0.001 0.001\n",
      " 0.004 0.001 0.001 0.004 0.001 0.004 0.001 0.    0.002 0.001 0.002 0.002\n",
      " 0.005 0.002 0.003 0.001 0.001 0.001 0.001 0.001 0.002 0.003 0.002 0.001\n",
      " 0.002 0.001 0.002 0.001 0.   ]\n"
     ]
    },
    {
     "data": {
      "text/plain": [
       "array([[36, 11],\n",
       "       [ 2,  1]], dtype=int64)"
      ]
     },
     "execution_count": 20,
     "metadata": {},
     "output_type": "execute_result"
    },
    {
     "name": "stdout",
     "output_type": "stream",
     "text": [
      "              precision    recall  f1-score   support\n",
      "\n",
      "          -1       0.95      0.77      0.85        47\n",
      "           1       0.08      0.33      0.13         3\n",
      "\n",
      "    accuracy                           0.74        50\n",
      "   macro avg       0.52      0.55      0.49        50\n",
      "weighted avg       0.90      0.74      0.80        50\n",
      "\n"
     ]
    },
    {
     "data": {
      "text/plain": [
       "Text(0.5, 1.0, 'Receiver Operating Characteristic')"
      ]
     },
     "execution_count": 20,
     "metadata": {},
     "output_type": "execute_result"
    },
    {
     "data": {
      "text/plain": [
       "[<matplotlib.lines.Line2D at 0xe7e50cbf08>]"
      ]
     },
     "execution_count": 20,
     "metadata": {},
     "output_type": "execute_result"
    },
    {
     "data": {
      "text/plain": [
       "<matplotlib.legend.Legend at 0xe7e50a87c8>"
      ]
     },
     "execution_count": 20,
     "metadata": {},
     "output_type": "execute_result"
    },
    {
     "data": {
      "text/plain": [
       "[<matplotlib.lines.Line2D at 0xe7e50dc888>]"
      ]
     },
     "execution_count": 20,
     "metadata": {},
     "output_type": "execute_result"
    },
    {
     "data": {
      "text/plain": [
       "(0, 1)"
      ]
     },
     "execution_count": 20,
     "metadata": {},
     "output_type": "execute_result"
    },
    {
     "data": {
      "text/plain": [
       "(0, 1)"
      ]
     },
     "execution_count": 20,
     "metadata": {},
     "output_type": "execute_result"
    },
    {
     "data": {
      "text/plain": [
       "Text(0, 0.5, 'True Positive Rate')"
      ]
     },
     "execution_count": 20,
     "metadata": {},
     "output_type": "execute_result"
    },
    {
     "data": {
      "text/plain": [
       "Text(0.5, 0, 'False Positive Rate')"
      ]
     },
     "execution_count": 20,
     "metadata": {},
     "output_type": "execute_result"
    },
    {
     "data": {
      "image/png": "[encoded data removed]",
      "text/plain": [
       "<Figure size 432x288 with 1 Axes>"
      ]
     },
     "metadata": {
      "needs_background": "light"
     },
     "output_type": "display_data"
    },
    {
     "name": "stdout",
     "output_type": "stream",
     "text": [
      "Area under the ROC curve (AUC): 0.549645390070922\n"
     ]
    }
   ],
   "source": [
    "# Build random forest model\n",
    "clf = RandomForestClassifier(n_estimators=60, max_depth=8, random_state=0, verbose=0)\n",
    "clf.fit(X_resample, y_resample)\n",
    "\n",
    "# Generate predictions\n",
    "pred_rf = clf.predict(X_test)\n",
    "\n",
    "# Display feature importance per feature\n",
    "print(clf.feature_importances_)\n",
    "\n",
    "# Display confusion matrix\n",
    "confusion_matrix(y_test, pred_rf)\n",
    "\n",
    "# Display performance metrics\n",
    "print(classification_report(y_test, pred_rf))\n",
    "\n",
    "# Display ROC plot\n",
    "plt.title('Receiver Operating Characteristic')\n",
    "plt.plot(fpr, tpr, 'b', label = 'AUC = %0.2f' % roc_auc)\n",
    "plt.legend(loc = 'lower right')\n",
    "plt.plot([0, 1], [0, 1],'r--')\n",
    "plt.xlim([0, 1])\n",
    "plt.ylim([0, 1])\n",
    "plt.ylabel('True Positive Rate')\n",
    "plt.xlabel('False Positive Rate')\n",
    "plt.show()\n",
    "\n",
    "# Display ROC score\n",
    "print('Area under the ROC curve (AUC):', roc_auc_score(y_test, pred_rf))"
   ]
  },
  {
   "cell_type": "markdown",
   "metadata": {},
   "source": [
    "Now build a random forest model using the subset of ten features chosen by forward selection (Milestone 1):"
   ]
  },
  {
   "cell_type": "code",
   "execution_count": 34,
   "metadata": {},
   "outputs": [
    {
     "data": {
      "text/plain": [
       "GridSearchCV(cv=None, error_score=nan,\n",
       "             estimator=RandomForestClassifier(bootstrap=True, ccp_alpha=0.0,\n",
       "                                              class_weight=None,\n",
       "                                              criterion='gini', max_depth=None,\n",
       "                                              max_features='auto',\n",
       "                                              max_leaf_nodes=None,\n",
       "                                              max_samples=None,\n",
       "                                              min_impurity_decrease=0.0,\n",
       "                                              min_impurity_split=None,\n",
       "                                              min_samples_leaf=1,\n",
       "                                              min_samples_split=2,\n",
       "                                              min_weight_fraction_leaf=0.0,\n",
       "                                              n_estimators=100, n_jobs=None,\n",
       "                                              oob_score=False, random_state=1,\n",
       "                                              verbose=0, warm_start=False),\n",
       "             iid='deprecated', n_jobs=None,\n",
       "             param_grid={'max_depth': array([4, 8]),\n",
       "                         'n_estimators': array([20, 40, 60, 80])},\n",
       "             pre_dispatch='2*n_jobs', refit=True, return_train_score=False,\n",
       "             scoring=None, verbose=0)"
      ]
     },
     "execution_count": 34,
     "metadata": {},
     "output_type": "execute_result"
    },
    {
     "name": "stdout",
     "output_type": "stream",
     "text": [
      "Optimal number of estimators:  80\n",
      "Optimal max depth:  8\n"
     ]
    }
   ],
   "source": [
    "# Features selected in Milestone 1\n",
    "selected_features = ['s22', 's34', 's65', 's104', 's125', 's130', 's144', 's189', 's313', 's438']\n",
    "\n",
    "# Range of values to test (both methods)\n",
    "param_grid = { 'n_estimators': np.arange(20, 100, 20),\n",
    "               'max_depth': np.arange(4, 12, 4)}\n",
    "\n",
    "# Search trees under specified range of values\n",
    "gs = GridSearchCV(RandomForestClassifier(verbose=0, random_state=1), \n",
    "                  param_grid)\n",
    "\n",
    "# Fit model under optimal parameters\n",
    "gs.fit(X_resample[selected_features], y_resample)\n",
    "gs_pred = gs.predict(X_test[selected_features])\n",
    "gs_perf = roc_auc_score(y_test, gs_pred)\n",
    "\n",
    "# Display optimal parameters\n",
    "print('Optimal number of estimators: ', gs.best_params_['n_estimators'])\n",
    "print('Optimal max depth: ', gs.best_params_['max_depth'])"
   ]
  },
  {
   "cell_type": "code",
   "execution_count": 38,
   "metadata": {},
   "outputs": [
    {
     "data": {
      "text/plain": [
       "RandomForestClassifier(bootstrap=True, ccp_alpha=0.0, class_weight=None,\n",
       "                       criterion='gini', max_depth=8, max_features='auto',\n",
       "                       max_leaf_nodes=None, max_samples=None,\n",
       "                       min_impurity_decrease=0.0, min_impurity_split=None,\n",
       "                       min_samples_leaf=1, min_samples_split=2,\n",
       "                       min_weight_fraction_leaf=0.0, n_estimators=80,\n",
       "                       n_jobs=None, oob_score=False, random_state=1, verbose=0,\n",
       "                       warm_start=False)"
      ]
     },
     "execution_count": 38,
     "metadata": {},
     "output_type": "execute_result"
    },
    {
     "name": "stdout",
     "output_type": "stream",
     "text": [
      "[0.081 0.162 0.082 0.17  0.095 0.115 0.083 0.096 0.063 0.053]\n"
     ]
    },
    {
     "data": {
      "text/plain": [
       "array([[21, 26],\n",
       "       [ 1,  2]], dtype=int64)"
      ]
     },
     "execution_count": 38,
     "metadata": {},
     "output_type": "execute_result"
    },
    {
     "name": "stdout",
     "output_type": "stream",
     "text": [
      "              precision    recall  f1-score   support\n",
      "\n",
      "          -1       0.95      0.45      0.61        47\n",
      "           1       0.07      0.67      0.13         3\n",
      "\n",
      "    accuracy                           0.46        50\n",
      "   macro avg       0.51      0.56      0.37        50\n",
      "weighted avg       0.90      0.46      0.58        50\n",
      "\n"
     ]
    },
    {
     "data": {
      "text/plain": [
       "Text(0.5, 1.0, 'Receiver Operating Characteristic')"
      ]
     },
     "execution_count": 38,
     "metadata": {},
     "output_type": "execute_result"
    },
    {
     "data": {
      "text/plain": [
       "[<matplotlib.lines.Line2D at 0xe7e6966648>]"
      ]
     },
     "execution_count": 38,
     "metadata": {},
     "output_type": "execute_result"
    },
    {
     "data": {
      "text/plain": [
       "<matplotlib.legend.Legend at 0xe7e696fb08>"
      ]
     },
     "execution_count": 38,
     "metadata": {},
     "output_type": "execute_result"
    },
    {
     "data": {
      "text/plain": [
       "[<matplotlib.lines.Line2D at 0xe7e696ffc8>]"
      ]
     },
     "execution_count": 38,
     "metadata": {},
     "output_type": "execute_result"
    },
    {
     "data": {
      "text/plain": [
       "(0, 1)"
      ]
     },
     "execution_count": 38,
     "metadata": {},
     "output_type": "execute_result"
    },
    {
     "data": {
      "text/plain": [
       "(0, 1)"
      ]
     },
     "execution_count": 38,
     "metadata": {},
     "output_type": "execute_result"
    },
    {
     "data": {
      "text/plain": [
       "Text(0, 0.5, 'True Positive Rate')"
      ]
     },
     "execution_count": 38,
     "metadata": {},
     "output_type": "execute_result"
    },
    {
     "data": {
      "text/plain": [
       "Text(0.5, 0, 'False Positive Rate')"
      ]
     },
     "execution_count": 38,
     "metadata": {},
     "output_type": "execute_result"
    },
    {
     "data": {
      "image/png": "[encoded data removed]",
      "text/plain": [
       "<Figure size 432x288 with 1 Axes>"
      ]
     },
     "metadata": {
      "needs_background": "light"
     },
     "output_type": "display_data"
    },
    {
     "name": "stdout",
     "output_type": "stream",
     "text": [
      "Area under the ROC curve (AUC): 0.5567375886524821\n"
     ]
    }
   ],
   "source": [
    "# Build random forest model\n",
    "clf = RandomForestClassifier(n_estimators=80, max_depth=8, random_state=1, verbose=0)\n",
    "clf.fit(X_resample[selected_features], y_resample)\n",
    "\n",
    "# Generate predictions\n",
    "pred_rf = clf.predict(X_test[selected_features])\n",
    "\n",
    "# Display feature importance per feature\n",
    "print(clf.feature_importances_)\n",
    "\n",
    "# Display confusion matrix\n",
    "confusion_matrix(y_test, pred_rf)\n",
    "\n",
    "# Display performance metrics\n",
    "print(classification_report(y_test, pred_rf))\n",
    "\n",
    "# Display ROC plot\n",
    "plt.title('Receiver Operating Characteristic')\n",
    "plt.plot(fpr, tpr, 'b', label = 'AUC = %0.2f' % roc_auc)\n",
    "plt.legend(loc = 'lower right')\n",
    "plt.plot([0, 1], [0, 1],'r--')\n",
    "plt.xlim([0, 1])\n",
    "plt.ylim([0, 1])\n",
    "plt.ylabel('True Positive Rate')\n",
    "plt.xlabel('False Positive Rate')\n",
    "plt.show()\n",
    "\n",
    "# Display ROC score\n",
    "print('Area under the ROC curve (AUC):', roc_auc_score(y_test, pred_rf))"
   ]
  },
  {
   "cell_type": "markdown",
   "metadata": {},
   "source": [
    "## 4. Build SVM model\n",
    "In this section, we build an SVM model to detect faulty products."
   ]
  },
  {
   "cell_type": "code",
   "execution_count": null,
   "metadata": {},
   "outputs": [],
   "source": []
  },
  {
   "cell_type": "markdown",
   "metadata": {},
   "source": [
    "## 5. Evaluate all three models\n",
    "In this section, we evaluate the three models we have created above."
   ]
  },
  {
   "cell_type": "code",
   "execution_count": null,
   "metadata": {},
   "outputs": [],
   "source": []
  },
  {
   "cell_type": "markdown",
   "metadata": {},
   "source": [
    "## 6. Conclusion\n",
    "In this section, we describe our findings."
   ]
  }
 ],
 "metadata": {
  "kernelspec": {
   "display_name": "Python 3",
   "language": "python",
   "name": "python3"
  },
  "language_info": {
   "codemirror_mode": {
    "name": "ipython",
    "version": 3
   },
   "file_extension": ".py",
   "mimetype": "text/x-python",
   "name": "python",
   "nbconvert_exporter": "python",
   "pygments_lexer": "ipython3",
   "version": "3.7.7"
  }
 },
 "nbformat": 4,
 "nbformat_minor": 2
}
