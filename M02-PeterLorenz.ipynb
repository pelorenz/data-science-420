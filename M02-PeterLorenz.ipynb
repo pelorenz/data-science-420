{
 "cells": [
  {
   "cell_type": "markdown",
   "metadata": {},
   "source": [
    "# Milestone 02\n",
    "# Peter Lorenz"
   ]
  },
  {
   "cell_type": "markdown",
   "metadata": {},
   "source": [
    "## 0. Preliminaries\n",
    "\n",
    "Import the required libraries:"
   ]
  },
  {
   "cell_type": "code",
   "execution_count": 1,
   "metadata": {},
   "outputs": [],
   "source": [
    "import sys\n",
    "import warnings\n",
    "\n",
    "warnings.simplefilter(action='ignore', category=FutureWarning)\n",
    "\n",
    "import matplotlib.pyplot as plt\n",
    "import numpy as np\n",
    "import pandas as pd\n",
    "import seaborn as sns\n",
    "\n",
    "from imblearn.over_sampling import SMOTE\n",
    "from sklearn import metrics\n",
    "from sklearn.ensemble import GradientBoostingClassifier\n",
    "from sklearn.ensemble import RandomForestClassifier\n",
    "from sklearn.metrics import classification_report\n",
    "from sklearn.metrics import confusion_matrix\n",
    "from sklearn.metrics import make_scorer\n",
    "from sklearn.metrics import precision_score\n",
    "from sklearn.metrics import recall_score\n",
    "from sklearn.metrics import roc_auc_score\n",
    "from sklearn.model_selection import GridSearchCV\n",
    "from sklearn.model_selection import train_test_split\n",
    "from sklearn.preprocessing import RobustScaler\n",
    "from sklearn.svm import SVC\n",
    "from sklearn.tree import DecisionTreeClassifier"
   ]
  },
  {
   "cell_type": "markdown",
   "metadata": {},
   "source": [
    "Set global options:"
   ]
  },
  {
   "cell_type": "code",
   "execution_count": 2,
   "metadata": {},
   "outputs": [],
   "source": [
    "# Display plots inline\n",
    "%matplotlib inline\n",
    "\n",
    "# Display multiple cell outputs\n",
    "from IPython.core.interactiveshell import InteractiveShell\n",
    "InteractiveShell.ast_node_interactivity = \"all\"\n",
    "\n",
    "# Suppress scientific notation\n",
    "np.set_printoptions(suppress=True)\n",
    "np.set_printoptions(precision=3)\n",
    "pd.set_option('display.float_format', lambda x: '%.3f' % x)\n",
    "\n",
    "# Do not truncate numpy arrays\n",
    "np.set_printoptions(threshold=sys.maxsize)"
   ]
  },
  {
   "cell_type": "markdown",
   "metadata": {},
   "source": [
    "Declare constants:"
   ]
  },
  {
   "cell_type": "code",
   "execution_count": 3,
   "metadata": {},
   "outputs": [],
   "source": [
    "CACHE_SIZE=2048"
   ]
  },
  {
   "cell_type": "markdown",
   "metadata": {},
   "source": [
    "Declare utility functions:"
   ]
  },
  {
   "cell_type": "code",
   "execution_count": 135,
   "metadata": {},
   "outputs": [],
   "source": [
    "# Evaluate SVC model with different values of C and full metrics report\n",
    "def eval_svc (X_train, y_train, X_test, y_test, C):\n",
    "    # Display value of C\n",
    "    print('C=' + str(C))\n",
    "    \n",
    "    # Build and fit SVC on original training and test sets without oversampling\n",
    "    svmc = SVC(C=C, kernel='linear', class_weight='balanced', cache_size=CACHE_SIZE)\n",
    "    svmc.fit(X_train, y_train)\n",
    "\n",
    "    # Get predictions\n",
    "    y_pred = svmc.predict(X_test)\n",
    "\n",
    "    # Display metrics\n",
    "    display_metrics(y_test, y_pred, show_plot=False)\n",
    "    print('\\n')\n",
    "\n",
    "# Search decision tree max_depth\n",
    "def search_max_depth(value_range, X_train, y_train, class_weight=None):\n",
    "    # Range of values to test (both methods)\n",
    "    param_grid = {'max_depth': value_range}\n",
    "\n",
    "    # Search trees under specified range of values\n",
    "    tree_dt = GridSearchCV(DecisionTreeClassifier(criterion = 'gini', \n",
    "                                                  random_state=0,\n",
    "                                                  class_weight=class_weight), \n",
    "                           param_grid,\n",
    "                           refit=True)\n",
    "\n",
    "    # Fit model under optimal parameters\n",
    "    tree_dt.fit(X_train, y_train)\n",
    "\n",
    "    # Return optimal max_depth\n",
    "    return tree_dt.best_params_['max_depth']\n",
    "\n",
    "# Output performance metrics\n",
    "def display_metrics(y_test, y_pred, show_plot=True):\n",
    "    # Display confusion matrix\n",
    "    print(confusion_matrix(y_test, y_pred))\n",
    "\n",
    "    # Display performance metrics\n",
    "    print(classification_report(y_test, y_pred))\n",
    "\n",
    "    # Compute ROC metrics\n",
    "    fpr, tpr, thresholds = metrics.roc_curve(y_test, y_pred)\n",
    "    roc_auc = metrics.auc(fpr, tpr)\n",
    "\n",
    "    # Display ROC plot\n",
    "    if show_plot:\n",
    "        plt.title('Receiver Operating Characteristic')\n",
    "        plt.plot(fpr, tpr, 'b', label = 'AUC = %0.2f' % roc_auc)\n",
    "        plt.legend(loc = 'lower right')\n",
    "        plt.plot([0, 1], [0, 1],'r--')\n",
    "        plt.xlim([0, 1])\n",
    "        plt.ylim([0, 1])\n",
    "        plt.ylabel('True Positive Rate')\n",
    "        plt.xlabel('False Positive Rate')\n",
    "        plt.show()\n",
    "\n",
    "    # Display ROC score\n",
    "    print('Area under the ROC curve (AUC):', roc_auc_score(y_test, y_pred))"
   ]
  },
  {
   "cell_type": "markdown",
   "metadata": {},
   "source": [
    "## 1. Split data from Milestone 1 into training and testing\n",
    "In this section, we split the prepared data from Milestone 1 into training and test data sets. But first we must reload and clean this data following our procedure in Milestone 1.\n",
    "\n",
    "### Read and clean data (from Milestone 1)\n",
    "Here we follow the steps taken in Milestone 1 to prepare our data for modeling. Commentary is kept to a minimum as these matters have already been discussed in Milestone 1. Also, cell output is kept to the minimum necessary to confirm that the code is functioning as expected."
   ]
  },
  {
   "cell_type": "code",
   "execution_count": 5,
   "metadata": {},
   "outputs": [
    {
     "name": "stdout",
     "output_type": "stream",
     "text": [
      "Sensor data set:\n"
     ]
    },
    {
     "data": {
      "text/plain": [
       "(1566, 590)"
      ]
     },
     "execution_count": 5,
     "metadata": {},
     "output_type": "execute_result"
    },
    {
     "data": {
      "text/html": [
       "<div>\n",
       "<style scoped>\n",
       "    .dataframe tbody tr th:only-of-type {\n",
       "        vertical-align: middle;\n",
       "    }\n",
       "\n",
       "    .dataframe tbody tr th {\n",
       "        vertical-align: top;\n",
       "    }\n",
       "\n",
       "    .dataframe thead th {\n",
       "        text-align: right;\n",
       "    }\n",
       "</style>\n",
       "<table border=\"1\" class=\"dataframe\">\n",
       "  <thead>\n",
       "    <tr style=\"text-align: right;\">\n",
       "      <th></th>\n",
       "      <th>s1</th>\n",
       "      <th>s2</th>\n",
       "      <th>s3</th>\n",
       "      <th>s4</th>\n",
       "      <th>s5</th>\n",
       "      <th>s6</th>\n",
       "      <th>s7</th>\n",
       "      <th>s8</th>\n",
       "      <th>s9</th>\n",
       "      <th>s10</th>\n",
       "      <th>...</th>\n",
       "      <th>s581</th>\n",
       "      <th>s582</th>\n",
       "      <th>s583</th>\n",
       "      <th>s584</th>\n",
       "      <th>s585</th>\n",
       "      <th>s586</th>\n",
       "      <th>s587</th>\n",
       "      <th>s588</th>\n",
       "      <th>s589</th>\n",
       "      <th>s590</th>\n",
       "    </tr>\n",
       "  </thead>\n",
       "  <tbody>\n",
       "    <tr>\n",
       "      <th>0</th>\n",
       "      <td>3095.780</td>\n",
       "      <td>2465.140</td>\n",
       "      <td>2230.422</td>\n",
       "      <td>1463.661</td>\n",
       "      <td>0.829</td>\n",
       "      <td>100.000</td>\n",
       "      <td>102.343</td>\n",
       "      <td>0.125</td>\n",
       "      <td>1.497</td>\n",
       "      <td>-0.001</td>\n",
       "      <td>...</td>\n",
       "      <td>0.006</td>\n",
       "      <td>208.204</td>\n",
       "      <td>0.502</td>\n",
       "      <td>0.022</td>\n",
       "      <td>0.005</td>\n",
       "      <td>4.445</td>\n",
       "      <td>0.010</td>\n",
       "      <td>0.020</td>\n",
       "      <td>0.006</td>\n",
       "      <td>208.204</td>\n",
       "    </tr>\n",
       "    <tr>\n",
       "      <th>1</th>\n",
       "      <td>2932.610</td>\n",
       "      <td>2559.940</td>\n",
       "      <td>2186.411</td>\n",
       "      <td>1698.017</td>\n",
       "      <td>1.510</td>\n",
       "      <td>100.000</td>\n",
       "      <td>95.488</td>\n",
       "      <td>0.124</td>\n",
       "      <td>1.444</td>\n",
       "      <td>0.004</td>\n",
       "      <td>...</td>\n",
       "      <td>0.015</td>\n",
       "      <td>82.860</td>\n",
       "      <td>0.496</td>\n",
       "      <td>0.016</td>\n",
       "      <td>0.004</td>\n",
       "      <td>3.175</td>\n",
       "      <td>0.058</td>\n",
       "      <td>0.048</td>\n",
       "      <td>0.015</td>\n",
       "      <td>82.860</td>\n",
       "    </tr>\n",
       "    <tr>\n",
       "      <th>2</th>\n",
       "      <td>2988.720</td>\n",
       "      <td>2479.900</td>\n",
       "      <td>2199.033</td>\n",
       "      <td>909.793</td>\n",
       "      <td>1.320</td>\n",
       "      <td>100.000</td>\n",
       "      <td>104.237</td>\n",
       "      <td>0.122</td>\n",
       "      <td>1.488</td>\n",
       "      <td>-0.012</td>\n",
       "      <td>...</td>\n",
       "      <td>0.004</td>\n",
       "      <td>73.843</td>\n",
       "      <td>0.499</td>\n",
       "      <td>0.010</td>\n",
       "      <td>0.003</td>\n",
       "      <td>2.054</td>\n",
       "      <td>0.020</td>\n",
       "      <td>0.015</td>\n",
       "      <td>0.004</td>\n",
       "      <td>73.843</td>\n",
       "    </tr>\n",
       "    <tr>\n",
       "      <th>3</th>\n",
       "      <td>3032.240</td>\n",
       "      <td>2502.870</td>\n",
       "      <td>2233.367</td>\n",
       "      <td>1326.520</td>\n",
       "      <td>1.533</td>\n",
       "      <td>100.000</td>\n",
       "      <td>100.397</td>\n",
       "      <td>0.123</td>\n",
       "      <td>1.503</td>\n",
       "      <td>-0.003</td>\n",
       "      <td>...</td>\n",
       "      <td>nan</td>\n",
       "      <td>nan</td>\n",
       "      <td>0.480</td>\n",
       "      <td>0.477</td>\n",
       "      <td>0.104</td>\n",
       "      <td>99.303</td>\n",
       "      <td>0.020</td>\n",
       "      <td>0.015</td>\n",
       "      <td>0.004</td>\n",
       "      <td>73.843</td>\n",
       "    </tr>\n",
       "    <tr>\n",
       "      <th>4</th>\n",
       "      <td>2946.250</td>\n",
       "      <td>2432.840</td>\n",
       "      <td>2233.367</td>\n",
       "      <td>1326.520</td>\n",
       "      <td>1.533</td>\n",
       "      <td>100.000</td>\n",
       "      <td>100.397</td>\n",
       "      <td>0.123</td>\n",
       "      <td>1.529</td>\n",
       "      <td>0.017</td>\n",
       "      <td>...</td>\n",
       "      <td>0.005</td>\n",
       "      <td>44.008</td>\n",
       "      <td>0.495</td>\n",
       "      <td>0.019</td>\n",
       "      <td>0.004</td>\n",
       "      <td>3.828</td>\n",
       "      <td>0.034</td>\n",
       "      <td>0.015</td>\n",
       "      <td>0.005</td>\n",
       "      <td>44.008</td>\n",
       "    </tr>\n",
       "  </tbody>\n",
       "</table>\n",
       "<p>5 rows × 590 columns</p>\n",
       "</div>"
      ],
      "text/plain": [
       "        s1       s2       s3       s4    s5      s6      s7    s8    s9  \\\n",
       "0 3095.780 2465.140 2230.422 1463.661 0.829 100.000 102.343 0.125 1.497   \n",
       "1 2932.610 2559.940 2186.411 1698.017 1.510 100.000  95.488 0.124 1.444   \n",
       "2 2988.720 2479.900 2199.033  909.793 1.320 100.000 104.237 0.122 1.488   \n",
       "3 3032.240 2502.870 2233.367 1326.520 1.533 100.000 100.397 0.123 1.503   \n",
       "4 2946.250 2432.840 2233.367 1326.520 1.533 100.000 100.397 0.123 1.529   \n",
       "\n",
       "     s10  ...  s581    s582  s583  s584  s585   s586  s587  s588  s589    s590  \n",
       "0 -0.001  ... 0.006 208.204 0.502 0.022 0.005  4.445 0.010 0.020 0.006 208.204  \n",
       "1  0.004  ... 0.015  82.860 0.496 0.016 0.004  3.175 0.058 0.048 0.015  82.860  \n",
       "2 -0.012  ... 0.004  73.843 0.499 0.010 0.003  2.054 0.020 0.015 0.004  73.843  \n",
       "3 -0.003  ...   nan     nan 0.480 0.477 0.104 99.303 0.020 0.015 0.004  73.843  \n",
       "4  0.017  ... 0.005  44.008 0.495 0.019 0.004  3.828 0.034 0.015 0.005  44.008  \n",
       "\n",
       "[5 rows x 590 columns]"
      ]
     },
     "execution_count": 5,
     "metadata": {},
     "output_type": "execute_result"
    },
    {
     "name": "stdout",
     "output_type": "stream",
     "text": [
      "Sensor labels:\n"
     ]
    },
    {
     "data": {
      "text/plain": [
       "(1566, 3)"
      ]
     },
     "execution_count": 5,
     "metadata": {},
     "output_type": "execute_result"
    },
    {
     "data": {
      "text/html": [
       "<div>\n",
       "<style scoped>\n",
       "    .dataframe tbody tr th:only-of-type {\n",
       "        vertical-align: middle;\n",
       "    }\n",
       "\n",
       "    .dataframe tbody tr th {\n",
       "        vertical-align: top;\n",
       "    }\n",
       "\n",
       "    .dataframe thead th {\n",
       "        text-align: right;\n",
       "    }\n",
       "</style>\n",
       "<table border=\"1\" class=\"dataframe\">\n",
       "  <thead>\n",
       "    <tr style=\"text-align: right;\">\n",
       "      <th></th>\n",
       "      <th>result</th>\n",
       "      <th>date</th>\n",
       "      <th>time</th>\n",
       "    </tr>\n",
       "  </thead>\n",
       "  <tbody>\n",
       "    <tr>\n",
       "      <th>0</th>\n",
       "      <td>-1</td>\n",
       "      <td>\"19/07/2008</td>\n",
       "      <td>12:32:00\"</td>\n",
       "    </tr>\n",
       "    <tr>\n",
       "      <th>1</th>\n",
       "      <td>1</td>\n",
       "      <td>\"19/07/2008</td>\n",
       "      <td>13:17:00\"</td>\n",
       "    </tr>\n",
       "    <tr>\n",
       "      <th>2</th>\n",
       "      <td>-1</td>\n",
       "      <td>\"19/07/2008</td>\n",
       "      <td>14:43:00\"</td>\n",
       "    </tr>\n",
       "    <tr>\n",
       "      <th>3</th>\n",
       "      <td>-1</td>\n",
       "      <td>\"19/07/2008</td>\n",
       "      <td>15:22:00\"</td>\n",
       "    </tr>\n",
       "    <tr>\n",
       "      <th>4</th>\n",
       "      <td>-1</td>\n",
       "      <td>\"19/07/2008</td>\n",
       "      <td>17:53:00\"</td>\n",
       "    </tr>\n",
       "  </tbody>\n",
       "</table>\n",
       "</div>"
      ],
      "text/plain": [
       "   result         date       time\n",
       "0      -1  \"19/07/2008  12:32:00\"\n",
       "1       1  \"19/07/2008  13:17:00\"\n",
       "2      -1  \"19/07/2008  14:43:00\"\n",
       "3      -1  \"19/07/2008  15:22:00\"\n",
       "4      -1  \"19/07/2008  17:53:00\""
      ]
     },
     "execution_count": 5,
     "metadata": {},
     "output_type": "execute_result"
    }
   ],
   "source": [
    "# Internet location of the data set and labels\n",
    "url = \"https://archive.ics.uci.edu/ml/machine-learning-databases/secom/secom.data\"\n",
    "labels_url = \"https://archive.ics.uci.edu/ml/machine-learning-databases/secom/secom_labels.data\"\n",
    "\n",
    "# Download sensor data and labels into a dataframe object, specify python engine for regex\n",
    "sensor_data = pd.read_csv(url, sep='\\s{1,}', engine='python')\n",
    "sensor_labels_data = pd.read_csv(labels_url, sep='\\s{1,}', engine='python')\n",
    "\n",
    "# Generate index-based column names for the sensor data set\n",
    "sensor_data.columns = list('s' + str(idx + 1) for idx in range(0, sensor_data.shape[1]))\n",
    "\n",
    "# Assign column names to the labels\n",
    "sensor_labels_data.columns = ['result', 'date', 'time']\n",
    "\n",
    "# Save the original data frame for future reference as we modify its contents\n",
    "sensor_data_orig = sensor_data\n",
    "\n",
    "# Confirm that data set and labels are loaded\n",
    "print('Sensor data set:')\n",
    "sensor_data.shape\n",
    "sensor_data.head()\n",
    "\n",
    "print('Sensor labels:')\n",
    "sensor_labels_data.shape\n",
    "sensor_labels_data.head()"
   ]
  },
  {
   "cell_type": "markdown",
   "metadata": {},
   "source": [
    "Drop columns with more than 5% NaN:"
   ]
  },
  {
   "cell_type": "code",
   "execution_count": 6,
   "metadata": {},
   "outputs": [
    {
     "data": {
      "text/plain": [
       "(1566, 538)"
      ]
     },
     "execution_count": 6,
     "metadata": {},
     "output_type": "execute_result"
    }
   ],
   "source": [
    "# Count NaN's per column\n",
    "df_na = sensor_data.isna().sum()\n",
    "\n",
    "# Identify columns above cutoff of 5% NaN's\n",
    "nan_5_pct = df_na[df_na > 0.05 * sensor_data.shape[0]]\n",
    "\n",
    "# Drop columns with more than 5% NaN's\n",
    "sensor_data = sensor_data.drop(list(nan_5_pct.index), axis=1)\n",
    "sensor_data.shape"
   ]
  },
  {
   "cell_type": "markdown",
   "metadata": {},
   "source": [
    "Impute fields with NaN in the remaining columns:"
   ]
  },
  {
   "cell_type": "code",
   "execution_count": 7,
   "metadata": {},
   "outputs": [],
   "source": [
    "# Impute and replace missing values using column median\n",
    "sensor_data = sensor_data.replace('?', \n",
    "                                  np.NaN).apply(lambda x: x.fillna(x.median()))"
   ]
  },
  {
   "cell_type": "markdown",
   "metadata": {},
   "source": [
    "Remove columns with zero variance:"
   ]
  },
  {
   "cell_type": "code",
   "execution_count": 8,
   "metadata": {},
   "outputs": [],
   "source": [
    "# Identify columns with zero variance\n",
    "zero_variance_cols = np.array(sensor_data.columns[sensor_data.var() == 0])\n",
    "\n",
    "# Drop columns with zero variance\n",
    "sensor_data = sensor_data.drop(zero_variance_cols, axis=1)"
   ]
  },
  {
   "cell_type": "markdown",
   "metadata": {},
   "source": [
    "Remove columns consisting of more than 20% zeros:"
   ]
  },
  {
   "cell_type": "code",
   "execution_count": 9,
   "metadata": {},
   "outputs": [
    {
     "data": {
      "text/plain": [
       "(1566, 401)"
      ]
     },
     "execution_count": 9,
     "metadata": {},
     "output_type": "execute_result"
    }
   ],
   "source": [
    "# Count zeroes per column\n",
    "zero_counts = sensor_data[sensor_data == 0].count(axis=0)\n",
    "\n",
    "# Identify columns above cutoff of 20% zero\n",
    "zero_20_pct = zero_counts[zero_counts > 0.2 * sensor_data.shape[0]]\n",
    "\n",
    "# Drop columns with more than 20% zeros\n",
    "sensor_data = sensor_data.drop(list(zero_20_pct.index), axis=1)\n",
    "sensor_data.shape"
   ]
  },
  {
   "cell_type": "markdown",
   "metadata": {},
   "source": [
    "Our data set is now almost ready for modeling. We deal with class inbalance and feature standardization after splitting the data into test and training sets.\n",
    "\n",
    "### Split data into training and test\n",
    "We now split the data into training and test data sets, reserving ten percent of the rows for testing (157 rows) and using the rest to train our models. We choose this relatively high number to ensure that a sufficient number of positives exist in the test data:"
   ]
  },
  {
   "cell_type": "code",
   "execution_count": 74,
   "metadata": {},
   "outputs": [
    {
     "name": "stdout",
     "output_type": "stream",
     "text": [
      "Training data has 1409 rows.\n",
      "Test data has 157 rows.\n"
     ]
    }
   ],
   "source": [
    "# Split data into training and test\n",
    "X_train, X_test, y_train, y_test = \\\n",
    "    train_test_split(sensor_data, \n",
    "                     sensor_labels_data['result'], \n",
    "                     test_size = 0.1,\n",
    "                     random_state = 0)\n",
    "\n",
    "# Describe training and test\n",
    "print(\"Training data has {} rows.\".format(X_train.shape[0]))\n",
    "print(\"Test data has {} rows.\".format(X_test.shape[0]))"
   ]
  },
  {
   "cell_type": "markdown",
   "metadata": {},
   "source": [
    "Now that the test data has been isolated, we can deal with class inbalance and feature standardization in the training data.\n",
    "\n",
    "### Perform oversampling to balance classes\n",
    "To address class inbalance we perform oversampling on the training data:"
   ]
  },
  {
   "cell_type": "code",
   "execution_count": 75,
   "metadata": {},
   "outputs": [
    {
     "data": {
      "text/plain": [
       "(2616, 401)"
      ]
     },
     "execution_count": 75,
     "metadata": {},
     "output_type": "execute_result"
    },
    {
     "data": {
      "text/html": [
       "<div>\n",
       "<style scoped>\n",
       "    .dataframe tbody tr th:only-of-type {\n",
       "        vertical-align: middle;\n",
       "    }\n",
       "\n",
       "    .dataframe tbody tr th {\n",
       "        vertical-align: top;\n",
       "    }\n",
       "\n",
       "    .dataframe thead th {\n",
       "        text-align: right;\n",
       "    }\n",
       "</style>\n",
       "<table border=\"1\" class=\"dataframe\">\n",
       "  <thead>\n",
       "    <tr style=\"text-align: right;\">\n",
       "      <th></th>\n",
       "      <th>s1</th>\n",
       "      <th>s2</th>\n",
       "      <th>s3</th>\n",
       "      <th>s4</th>\n",
       "      <th>s5</th>\n",
       "      <th>s7</th>\n",
       "      <th>s8</th>\n",
       "      <th>s9</th>\n",
       "      <th>s10</th>\n",
       "      <th>s11</th>\n",
       "      <th>...</th>\n",
       "      <th>s577</th>\n",
       "      <th>s578</th>\n",
       "      <th>s583</th>\n",
       "      <th>s584</th>\n",
       "      <th>s585</th>\n",
       "      <th>s586</th>\n",
       "      <th>s587</th>\n",
       "      <th>s588</th>\n",
       "      <th>s589</th>\n",
       "      <th>s590</th>\n",
       "    </tr>\n",
       "  </thead>\n",
       "  <tbody>\n",
       "    <tr>\n",
       "      <th>0</th>\n",
       "      <td>2998.010</td>\n",
       "      <td>2479.770</td>\n",
       "      <td>2189.967</td>\n",
       "      <td>1046.621</td>\n",
       "      <td>0.866</td>\n",
       "      <td>102.362</td>\n",
       "      <td>0.121</td>\n",
       "      <td>1.395</td>\n",
       "      <td>-0.020</td>\n",
       "      <td>0.003</td>\n",
       "      <td>...</td>\n",
       "      <td>1.644</td>\n",
       "      <td>19.784</td>\n",
       "      <td>0.496</td>\n",
       "      <td>0.011</td>\n",
       "      <td>0.003</td>\n",
       "      <td>2.318</td>\n",
       "      <td>0.028</td>\n",
       "      <td>0.008</td>\n",
       "      <td>0.002</td>\n",
       "      <td>27.760</td>\n",
       "    </tr>\n",
       "    <tr>\n",
       "      <th>1</th>\n",
       "      <td>3013.320</td>\n",
       "      <td>2538.520</td>\n",
       "      <td>2231.055</td>\n",
       "      <td>1303.539</td>\n",
       "      <td>0.975</td>\n",
       "      <td>95.788</td>\n",
       "      <td>0.120</td>\n",
       "      <td>1.372</td>\n",
       "      <td>0.006</td>\n",
       "      <td>0.001</td>\n",
       "      <td>...</td>\n",
       "      <td>1.544</td>\n",
       "      <td>14.396</td>\n",
       "      <td>0.500</td>\n",
       "      <td>0.014</td>\n",
       "      <td>0.004</td>\n",
       "      <td>2.829</td>\n",
       "      <td>-0.001</td>\n",
       "      <td>0.012</td>\n",
       "      <td>0.004</td>\n",
       "      <td>0.000</td>\n",
       "    </tr>\n",
       "    <tr>\n",
       "      <th>2</th>\n",
       "      <td>2940.720</td>\n",
       "      <td>2419.830</td>\n",
       "      <td>2218.055</td>\n",
       "      <td>1517.437</td>\n",
       "      <td>0.858</td>\n",
       "      <td>105.813</td>\n",
       "      <td>0.121</td>\n",
       "      <td>1.460</td>\n",
       "      <td>0.021</td>\n",
       "      <td>-0.002</td>\n",
       "      <td>...</td>\n",
       "      <td>1.845</td>\n",
       "      <td>13.909</td>\n",
       "      <td>0.500</td>\n",
       "      <td>0.027</td>\n",
       "      <td>0.006</td>\n",
       "      <td>5.391</td>\n",
       "      <td>0.006</td>\n",
       "      <td>0.014</td>\n",
       "      <td>0.005</td>\n",
       "      <td>233.244</td>\n",
       "    </tr>\n",
       "    <tr>\n",
       "      <th>3</th>\n",
       "      <td>3054.450</td>\n",
       "      <td>2443.680</td>\n",
       "      <td>2243.778</td>\n",
       "      <td>1502.922</td>\n",
       "      <td>1.816</td>\n",
       "      <td>102.098</td>\n",
       "      <td>0.119</td>\n",
       "      <td>1.419</td>\n",
       "      <td>0.002</td>\n",
       "      <td>0.002</td>\n",
       "      <td>...</td>\n",
       "      <td>1.402</td>\n",
       "      <td>9.045</td>\n",
       "      <td>0.497</td>\n",
       "      <td>0.015</td>\n",
       "      <td>0.004</td>\n",
       "      <td>3.070</td>\n",
       "      <td>0.017</td>\n",
       "      <td>0.029</td>\n",
       "      <td>0.009</td>\n",
       "      <td>173.438</td>\n",
       "    </tr>\n",
       "    <tr>\n",
       "      <th>4</th>\n",
       "      <td>2821.230</td>\n",
       "      <td>2549.890</td>\n",
       "      <td>2244.111</td>\n",
       "      <td>1676.732</td>\n",
       "      <td>0.920</td>\n",
       "      <td>100.807</td>\n",
       "      <td>0.120</td>\n",
       "      <td>1.484</td>\n",
       "      <td>0.004</td>\n",
       "      <td>-0.002</td>\n",
       "      <td>...</td>\n",
       "      <td>1.398</td>\n",
       "      <td>11.625</td>\n",
       "      <td>0.499</td>\n",
       "      <td>0.018</td>\n",
       "      <td>0.004</td>\n",
       "      <td>3.704</td>\n",
       "      <td>0.013</td>\n",
       "      <td>0.011</td>\n",
       "      <td>0.004</td>\n",
       "      <td>84.434</td>\n",
       "    </tr>\n",
       "  </tbody>\n",
       "</table>\n",
       "<p>5 rows × 401 columns</p>\n",
       "</div>"
      ],
      "text/plain": [
       "        s1       s2       s3       s4    s5      s7    s8    s9    s10    s11  \\\n",
       "0 2998.010 2479.770 2189.967 1046.621 0.866 102.362 0.121 1.395 -0.020  0.003   \n",
       "1 3013.320 2538.520 2231.055 1303.539 0.975  95.788 0.120 1.372  0.006  0.001   \n",
       "2 2940.720 2419.830 2218.055 1517.437 0.858 105.813 0.121 1.460  0.021 -0.002   \n",
       "3 3054.450 2443.680 2243.778 1502.922 1.816 102.098 0.119 1.419  0.002  0.002   \n",
       "4 2821.230 2549.890 2244.111 1676.732 0.920 100.807 0.120 1.484  0.004 -0.002   \n",
       "\n",
       "   ...  s577   s578  s583  s584  s585  s586   s587  s588  s589    s590  \n",
       "0  ... 1.644 19.784 0.496 0.011 0.003 2.318  0.028 0.008 0.002  27.760  \n",
       "1  ... 1.544 14.396 0.500 0.014 0.004 2.829 -0.001 0.012 0.004   0.000  \n",
       "2  ... 1.845 13.909 0.500 0.027 0.006 5.391  0.006 0.014 0.005 233.244  \n",
       "3  ... 1.402  9.045 0.497 0.015 0.004 3.070  0.017 0.029 0.009 173.438  \n",
       "4  ... 1.398 11.625 0.499 0.018 0.004 3.704  0.013 0.011 0.004  84.434  \n",
       "\n",
       "[5 rows x 401 columns]"
      ]
     },
     "execution_count": 75,
     "metadata": {},
     "output_type": "execute_result"
    }
   ],
   "source": [
    "# Instantiate SMOTE reference\n",
    "sm = SMOTE(random_state=1)\n",
    "\n",
    "# Apply oversampling to model data and label column\n",
    "X_resample, y_resample = sm.fit_resample(X_train, y_train)\n",
    "\n",
    "# Convert resampled model data to dataframe\n",
    "df_resample = pd.DataFrame(X_resample, columns=X_train.columns)\n",
    "\n",
    "# Display shape and initial rows\n",
    "df_resample.shape\n",
    "df_resample.head()\n",
    "\n",
    "# Convert labels array to dataframe\n",
    "df_labels_resample = pd.DataFrame(y_resample, columns=['result'])"
   ]
  },
  {
   "cell_type": "markdown",
   "metadata": {},
   "source": [
    "We confirm that the classes are balanced in the training set:"
   ]
  },
  {
   "cell_type": "code",
   "execution_count": 69,
   "metadata": {},
   "outputs": [
    {
     "data": {
      "text/plain": [
       "<matplotlib.axes._subplots.AxesSubplot at 0x8d2d752ec8>"
      ]
     },
     "execution_count": 69,
     "metadata": {},
     "output_type": "execute_result"
    },
    {
     "data": {
      "image/png": "[encoded data removed]",
      "text/plain": [
       "<Figure size 432x288 with 1 Axes>"
      ]
     },
     "metadata": {
      "needs_background": "light"
     },
     "output_type": "display_data"
    }
   ],
   "source": [
    "# Display plot of classes in the target variable\n",
    "sns.countplot(x='result', data=df_labels_resample)"
   ]
  },
  {
   "cell_type": "markdown",
   "metadata": {},
   "source": [
    "After oversampling, we now have equal numbers of positive and negative outcomes in the training data set. We are ready to proceed to feature standardization.\n",
    "\n",
    "### Feature standardization\n",
    "We choose RobustScaler over StandardScaler due to the skewness of a significant number of features in the data set, as determined in Milestone 1. Because StandardScaler must compute the mean and standard deviation, it is susceptible to outliers. On the other hand, RobustScaler is based on percentiles and, hence, is less susceptible to outliers. We now apply RobustScaler to our training set:"
   ]
  },
  {
   "cell_type": "code",
   "execution_count": 76,
   "metadata": {},
   "outputs": [
    {
     "data": {
      "text/html": [
       "<div>\n",
       "<style scoped>\n",
       "    .dataframe tbody tr th:only-of-type {\n",
       "        vertical-align: middle;\n",
       "    }\n",
       "\n",
       "    .dataframe tbody tr th {\n",
       "        vertical-align: top;\n",
       "    }\n",
       "\n",
       "    .dataframe thead th {\n",
       "        text-align: right;\n",
       "    }\n",
       "</style>\n",
       "<table border=\"1\" class=\"dataframe\">\n",
       "  <thead>\n",
       "    <tr style=\"text-align: right;\">\n",
       "      <th></th>\n",
       "      <th>s1</th>\n",
       "      <th>s2</th>\n",
       "      <th>s3</th>\n",
       "      <th>s4</th>\n",
       "      <th>s5</th>\n",
       "      <th>s7</th>\n",
       "      <th>s8</th>\n",
       "      <th>s9</th>\n",
       "      <th>s10</th>\n",
       "      <th>s11</th>\n",
       "      <th>...</th>\n",
       "      <th>s577</th>\n",
       "      <th>s578</th>\n",
       "      <th>s583</th>\n",
       "      <th>s584</th>\n",
       "      <th>s585</th>\n",
       "      <th>s586</th>\n",
       "      <th>s587</th>\n",
       "      <th>s588</th>\n",
       "      <th>s589</th>\n",
       "      <th>s590</th>\n",
       "    </tr>\n",
       "  </thead>\n",
       "  <tbody>\n",
       "    <tr>\n",
       "      <th>0</th>\n",
       "      <td>-0.037</td>\n",
       "      <td>-0.225</td>\n",
       "      <td>-0.255</td>\n",
       "      <td>-0.551</td>\n",
       "      <td>-1.059</td>\n",
       "      <td>0.181</td>\n",
       "      <td>-0.618</td>\n",
       "      <td>-0.824</td>\n",
       "      <td>-1.122</td>\n",
       "      <td>0.148</td>\n",
       "      <td>...</td>\n",
       "      <td>0.025</td>\n",
       "      <td>1.184</td>\n",
       "      <td>-1.119</td>\n",
       "      <td>-0.478</td>\n",
       "      <td>-0.511</td>\n",
       "      <td>-0.460</td>\n",
       "      <td>0.565</td>\n",
       "      <td>-0.818</td>\n",
       "      <td>-0.913</td>\n",
       "      <td>-0.660</td>\n",
       "    </tr>\n",
       "    <tr>\n",
       "      <th>1</th>\n",
       "      <td>0.131</td>\n",
       "      <td>0.552</td>\n",
       "      <td>0.941</td>\n",
       "      <td>0.018</td>\n",
       "      <td>-0.796</td>\n",
       "      <td>-1.084</td>\n",
       "      <td>-1.034</td>\n",
       "      <td>-1.099</td>\n",
       "      <td>0.454</td>\n",
       "      <td>0.008</td>\n",
       "      <td>...</td>\n",
       "      <td>-0.193</td>\n",
       "      <td>0.149</td>\n",
       "      <td>-0.214</td>\n",
       "      <td>0.040</td>\n",
       "      <td>0.077</td>\n",
       "      <td>0.050</td>\n",
       "      <td>-1.583</td>\n",
       "      <td>-0.405</td>\n",
       "      <td>-0.364</td>\n",
       "      <td>-1.036</td>\n",
       "    </tr>\n",
       "    <tr>\n",
       "      <th>2</th>\n",
       "      <td>-0.665</td>\n",
       "      <td>-1.018</td>\n",
       "      <td>0.563</td>\n",
       "      <td>0.492</td>\n",
       "      <td>-1.079</td>\n",
       "      <td>0.846</td>\n",
       "      <td>-0.701</td>\n",
       "      <td>-0.060</td>\n",
       "      <td>1.404</td>\n",
       "      <td>-0.263</td>\n",
       "      <td>...</td>\n",
       "      <td>0.464</td>\n",
       "      <td>0.055</td>\n",
       "      <td>-0.167</td>\n",
       "      <td>2.587</td>\n",
       "      <td>2.040</td>\n",
       "      <td>2.606</td>\n",
       "      <td>-1.080</td>\n",
       "      <td>-0.167</td>\n",
       "      <td>-0.138</td>\n",
       "      <td>2.125</td>\n",
       "    </tr>\n",
       "    <tr>\n",
       "      <th>3</th>\n",
       "      <td>0.582</td>\n",
       "      <td>-0.702</td>\n",
       "      <td>1.311</td>\n",
       "      <td>0.460</td>\n",
       "      <td>1.229</td>\n",
       "      <td>0.130</td>\n",
       "      <td>-1.159</td>\n",
       "      <td>-0.541</td>\n",
       "      <td>0.184</td>\n",
       "      <td>0.046</td>\n",
       "      <td>...</td>\n",
       "      <td>-0.502</td>\n",
       "      <td>-0.880</td>\n",
       "      <td>-0.762</td>\n",
       "      <td>0.279</td>\n",
       "      <td>0.176</td>\n",
       "      <td>0.290</td>\n",
       "      <td>-0.299</td>\n",
       "      <td>1.332</td>\n",
       "      <td>1.444</td>\n",
       "      <td>1.314</td>\n",
       "    </tr>\n",
       "    <tr>\n",
       "      <th>4</th>\n",
       "      <td>-1.976</td>\n",
       "      <td>0.703</td>\n",
       "      <td>1.321</td>\n",
       "      <td>0.845</td>\n",
       "      <td>-0.930</td>\n",
       "      <td>-0.118</td>\n",
       "      <td>-0.784</td>\n",
       "      <td>0.218</td>\n",
       "      <td>0.368</td>\n",
       "      <td>-0.272</td>\n",
       "      <td>...</td>\n",
       "      <td>-0.511</td>\n",
       "      <td>-0.384</td>\n",
       "      <td>-0.405</td>\n",
       "      <td>0.915</td>\n",
       "      <td>0.862</td>\n",
       "      <td>0.923</td>\n",
       "      <td>-0.524</td>\n",
       "      <td>-0.446</td>\n",
       "      <td>-0.235</td>\n",
       "      <td>0.108</td>\n",
       "    </tr>\n",
       "  </tbody>\n",
       "</table>\n",
       "<p>5 rows × 401 columns</p>\n",
       "</div>"
      ],
      "text/plain": [
       "      s1     s2     s3     s4     s5     s7     s8     s9    s10    s11  ...  \\\n",
       "0 -0.037 -0.225 -0.255 -0.551 -1.059  0.181 -0.618 -0.824 -1.122  0.148  ...   \n",
       "1  0.131  0.552  0.941  0.018 -0.796 -1.084 -1.034 -1.099  0.454  0.008  ...   \n",
       "2 -0.665 -1.018  0.563  0.492 -1.079  0.846 -0.701 -0.060  1.404 -0.263  ...   \n",
       "3  0.582 -0.702  1.311  0.460  1.229  0.130 -1.159 -0.541  0.184  0.046  ...   \n",
       "4 -1.976  0.703  1.321  0.845 -0.930 -0.118 -0.784  0.218  0.368 -0.272  ...   \n",
       "\n",
       "    s577   s578   s583   s584   s585   s586   s587   s588   s589   s590  \n",
       "0  0.025  1.184 -1.119 -0.478 -0.511 -0.460  0.565 -0.818 -0.913 -0.660  \n",
       "1 -0.193  0.149 -0.214  0.040  0.077  0.050 -1.583 -0.405 -0.364 -1.036  \n",
       "2  0.464  0.055 -0.167  2.587  2.040  2.606 -1.080 -0.167 -0.138  2.125  \n",
       "3 -0.502 -0.880 -0.762  0.279  0.176  0.290 -0.299  1.332  1.444  1.314  \n",
       "4 -0.511 -0.384 -0.405  0.915  0.862  0.923 -0.524 -0.446 -0.235  0.108  \n",
       "\n",
       "[5 rows x 401 columns]"
      ]
     },
     "execution_count": 76,
     "metadata": {},
     "output_type": "execute_result"
    }
   ],
   "source": [
    "# Scale data\n",
    "scaler = RobustScaler()\n",
    "X_resample = pd.DataFrame(scaler.fit_transform(df_resample), \n",
    "                          columns=df_resample.columns)\n",
    "\n",
    "# Display scaled data set\n",
    "X_resample.head()"
   ]
  },
  {
   "cell_type": "markdown",
   "metadata": {},
   "source": [
    "We now turn to our results from Milestone 1 to select the features for our models.\n",
    "\n",
    "### Feature selection\n",
    "In Milestone 1, we applied four different methods to select the best features from our large set of features. Since stepwise (forward) selection produced the features with the most correlation with the other methods, we will go with the twenty best features chosen by this method:\n",
    "\n",
    "1. s22\n",
    "1. s34\n",
    "1. s65\n",
    "1. s104\n",
    "1. s125\n",
    "1. s130\n",
    "1. s144\n",
    "1. s189\n",
    "1. s313\n",
    "1. s438\n",
    "\n",
    "We select these features here for use below in the models:"
   ]
  },
  {
   "cell_type": "code",
   "execution_count": 71,
   "metadata": {},
   "outputs": [],
   "source": [
    "# Stepwise-selected features from Milestone 1\n",
    "stepwise_features = ['s22', 's34', 's65', 's104', 's125', 's130', 's144', 's189', 's313', 's438']"
   ]
  },
  {
   "cell_type": "markdown",
   "metadata": {},
   "source": [
    "Now that our training data set has been resampled and standardized and we have selected our features, we are ready to proceed to modeling.\n",
    "\n",
    "## 2. Build decision tree model\n",
    "In this section, we build a decision tree model to detect faulty products using the set of features chosen by stepwise selection. We begin by identifying the optimal value for the max_depth hyperparameter:"
   ]
  },
  {
   "cell_type": "code",
   "execution_count": 106,
   "metadata": {},
   "outputs": [
    {
     "name": "stdout",
     "output_type": "stream",
     "text": [
      "Optimal max depth:  10\n"
     ]
    }
   ],
   "source": [
    "# Search for best hyperparameters\n",
    "max_depth = search_max_depth(np.arange(3, 12), X_resample[stepwise_features], y_resample)\n",
    "\n",
    "# Display optimal hyperparameters\n",
    "print('Optimal max depth: ', max_depth)"
   ]
  },
  {
   "cell_type": "markdown",
   "metadata": {},
   "source": [
    "Using the recommended optimal max_depth of 10, we now build our model and display the confusion matrix, accuracy metrics, and ROC plot:"
   ]
  },
  {
   "cell_type": "code",
   "execution_count": 107,
   "metadata": {},
   "outputs": [
    {
     "data": {
      "text/plain": [
       "DecisionTreeClassifier(ccp_alpha=0.0, class_weight=None, criterion='gini',\n",
       "                       max_depth=10, max_features=None, max_leaf_nodes=None,\n",
       "                       min_impurity_decrease=0.0, min_impurity_split=None,\n",
       "                       min_samples_leaf=1, min_samples_split=2,\n",
       "                       min_weight_fraction_leaf=0.0, presort='deprecated',\n",
       "                       random_state=0, splitter='best')"
      ]
     },
     "execution_count": 107,
     "metadata": {},
     "output_type": "execute_result"
    },
    {
     "name": "stdout",
     "output_type": "stream",
     "text": [
      "[[ 23 131]\n",
      " [  0   3]]\n",
      "              precision    recall  f1-score   support\n",
      "\n",
      "          -1       1.00      0.15      0.26       154\n",
      "           1       0.02      1.00      0.04         3\n",
      "\n",
      "    accuracy                           0.17       157\n",
      "   macro avg       0.51      0.57      0.15       157\n",
      "weighted avg       0.98      0.17      0.26       157\n",
      "\n"
     ]
    },
    {
     "data": {
      "image/png": "[encoded data removed]",
      "text/plain": [
       "<Figure size 432x288 with 1 Axes>"
      ]
     },
     "metadata": {
      "needs_background": "light"
     },
     "output_type": "display_data"
    },
    {
     "name": "stdout",
     "output_type": "stream",
     "text": [
      "Area under the ROC curve (AUC): 0.5746753246753247\n"
     ]
    }
   ],
   "source": [
    "# Construct decision tree classifier\n",
    "dt_clf = DecisionTreeClassifier(criterion = 'gini', max_depth = max_depth, \n",
    "                                random_state=0)\n",
    "dt_clf.fit(X_resample[stepwise_features], y_resample)\n",
    "\n",
    "# Predict based on test data\n",
    "y_pred_test_dt = dt_clf.predict(X_test[stepwise_features])\n",
    "\n",
    "# Display metrics\n",
    "display_metrics(y_test, y_pred_test_dt)"
   ]
  },
  {
   "cell_type": "markdown",
   "metadata": {},
   "source": [
    "This model has terrible precision because it predicts \"positive\" outcomes most of the time. Despite finding all of the positives, our model does rather poorly at distinguishing positives and negatives. The recall is 1, but at the expense of precision, which is a measely 0.02, producing an AUC of just 0.57. Our decision tree seems the wrong way to go, especially given the continuous nature of the data set. We need to consider that decision trees are designed to handle categorical rather than continuous data. Perhaps we can do better with another approach.\n",
    "\n",
    "## 3. Build ensemble model\n",
    "In this section, we build an ensemble model to detect faulty products using a random forest to reduce the possibility of overfitting. We begin by finding the optimal values of the n_estimators and max_depth hyperparameters for our random forest:"
   ]
  },
  {
   "cell_type": "code",
   "execution_count": 156,
   "metadata": {},
   "outputs": [
    {
     "data": {
      "text/plain": [
       "GridSearchCV(cv=None, error_score=nan,\n",
       "             estimator=RandomForestClassifier(bootstrap=True, ccp_alpha=0.0,\n",
       "                                              class_weight=None,\n",
       "                                              criterion='gini', max_depth=None,\n",
       "                                              max_features='auto',\n",
       "                                              max_leaf_nodes=None,\n",
       "                                              max_samples=None,\n",
       "                                              min_impurity_decrease=0.0,\n",
       "                                              min_impurity_split=None,\n",
       "                                              min_samples_leaf=1,\n",
       "                                              min_samples_split=2,\n",
       "                                              min_weight_fraction_leaf=0.0,\n",
       "                                              n_estimators=100, n_jobs=None,\n",
       "                                              oob_score=False, random_state=1,\n",
       "                                              verbose=0, warm_start=False),\n",
       "             iid='deprecated', n_jobs=None,\n",
       "             param_grid={'max_depth': array([4, 8]),\n",
       "                         'n_estimators': array([20, 40, 60, 80])},\n",
       "             pre_dispatch='2*n_jobs', refit=True, return_train_score=False,\n",
       "             scoring=None, verbose=0)"
      ]
     },
     "execution_count": 156,
     "metadata": {},
     "output_type": "execute_result"
    },
    {
     "name": "stdout",
     "output_type": "stream",
     "text": [
      "Optimal number of estimators:  60\n",
      "Optimal max depth:  8\n"
     ]
    }
   ],
   "source": [
    "# Range of values to test (both methods)\n",
    "param_grid = { 'n_estimators': np.arange(20, 100, 20),\n",
    "               'max_depth': np.arange(4, 12, 4)}\n",
    "\n",
    "# Search trees under specified range of values\n",
    "gs = GridSearchCV(RandomForestClassifier(verbose=0, random_state=1), \n",
    "                  param_grid)\n",
    "\n",
    "# Fit model under optimal parameters\n",
    "gs.fit(X_resample[stepwise_features], y_resample)\n",
    "gs_pred = gs.predict(X_test[stepwise_features])\n",
    "gs_perf = roc_auc_score(y_test, gs_pred)\n",
    "\n",
    "# Display optimal parameters\n",
    "print('Optimal number of estimators: ', gs.best_params_['n_estimators'])\n",
    "print('Optimal max depth: ', gs.best_params_['max_depth'])"
   ]
  },
  {
   "cell_type": "markdown",
   "metadata": {},
   "source": [
    "Our search of hyperparameter values identified 60 as the optimal value for the n_estimators and 8 as the optimal max_depth. Now we build a random forest model using the subset of ten features chosen by forward selection (Milestone 1):"
   ]
  },
  {
   "cell_type": "code",
   "execution_count": 168,
   "metadata": {
    "scrolled": false
   },
   "outputs": [
    {
     "data": {
      "text/plain": [
       "RandomForestClassifier(bootstrap=True, ccp_alpha=0.0, class_weight=None,\n",
       "                       criterion='gini', max_depth=8, max_features='auto',\n",
       "                       max_leaf_nodes=None, max_samples=None,\n",
       "                       min_impurity_decrease=0.0, min_impurity_split=None,\n",
       "                       min_samples_leaf=1, min_samples_split=2,\n",
       "                       min_weight_fraction_leaf=0.0, n_estimators=60,\n",
       "                       n_jobs=None, oob_score=False, random_state=1, verbose=0,\n",
       "                       warm_start=False)"
      ]
     },
     "execution_count": 168,
     "metadata": {},
     "output_type": "execute_result"
    },
    {
     "name": "stdout",
     "output_type": "stream",
     "text": [
      "[0.084 0.15  0.094 0.163 0.098 0.115 0.093 0.093 0.057 0.052]\n",
      "[[100  54]\n",
      " [  2   1]]\n",
      "              precision    recall  f1-score   support\n",
      "\n",
      "          -1       0.98      0.65      0.78       154\n",
      "           1       0.02      0.33      0.03         3\n",
      "\n",
      "    accuracy                           0.64       157\n",
      "   macro avg       0.50      0.49      0.41       157\n",
      "weighted avg       0.96      0.64      0.77       157\n",
      "\n"
     ]
    },
    {
     "data": {
      "image/png": "[encoded data removed]",
      "text/plain": [
       "<Figure size 432x288 with 1 Axes>"
      ]
     },
     "metadata": {
      "needs_background": "light"
     },
     "output_type": "display_data"
    },
    {
     "name": "stdout",
     "output_type": "stream",
     "text": [
      "Area under the ROC curve (AUC): 0.49134199134199136\n"
     ]
    }
   ],
   "source": [
    "# Build random forest model\n",
    "clf = RandomForestClassifier(n_estimators=60, max_depth=8, random_state=1, verbose=0)\n",
    "clf.fit(X_resample[stepwise_features], y_resample)\n",
    "\n",
    "# Generate predictions\n",
    "pred_rf = clf.predict(X_test[stepwise_features])\n",
    "\n",
    "# Display feature importance per feature\n",
    "print(clf.feature_importances_)\n",
    "\n",
    "# Display metrics\n",
    "display_metrics(y_test, pred_rf)"
   ]
  },
  {
   "cell_type": "markdown",
   "metadata": {},
   "source": [
    "The performance is not great with far too many false positives and, hence, a woeful precision score of just 0.03. So we turn to gradient boosting as a way to improve our model. We start by identifying optimal hyperparameters:"
   ]
  },
  {
   "cell_type": "code",
   "execution_count": 167,
   "metadata": {
    "scrolled": false
   },
   "outputs": [
    {
     "data": {
      "text/plain": [
       "GridSearchCV(cv=None, error_score=nan,\n",
       "             estimator=GradientBoostingClassifier(ccp_alpha=0.0,\n",
       "                                                  criterion='friedman_mse',\n",
       "                                                  init=None, learning_rate=0.1,\n",
       "                                                  loss='deviance', max_depth=3,\n",
       "                                                  max_features=None,\n",
       "                                                  max_leaf_nodes=None,\n",
       "                                                  min_impurity_decrease=0.0,\n",
       "                                                  min_impurity_split=None,\n",
       "                                                  min_samples_leaf=1,\n",
       "                                                  min_samples_split=2,\n",
       "                                                  min_weight_fraction_leaf=0.0,\n",
       "                                                  n_estimators=100,\n",
       "                                                  n_iter_n...\n",
       "                                                  random_state=1, subsample=1.0,\n",
       "                                                  tol=0.0001,\n",
       "                                                  validation_fraction=0.1,\n",
       "                                                  verbose=0, warm_start=False),\n",
       "             iid='deprecated', n_jobs=None,\n",
       "             param_grid={'learning_rate': [0.05, 0.1],\n",
       "                         'max_depth': array([ 4,  6,  8, 10]),\n",
       "                         'max_features': [None, 2], 'max_leaf_nodes': [None, 2],\n",
       "                         'n_estimators': array([50, 60, 70, 80, 90])},\n",
       "             pre_dispatch='2*n_jobs', refit=True, return_train_score=False,\n",
       "             scoring=None, verbose=0)"
      ]
     },
     "execution_count": 167,
     "metadata": {},
     "output_type": "execute_result"
    },
    {
     "name": "stdout",
     "output_type": "stream",
     "text": [
      "Optimal number of estimators:  90\n",
      "Optimal learning rate (shrinkage):  0.1\n",
      "Optimal max depth:  10\n"
     ]
    }
   ],
   "source": [
    "# WARNING: takes a few minutes to run!\n",
    "# Range of values to test (both methods)\n",
    "param_grid = { 'n_estimators': np.arange(50, 100, 10),\n",
    "               'learning_rate': [0.05, 0.1], \n",
    "               'max_features': [None, 2],\n",
    "               'max_leaf_nodes': [None, 2],\n",
    "               'max_depth': np.arange(6, 12, 2)}\n",
    "\n",
    "# Search trees under specified range of values\n",
    "gs = GridSearchCV(GradientBoostingClassifier(loss='deviance', verbose=1, \n",
    "                                             refit=True, random_state=1), \n",
    "                  param_grid)\n",
    "\n",
    "# Fit model under optimal parameters\n",
    "gs.fit(X_resample[stepwise_features], y_resample)\n",
    "gs_pred = gs.predict(X_test[stepwise_features])\n",
    "gs_perf = roc_auc_score(y_test, gs_pred)\n",
    "\n",
    "# Display optimal parameters\n",
    "print('Optimal number of estimators: ', gs.best_params_['n_estimators'])\n",
    "print('Optimal learning rate (shrinkage): ', gs.best_params_['learning_rate'])\n",
    "print('Optimal max depth: ', gs.best_params_['max_depth'])\n",
    "print('Optimal max features: ', gs.best_params_['max_features'])\n",
    "print('Optimal max leaf nodes: ', gs.best_params_['max_leaf_nodes'])"
   ]
  },
  {
   "cell_type": "markdown",
   "metadata": {},
   "source": [
    "Our search of hyperparameter values identified 90 as the optimal value for n_estimators, 0.05 as the optimal shrinkage, and 10 as the optimal max_depth. Now we are ready to build our model using these parameters:"
   ]
  },
  {
   "cell_type": "code",
   "execution_count": 159,
   "metadata": {},
   "outputs": [
    {
     "data": {
      "text/plain": [
       "GradientBoostingClassifier(ccp_alpha=0.0, criterion='friedman_mse', init=None,\n",
       "                           learning_rate=0.05, loss='deviance', max_depth=10,\n",
       "                           max_features=None, max_leaf_nodes=None,\n",
       "                           min_impurity_decrease=0.0, min_impurity_split=None,\n",
       "                           min_samples_leaf=1, min_samples_split=2,\n",
       "                           min_weight_fraction_leaf=0.0, n_estimators=90,\n",
       "                           n_iter_no_change=None, presort='deprecated',\n",
       "                           random_state=0, subsample=1.0, tol=0.0001,\n",
       "                           validation_fraction=0.1, verbose=0,\n",
       "                           warm_start=False)"
      ]
     },
     "execution_count": 159,
     "metadata": {},
     "output_type": "execute_result"
    },
    {
     "name": "stdout",
     "output_type": "stream",
     "text": [
      "[0.095 0.135 0.094 0.171 0.066 0.111 0.096 0.089 0.079 0.065]\n",
      "[[87 67]\n",
      " [ 3  0]]\n",
      "              precision    recall  f1-score   support\n",
      "\n",
      "          -1       0.97      0.56      0.71       154\n",
      "           1       0.00      0.00      0.00         3\n",
      "\n",
      "    accuracy                           0.55       157\n",
      "   macro avg       0.48      0.28      0.36       157\n",
      "weighted avg       0.95      0.55      0.70       157\n",
      "\n"
     ]
    },
    {
     "data": {
      "image/png": "[encoded data removed]",
      "text/plain": [
       "<Figure size 432x288 with 1 Axes>"
      ]
     },
     "metadata": {
      "needs_background": "light"
     },
     "output_type": "display_data"
    },
    {
     "name": "stdout",
     "output_type": "stream",
     "text": [
      "Area under the ROC curve (AUC): 0.2824675324675325\n"
     ]
    }
   ],
   "source": [
    "# Construct and fit model using gradient boosting\n",
    "gbm_clf = GradientBoostingClassifier(n_estimators=90, loss='deviance', \n",
    "                                     learning_rate=0.05, max_depth=10, random_state=1)\n",
    "gbm_clf.fit(X_resample[stepwise_features], y_resample)\n",
    "\n",
    "# Display feature importances\n",
    "print(gbm_clf.feature_importances_)\n",
    "\n",
    "# Generate predictions\n",
    "pred_gb = gbm_clf.predict(X_test[stepwise_features])\n",
    "\n",
    "# Display metrics\n",
    "display_metrics(y_test, pred_gb)"
   ]
  },
  {
   "cell_type": "markdown",
   "metadata": {},
   "source": [
    "Even with gradient boosting we are not any closer to making quality predictions. Our model is unable to identify a single true positive. Perhaps we can achieve better results with a support vector classifier."
   ]
  },
  {
   "cell_type": "markdown",
   "metadata": {},
   "source": [
    "## 4. Build SVM model\n",
    "In this section, we build an SVM model to detect faulty products. Starting with a linear kernel, we go with the default value of the hyperparameter C (C=1) to avoid overfitting on the training data set. With C=1, we build our model and display the metrics:"
   ]
  },
  {
   "cell_type": "code",
   "execution_count": 77,
   "metadata": {},
   "outputs": [
    {
     "data": {
      "text/plain": [
       "SVC(C=1.0, break_ties=True, cache_size=2048, class_weight=None, coef0=0.0,\n",
       "    decision_function_shape='ovr', degree=3, gamma='scale', kernel='linear',\n",
       "    max_iter=-1, probability=False, random_state=None, shrinking=True,\n",
       "    tol=0.001, verbose=False)"
      ]
     },
     "execution_count": 77,
     "metadata": {},
     "output_type": "execute_result"
    },
    {
     "name": "stdout",
     "output_type": "stream",
     "text": [
      "[[154   0]\n",
      " [  3   0]]\n",
      "              precision    recall  f1-score   support\n",
      "\n",
      "          -1       0.98      1.00      0.99       154\n",
      "           1       0.00      0.00      0.00         3\n",
      "\n",
      "    accuracy                           0.98       157\n",
      "   macro avg       0.49      0.50      0.50       157\n",
      "weighted avg       0.96      0.98      0.97       157\n",
      "\n"
     ]
    },
    {
     "name": "stderr",
     "output_type": "stream",
     "text": [
      "C:\\Users\\Pete\\Anaconda3\\lib\\site-packages\\sklearn\\metrics\\_classification.py:1272: UndefinedMetricWarning: Precision and F-score are ill-defined and being set to 0.0 in labels with no predicted samples. Use `zero_division` parameter to control this behavior.\n",
      "  _warn_prf(average, modifier, msg_start, len(result))\n"
     ]
    },
    {
     "data": {
      "image/png": "[encoded data removed]",
      "text/plain": [
       "<Figure size 432x288 with 1 Axes>"
      ]
     },
     "metadata": {
      "needs_background": "light"
     },
     "output_type": "display_data"
    },
    {
     "name": "stdout",
     "output_type": "stream",
     "text": [
      "Area under the ROC curve (AUC): 0.5\n"
     ]
    }
   ],
   "source": [
    "# Build and fit SVC\n",
    "svmc = SVC(kernel='linear', cache_size=CACHE_SIZE)\n",
    "svmc.fit(X_resample[stepwise_features], y_resample)\n",
    "\n",
    "# Get predictions\n",
    "y_pred = svmc.predict(X_test[stepwise_features])\n",
    "\n",
    "# Display metrics\n",
    "display_metrics(y_test, y_pred)"
   ]
  },
  {
   "cell_type": "markdown",
   "metadata": {},
   "source": [
    "Our model based on selected features simply predicts that all outcomes are negative:"
   ]
  },
  {
   "cell_type": "code",
   "execution_count": 45,
   "metadata": {},
   "outputs": [
    {
     "data": {
      "text/plain": [
       "array([-1, -1, -1, -1, -1, -1, -1, -1, -1, -1, -1, -1, -1, -1, -1, -1, -1,\n",
       "       -1, -1, -1, -1, -1, -1, -1, -1, -1, -1, -1, -1, -1, -1, -1, -1, -1,\n",
       "       -1, -1, -1, -1, -1, -1, -1, -1, -1, -1, -1, -1, -1, -1, -1, -1, -1,\n",
       "       -1, -1, -1, -1, -1, -1, -1, -1, -1, -1, -1, -1, -1, -1, -1, -1, -1,\n",
       "       -1, -1, -1, -1, -1, -1, -1, -1, -1, -1, -1, -1, -1, -1, -1, -1, -1,\n",
       "       -1, -1, -1, -1, -1, -1, -1, -1, -1, -1, -1, -1, -1, -1, -1, -1, -1,\n",
       "       -1, -1, -1, -1, -1, -1, -1, -1, -1, -1, -1, -1, -1, -1, -1, -1, -1,\n",
       "       -1, -1, -1, -1, -1, -1, -1, -1, -1, -1, -1, -1, -1, -1, -1, -1, -1,\n",
       "       -1, -1, -1, -1, -1, -1, -1, -1, -1, -1, -1, -1, -1, -1, -1, -1, -1,\n",
       "       -1, -1, -1, -1], dtype=int64)"
      ]
     },
     "execution_count": 45,
     "metadata": {},
     "output_type": "execute_result"
    }
   ],
   "source": [
    "y_pred"
   ]
  },
  {
   "cell_type": "markdown",
   "metadata": {},
   "source": [
    "Ad hoc experimentation with various values of the hyperparameters *shrinking*, *tol*, and *break_ties* as well as exponentially smaller values of C (more regularization) did not change this result.\n",
    "\n",
    "The fact that our model is fit to a training data set in which the classes are equal due to oversampling may supply a clue as to the problem. When our model encounters the test data set, in which the classes are extremely inbalanced, it finds essentially a single class of data points. The result seems to be some difficulty in identifying a hyperplane capable of isolating the handful of positives in the test data, which in turn interferes with the convergence of the model.\n",
    "\n",
    "To test out this hunch, we experiment with the *class_weight* hyperparameter using the initial training and test data sets *before oversampling*. We set class_weight='balanced' to allow the model to address the class weights based on their frequencies in the training data. Rather than fall back on GridSearchCSV, we experiment with different values of the hyperparameter C, examining the full report of metrics to find a value that performs well without overfitting:"
   ]
  },
  {
   "cell_type": "code",
   "execution_count": 136,
   "metadata": {
    "scrolled": false
   },
   "outputs": [
    {
     "name": "stdout",
     "output_type": "stream",
     "text": [
      "C=10\n",
      "[[87 67]\n",
      " [ 2  1]]\n",
      "              precision    recall  f1-score   support\n",
      "\n",
      "          -1       0.98      0.56      0.72       154\n",
      "           1       0.01      0.33      0.03         3\n",
      "\n",
      "    accuracy                           0.56       157\n",
      "   macro avg       0.50      0.45      0.37       157\n",
      "weighted avg       0.96      0.56      0.70       157\n",
      "\n",
      "Area under the ROC curve (AUC): 0.44913419913419916\n",
      "\n",
      "\n",
      "C=1\n",
      "[[80 74]\n",
      " [ 0  3]]\n",
      "              precision    recall  f1-score   support\n",
      "\n",
      "          -1       1.00      0.52      0.68       154\n",
      "           1       0.04      1.00      0.08         3\n",
      "\n",
      "    accuracy                           0.53       157\n",
      "   macro avg       0.52      0.76      0.38       157\n",
      "weighted avg       0.98      0.53      0.67       157\n",
      "\n",
      "Area under the ROC curve (AUC): 0.7597402597402597\n",
      "\n",
      "\n",
      "C=0.1\n",
      "[[84 70]\n",
      " [ 0  3]]\n",
      "              precision    recall  f1-score   support\n",
      "\n",
      "          -1       1.00      0.55      0.71       154\n",
      "           1       0.04      1.00      0.08         3\n",
      "\n",
      "    accuracy                           0.55       157\n",
      "   macro avg       0.52      0.77      0.39       157\n",
      "weighted avg       0.98      0.55      0.69       157\n",
      "\n",
      "Area under the ROC curve (AUC): 0.7727272727272727\n",
      "\n",
      "\n",
      "C=0.01\n",
      "[[100  54]\n",
      " [  1   2]]\n",
      "              precision    recall  f1-score   support\n",
      "\n",
      "          -1       0.99      0.65      0.78       154\n",
      "           1       0.04      0.67      0.07         3\n",
      "\n",
      "    accuracy                           0.65       157\n",
      "   macro avg       0.51      0.66      0.43       157\n",
      "weighted avg       0.97      0.65      0.77       157\n",
      "\n",
      "Area under the ROC curve (AUC): 0.658008658008658\n",
      "\n",
      "\n",
      "C=0.001\n",
      "[[118  36]\n",
      " [  1   2]]\n",
      "              precision    recall  f1-score   support\n",
      "\n",
      "          -1       0.99      0.77      0.86       154\n",
      "           1       0.05      0.67      0.10         3\n",
      "\n",
      "    accuracy                           0.76       157\n",
      "   macro avg       0.52      0.72      0.48       157\n",
      "weighted avg       0.97      0.76      0.85       157\n",
      "\n",
      "Area under the ROC curve (AUC): 0.7164502164502164\n",
      "\n",
      "\n",
      "C=0.0001\n",
      "[[116  38]\n",
      " [  1   2]]\n",
      "              precision    recall  f1-score   support\n",
      "\n",
      "          -1       0.99      0.75      0.86       154\n",
      "           1       0.05      0.67      0.09         3\n",
      "\n",
      "    accuracy                           0.75       157\n",
      "   macro avg       0.52      0.71      0.47       157\n",
      "weighted avg       0.97      0.75      0.84       157\n",
      "\n",
      "Area under the ROC curve (AUC): 0.7099567099567099\n",
      "\n",
      "\n",
      "C=1e-05\n",
      "[[95 59]\n",
      " [ 1  2]]\n",
      "              precision    recall  f1-score   support\n",
      "\n",
      "          -1       0.99      0.62      0.76       154\n",
      "           1       0.03      0.67      0.06         3\n",
      "\n",
      "    accuracy                           0.62       157\n",
      "   macro avg       0.51      0.64      0.41       157\n",
      "weighted avg       0.97      0.62      0.75       157\n",
      "\n",
      "Area under the ROC curve (AUC): 0.6417748917748918\n",
      "\n",
      "\n"
     ]
    }
   ],
   "source": [
    "# Evaluate various values of C with metrics report\n",
    "for C in [10, 1, 0.1, 0.01, 0.001, 0.0001, 0.00001]:\n",
    "    eval_svc (X_train[stepwise_features], y_train, X_test[stepwise_features], y_test, C)"
   ]
  },
  {
   "cell_type": "markdown",
   "metadata": {},
   "source": [
    "The best model in terms of AUC value is C=0.1 where the AUC is 0.77. Unfortunately, this model produces a high number of false positives. The best model in terms of precision and recall is C=0.001, where the f1-score is 0.1. This model makes the fewest wrong predictions, while still maintaining an AUC 0f 0.72. If we wish to catch every single instance of a positive, we should choose C=0.1, though the cost will be high due to the large number of false positives. On the other hand, if we can tolerate a few misses and wish to reduce the cost of frequently needless inspections, we should choose C=0.001.\n",
    "\n",
    "Closer inspection of our model where C=0.001 suggests that our hunch concerning the adverse effect of oversampling is on the right track:"
   ]
  },
  {
   "cell_type": "code",
   "execution_count": 137,
   "metadata": {},
   "outputs": [
    {
     "data": {
      "text/plain": [
       "SVC(C=0.001, break_ties=False, cache_size=2048, class_weight='balanced',\n",
       "    coef0=0.0, decision_function_shape='ovr', degree=3, gamma='scale',\n",
       "    kernel='linear', max_iter=-1, probability=False, random_state=None,\n",
       "    shrinking=True, tol=0.001, verbose=False)"
      ]
     },
     "execution_count": 137,
     "metadata": {},
     "output_type": "execute_result"
    },
    {
     "name": "stdout",
     "output_type": "stream",
     "text": [
      "[[118  36]\n",
      " [  1   2]]\n",
      "              precision    recall  f1-score   support\n",
      "\n",
      "          -1       0.99      0.77      0.86       154\n",
      "           1       0.05      0.67      0.10         3\n",
      "\n",
      "    accuracy                           0.76       157\n",
      "   macro avg       0.52      0.72      0.48       157\n",
      "weighted avg       0.97      0.76      0.85       157\n",
      "\n"
     ]
    },
    {
     "data": {
      "image/png": "[encoded data removed]",
      "text/plain": [
       "<Figure size 432x288 with 1 Axes>"
      ]
     },
     "metadata": {
      "needs_background": "light"
     },
     "output_type": "display_data"
    },
    {
     "name": "stdout",
     "output_type": "stream",
     "text": [
      "Area under the ROC curve (AUC): 0.7164502164502164\n"
     ]
    }
   ],
   "source": [
    "# Build and fit SVC\n",
    "svmc = SVC(C=0.001, kernel='linear', class_weight='balanced', cache_size=CACHE_SIZE)\n",
    "svmc.fit(X_train[stepwise_features], y_train)\n",
    "\n",
    "# Get predictions\n",
    "y_pred = svmc.predict(X_test[stepwise_features])\n",
    "\n",
    "# Display metrics\n",
    "display_metrics(y_test, y_pred)"
   ]
  },
  {
   "cell_type": "markdown",
   "metadata": {},
   "source": [
    "Certainly there is room for improvement. Nevertheless, our results are far more promising using the class_weight parameter than with the oversampled training data.\n",
    "\n",
    "To see how much improvement we might gain by using another kernel, we apply GridSearchCV with a range of alternatives for the hyperparameters *C*, *kernel*, and *degree*:"
   ]
  },
  {
   "cell_type": "code",
   "execution_count": 154,
   "metadata": {},
   "outputs": [
    {
     "data": {
      "text/plain": [
       "GridSearchCV(cv=5, error_score=nan,\n",
       "             estimator=SVC(C=0.001, break_ties=False, cache_size=2048,\n",
       "                           class_weight='balanced', coef0=0.0,\n",
       "                           decision_function_shape='ovr', degree=3,\n",
       "                           gamma='scale', kernel='rbf', max_iter=-1,\n",
       "                           probability=False, random_state=None, shrinking=True,\n",
       "                           tol=0.001, verbose=False),\n",
       "             iid='deprecated', n_jobs=None,\n",
       "             param_grid={'C': [1, 0.1, 0.01, 0.001], 'degree': [2, 3, 4],\n",
       "                         'kernel': ['poly', 'rbf', 'sigmoid']},\n",
       "             pre_dispatch='2*n_jobs', refit=True, return_train_score=True,\n",
       "             scoring=None, verbose=0)"
      ]
     },
     "execution_count": 154,
     "metadata": {},
     "output_type": "execute_result"
    },
    {
     "data": {
      "text/plain": [
       "SVC(C=0.1, break_ties=False, cache_size=2048, class_weight='balanced',\n",
       "    coef0=0.0, decision_function_shape='ovr', degree=2, gamma='scale',\n",
       "    kernel='rbf', max_iter=-1, probability=False, random_state=None,\n",
       "    shrinking=True, tol=0.001, verbose=False)"
      ]
     },
     "execution_count": 154,
     "metadata": {},
     "output_type": "execute_result"
    }
   ],
   "source": [
    "# Hyperparameters to test\n",
    "hyper_parameter_space = {'C': [1, 0.1, 0.01, 0.001],\n",
    "                         'kernel': ['poly', 'rbf', 'sigmoid'],\n",
    "                         'degree': [2, 3, 4]}\n",
    "\n",
    "# Search for best parameters\n",
    "svc = SVC(C=0.001, class_weight='balanced', cache_size = CACHE_SIZE)\n",
    "clf = GridSearchCV(svc, hyper_parameter_space, \n",
    "                   cv = 5, refit = True, \n",
    "                   return_train_score = True)\n",
    "clf.fit(X_train[stepwise_features], y_train)\n",
    "\n",
    "# Display best parameters\n",
    "clf.best_estimator_"
   ]
  },
  {
   "cell_type": "markdown",
   "metadata": {},
   "source": [
    "The optimal parameters are C=0.1 and kernel='rbf' (*degree* is used only by kernel='poly'). We now build a model using these parameters:"
   ]
  },
  {
   "cell_type": "code",
   "execution_count": 155,
   "metadata": {},
   "outputs": [
    {
     "data": {
      "text/plain": [
       "SVC(C=0.1, break_ties=False, cache_size=2048, class_weight='balanced',\n",
       "    coef0=0.0, decision_function_shape='ovr', degree=3, gamma='scale',\n",
       "    kernel='rbf', max_iter=-1, probability=False, random_state=None,\n",
       "    shrinking=True, tol=0.001, verbose=False)"
      ]
     },
     "execution_count": 155,
     "metadata": {},
     "output_type": "execute_result"
    },
    {
     "name": "stdout",
     "output_type": "stream",
     "text": [
      "[[152   2]\n",
      " [  2   1]]\n",
      "              precision    recall  f1-score   support\n",
      "\n",
      "          -1       0.99      0.99      0.99       154\n",
      "           1       0.33      0.33      0.33         3\n",
      "\n",
      "    accuracy                           0.97       157\n",
      "   macro avg       0.66      0.66      0.66       157\n",
      "weighted avg       0.97      0.97      0.97       157\n",
      "\n"
     ]
    },
    {
     "data": {
      "image/png": "[encoded data removed]",
      "text/plain": [
       "<Figure size 432x288 with 1 Axes>"
      ]
     },
     "metadata": {
      "needs_background": "light"
     },
     "output_type": "display_data"
    },
    {
     "name": "stdout",
     "output_type": "stream",
     "text": [
      "Area under the ROC curve (AUC): 0.6601731601731601\n"
     ]
    }
   ],
   "source": [
    "# Build and fit SVC\n",
    "svmc = SVC(C=0.1, kernel='rbf', class_weight='balanced', \n",
    "           cache_size=CACHE_SIZE)\n",
    "svmc.fit(X_train[stepwise_features], y_train)\n",
    "\n",
    "# Get predictions\n",
    "y_pred = svmc.predict(X_test[stepwise_features])\n",
    "\n",
    "# Display metrics\n",
    "display_metrics(y_test, y_pred)"
   ]
  },
  {
   "cell_type": "markdown",
   "metadata": {},
   "source": [
    "At first glance, this model does not perform as well as our model with the linear kernel, with AUC of 0.66 (vs. 0.71 for C=0.001 or 0.77 for C=0.1). Nevertheless, our model with the 'rbf' kernel does significantly reduce the number of false positives compared to our models using the 'linear' kernel, though at the expense of an equal number of false negatives. All in all, however, with just one true positive correctly identified and two positives misidentified, we are led to prefer the linear kernel. Since our objective is to improve quality, we cannot afford to miss sensors that are warning us of real problems even if false positives are minimized.\n",
    "\n",
    "## 5. Evaluate all three models\n",
    "In this section, we evaluate the three models we have created above. In this context, it is paramount that we consider the overall business objective behind our modeling, which is \"to detect problems that might potentially lead to a poor quality product\" (from Assignment 1). So quality is the driving motivation behind our model. At the same time, we need to keep costs in mind, since a model that improves quality but is simply unaffordable is a non-starter and may even render itself irrelevant. For example, a model that simply predicts that all sensors require immediate attention is already useless. In other words, one way to achieve a quality product is to monitor all sensors constantly. But we do not require a model to carry out this expensive process. The value of a model is in focusing attention on sensors that are likely to indicate problems leading to defects, improving quality in a cost-effective manner that justifies the model's existence. With this business objective in view, we now evaluate our three models.\n",
    "\n",
    "### The Decision Tree Model\n",
    "Our decision tree model has problems that are likely systemic in nature, given that decision trees are not the best option when we have mostly continuous features (see Lesson 5 slides) as we do in our present data set. While there are many hyperparameters to tune, we searched for the optimal value for max_depth only. Had our model shown more promise, it may have been worthwhile to tune additional hyperparameters. But our model did not show promise, despite the recall of 1.0. While all 3 true positive cases were correctly identified out of 157 test cases, this came at the expense of 131 false positives. The model ends up predicting that most cases are positive and, hence, the precision is just 0.02 and the AUC 0.57.\n",
    "\n",
    "### The Ensemble Model\n",
    "Our ensemble model fared even worse. It was unable to identify a single true positive, while wrongly predicting that 67 negatives were positives. This was despite our search for optimal values of five hyperparameters. The recall and precision were both 0 and the AUC an abysmal 0.28.\n",
    "\n",
    "### The Support Vector Classifier\n",
    "Our final model using a support vector classifier was more promising. Our initial SVC model was no better than our previous models, with recall and precision of 0 and AUC of 0.5. This initial model made no positive predictions, which, however, offered us a clue as to the underlying problem with our model. Although we had addressed class inbalance in the training data set through oversampling, the model was apparently unprepared to encounter the extreme inbalance of the test data set and seemed unable to converge around any hyperplane. As a result, it found only one class in the test data. So in our second attempt we trained our model on the original inbalanced data, setting the class_weight parameter to 'balanced' so that the model would take into account the class frequencies in the training data when examining the test data. Our search for optimal hyperparameters settled on C=0.001 as the best value for achieving our business objective. This model identified 2 out of 3 positive cases, allowing us to address quality issues, while controlling the number of false positives (36) and allowing us to focus on areas where quality can improve. The precision still suffered at 0.05, though not so much as in our other models, while the recall was 0.67. This value is not impressive, though better than simply identifying all cases as positives. The AUC was 0.72.\n",
    "\n",
    "Our experimentation with non-linear kernels found that the radial basis function kernel produced the best results. However, this kernel did not perform as well as our linear kernel, despite having the highest precision of any of our models (0.33). Recall was just 0.33 and AUC was 0.66. This model also had the fewest false positives with only 2. But it missed 2 out of 3 true positives, suggesting that it is not reliable in detecting the potential quality issues in our system that we wish to identify.\n",
    "\n",
    "### Side-by-side Comparison\n",
    "Here is a side-by-side comparison of the three models:\n",
    "\n",
    "| Metric          | Decision Tree | Ensemble | SVC (linear kernel) |\n",
    "| ---             | ---  | ---  | --- |\n",
    "| Recall          | 1.0  | 0.0  | 0.67 |\n",
    "| Precision       | 0.02 | 0.0  | 0.05 |\n",
    "| f1 Score        | 0.04 | 0.0  | 0.10 |\n",
    "| AUC             | 0.57 | 0.28 | 0.72 |\n",
    "| True Positives  | 3    | 0    | 2    |\n",
    "| False Negatives | 0    | 3    | 1    |\n",
    "| False Positives | 131  | 67   | 36   |\n",
    "\n",
    "## 6. Conclusion: Describe your findings\n",
    "In this Milestone, we constructed three models based on our data set of sensors with the goal of detecting problems that might impact product quality: a decision tree model, an ensemble model, and a model based on support vector machines. For all three models, we leveraged the data cleaning and feature selection performed in Milestone 1, using the set of features chosen by stepwise selection. The three models were not equally successful in achieving our objective. In fact, only the support vector classifier had any measure of success. The inadequacy of the decision tree model was somewhat understandable given that decision trees excel at categorical data, but our data set consists of continuous sensor readings. The inadequacy of the ensemble model was harder to explain, especially given our search for optimal values of five key hyperparameters. Despite using the best hyperparameters, our ensemble model was unable to make a single positive predication and, hence, missed all 3 positives in our test data set.\n",
    "\n",
    "The support vector classifier initially encountered the same difficulties as the other two models, with an inability to distinguish any positive cases among the preponderance of negatives in the test data set. But this led us to the insight that the model was not prepared to encounter the extreme class inbalance in the test data and seemed unable to converge around a hyperplane separating the points, predicting that all test data points belonged to the same class. We attributed this to oversampling the training data set, which produced equal proportions of positive and negative cases in the training data, but not in the test data. We built our model again setting the class_weight parameter to 'balanced' and using the original data with its built-in class inbalance. The effect of the class_weight parameter was to build into the model the expectation that there were significantly fewer positive cases than negative cases. Our hunch was validated by a series of models that were now able to recognize positive cases in the test data.\n",
    "\n",
    "Our next step was to identify an optimal value of hyperparameter C, which controls the strength of regularization: lower values mean more regularization of negligible values. We found that two competing values of C produced decent models that differed in significant ways. With C=0.1, we achieved an AUC of 0.77 and perfect recall. The problem with this model was the high proportion of false positives (70 out of 157 cases). While it missed no positives, its strategy was simply to identify most cases as positive. In some sense, this would help achieve our business objective of improving quality. But it would do so by raising continual false alarms regarding sensors that were in fact indicating properly functioning equipment. By doing so, the model would render itself superfluous. Rather than directing us to real problems, it would be forcing us to constantly attend to properly functioning sensors. On the other hand, with C=0.001, we achieved a decent recall of 0.67 and an AUC of 0.72, with significantly fewer false positives (36 of 157 cases). Finally, our examination of alternative kernels found that the linear kernel produced the best results. So out of the three models examined, the support vector classifier with linear kernel and C=0.001 would be the most helpful in achieving our business goal to detect problems impacting product quality."
   ]
  }
 ],
 "metadata": {
  "kernelspec": {
   "display_name": "Python 3",
   "language": "python",
   "name": "python3"
  },
  "language_info": {
   "codemirror_mode": {
    "name": "ipython",
    "version": 3
   },
   "file_extension": ".py",
   "mimetype": "text/x-python",
   "name": "python",
   "nbconvert_exporter": "python",
   "pygments_lexer": "ipython3",
   "version": "3.7.7"
  }
 },
 "nbformat": 4,
 "nbformat_minor": 2
}
