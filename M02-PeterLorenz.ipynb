{
 "cells": [
  {
   "cell_type": "markdown",
   "metadata": {},
   "source": [
    "# Milestone 02\n",
    "# Peter Lorenz"
   ]
  },
  {
   "cell_type": "markdown",
   "metadata": {},
   "source": [
    "## 0. Preliminaries\n",
    "\n",
    "Import the required libraries:"
   ]
  },
  {
   "cell_type": "code",
   "execution_count": 44,
   "metadata": {},
   "outputs": [],
   "source": [
    "import sys\n",
    "import warnings\n",
    "\n",
    "warnings.simplefilter(action='ignore', category=FutureWarning)\n",
    "\n",
    "import matplotlib.pyplot as plt\n",
    "import numpy as np\n",
    "import pandas as pd\n",
    "import seaborn as sns\n",
    "\n",
    "from imblearn.over_sampling import SMOTE\n",
    "from sklearn import metrics\n",
    "from sklearn.metrics import classification_report\n",
    "from sklearn.metrics import confusion_matrix\n",
    "from sklearn.metrics import make_scorer\n",
    "from sklearn.metrics import precision_score\n",
    "from sklearn.metrics import recall_score\n",
    "from sklearn.metrics import roc_auc_score\n",
    "from sklearn.model_selection import GridSearchCV\n",
    "from sklearn.model_selection import train_test_split\n",
    "from sklearn.preprocessing import RobustScaler\n",
    "from sklearn.tree import DecisionTreeClassifier"
   ]
  },
  {
   "cell_type": "markdown",
   "metadata": {},
   "source": [
    "Set global options:"
   ]
  },
  {
   "cell_type": "code",
   "execution_count": 3,
   "metadata": {},
   "outputs": [],
   "source": [
    "# Display plots inline\n",
    "%matplotlib inline\n",
    "\n",
    "# Display multiple cell outputs\n",
    "from IPython.core.interactiveshell import InteractiveShell\n",
    "InteractiveShell.ast_node_interactivity = \"all\"\n",
    "\n",
    "# Suppress scientific notation\n",
    "np.set_printoptions(suppress=True)\n",
    "np.set_printoptions(precision=3)\n",
    "pd.set_option('display.float_format', lambda x: '%.3f' % x)\n",
    "\n",
    "# Do not truncate numpy arrays\n",
    "np.set_printoptions(threshold=sys.maxsize)"
   ]
  },
  {
   "cell_type": "markdown",
   "metadata": {},
   "source": [
    "Declare constants:"
   ]
  },
  {
   "cell_type": "code",
   "execution_count": null,
   "metadata": {},
   "outputs": [],
   "source": []
  },
  {
   "cell_type": "markdown",
   "metadata": {},
   "source": [
    "Declare utility functions:"
   ]
  },
  {
   "cell_type": "code",
   "execution_count": null,
   "metadata": {},
   "outputs": [],
   "source": []
  },
  {
   "cell_type": "markdown",
   "metadata": {},
   "source": [
    "## 1. Split data from Milestone 1 into training and testing\n",
    "In this section, we split the prepared data from Milestone 1 into training and test data sets. But first we must reload and clean this data.\n",
    "\n",
    "### Read and clean data (from Milestone 1)\n",
    "Here we follow the steps taken in Milestone 1 to prepare our data for modeling. Commentary is kept to a minimum as these matters have already been discussed in Milestone 1. Also, cell output is kept to the minimum necessary to confirm that the code is functioning as expected."
   ]
  },
  {
   "cell_type": "code",
   "execution_count": 4,
   "metadata": {},
   "outputs": [
    {
     "name": "stdout",
     "output_type": "stream",
     "text": [
      "Sensor data set:\n"
     ]
    },
    {
     "data": {
      "text/plain": [
       "(1566, 590)"
      ]
     },
     "execution_count": 4,
     "metadata": {},
     "output_type": "execute_result"
    },
    {
     "data": {
      "text/html": [
       "<div>\n",
       "<style scoped>\n",
       "    .dataframe tbody tr th:only-of-type {\n",
       "        vertical-align: middle;\n",
       "    }\n",
       "\n",
       "    .dataframe tbody tr th {\n",
       "        vertical-align: top;\n",
       "    }\n",
       "\n",
       "    .dataframe thead th {\n",
       "        text-align: right;\n",
       "    }\n",
       "</style>\n",
       "<table border=\"1\" class=\"dataframe\">\n",
       "  <thead>\n",
       "    <tr style=\"text-align: right;\">\n",
       "      <th></th>\n",
       "      <th>s1</th>\n",
       "      <th>s2</th>\n",
       "      <th>s3</th>\n",
       "      <th>s4</th>\n",
       "      <th>s5</th>\n",
       "      <th>s6</th>\n",
       "      <th>s7</th>\n",
       "      <th>s8</th>\n",
       "      <th>s9</th>\n",
       "      <th>s10</th>\n",
       "      <th>...</th>\n",
       "      <th>s581</th>\n",
       "      <th>s582</th>\n",
       "      <th>s583</th>\n",
       "      <th>s584</th>\n",
       "      <th>s585</th>\n",
       "      <th>s586</th>\n",
       "      <th>s587</th>\n",
       "      <th>s588</th>\n",
       "      <th>s589</th>\n",
       "      <th>s590</th>\n",
       "    </tr>\n",
       "  </thead>\n",
       "  <tbody>\n",
       "    <tr>\n",
       "      <th>0</th>\n",
       "      <td>3095.780</td>\n",
       "      <td>2465.140</td>\n",
       "      <td>2230.422</td>\n",
       "      <td>1463.661</td>\n",
       "      <td>0.829</td>\n",
       "      <td>100.000</td>\n",
       "      <td>102.343</td>\n",
       "      <td>0.125</td>\n",
       "      <td>1.497</td>\n",
       "      <td>-0.001</td>\n",
       "      <td>...</td>\n",
       "      <td>0.006</td>\n",
       "      <td>208.204</td>\n",
       "      <td>0.502</td>\n",
       "      <td>0.022</td>\n",
       "      <td>0.005</td>\n",
       "      <td>4.445</td>\n",
       "      <td>0.010</td>\n",
       "      <td>0.020</td>\n",
       "      <td>0.006</td>\n",
       "      <td>208.204</td>\n",
       "    </tr>\n",
       "    <tr>\n",
       "      <th>1</th>\n",
       "      <td>2932.610</td>\n",
       "      <td>2559.940</td>\n",
       "      <td>2186.411</td>\n",
       "      <td>1698.017</td>\n",
       "      <td>1.510</td>\n",
       "      <td>100.000</td>\n",
       "      <td>95.488</td>\n",
       "      <td>0.124</td>\n",
       "      <td>1.444</td>\n",
       "      <td>0.004</td>\n",
       "      <td>...</td>\n",
       "      <td>0.015</td>\n",
       "      <td>82.860</td>\n",
       "      <td>0.496</td>\n",
       "      <td>0.016</td>\n",
       "      <td>0.004</td>\n",
       "      <td>3.175</td>\n",
       "      <td>0.058</td>\n",
       "      <td>0.048</td>\n",
       "      <td>0.015</td>\n",
       "      <td>82.860</td>\n",
       "    </tr>\n",
       "    <tr>\n",
       "      <th>2</th>\n",
       "      <td>2988.720</td>\n",
       "      <td>2479.900</td>\n",
       "      <td>2199.033</td>\n",
       "      <td>909.793</td>\n",
       "      <td>1.320</td>\n",
       "      <td>100.000</td>\n",
       "      <td>104.237</td>\n",
       "      <td>0.122</td>\n",
       "      <td>1.488</td>\n",
       "      <td>-0.012</td>\n",
       "      <td>...</td>\n",
       "      <td>0.004</td>\n",
       "      <td>73.843</td>\n",
       "      <td>0.499</td>\n",
       "      <td>0.010</td>\n",
       "      <td>0.003</td>\n",
       "      <td>2.054</td>\n",
       "      <td>0.020</td>\n",
       "      <td>0.015</td>\n",
       "      <td>0.004</td>\n",
       "      <td>73.843</td>\n",
       "    </tr>\n",
       "    <tr>\n",
       "      <th>3</th>\n",
       "      <td>3032.240</td>\n",
       "      <td>2502.870</td>\n",
       "      <td>2233.367</td>\n",
       "      <td>1326.520</td>\n",
       "      <td>1.533</td>\n",
       "      <td>100.000</td>\n",
       "      <td>100.397</td>\n",
       "      <td>0.123</td>\n",
       "      <td>1.503</td>\n",
       "      <td>-0.003</td>\n",
       "      <td>...</td>\n",
       "      <td>nan</td>\n",
       "      <td>nan</td>\n",
       "      <td>0.480</td>\n",
       "      <td>0.477</td>\n",
       "      <td>0.104</td>\n",
       "      <td>99.303</td>\n",
       "      <td>0.020</td>\n",
       "      <td>0.015</td>\n",
       "      <td>0.004</td>\n",
       "      <td>73.843</td>\n",
       "    </tr>\n",
       "    <tr>\n",
       "      <th>4</th>\n",
       "      <td>2946.250</td>\n",
       "      <td>2432.840</td>\n",
       "      <td>2233.367</td>\n",
       "      <td>1326.520</td>\n",
       "      <td>1.533</td>\n",
       "      <td>100.000</td>\n",
       "      <td>100.397</td>\n",
       "      <td>0.123</td>\n",
       "      <td>1.529</td>\n",
       "      <td>0.017</td>\n",
       "      <td>...</td>\n",
       "      <td>0.005</td>\n",
       "      <td>44.008</td>\n",
       "      <td>0.495</td>\n",
       "      <td>0.019</td>\n",
       "      <td>0.004</td>\n",
       "      <td>3.828</td>\n",
       "      <td>0.034</td>\n",
       "      <td>0.015</td>\n",
       "      <td>0.005</td>\n",
       "      <td>44.008</td>\n",
       "    </tr>\n",
       "  </tbody>\n",
       "</table>\n",
       "<p>5 rows × 590 columns</p>\n",
       "</div>"
      ],
      "text/plain": [
       "        s1       s2       s3       s4    s5      s6      s7    s8    s9  \\\n",
       "0 3095.780 2465.140 2230.422 1463.661 0.829 100.000 102.343 0.125 1.497   \n",
       "1 2932.610 2559.940 2186.411 1698.017 1.510 100.000  95.488 0.124 1.444   \n",
       "2 2988.720 2479.900 2199.033  909.793 1.320 100.000 104.237 0.122 1.488   \n",
       "3 3032.240 2502.870 2233.367 1326.520 1.533 100.000 100.397 0.123 1.503   \n",
       "4 2946.250 2432.840 2233.367 1326.520 1.533 100.000 100.397 0.123 1.529   \n",
       "\n",
       "     s10  ...  s581    s582  s583  s584  s585   s586  s587  s588  s589    s590  \n",
       "0 -0.001  ... 0.006 208.204 0.502 0.022 0.005  4.445 0.010 0.020 0.006 208.204  \n",
       "1  0.004  ... 0.015  82.860 0.496 0.016 0.004  3.175 0.058 0.048 0.015  82.860  \n",
       "2 -0.012  ... 0.004  73.843 0.499 0.010 0.003  2.054 0.020 0.015 0.004  73.843  \n",
       "3 -0.003  ...   nan     nan 0.480 0.477 0.104 99.303 0.020 0.015 0.004  73.843  \n",
       "4  0.017  ... 0.005  44.008 0.495 0.019 0.004  3.828 0.034 0.015 0.005  44.008  \n",
       "\n",
       "[5 rows x 590 columns]"
      ]
     },
     "execution_count": 4,
     "metadata": {},
     "output_type": "execute_result"
    },
    {
     "name": "stdout",
     "output_type": "stream",
     "text": [
      "Sensor labels:\n"
     ]
    },
    {
     "data": {
      "text/plain": [
       "(1566, 3)"
      ]
     },
     "execution_count": 4,
     "metadata": {},
     "output_type": "execute_result"
    },
    {
     "data": {
      "text/html": [
       "<div>\n",
       "<style scoped>\n",
       "    .dataframe tbody tr th:only-of-type {\n",
       "        vertical-align: middle;\n",
       "    }\n",
       "\n",
       "    .dataframe tbody tr th {\n",
       "        vertical-align: top;\n",
       "    }\n",
       "\n",
       "    .dataframe thead th {\n",
       "        text-align: right;\n",
       "    }\n",
       "</style>\n",
       "<table border=\"1\" class=\"dataframe\">\n",
       "  <thead>\n",
       "    <tr style=\"text-align: right;\">\n",
       "      <th></th>\n",
       "      <th>result</th>\n",
       "      <th>date</th>\n",
       "      <th>time</th>\n",
       "    </tr>\n",
       "  </thead>\n",
       "  <tbody>\n",
       "    <tr>\n",
       "      <th>0</th>\n",
       "      <td>-1</td>\n",
       "      <td>\"19/07/2008</td>\n",
       "      <td>12:32:00\"</td>\n",
       "    </tr>\n",
       "    <tr>\n",
       "      <th>1</th>\n",
       "      <td>1</td>\n",
       "      <td>\"19/07/2008</td>\n",
       "      <td>13:17:00\"</td>\n",
       "    </tr>\n",
       "    <tr>\n",
       "      <th>2</th>\n",
       "      <td>-1</td>\n",
       "      <td>\"19/07/2008</td>\n",
       "      <td>14:43:00\"</td>\n",
       "    </tr>\n",
       "    <tr>\n",
       "      <th>3</th>\n",
       "      <td>-1</td>\n",
       "      <td>\"19/07/2008</td>\n",
       "      <td>15:22:00\"</td>\n",
       "    </tr>\n",
       "    <tr>\n",
       "      <th>4</th>\n",
       "      <td>-1</td>\n",
       "      <td>\"19/07/2008</td>\n",
       "      <td>17:53:00\"</td>\n",
       "    </tr>\n",
       "  </tbody>\n",
       "</table>\n",
       "</div>"
      ],
      "text/plain": [
       "   result         date       time\n",
       "0      -1  \"19/07/2008  12:32:00\"\n",
       "1       1  \"19/07/2008  13:17:00\"\n",
       "2      -1  \"19/07/2008  14:43:00\"\n",
       "3      -1  \"19/07/2008  15:22:00\"\n",
       "4      -1  \"19/07/2008  17:53:00\""
      ]
     },
     "execution_count": 4,
     "metadata": {},
     "output_type": "execute_result"
    }
   ],
   "source": [
    "# Internet location of the data set and labels\n",
    "url = \"https://archive.ics.uci.edu/ml/machine-learning-databases/secom/secom.data\"\n",
    "labels_url = \"https://archive.ics.uci.edu/ml/machine-learning-databases/secom/secom_labels.data\"\n",
    "\n",
    "# Download sensor data and labels into a dataframe object, specify python engine for regex\n",
    "sensor_data = pd.read_csv(url, sep='\\s{1,}', engine='python')\n",
    "sensor_labels_data = pd.read_csv(labels_url, sep='\\s{1,}', engine='python')\n",
    "\n",
    "# Generate index-based column names for the sensor data set\n",
    "sensor_data.columns = list('s' + str(idx + 1) for idx in range(0, sensor_data.shape[1]))\n",
    "\n",
    "# Assign column names to the labels\n",
    "sensor_labels_data.columns = ['result', 'date', 'time']\n",
    "\n",
    "# Save the original data frame for future reference as we modify its contents\n",
    "sensor_data_orig = sensor_data\n",
    "\n",
    "# Confirm that data set and labels are loaded\n",
    "print('Sensor data set:')\n",
    "sensor_data.shape\n",
    "sensor_data.head()\n",
    "\n",
    "print('Sensor labels:')\n",
    "sensor_labels_data.shape\n",
    "sensor_labels_data.head()"
   ]
  },
  {
   "cell_type": "markdown",
   "metadata": {},
   "source": [
    "Drop columns with more than 5% NaN:"
   ]
  },
  {
   "cell_type": "code",
   "execution_count": 5,
   "metadata": {},
   "outputs": [
    {
     "data": {
      "text/plain": [
       "(1566, 538)"
      ]
     },
     "execution_count": 5,
     "metadata": {},
     "output_type": "execute_result"
    }
   ],
   "source": [
    "# Count NaN's per column\n",
    "df_na = sensor_data.isna().sum()\n",
    "\n",
    "# Identify columns above cutoff of 5% NaN's\n",
    "nan_5_pct = df_na[df_na > 0.05 * sensor_data.shape[0]]\n",
    "\n",
    "# Drop columns with more than 5% NaN's\n",
    "sensor_data = sensor_data.drop(list(nan_5_pct.index), axis=1)\n",
    "sensor_data.shape"
   ]
  },
  {
   "cell_type": "markdown",
   "metadata": {},
   "source": [
    "Impute fields with NaN in the remaining columns:"
   ]
  },
  {
   "cell_type": "code",
   "execution_count": 6,
   "metadata": {},
   "outputs": [],
   "source": [
    "# Impute and replace missing values using column median\n",
    "sensor_data = sensor_data.replace('?', \n",
    "                                  np.NaN).apply(lambda x: x.fillna(x.median()))"
   ]
  },
  {
   "cell_type": "markdown",
   "metadata": {},
   "source": [
    "Remove columns with zero variance:"
   ]
  },
  {
   "cell_type": "code",
   "execution_count": 7,
   "metadata": {},
   "outputs": [],
   "source": [
    "# Identify columns with zero variance\n",
    "zero_variance_cols = np.array(sensor_data.columns[sensor_data.var() == 0])\n",
    "\n",
    "# Drop columns with zero variance\n",
    "sensor_data = sensor_data.drop(zero_variance_cols, axis=1)"
   ]
  },
  {
   "cell_type": "markdown",
   "metadata": {},
   "source": [
    "Remove columns consisting of more than 20% zeros:"
   ]
  },
  {
   "cell_type": "code",
   "execution_count": 8,
   "metadata": {},
   "outputs": [
    {
     "data": {
      "text/plain": [
       "(1566, 401)"
      ]
     },
     "execution_count": 8,
     "metadata": {},
     "output_type": "execute_result"
    }
   ],
   "source": [
    "# Count zeroes per column\n",
    "zero_counts = sensor_data[sensor_data == 0].count(axis=0)\n",
    "\n",
    "# Identify columns above cutoff of 20% zero\n",
    "zero_20_pct = zero_counts[zero_counts > 0.2 * sensor_data.shape[0]]\n",
    "\n",
    "# Drop columns with more than 20% zeros\n",
    "sensor_data = sensor_data.drop(list(zero_20_pct.index), axis=1)\n",
    "sensor_data.shape"
   ]
  },
  {
   "cell_type": "markdown",
   "metadata": {},
   "source": [
    "Our data set is now almost ready for modeling. We deal with class imbalance and feature standardization after splitting the data into test and training sets.\n",
    "\n",
    "### Split data into training and test\n",
    "We now split the data into training and test sets, reserving 50 rows for testing and using the rest to train our models:"
   ]
  },
  {
   "cell_type": "code",
   "execution_count": 12,
   "metadata": {},
   "outputs": [],
   "source": [
    "# Split data into training and test\n",
    "X_train, X_test, y_train, y_test = \\\n",
    "    train_test_split(sensor_data, \n",
    "                     sensor_labels_data['result'], \n",
    "                     test_size = 0.0319, # 50 test rows\n",
    "                     random_state = 0)"
   ]
  },
  {
   "cell_type": "markdown",
   "metadata": {},
   "source": [
    "Now that the test data has been isolated, we can deal with class imbalance and feature standardization in the training data.\n",
    "\n",
    "### Perform oversampling to balance classes\n",
    "To address class imbalance we perform oversampling on the training data:"
   ]
  },
  {
   "cell_type": "code",
   "execution_count": 13,
   "metadata": {},
   "outputs": [
    {
     "data": {
      "text/html": [
       "<div>\n",
       "<style scoped>\n",
       "    .dataframe tbody tr th:only-of-type {\n",
       "        vertical-align: middle;\n",
       "    }\n",
       "\n",
       "    .dataframe tbody tr th {\n",
       "        vertical-align: top;\n",
       "    }\n",
       "\n",
       "    .dataframe thead th {\n",
       "        text-align: right;\n",
       "    }\n",
       "</style>\n",
       "<table border=\"1\" class=\"dataframe\">\n",
       "  <thead>\n",
       "    <tr style=\"text-align: right;\">\n",
       "      <th></th>\n",
       "      <th>s1</th>\n",
       "      <th>s2</th>\n",
       "      <th>s3</th>\n",
       "      <th>s4</th>\n",
       "      <th>s5</th>\n",
       "      <th>s7</th>\n",
       "      <th>s8</th>\n",
       "      <th>s9</th>\n",
       "      <th>s10</th>\n",
       "      <th>s11</th>\n",
       "      <th>...</th>\n",
       "      <th>s577</th>\n",
       "      <th>s578</th>\n",
       "      <th>s583</th>\n",
       "      <th>s584</th>\n",
       "      <th>s585</th>\n",
       "      <th>s586</th>\n",
       "      <th>s587</th>\n",
       "      <th>s588</th>\n",
       "      <th>s589</th>\n",
       "      <th>s590</th>\n",
       "    </tr>\n",
       "  </thead>\n",
       "  <tbody>\n",
       "    <tr>\n",
       "      <th>0</th>\n",
       "      <td>3065.480</td>\n",
       "      <td>2539.610</td>\n",
       "      <td>2175.122</td>\n",
       "      <td>1004.503</td>\n",
       "      <td>1.296</td>\n",
       "      <td>105.969</td>\n",
       "      <td>0.125</td>\n",
       "      <td>1.511</td>\n",
       "      <td>0.001</td>\n",
       "      <td>-0.002</td>\n",
       "      <td>...</td>\n",
       "      <td>1.583</td>\n",
       "      <td>9.363</td>\n",
       "      <td>0.502</td>\n",
       "      <td>0.009</td>\n",
       "      <td>0.002</td>\n",
       "      <td>1.894</td>\n",
       "      <td>0.027</td>\n",
       "      <td>0.021</td>\n",
       "      <td>0.009</td>\n",
       "      <td>77.205</td>\n",
       "    </tr>\n",
       "    <tr>\n",
       "      <th>1</th>\n",
       "      <td>3078.770</td>\n",
       "      <td>2533.040</td>\n",
       "      <td>2187.411</td>\n",
       "      <td>1942.307</td>\n",
       "      <td>1.186</td>\n",
       "      <td>88.091</td>\n",
       "      <td>0.124</td>\n",
       "      <td>1.450</td>\n",
       "      <td>-0.005</td>\n",
       "      <td>0.001</td>\n",
       "      <td>...</td>\n",
       "      <td>1.598</td>\n",
       "      <td>16.454</td>\n",
       "      <td>0.497</td>\n",
       "      <td>0.020</td>\n",
       "      <td>0.005</td>\n",
       "      <td>4.073</td>\n",
       "      <td>0.026</td>\n",
       "      <td>0.012</td>\n",
       "      <td>0.003</td>\n",
       "      <td>46.709</td>\n",
       "    </tr>\n",
       "    <tr>\n",
       "      <th>2</th>\n",
       "      <td>2994.150</td>\n",
       "      <td>2522.160</td>\n",
       "      <td>2211.600</td>\n",
       "      <td>2122.258</td>\n",
       "      <td>1.447</td>\n",
       "      <td>94.209</td>\n",
       "      <td>0.124</td>\n",
       "      <td>1.522</td>\n",
       "      <td>-0.016</td>\n",
       "      <td>0.010</td>\n",
       "      <td>...</td>\n",
       "      <td>2.001</td>\n",
       "      <td>10.831</td>\n",
       "      <td>0.499</td>\n",
       "      <td>0.012</td>\n",
       "      <td>0.003</td>\n",
       "      <td>2.438</td>\n",
       "      <td>0.017</td>\n",
       "      <td>0.015</td>\n",
       "      <td>0.006</td>\n",
       "      <td>88.375</td>\n",
       "    </tr>\n",
       "    <tr>\n",
       "      <th>3</th>\n",
       "      <td>2943.830</td>\n",
       "      <td>2445.170</td>\n",
       "      <td>2236.067</td>\n",
       "      <td>1680.182</td>\n",
       "      <td>1.483</td>\n",
       "      <td>98.689</td>\n",
       "      <td>0.122</td>\n",
       "      <td>1.467</td>\n",
       "      <td>0.016</td>\n",
       "      <td>0.001</td>\n",
       "      <td>...</td>\n",
       "      <td>1.422</td>\n",
       "      <td>13.162</td>\n",
       "      <td>0.500</td>\n",
       "      <td>0.019</td>\n",
       "      <td>0.004</td>\n",
       "      <td>3.794</td>\n",
       "      <td>0.026</td>\n",
       "      <td>0.013</td>\n",
       "      <td>0.004</td>\n",
       "      <td>49.945</td>\n",
       "    </tr>\n",
       "    <tr>\n",
       "      <th>4</th>\n",
       "      <td>3079.440</td>\n",
       "      <td>2395.390</td>\n",
       "      <td>2209.089</td>\n",
       "      <td>1459.474</td>\n",
       "      <td>2.161</td>\n",
       "      <td>98.901</td>\n",
       "      <td>0.124</td>\n",
       "      <td>1.534</td>\n",
       "      <td>0.016</td>\n",
       "      <td>-0.009</td>\n",
       "      <td>...</td>\n",
       "      <td>1.386</td>\n",
       "      <td>10.960</td>\n",
       "      <td>0.502</td>\n",
       "      <td>0.018</td>\n",
       "      <td>0.004</td>\n",
       "      <td>3.663</td>\n",
       "      <td>0.016</td>\n",
       "      <td>0.006</td>\n",
       "      <td>0.002</td>\n",
       "      <td>35.670</td>\n",
       "    </tr>\n",
       "  </tbody>\n",
       "</table>\n",
       "<p>5 rows × 401 columns</p>\n",
       "</div>"
      ],
      "text/plain": [
       "        s1       s2       s3       s4    s5      s7    s8    s9    s10    s11  \\\n",
       "0 3065.480 2539.610 2175.122 1004.503 1.296 105.969 0.125 1.511  0.001 -0.002   \n",
       "1 3078.770 2533.040 2187.411 1942.307 1.186  88.091 0.124 1.450 -0.005  0.001   \n",
       "2 2994.150 2522.160 2211.600 2122.258 1.447  94.209 0.124 1.522 -0.016  0.010   \n",
       "3 2943.830 2445.170 2236.067 1680.182 1.483  98.689 0.122 1.467  0.016  0.001   \n",
       "4 3079.440 2395.390 2209.089 1459.474 2.161  98.901 0.124 1.534  0.016 -0.009   \n",
       "\n",
       "   ...  s577   s578  s583  s584  s585  s586  s587  s588  s589   s590  \n",
       "0  ... 1.583  9.363 0.502 0.009 0.002 1.894 0.027 0.021 0.009 77.205  \n",
       "1  ... 1.598 16.454 0.497 0.020 0.005 4.073 0.026 0.012 0.003 46.709  \n",
       "2  ... 2.001 10.831 0.499 0.012 0.003 2.438 0.017 0.015 0.006 88.375  \n",
       "3  ... 1.422 13.162 0.500 0.019 0.004 3.794 0.026 0.013 0.004 49.945  \n",
       "4  ... 1.386 10.960 0.502 0.018 0.004 3.663 0.016 0.006 0.002 35.670  \n",
       "\n",
       "[5 rows x 401 columns]"
      ]
     },
     "execution_count": 13,
     "metadata": {},
     "output_type": "execute_result"
    }
   ],
   "source": [
    "# Instantiate SMOTE reference\n",
    "sm = SMOTE(random_state=1)\n",
    "\n",
    "# Apply oversampling to model data and label column\n",
    "X_resample, y_resample = sm.fit_resample(X_train, y_train)\n",
    "\n",
    "# Convert resampled model data to dataframe\n",
    "df_resample = pd.DataFrame(X_resample, columns=X_train.columns)\n",
    "\n",
    "# Display shape and initial rows\n",
    "df_labels_resample.shape\n",
    "df_resample.head()\n",
    "\n",
    "# Convert labels array to dataframe\n",
    "df_labels_resample = pd.DataFrame(y_resample, columns=['result'])"
   ]
  },
  {
   "cell_type": "markdown",
   "metadata": {},
   "source": [
    "We confirm that the classes are balanced in the training set:"
   ]
  },
  {
   "cell_type": "code",
   "execution_count": 14,
   "metadata": {},
   "outputs": [
    {
     "data": {
      "text/plain": [
       "<matplotlib.axes._subplots.AxesSubplot at 0xd2366f648>"
      ]
     },
     "execution_count": 14,
     "metadata": {},
     "output_type": "execute_result"
    },
    {
     "data": {
      "image/png": "[encoded data removed]",
      "text/plain": [
       "<Figure size 432x288 with 1 Axes>"
      ]
     },
     "metadata": {
      "needs_background": "light"
     },
     "output_type": "display_data"
    }
   ],
   "source": [
    "# Display plot of classes in the target variable\n",
    "sns.countplot(x='result', data=df_labels_resample)"
   ]
  },
  {
   "cell_type": "markdown",
   "metadata": {},
   "source": [
    "After oversampling, we now have equal numbers of positive and negative outcomes. We are ready to proceed to feature standardization.\n",
    "\n",
    "### Feature standardization\n",
    "We choose RobustScaler over StandardScaler due to the skewness of a significant number of features in the data set, as determined in Milestone 1. Because StandardScaler must compute the mean and standard deviation, it is susceptible to outliers. On the other hand, RobustScaler is based on percentiles and, hence, is less susceptible to outliers. We not apply RobustScaler to our training set:"
   ]
  },
  {
   "cell_type": "code",
   "execution_count": 23,
   "metadata": {},
   "outputs": [
    {
     "data": {
      "text/html": [
       "<div>\n",
       "<style scoped>\n",
       "    .dataframe tbody tr th:only-of-type {\n",
       "        vertical-align: middle;\n",
       "    }\n",
       "\n",
       "    .dataframe tbody tr th {\n",
       "        vertical-align: top;\n",
       "    }\n",
       "\n",
       "    .dataframe thead th {\n",
       "        text-align: right;\n",
       "    }\n",
       "</style>\n",
       "<table border=\"1\" class=\"dataframe\">\n",
       "  <thead>\n",
       "    <tr style=\"text-align: right;\">\n",
       "      <th></th>\n",
       "      <th>s1</th>\n",
       "      <th>s2</th>\n",
       "      <th>s3</th>\n",
       "      <th>s4</th>\n",
       "      <th>s5</th>\n",
       "      <th>s7</th>\n",
       "      <th>s8</th>\n",
       "      <th>s9</th>\n",
       "      <th>s10</th>\n",
       "      <th>s11</th>\n",
       "      <th>...</th>\n",
       "      <th>s577</th>\n",
       "      <th>s578</th>\n",
       "      <th>s583</th>\n",
       "      <th>s584</th>\n",
       "      <th>s585</th>\n",
       "      <th>s586</th>\n",
       "      <th>s587</th>\n",
       "      <th>s588</th>\n",
       "      <th>s589</th>\n",
       "      <th>s590</th>\n",
       "    </tr>\n",
       "  </thead>\n",
       "  <tbody>\n",
       "    <tr>\n",
       "      <th>0</th>\n",
       "      <td>0.690</td>\n",
       "      <td>0.562</td>\n",
       "      <td>-0.705</td>\n",
       "      <td>-0.659</td>\n",
       "      <td>-0.024</td>\n",
       "      <td>0.912</td>\n",
       "      <td>1.086</td>\n",
       "      <td>0.550</td>\n",
       "      <td>0.172</td>\n",
       "      <td>-0.234</td>\n",
       "      <td>...</td>\n",
       "      <td>-0.110</td>\n",
       "      <td>-0.843</td>\n",
       "      <td>0.331</td>\n",
       "      <td>-0.883</td>\n",
       "      <td>-1.216</td>\n",
       "      <td>-0.887</td>\n",
       "      <td>0.481</td>\n",
       "      <td>0.504</td>\n",
       "      <td>1.199</td>\n",
       "      <td>0.022</td>\n",
       "    </tr>\n",
       "    <tr>\n",
       "      <th>1</th>\n",
       "      <td>0.834</td>\n",
       "      <td>0.475</td>\n",
       "      <td>-0.338</td>\n",
       "      <td>1.413</td>\n",
       "      <td>-0.296</td>\n",
       "      <td>-2.543</td>\n",
       "      <td>0.920</td>\n",
       "      <td>-0.176</td>\n",
       "      <td>-0.214</td>\n",
       "      <td>-0.037</td>\n",
       "      <td>...</td>\n",
       "      <td>-0.077</td>\n",
       "      <td>0.534</td>\n",
       "      <td>-0.896</td>\n",
       "      <td>1.218</td>\n",
       "      <td>1.498</td>\n",
       "      <td>1.268</td>\n",
       "      <td>0.429</td>\n",
       "      <td>-0.353</td>\n",
       "      <td>-0.562</td>\n",
       "      <td>-0.404</td>\n",
       "    </tr>\n",
       "    <tr>\n",
       "      <th>2</th>\n",
       "      <td>-0.081</td>\n",
       "      <td>0.329</td>\n",
       "      <td>0.384</td>\n",
       "      <td>1.810</td>\n",
       "      <td>0.348</td>\n",
       "      <td>-1.361</td>\n",
       "      <td>0.796</td>\n",
       "      <td>0.675</td>\n",
       "      <td>-0.883</td>\n",
       "      <td>0.870</td>\n",
       "      <td>...</td>\n",
       "      <td>0.805</td>\n",
       "      <td>-0.558</td>\n",
       "      <td>-0.330</td>\n",
       "      <td>-0.353</td>\n",
       "      <td>-0.634</td>\n",
       "      <td>-0.350</td>\n",
       "      <td>-0.263</td>\n",
       "      <td>-0.078</td>\n",
       "      <td>0.188</td>\n",
       "      <td>0.177</td>\n",
       "    </tr>\n",
       "    <tr>\n",
       "      <th>3</th>\n",
       "      <td>-0.625</td>\n",
       "      <td>-0.697</td>\n",
       "      <td>1.113</td>\n",
       "      <td>0.834</td>\n",
       "      <td>0.438</td>\n",
       "      <td>-0.495</td>\n",
       "      <td>-0.073</td>\n",
       "      <td>0.031</td>\n",
       "      <td>1.077</td>\n",
       "      <td>-0.037</td>\n",
       "      <td>...</td>\n",
       "      <td>-0.462</td>\n",
       "      <td>-0.105</td>\n",
       "      <td>-0.117</td>\n",
       "      <td>0.982</td>\n",
       "      <td>0.626</td>\n",
       "      <td>0.992</td>\n",
       "      <td>0.436</td>\n",
       "      <td>-0.272</td>\n",
       "      <td>-0.367</td>\n",
       "      <td>-0.359</td>\n",
       "    </tr>\n",
       "    <tr>\n",
       "      <th>4</th>\n",
       "      <td>0.841</td>\n",
       "      <td>-1.361</td>\n",
       "      <td>0.309</td>\n",
       "      <td>0.346</td>\n",
       "      <td>2.114</td>\n",
       "      <td>-0.454</td>\n",
       "      <td>0.796</td>\n",
       "      <td>0.817</td>\n",
       "      <td>1.059</td>\n",
       "      <td>-0.972</td>\n",
       "      <td>...</td>\n",
       "      <td>-0.540</td>\n",
       "      <td>-0.533</td>\n",
       "      <td>0.260</td>\n",
       "      <td>0.865</td>\n",
       "      <td>0.819</td>\n",
       "      <td>0.862</td>\n",
       "      <td>-0.323</td>\n",
       "      <td>-1.017</td>\n",
       "      <td>-1.019</td>\n",
       "      <td>-0.558</td>\n",
       "    </tr>\n",
       "  </tbody>\n",
       "</table>\n",
       "<p>5 rows × 401 columns</p>\n",
       "</div>"
      ],
      "text/plain": [
       "      s1     s2     s3     s4     s5     s7     s8     s9    s10    s11  ...  \\\n",
       "0  0.690  0.562 -0.705 -0.659 -0.024  0.912  1.086  0.550  0.172 -0.234  ...   \n",
       "1  0.834  0.475 -0.338  1.413 -0.296 -2.543  0.920 -0.176 -0.214 -0.037  ...   \n",
       "2 -0.081  0.329  0.384  1.810  0.348 -1.361  0.796  0.675 -0.883  0.870  ...   \n",
       "3 -0.625 -0.697  1.113  0.834  0.438 -0.495 -0.073  0.031  1.077 -0.037  ...   \n",
       "4  0.841 -1.361  0.309  0.346  2.114 -0.454  0.796  0.817  1.059 -0.972  ...   \n",
       "\n",
       "    s577   s578   s583   s584   s585   s586   s587   s588   s589   s590  \n",
       "0 -0.110 -0.843  0.331 -0.883 -1.216 -0.887  0.481  0.504  1.199  0.022  \n",
       "1 -0.077  0.534 -0.896  1.218  1.498  1.268  0.429 -0.353 -0.562 -0.404  \n",
       "2  0.805 -0.558 -0.330 -0.353 -0.634 -0.350 -0.263 -0.078  0.188  0.177  \n",
       "3 -0.462 -0.105 -0.117  0.982  0.626  0.992  0.436 -0.272 -0.367 -0.359  \n",
       "4 -0.540 -0.533  0.260  0.865  0.819  0.862 -0.323 -1.017 -1.019 -0.558  \n",
       "\n",
       "[5 rows x 401 columns]"
      ]
     },
     "execution_count": 23,
     "metadata": {},
     "output_type": "execute_result"
    }
   ],
   "source": [
    "# Scale data\n",
    "scaler = RobustScaler()\n",
    "X_resample = pd.DataFrame(scaler.fit_transform(df_resample), \n",
    "                          columns=df_resample.columns)\n",
    "\n",
    "# Display scaled data set\n",
    "X_resample.head()"
   ]
  },
  {
   "cell_type": "markdown",
   "metadata": {},
   "source": [
    "Now that our training data set has been resampled and standardized, we are ready to proceed to modeling."
   ]
  },
  {
   "cell_type": "markdown",
   "metadata": {},
   "source": [
    "## 2. Build decision tree model\n",
    "In this section, we build a decision tree model to detect faulty products. Using the gini coefficient, we begin by identifying the optimal value for the max_depth hyperparameter:"
   ]
  },
  {
   "cell_type": "code",
   "execution_count": 68,
   "metadata": {},
   "outputs": [
    {
     "data": {
      "text/plain": [
       "GridSearchCV(cv=None, error_score=nan,\n",
       "             estimator=DecisionTreeClassifier(ccp_alpha=0.0, class_weight=None,\n",
       "                                              criterion='gini', max_depth=None,\n",
       "                                              max_features=None,\n",
       "                                              max_leaf_nodes=None,\n",
       "                                              min_impurity_decrease=0.0,\n",
       "                                              min_impurity_split=None,\n",
       "                                              min_samples_leaf=1,\n",
       "                                              min_samples_split=2,\n",
       "                                              min_weight_fraction_leaf=0.0,\n",
       "                                              presort='deprecated',\n",
       "                                              random_state=0, splitter='best'),\n",
       "             iid='deprecated', n_jobs=None,\n",
       "             param_grid={'max_depth': array([3, 4, 5, 6])},\n",
       "             pre_dispatch='2*n_jobs', refit='AUC', return_train_score=False,\n",
       "             scoring={'AUC': 'roc_auc'}, verbose=0)"
      ]
     },
     "execution_count": 68,
     "metadata": {},
     "output_type": "execute_result"
    },
    {
     "name": "stdout",
     "output_type": "stream",
     "text": [
      "Optimal max depth:  6\n"
     ]
    }
   ],
   "source": [
    "# Range of values to test (both methods)\n",
    "param_grid = {'max_depth': np.arange(3, 7)}\n",
    "\n",
    "# Metrics to prioritize\n",
    "scoring = {'AUC': 'roc_auc'}\n",
    "\n",
    "# Search trees under specified range of values\n",
    "tree_dt = GridSearchCV(DecisionTreeClassifier(criterion = 'gini', \n",
    "                                              random_state=0), \n",
    "                       param_grid,\n",
    "                       refit='AUC',\n",
    "                       scoring=scoring)\n",
    "\n",
    "# Fit model under optimal parameters\n",
    "tree_dt.fit(X_resample, y_resample)\n",
    "tree_pred_dt = tree_dt.predict(X_test)\n",
    "tree_perf_dt = roc_auc_score(y_test, tree_pred_dt)\n",
    "\n",
    "# Display optimal parameters\n",
    "print('Optimal max depth: ', tree_dt.best_params_['max_depth'])"
   ]
  },
  {
   "cell_type": "code",
   "execution_count": 40,
   "metadata": {},
   "outputs": [
    {
     "data": {
      "text/plain": [
       "dict_keys(['explained_variance', 'r2', 'max_error', 'neg_median_absolute_error', 'neg_mean_absolute_error', 'neg_mean_squared_error', 'neg_mean_squared_log_error', 'neg_root_mean_squared_error', 'neg_mean_poisson_deviance', 'neg_mean_gamma_deviance', 'accuracy', 'roc_auc', 'roc_auc_ovr', 'roc_auc_ovo', 'roc_auc_ovr_weighted', 'roc_auc_ovo_weighted', 'balanced_accuracy', 'average_precision', 'neg_log_loss', 'neg_brier_score', 'adjusted_rand_score', 'homogeneity_score', 'completeness_score', 'v_measure_score', 'mutual_info_score', 'adjusted_mutual_info_score', 'normalized_mutual_info_score', 'fowlkes_mallows_score', 'precision', 'precision_macro', 'precision_micro', 'precision_samples', 'precision_weighted', 'recall', 'recall_macro', 'recall_micro', 'recall_samples', 'recall_weighted', 'f1', 'f1_macro', 'f1_micro', 'f1_samples', 'f1_weighted', 'jaccard', 'jaccard_macro', 'jaccard_micro', 'jaccard_samples', 'jaccard_weighted'])"
      ]
     },
     "execution_count": 40,
     "metadata": {},
     "output_type": "execute_result"
    }
   ],
   "source": [
    "import sklearn\n",
    "sklearn.metrics.SCORERS.keys()"
   ]
  },
  {
   "cell_type": "markdown",
   "metadata": {},
   "source": [
    "We now build our model using the optimal max_depth of 6 and display the confusion matrix, accuracy metrics, and ROC plot:"
   ]
  },
  {
   "cell_type": "code",
   "execution_count": 63,
   "metadata": {},
   "outputs": [
    {
     "data": {
      "text/plain": [
       "DecisionTreeClassifier(ccp_alpha=0.0, class_weight=None, criterion='gini',\n",
       "                       max_depth=6, max_features=None, max_leaf_nodes=None,\n",
       "                       min_impurity_decrease=0.0, min_impurity_split=None,\n",
       "                       min_samples_leaf=1, min_samples_split=2,\n",
       "                       min_weight_fraction_leaf=0.0, presort='deprecated',\n",
       "                       random_state=0, splitter='best')"
      ]
     },
     "execution_count": 63,
     "metadata": {},
     "output_type": "execute_result"
    },
    {
     "name": "stdout",
     "output_type": "stream",
     "text": [
      "Max depth: 6\n"
     ]
    },
    {
     "data": {
      "text/plain": [
       "array([[22, 25],\n",
       "       [ 0,  3]], dtype=int64)"
      ]
     },
     "execution_count": 63,
     "metadata": {},
     "output_type": "execute_result"
    },
    {
     "name": "stdout",
     "output_type": "stream",
     "text": [
      "              precision    recall  f1-score   support\n",
      "\n",
      "          -1       1.00      0.47      0.64        47\n",
      "           1       0.11      1.00      0.19         3\n",
      "\n",
      "    accuracy                           0.50        50\n",
      "   macro avg       0.55      0.73      0.42        50\n",
      "weighted avg       0.95      0.50      0.61        50\n",
      "\n"
     ]
    },
    {
     "data": {
      "text/plain": [
       "Text(0.5, 1.0, 'Receiver Operating Characteristic')"
      ]
     },
     "execution_count": 63,
     "metadata": {},
     "output_type": "execute_result"
    },
    {
     "data": {
      "text/plain": [
       "[<matplotlib.lines.Line2D at 0xd247e0bc8>]"
      ]
     },
     "execution_count": 63,
     "metadata": {},
     "output_type": "execute_result"
    },
    {
     "data": {
      "text/plain": [
       "<matplotlib.legend.Legend at 0xd23ad5348>"
      ]
     },
     "execution_count": 63,
     "metadata": {},
     "output_type": "execute_result"
    },
    {
     "data": {
      "text/plain": [
       "[<matplotlib.lines.Line2D at 0xd247fb748>]"
      ]
     },
     "execution_count": 63,
     "metadata": {},
     "output_type": "execute_result"
    },
    {
     "data": {
      "text/plain": [
       "(0, 1)"
      ]
     },
     "execution_count": 63,
     "metadata": {},
     "output_type": "execute_result"
    },
    {
     "data": {
      "text/plain": [
       "(0, 1)"
      ]
     },
     "execution_count": 63,
     "metadata": {},
     "output_type": "execute_result"
    },
    {
     "data": {
      "text/plain": [
       "Text(0, 0.5, 'True Positive Rate')"
      ]
     },
     "execution_count": 63,
     "metadata": {},
     "output_type": "execute_result"
    },
    {
     "data": {
      "text/plain": [
       "Text(0.5, 0, 'False Positive Rate')"
      ]
     },
     "execution_count": 63,
     "metadata": {},
     "output_type": "execute_result"
    },
    {
     "data": {
      "image/png": "[encoded data removed]",
      "text/plain": [
       "<Figure size 432x288 with 1 Axes>"
      ]
     },
     "metadata": {
      "needs_background": "light"
     },
     "output_type": "display_data"
    },
    {
     "name": "stdout",
     "output_type": "stream",
     "text": [
      "Area under the ROC curve (AUC): 0.7340425531914894\n"
     ]
    }
   ],
   "source": [
    "# Construct decision tree classifier\n",
    "dt_clf = DecisionTreeClassifier(criterion = 'gini', max_depth = 6, \n",
    "                                random_state=0)\n",
    "dt_clf.fit(X_resample, y_resample)\n",
    "\n",
    "# Display tree depth\n",
    "print('Max depth:', dt_clf.tree_.max_depth)\n",
    "\n",
    "# Predict based on test data\n",
    "y_pred_test_dt = dt_clf.predict(X_test)\n",
    "\n",
    "# Display confusion matrix\n",
    "confusion_matrix(y_test, y_pred_test_dt)\n",
    "\n",
    "# Display performance metrics\n",
    "print(classification_report(y_test, y_pred_test_dt))\n",
    "\n",
    "# Compute ROC metrics\n",
    "fpr, tpr, thresholds = metrics.roc_curve(y_test, y_pred_test_dt)\n",
    "roc_auc = metrics.auc(fpr, tpr)\n",
    "\n",
    "# Display ROC plot\n",
    "plt.title('Receiver Operating Characteristic')\n",
    "plt.plot(fpr, tpr, 'b', label = 'AUC = %0.2f' % roc_auc)\n",
    "plt.legend(loc = 'lower right')\n",
    "plt.plot([0, 1], [0, 1],'r--')\n",
    "plt.xlim([0, 1])\n",
    "plt.ylim([0, 1])\n",
    "plt.ylabel('True Positive Rate')\n",
    "plt.xlabel('False Positive Rate')\n",
    "plt.show()\n",
    "\n",
    "# Display ROC score\n",
    "print('Area under the ROC curve (AUC):', \n",
    "     roc_auc_score(y_test, y_pred_test_dt))"
   ]
  },
  {
   "cell_type": "markdown",
   "metadata": {},
   "source": [
    "The performance of the model is acceptable. All true positives were detected (3 of 3), though quite a few true negatives (over half) were incorrectly flagged as positives (25 out of 47)."
   ]
  },
  {
   "cell_type": "markdown",
   "metadata": {},
   "source": [
    "## 3. Build ensemble model\n",
    "In this section, we build an ensemble model to detect faulty products."
   ]
  },
  {
   "cell_type": "code",
   "execution_count": null,
   "metadata": {},
   "outputs": [],
   "source": []
  },
  {
   "cell_type": "markdown",
   "metadata": {},
   "source": [
    "## 4. Build SVM model\n",
    "In this section, we build an SVM model to detect faulty products."
   ]
  },
  {
   "cell_type": "code",
   "execution_count": null,
   "metadata": {},
   "outputs": [],
   "source": []
  },
  {
   "cell_type": "markdown",
   "metadata": {},
   "source": [
    "## 5. Evaluate all three models\n",
    "In this section, we evaluate the three models we have created above."
   ]
  },
  {
   "cell_type": "code",
   "execution_count": null,
   "metadata": {},
   "outputs": [],
   "source": []
  },
  {
   "cell_type": "markdown",
   "metadata": {},
   "source": [
    "## 6. Conclusion\n",
    "In this section, we describe our findings."
   ]
  }
 ],
 "metadata": {
  "kernelspec": {
   "display_name": "Python 3",
   "language": "python",
   "name": "python3"
  },
  "language_info": {
   "codemirror_mode": {
    "name": "ipython",
    "version": 3
   },
   "file_extension": ".py",
   "mimetype": "text/x-python",
   "name": "python",
   "nbconvert_exporter": "python",
   "pygments_lexer": "ipython3",
   "version": "3.7.7"
  }
 },
 "nbformat": 4,
 "nbformat_minor": 2
}
