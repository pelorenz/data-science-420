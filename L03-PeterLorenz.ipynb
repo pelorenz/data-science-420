{
 "cells": [
  {
   "cell_type": "markdown",
   "metadata": {},
   "source": [
    "# Lesson 03\n",
    "# Peter Lorenz"
   ]
  },
  {
   "cell_type": "markdown",
   "metadata": {},
   "source": [
    "## 0. Preliminaries\n",
    "First import the required libraries:"
   ]
  },
  {
   "cell_type": "code",
   "execution_count": 117,
   "metadata": {},
   "outputs": [],
   "source": [
    "import numpy as np\n",
    "import pandas as pd\n",
    "\n",
    "from matplotlib import cm\n",
    "from matplotlib import colors\n",
    "from sklearn.cluster import KMeans\n",
    "from sklearn.decomposition import PCA\n",
    "from sklearn.metrics import pairwise_distances_argmin_min\n",
    "\n",
    "import matplotlib as mpl\n",
    "import matplotlib.pyplot as plt"
   ]
  },
  {
   "cell_type": "markdown",
   "metadata": {},
   "source": [
    "Check pandas version:"
   ]
  },
  {
   "cell_type": "code",
   "execution_count": 3,
   "metadata": {},
   "outputs": [
    {
     "name": "stdout",
     "output_type": "stream",
     "text": [
      "Pandas version: 1.0.3\n"
     ]
    }
   ],
   "source": [
    "print(\"Pandas version: \" + pd.__version__)"
   ]
  },
  {
   "cell_type": "markdown",
   "metadata": {},
   "source": [
    "Set some global options:"
   ]
  },
  {
   "cell_type": "code",
   "execution_count": 6,
   "metadata": {},
   "outputs": [],
   "source": [
    "# Display plots inline\n",
    "%matplotlib inline\n",
    "\n",
    "# Display multiple cell outputs\n",
    "from IPython.core.interactiveshell import InteractiveShell\n",
    "InteractiveShell.ast_node_interactivity = \"all\"\n",
    "\n",
    "# Suppress scientific notation\n",
    "np.set_printoptions(suppress=True)\n",
    "np.set_printoptions(precision=3)\n",
    "pd.set_option('display.float_format', lambda x: '%.3f' % x)"
   ]
  },
  {
   "cell_type": "markdown",
   "metadata": {},
   "source": [
    "Utility and convenience functions:"
   ]
  },
  {
   "cell_type": "code",
   "execution_count": 137,
   "metadata": {},
   "outputs": [],
   "source": [
    "# Principal components analysis of axes of variation for k-means clustering\n",
    "def analyze_pca(df, index, components, explained_variance_ratio):\n",
    "    print('Principal Component ' + str(index + 1) + ':')\n",
    "    print('Percent of variance explained is ' + \\\n",
    "          str((explained_variance_ratio[index]*100).round(2)) + '%')\n",
    "    print('')\n",
    "    \n",
    "    pc_df = pd.DataFrame({'score':components[index], 'feature':df.columns})\n",
    "    pc_df = pc_df.sort_values('score')\n",
    "    print('Principal component ' + str(index + 1) + \\\n",
    "          ', least and most significant features by score:')\n",
    "    print('Least significant feature(s) (negative end of axis of variation)')\n",
    "    print(pc_df.iloc[0:3])\n",
    "    print('')\n",
    "\n",
    "    print('Most significant feature(s) (positive end of axis of variation)')\n",
    "    print(pc_df.iloc[-3:])\n",
    "    print('')\n",
    "    print('')\n",
    "\n",
    "# Utility function to convert arbitrary hex color values to color names, used for k-means plotting\n",
    "# There is no attempt at a general solution: add additional colors as needed\n",
    "# The current colors derive from matplotlib's 'rainbow' color map normalized to particular number of clusters to render\n",
    "def color_name_from_rainbow_color_map(hex_value):\n",
    "    if hex_value == '#8000ff':\n",
    "        return 'violet'\n",
    "    if hex_value == '#1996f3':\n",
    "        return 'blue'\n",
    "    if hex_value == '#80ffb4':\n",
    "        return 'sea green'\n",
    "    if hex_value == '#b2f396':\n",
    "        return 'yellow-green'\n",
    "    if hex_value == '#ff964f':\n",
    "        return 'orange'\n",
    "    if hex_value == '#ff0000':\n",
    "        return 'red'"
   ]
  },
  {
   "cell_type": "markdown",
   "metadata": {},
   "source": [
    "## 1. Read Data\n",
    "\n",
    "Next import the data set:"
   ]
  },
  {
   "cell_type": "code",
   "execution_count": 47,
   "metadata": {},
   "outputs": [
    {
     "data": {
      "text/plain": [
       "(9994, 21)"
      ]
     },
     "execution_count": 47,
     "metadata": {},
     "output_type": "execute_result"
    },
    {
     "data": {
      "text/html": [
       "<div>\n",
       "<style scoped>\n",
       "    .dataframe tbody tr th:only-of-type {\n",
       "        vertical-align: middle;\n",
       "    }\n",
       "\n",
       "    .dataframe tbody tr th {\n",
       "        vertical-align: top;\n",
       "    }\n",
       "\n",
       "    .dataframe thead th {\n",
       "        text-align: right;\n",
       "    }\n",
       "</style>\n",
       "<table border=\"1\" class=\"dataframe\">\n",
       "  <thead>\n",
       "    <tr style=\"text-align: right;\">\n",
       "      <th></th>\n",
       "      <th>Row ID</th>\n",
       "      <th>Order ID</th>\n",
       "      <th>Order Date</th>\n",
       "      <th>Ship Date</th>\n",
       "      <th>Ship Mode</th>\n",
       "      <th>Customer ID</th>\n",
       "      <th>Customer Name</th>\n",
       "      <th>Segment</th>\n",
       "      <th>Country</th>\n",
       "      <th>City</th>\n",
       "      <th>...</th>\n",
       "      <th>Postal Code</th>\n",
       "      <th>Region</th>\n",
       "      <th>Product ID</th>\n",
       "      <th>Category</th>\n",
       "      <th>Sub-Category</th>\n",
       "      <th>Product Name</th>\n",
       "      <th>Sales</th>\n",
       "      <th>Quantity</th>\n",
       "      <th>Discount</th>\n",
       "      <th>Profit</th>\n",
       "    </tr>\n",
       "  </thead>\n",
       "  <tbody>\n",
       "    <tr>\n",
       "      <th>0</th>\n",
       "      <td>1</td>\n",
       "      <td>CA-2016-152156</td>\n",
       "      <td>11/8/2016</td>\n",
       "      <td>11/11/2016</td>\n",
       "      <td>Second Class</td>\n",
       "      <td>CG-12520</td>\n",
       "      <td>Claire Gute</td>\n",
       "      <td>Consumer</td>\n",
       "      <td>United States</td>\n",
       "      <td>Henderson</td>\n",
       "      <td>...</td>\n",
       "      <td>42420</td>\n",
       "      <td>South</td>\n",
       "      <td>FUR-BO-10001798</td>\n",
       "      <td>Furniture</td>\n",
       "      <td>Bookcases</td>\n",
       "      <td>Bush Somerset Collection Bookcase</td>\n",
       "      <td>261.960</td>\n",
       "      <td>2</td>\n",
       "      <td>0.000</td>\n",
       "      <td>41.914</td>\n",
       "    </tr>\n",
       "    <tr>\n",
       "      <th>1</th>\n",
       "      <td>2</td>\n",
       "      <td>CA-2016-152156</td>\n",
       "      <td>11/8/2016</td>\n",
       "      <td>11/11/2016</td>\n",
       "      <td>Second Class</td>\n",
       "      <td>CG-12520</td>\n",
       "      <td>Claire Gute</td>\n",
       "      <td>Consumer</td>\n",
       "      <td>United States</td>\n",
       "      <td>Henderson</td>\n",
       "      <td>...</td>\n",
       "      <td>42420</td>\n",
       "      <td>South</td>\n",
       "      <td>FUR-CH-10000454</td>\n",
       "      <td>Furniture</td>\n",
       "      <td>Chairs</td>\n",
       "      <td>Hon Deluxe Fabric Upholstered Stacking Chairs,...</td>\n",
       "      <td>731.940</td>\n",
       "      <td>3</td>\n",
       "      <td>0.000</td>\n",
       "      <td>219.582</td>\n",
       "    </tr>\n",
       "    <tr>\n",
       "      <th>2</th>\n",
       "      <td>3</td>\n",
       "      <td>CA-2016-138688</td>\n",
       "      <td>6/12/2016</td>\n",
       "      <td>6/16/2016</td>\n",
       "      <td>Second Class</td>\n",
       "      <td>DV-13045</td>\n",
       "      <td>Darrin Van Huff</td>\n",
       "      <td>Corporate</td>\n",
       "      <td>United States</td>\n",
       "      <td>Los Angeles</td>\n",
       "      <td>...</td>\n",
       "      <td>90036</td>\n",
       "      <td>West</td>\n",
       "      <td>OFF-LA-10000240</td>\n",
       "      <td>Office Supplies</td>\n",
       "      <td>Labels</td>\n",
       "      <td>Self-Adhesive Address Labels for Typewriters b...</td>\n",
       "      <td>14.620</td>\n",
       "      <td>2</td>\n",
       "      <td>0.000</td>\n",
       "      <td>6.871</td>\n",
       "    </tr>\n",
       "    <tr>\n",
       "      <th>3</th>\n",
       "      <td>4</td>\n",
       "      <td>US-2015-108966</td>\n",
       "      <td>10/11/2015</td>\n",
       "      <td>10/18/2015</td>\n",
       "      <td>Standard Class</td>\n",
       "      <td>SO-20335</td>\n",
       "      <td>Sean O'Donnell</td>\n",
       "      <td>Consumer</td>\n",
       "      <td>United States</td>\n",
       "      <td>Fort Lauderdale</td>\n",
       "      <td>...</td>\n",
       "      <td>33311</td>\n",
       "      <td>South</td>\n",
       "      <td>FUR-TA-10000577</td>\n",
       "      <td>Furniture</td>\n",
       "      <td>Tables</td>\n",
       "      <td>Bretford CR4500 Series Slim Rectangular Table</td>\n",
       "      <td>957.577</td>\n",
       "      <td>5</td>\n",
       "      <td>0.450</td>\n",
       "      <td>-383.031</td>\n",
       "    </tr>\n",
       "    <tr>\n",
       "      <th>4</th>\n",
       "      <td>5</td>\n",
       "      <td>US-2015-108966</td>\n",
       "      <td>10/11/2015</td>\n",
       "      <td>10/18/2015</td>\n",
       "      <td>Standard Class</td>\n",
       "      <td>SO-20335</td>\n",
       "      <td>Sean O'Donnell</td>\n",
       "      <td>Consumer</td>\n",
       "      <td>United States</td>\n",
       "      <td>Fort Lauderdale</td>\n",
       "      <td>...</td>\n",
       "      <td>33311</td>\n",
       "      <td>South</td>\n",
       "      <td>OFF-ST-10000760</td>\n",
       "      <td>Office Supplies</td>\n",
       "      <td>Storage</td>\n",
       "      <td>Eldon Fold 'N Roll Cart System</td>\n",
       "      <td>22.368</td>\n",
       "      <td>2</td>\n",
       "      <td>0.200</td>\n",
       "      <td>2.516</td>\n",
       "    </tr>\n",
       "  </tbody>\n",
       "</table>\n",
       "<p>5 rows × 21 columns</p>\n",
       "</div>"
      ],
      "text/plain": [
       "   Row ID        Order ID  Order Date   Ship Date       Ship Mode Customer ID  \\\n",
       "0       1  CA-2016-152156   11/8/2016  11/11/2016    Second Class    CG-12520   \n",
       "1       2  CA-2016-152156   11/8/2016  11/11/2016    Second Class    CG-12520   \n",
       "2       3  CA-2016-138688   6/12/2016   6/16/2016    Second Class    DV-13045   \n",
       "3       4  US-2015-108966  10/11/2015  10/18/2015  Standard Class    SO-20335   \n",
       "4       5  US-2015-108966  10/11/2015  10/18/2015  Standard Class    SO-20335   \n",
       "\n",
       "     Customer Name    Segment        Country             City  ...  \\\n",
       "0      Claire Gute   Consumer  United States        Henderson  ...   \n",
       "1      Claire Gute   Consumer  United States        Henderson  ...   \n",
       "2  Darrin Van Huff  Corporate  United States      Los Angeles  ...   \n",
       "3   Sean O'Donnell   Consumer  United States  Fort Lauderdale  ...   \n",
       "4   Sean O'Donnell   Consumer  United States  Fort Lauderdale  ...   \n",
       "\n",
       "  Postal Code  Region       Product ID         Category Sub-Category  \\\n",
       "0       42420   South  FUR-BO-10001798        Furniture    Bookcases   \n",
       "1       42420   South  FUR-CH-10000454        Furniture       Chairs   \n",
       "2       90036    West  OFF-LA-10000240  Office Supplies       Labels   \n",
       "3       33311   South  FUR-TA-10000577        Furniture       Tables   \n",
       "4       33311   South  OFF-ST-10000760  Office Supplies      Storage   \n",
       "\n",
       "                                        Product Name   Sales  Quantity  \\\n",
       "0                  Bush Somerset Collection Bookcase 261.960         2   \n",
       "1  Hon Deluxe Fabric Upholstered Stacking Chairs,... 731.940         3   \n",
       "2  Self-Adhesive Address Labels for Typewriters b...  14.620         2   \n",
       "3      Bretford CR4500 Series Slim Rectangular Table 957.577         5   \n",
       "4                     Eldon Fold 'N Roll Cart System  22.368         2   \n",
       "\n",
       "   Discount   Profit  \n",
       "0     0.000   41.914  \n",
       "1     0.000  219.582  \n",
       "2     0.000    6.871  \n",
       "3     0.450 -383.031  \n",
       "4     0.200    2.516  \n",
       "\n",
       "[5 rows x 21 columns]"
      ]
     },
     "execution_count": 47,
     "metadata": {},
     "output_type": "execute_result"
    }
   ],
   "source": [
    "# Internet location of the data set\n",
    "url = \"https://library.startlearninglabs.uw.edu/DATASCI420/2019/Datasets/SuperstoreTransaction.csv\"\n",
    "\n",
    "# Download the data into a dataframe object\n",
    "transaction_data = pd.read_csv(url)\n",
    "\n",
    "# Display shape and initial data\n",
    "transaction_data.shape\n",
    "transaction_data.head()"
   ]
  },
  {
   "cell_type": "markdown",
   "metadata": {},
   "source": [
    "Note that there are 9994 transactions in the data set and 21 columns."
   ]
  },
  {
   "cell_type": "markdown",
   "metadata": {},
   "source": [
    "## 2. Calculate the Recency, Frequency, Monitory for each customer"
   ]
  },
  {
   "cell_type": "markdown",
   "metadata": {},
   "source": [
    "In this section, we compute the *recency*, *frequency*, and *monitory* for each customer. First we check the data types of the columns in our data set to determine whether any data type conversions are necessary:"
   ]
  },
  {
   "cell_type": "code",
   "execution_count": 48,
   "metadata": {},
   "outputs": [
    {
     "name": "stdout",
     "output_type": "stream",
     "text": [
      "<class 'pandas.core.frame.DataFrame'>\n",
      "RangeIndex: 9994 entries, 0 to 9993\n",
      "Data columns (total 21 columns):\n",
      " #   Column         Non-Null Count  Dtype  \n",
      "---  ------         --------------  -----  \n",
      " 0   Row ID         9994 non-null   int64  \n",
      " 1   Order ID       9994 non-null   object \n",
      " 2   Order Date     9994 non-null   object \n",
      " 3   Ship Date      9994 non-null   object \n",
      " 4   Ship Mode      9994 non-null   object \n",
      " 5   Customer ID    9994 non-null   object \n",
      " 6   Customer Name  9994 non-null   object \n",
      " 7   Segment        9994 non-null   object \n",
      " 8   Country        9994 non-null   object \n",
      " 9   City           9994 non-null   object \n",
      " 10  State          9994 non-null   object \n",
      " 11  Postal Code    9994 non-null   int64  \n",
      " 12  Region         9994 non-null   object \n",
      " 13  Product ID     9994 non-null   object \n",
      " 14  Category       9994 non-null   object \n",
      " 15  Sub-Category   9994 non-null   object \n",
      " 16  Product Name   9994 non-null   object \n",
      " 17  Sales          9994 non-null   float64\n",
      " 18  Quantity       9994 non-null   int64  \n",
      " 19  Discount       9994 non-null   float64\n",
      " 20  Profit         9994 non-null   float64\n",
      "dtypes: float64(3), int64(3), object(15)\n",
      "memory usage: 1.6+ MB\n"
     ]
    }
   ],
   "source": [
    "# Display info for each column including data type\n",
    "transaction_data.info()"
   ]
  },
  {
   "cell_type": "markdown",
   "metadata": {},
   "source": [
    "Our date features appear to be represented in the data set as strings, so we convert them to the datetime data type:"
   ]
  },
  {
   "cell_type": "code",
   "execution_count": 49,
   "metadata": {},
   "outputs": [],
   "source": [
    "# Convert date columns to datetime data type\n",
    "transaction_data['Order Date'] = pd.to_datetime(transaction_data['Order Date'],\n",
    "                                                format = '%m/%d/%Y')\n",
    "transaction_data['Ship Date'] = pd.to_datetime(transaction_data['Ship Date'],\n",
    "                                               format = '%m/%d/%Y')"
   ]
  },
  {
   "cell_type": "markdown",
   "metadata": {},
   "source": [
    "Because the transactions in the data set represent transactions rather than daily spending, we must perform aggregation on the individual transactions to obtain daily spending data per customer. We use the date of the order rather than the ship date as the date on which the transaction occurred. In addition, we include the *Segment* column for use below during segmentation:"
   ]
  },
  {
   "cell_type": "code",
   "execution_count": 128,
   "metadata": {},
   "outputs": [
    {
     "data": {
      "text/html": [
       "<div>\n",
       "<style scoped>\n",
       "    .dataframe tbody tr th:only-of-type {\n",
       "        vertical-align: middle;\n",
       "    }\n",
       "\n",
       "    .dataframe tbody tr th {\n",
       "        vertical-align: top;\n",
       "    }\n",
       "\n",
       "    .dataframe thead th {\n",
       "        text-align: right;\n",
       "    }\n",
       "</style>\n",
       "<table border=\"1\" class=\"dataframe\">\n",
       "  <thead>\n",
       "    <tr style=\"text-align: right;\">\n",
       "      <th></th>\n",
       "      <th>index</th>\n",
       "      <th>Customer ID</th>\n",
       "      <th>Order Date</th>\n",
       "      <th>Sales</th>\n",
       "      <th>Quantity</th>\n",
       "      <th>Segment</th>\n",
       "    </tr>\n",
       "  </thead>\n",
       "  <tbody>\n",
       "    <tr>\n",
       "      <th>0</th>\n",
       "      <td>0</td>\n",
       "      <td>AA-10315</td>\n",
       "      <td>2014-03-31</td>\n",
       "      <td>726.548</td>\n",
       "      <td>4</td>\n",
       "      <td>Consumer</td>\n",
       "    </tr>\n",
       "    <tr>\n",
       "      <th>1</th>\n",
       "      <td>1</td>\n",
       "      <td>AA-10315</td>\n",
       "      <td>2014-09-15</td>\n",
       "      <td>29.500</td>\n",
       "      <td>5</td>\n",
       "      <td>Consumer</td>\n",
       "    </tr>\n",
       "    <tr>\n",
       "      <th>2</th>\n",
       "      <td>2</td>\n",
       "      <td>AA-10315</td>\n",
       "      <td>2015-10-04</td>\n",
       "      <td>26.960</td>\n",
       "      <td>2</td>\n",
       "      <td>Consumer</td>\n",
       "    </tr>\n",
       "    <tr>\n",
       "      <th>3</th>\n",
       "      <td>3</td>\n",
       "      <td>AA-10315</td>\n",
       "      <td>2016-03-03</td>\n",
       "      <td>4406.072</td>\n",
       "      <td>14</td>\n",
       "      <td>Consumer</td>\n",
       "    </tr>\n",
       "    <tr>\n",
       "      <th>4</th>\n",
       "      <td>4</td>\n",
       "      <td>AA-10315</td>\n",
       "      <td>2017-06-29</td>\n",
       "      <td>374.480</td>\n",
       "      <td>5</td>\n",
       "      <td>Consumer</td>\n",
       "    </tr>\n",
       "    <tr>\n",
       "      <th>...</th>\n",
       "      <td>...</td>\n",
       "      <td>...</td>\n",
       "      <td>...</td>\n",
       "      <td>...</td>\n",
       "      <td>...</td>\n",
       "      <td>...</td>\n",
       "    </tr>\n",
       "    <tr>\n",
       "      <th>4987</th>\n",
       "      <td>4987</td>\n",
       "      <td>ZD-21925</td>\n",
       "      <td>2014-08-27</td>\n",
       "      <td>244.760</td>\n",
       "      <td>9</td>\n",
       "      <td>Consumer</td>\n",
       "    </tr>\n",
       "    <tr>\n",
       "      <th>4988</th>\n",
       "      <td>4988</td>\n",
       "      <td>ZD-21925</td>\n",
       "      <td>2016-04-03</td>\n",
       "      <td>331.080</td>\n",
       "      <td>8</td>\n",
       "      <td>Consumer</td>\n",
       "    </tr>\n",
       "    <tr>\n",
       "      <th>4989</th>\n",
       "      <td>4989</td>\n",
       "      <td>ZD-21925</td>\n",
       "      <td>2016-05-05</td>\n",
       "      <td>16.720</td>\n",
       "      <td>5</td>\n",
       "      <td>Consumer</td>\n",
       "    </tr>\n",
       "    <tr>\n",
       "      <th>4990</th>\n",
       "      <td>4990</td>\n",
       "      <td>ZD-21925</td>\n",
       "      <td>2016-07-08</td>\n",
       "      <td>839.944</td>\n",
       "      <td>7</td>\n",
       "      <td>Consumer</td>\n",
       "    </tr>\n",
       "    <tr>\n",
       "      <th>4991</th>\n",
       "      <td>4991</td>\n",
       "      <td>ZD-21925</td>\n",
       "      <td>2017-06-11</td>\n",
       "      <td>61.440</td>\n",
       "      <td>3</td>\n",
       "      <td>Consumer</td>\n",
       "    </tr>\n",
       "  </tbody>\n",
       "</table>\n",
       "<p>4992 rows × 6 columns</p>\n",
       "</div>"
      ],
      "text/plain": [
       "      index Customer ID Order Date    Sales  Quantity   Segment\n",
       "0         0    AA-10315 2014-03-31  726.548         4  Consumer\n",
       "1         1    AA-10315 2014-09-15   29.500         5  Consumer\n",
       "2         2    AA-10315 2015-10-04   26.960         2  Consumer\n",
       "3         3    AA-10315 2016-03-03 4406.072        14  Consumer\n",
       "4         4    AA-10315 2017-06-29  374.480         5  Consumer\n",
       "...     ...         ...        ...      ...       ...       ...\n",
       "4987   4987    ZD-21925 2014-08-27  244.760         9  Consumer\n",
       "4988   4988    ZD-21925 2016-04-03  331.080         8  Consumer\n",
       "4989   4989    ZD-21925 2016-05-05   16.720         5  Consumer\n",
       "4990   4990    ZD-21925 2016-07-08  839.944         7  Consumer\n",
       "4991   4991    ZD-21925 2017-06-11   61.440         3  Consumer\n",
       "\n",
       "[4992 rows x 6 columns]"
      ]
     },
     "execution_count": 128,
     "metadata": {},
     "output_type": "execute_result"
    },
    {
     "data": {
      "text/plain": [
       "(4992, 5)"
      ]
     },
     "execution_count": 128,
     "metadata": {},
     "output_type": "execute_result"
    },
    {
     "data": {
      "text/plain": [
       "Customer ID            object\n",
       "Order Date     datetime64[ns]\n",
       "Sales                 float64\n",
       "Quantity                int64\n",
       "Segment                object\n",
       "dtype: object"
      ]
     },
     "execution_count": 128,
     "metadata": {},
     "output_type": "execute_result"
    }
   ],
   "source": [
    "# Aggregate transaction data per customer per day and reset the index\n",
    "transaction_agg = transaction_data.groupby(['Customer ID', \n",
    "                                            'Order Date'], as_index=False).agg({'Sales': 'sum', \n",
    "                                                                                'Quantity': 'sum',\n",
    "                                                                                'Segment': 'first'})\n",
    "transaction_agg.reset_index()\n",
    "\n",
    "# Diagnostic output\n",
    "transaction_agg.shape\n",
    "transaction_agg.dtypes"
   ]
  },
  {
   "cell_type": "markdown",
   "metadata": {},
   "source": [
    "Note that the number of rows in the data set has decreased from 9994 to 4992 as individual transactions have been consolidated into customer daily spending."
   ]
  },
  {
   "cell_type": "markdown",
   "metadata": {},
   "source": [
    "Now we compute the rolling features from the aggregated data:"
   ]
  },
  {
   "cell_type": "code",
   "execution_count": 129,
   "metadata": {},
   "outputs": [],
   "source": [
    "# Compute rolling features\n",
    "roll_sum = transaction_agg.groupby('Customer ID').rolling(window = '7D',\n",
    "                                                          on = 'Order Date')['Sales'].sum()\n",
    "roll_cnt = transaction_agg.groupby('Customer ID').rolling(window = '7D',\n",
    "                                                          on = 'Order Date')['Quantity'].sum()\n",
    "roll_min = transaction_agg.groupby('Customer ID')['Order Date'].diff(periods = 1)"
   ]
  },
  {
   "cell_type": "markdown",
   "metadata": {},
   "source": [
    "Next we combine these rolling features into a new data frame:"
   ]
  },
  {
   "cell_type": "code",
   "execution_count": 130,
   "metadata": {},
   "outputs": [],
   "source": [
    "# Create new dataframe for rolling features\n",
    "transaction_roll = pd.concat([roll_sum, roll_cnt], axis = 1)\n",
    "transaction_roll.columns = ['sales_roll_sum_7D', 'quantity_roll_sum_7D']\n",
    "transaction_roll = transaction_roll.reset_index()\n",
    "transaction_roll['last_visit_ndays'] = roll_min.fillna(pd.Timedelta('100 days'))"
   ]
  },
  {
   "cell_type": "markdown",
   "metadata": {},
   "source": [
    "To view the results, we combine the aggregated data with the rolling data:"
   ]
  },
  {
   "cell_type": "code",
   "execution_count": 131,
   "metadata": {
    "scrolled": true
   },
   "outputs": [
    {
     "data": {
      "text/html": [
       "<div>\n",
       "<style scoped>\n",
       "    .dataframe tbody tr th:only-of-type {\n",
       "        vertical-align: middle;\n",
       "    }\n",
       "\n",
       "    .dataframe tbody tr th {\n",
       "        vertical-align: top;\n",
       "    }\n",
       "\n",
       "    .dataframe thead th {\n",
       "        text-align: right;\n",
       "    }\n",
       "</style>\n",
       "<table border=\"1\" class=\"dataframe\">\n",
       "  <thead>\n",
       "    <tr style=\"text-align: right;\">\n",
       "      <th></th>\n",
       "      <th>Customer ID</th>\n",
       "      <th>Order Date</th>\n",
       "      <th>Sales</th>\n",
       "      <th>Quantity</th>\n",
       "      <th>Segment</th>\n",
       "      <th>sales_roll_sum_7D</th>\n",
       "      <th>quantity_roll_sum_7D</th>\n",
       "      <th>last_visit_ndays</th>\n",
       "    </tr>\n",
       "  </thead>\n",
       "  <tbody>\n",
       "    <tr>\n",
       "      <th>0</th>\n",
       "      <td>AA-10315</td>\n",
       "      <td>2014-03-31</td>\n",
       "      <td>726.548</td>\n",
       "      <td>4</td>\n",
       "      <td>Consumer</td>\n",
       "      <td>726.548</td>\n",
       "      <td>4.000</td>\n",
       "      <td>100 days</td>\n",
       "    </tr>\n",
       "    <tr>\n",
       "      <th>1</th>\n",
       "      <td>AA-10315</td>\n",
       "      <td>2014-09-15</td>\n",
       "      <td>29.500</td>\n",
       "      <td>5</td>\n",
       "      <td>Consumer</td>\n",
       "      <td>29.500</td>\n",
       "      <td>5.000</td>\n",
       "      <td>168 days</td>\n",
       "    </tr>\n",
       "    <tr>\n",
       "      <th>2</th>\n",
       "      <td>AA-10315</td>\n",
       "      <td>2015-10-04</td>\n",
       "      <td>26.960</td>\n",
       "      <td>2</td>\n",
       "      <td>Consumer</td>\n",
       "      <td>26.960</td>\n",
       "      <td>2.000</td>\n",
       "      <td>384 days</td>\n",
       "    </tr>\n",
       "    <tr>\n",
       "      <th>3</th>\n",
       "      <td>AA-10315</td>\n",
       "      <td>2016-03-03</td>\n",
       "      <td>4406.072</td>\n",
       "      <td>14</td>\n",
       "      <td>Consumer</td>\n",
       "      <td>4406.072</td>\n",
       "      <td>14.000</td>\n",
       "      <td>151 days</td>\n",
       "    </tr>\n",
       "    <tr>\n",
       "      <th>4</th>\n",
       "      <td>AA-10315</td>\n",
       "      <td>2017-06-29</td>\n",
       "      <td>374.480</td>\n",
       "      <td>5</td>\n",
       "      <td>Consumer</td>\n",
       "      <td>374.480</td>\n",
       "      <td>5.000</td>\n",
       "      <td>483 days</td>\n",
       "    </tr>\n",
       "  </tbody>\n",
       "</table>\n",
       "</div>"
      ],
      "text/plain": [
       "  Customer ID Order Date    Sales  Quantity   Segment  sales_roll_sum_7D  \\\n",
       "0    AA-10315 2014-03-31  726.548         4  Consumer            726.548   \n",
       "1    AA-10315 2014-09-15   29.500         5  Consumer             29.500   \n",
       "2    AA-10315 2015-10-04   26.960         2  Consumer             26.960   \n",
       "3    AA-10315 2016-03-03 4406.072        14  Consumer           4406.072   \n",
       "4    AA-10315 2017-06-29  374.480         5  Consumer            374.480   \n",
       "\n",
       "   quantity_roll_sum_7D last_visit_ndays  \n",
       "0                 4.000         100 days  \n",
       "1                 5.000         168 days  \n",
       "2                 2.000         384 days  \n",
       "3                14.000         151 days  \n",
       "4                 5.000         483 days  "
      ]
     },
     "execution_count": 131,
     "metadata": {},
     "output_type": "execute_result"
    }
   ],
   "source": [
    "# Combine aggregated data with rolling data\n",
    "transaction_all = transaction_agg.merge(transaction_roll,\n",
    "                                        how = \"inner\", \n",
    "                                        on = ['Customer ID', 'Order Date'], \n",
    "                                        validate = 'one_to_one')\n",
    "transaction_all.head()"
   ]
  },
  {
   "cell_type": "markdown",
   "metadata": {},
   "source": [
    "In the above output, *recency* is found in the *last_visit_ndays* column, *frequency* is found in the *quantity_roll_sum_7D* column, and *monetary* is found in the *sales_roll_sum_7D* column."
   ]
  },
  {
   "cell_type": "markdown",
   "metadata": {},
   "source": [
    "## 3. Using K-means algorithm, perform customer segmentation"
   ]
  },
  {
   "cell_type": "markdown",
   "metadata": {},
   "source": [
    "In this section, we perform customer segmentation using the k-means algorithm. First we convert the timedelta data type of *last_visit_ndays* to integer so we can aggregate it:"
   ]
  },
  {
   "cell_type": "code",
   "execution_count": 132,
   "metadata": {},
   "outputs": [],
   "source": [
    "# Convert timedelta to integer for aggregation by mean\n",
    "transaction_all['last_visit_ndays_int'] = transaction_all['last_visit_ndays'].dt.days"
   ]
  },
  {
   "cell_type": "markdown",
   "metadata": {},
   "source": [
    "We also one-hot encode the *Segment* column for use by K-means:"
   ]
  },
  {
   "cell_type": "code",
   "execution_count": 135,
   "metadata": {},
   "outputs": [
    {
     "data": {
      "text/plain": [
       "['Customer ID',\n",
       " 'Order Date',\n",
       " 'Sales',\n",
       " 'Quantity',\n",
       " 'sales_roll_sum_7D',\n",
       " 'quantity_roll_sum_7D',\n",
       " 'last_visit_ndays',\n",
       " 'last_visit_ndays_int',\n",
       " 'Segment_Consumer',\n",
       " 'Segment_Corporate',\n",
       " 'Segment_Home Office']"
      ]
     },
     "execution_count": 135,
     "metadata": {},
     "output_type": "execute_result"
    }
   ],
   "source": [
    "# Use pandas to one-hot encode categorical variables as k-1 dummies per column\n",
    "transaction_enc = pd.get_dummies(transaction_all, columns=[\"Segment\"])\n",
    "\n",
    "# List column names\n",
    "list(transaction_enc)"
   ]
  },
  {
   "cell_type": "markdown",
   "metadata": {},
   "source": [
    "Now we aggregate the RFM data computed in the previous section by customer. For *sales_roll_sum_7D* and *quantity_roll_sum_7D* we aggregate by the median to prevent large orders from unduly influencing the typical value. For *last_visit_ndays_int* we aggregate by the mean. We simply transfer the encoded *Segment* columns:"
   ]
  },
  {
   "cell_type": "code",
   "execution_count": 136,
   "metadata": {},
   "outputs": [
    {
     "data": {
      "text/html": [
       "<div>\n",
       "<style scoped>\n",
       "    .dataframe tbody tr th:only-of-type {\n",
       "        vertical-align: middle;\n",
       "    }\n",
       "\n",
       "    .dataframe tbody tr th {\n",
       "        vertical-align: top;\n",
       "    }\n",
       "\n",
       "    .dataframe thead th {\n",
       "        text-align: right;\n",
       "    }\n",
       "</style>\n",
       "<table border=\"1\" class=\"dataframe\">\n",
       "  <thead>\n",
       "    <tr style=\"text-align: right;\">\n",
       "      <th></th>\n",
       "      <th>index</th>\n",
       "      <th>Customer ID</th>\n",
       "      <th>sales_roll_sum_7D</th>\n",
       "      <th>quantity_roll_sum_7D</th>\n",
       "      <th>last_visit_ndays_int</th>\n",
       "      <th>Segment_Consumer</th>\n",
       "      <th>Segment_Corporate</th>\n",
       "      <th>Segment_Home Office</th>\n",
       "    </tr>\n",
       "  </thead>\n",
       "  <tbody>\n",
       "    <tr>\n",
       "      <th>0</th>\n",
       "      <td>0</td>\n",
       "      <td>AA-10315</td>\n",
       "      <td>374.480</td>\n",
       "      <td>5.000</td>\n",
       "      <td>257.200</td>\n",
       "      <td>1</td>\n",
       "      <td>0</td>\n",
       "      <td>0</td>\n",
       "    </tr>\n",
       "    <tr>\n",
       "      <th>1</th>\n",
       "      <td>1</td>\n",
       "      <td>AA-10375</td>\n",
       "      <td>56.860</td>\n",
       "      <td>5.000</td>\n",
       "      <td>158.889</td>\n",
       "      <td>1</td>\n",
       "      <td>0</td>\n",
       "      <td>0</td>\n",
       "    </tr>\n",
       "    <tr>\n",
       "      <th>2</th>\n",
       "      <td>2</td>\n",
       "      <td>AA-10480</td>\n",
       "      <td>308.490</td>\n",
       "      <td>9.000</td>\n",
       "      <td>294.250</td>\n",
       "      <td>1</td>\n",
       "      <td>0</td>\n",
       "      <td>0</td>\n",
       "    </tr>\n",
       "    <tr>\n",
       "      <th>3</th>\n",
       "      <td>3</td>\n",
       "      <td>AA-10645</td>\n",
       "      <td>717.165</td>\n",
       "      <td>11.500</td>\n",
       "      <td>222.000</td>\n",
       "      <td>1</td>\n",
       "      <td>0</td>\n",
       "      <td>0</td>\n",
       "    </tr>\n",
       "    <tr>\n",
       "      <th>4</th>\n",
       "      <td>4</td>\n",
       "      <td>AB-10015</td>\n",
       "      <td>309.592</td>\n",
       "      <td>4.000</td>\n",
       "      <td>365.333</td>\n",
       "      <td>1</td>\n",
       "      <td>0</td>\n",
       "      <td>0</td>\n",
       "    </tr>\n",
       "    <tr>\n",
       "      <th>...</th>\n",
       "      <td>...</td>\n",
       "      <td>...</td>\n",
       "      <td>...</td>\n",
       "      <td>...</td>\n",
       "      <td>...</td>\n",
       "      <td>...</td>\n",
       "      <td>...</td>\n",
       "      <td>...</td>\n",
       "    </tr>\n",
       "    <tr>\n",
       "      <th>788</th>\n",
       "      <td>788</td>\n",
       "      <td>XP-21865</td>\n",
       "      <td>186.540</td>\n",
       "      <td>8.000</td>\n",
       "      <td>136.091</td>\n",
       "      <td>1</td>\n",
       "      <td>0</td>\n",
       "      <td>0</td>\n",
       "    </tr>\n",
       "    <tr>\n",
       "      <th>789</th>\n",
       "      <td>789</td>\n",
       "      <td>YC-21895</td>\n",
       "      <td>750.680</td>\n",
       "      <td>5.000</td>\n",
       "      <td>247.000</td>\n",
       "      <td>0</td>\n",
       "      <td>1</td>\n",
       "      <td>0</td>\n",
       "    </tr>\n",
       "    <tr>\n",
       "      <th>790</th>\n",
       "      <td>790</td>\n",
       "      <td>YS-21880</td>\n",
       "      <td>457.500</td>\n",
       "      <td>6.000</td>\n",
       "      <td>146.750</td>\n",
       "      <td>0</td>\n",
       "      <td>1</td>\n",
       "      <td>0</td>\n",
       "    </tr>\n",
       "    <tr>\n",
       "      <th>791</th>\n",
       "      <td>791</td>\n",
       "      <td>ZC-21910</td>\n",
       "      <td>148.884</td>\n",
       "      <td>7.000</td>\n",
       "      <td>93.846</td>\n",
       "      <td>1</td>\n",
       "      <td>0</td>\n",
       "      <td>0</td>\n",
       "    </tr>\n",
       "    <tr>\n",
       "      <th>792</th>\n",
       "      <td>792</td>\n",
       "      <td>ZD-21925</td>\n",
       "      <td>244.760</td>\n",
       "      <td>7.000</td>\n",
       "      <td>223.800</td>\n",
       "      <td>1</td>\n",
       "      <td>0</td>\n",
       "      <td>0</td>\n",
       "    </tr>\n",
       "  </tbody>\n",
       "</table>\n",
       "<p>793 rows × 8 columns</p>\n",
       "</div>"
      ],
      "text/plain": [
       "     index Customer ID  sales_roll_sum_7D  quantity_roll_sum_7D  \\\n",
       "0        0    AA-10315            374.480                 5.000   \n",
       "1        1    AA-10375             56.860                 5.000   \n",
       "2        2    AA-10480            308.490                 9.000   \n",
       "3        3    AA-10645            717.165                11.500   \n",
       "4        4    AB-10015            309.592                 4.000   \n",
       "..     ...         ...                ...                   ...   \n",
       "788    788    XP-21865            186.540                 8.000   \n",
       "789    789    YC-21895            750.680                 5.000   \n",
       "790    790    YS-21880            457.500                 6.000   \n",
       "791    791    ZC-21910            148.884                 7.000   \n",
       "792    792    ZD-21925            244.760                 7.000   \n",
       "\n",
       "     last_visit_ndays_int  Segment_Consumer  Segment_Corporate  \\\n",
       "0                 257.200                 1                  0   \n",
       "1                 158.889                 1                  0   \n",
       "2                 294.250                 1                  0   \n",
       "3                 222.000                 1                  0   \n",
       "4                 365.333                 1                  0   \n",
       "..                    ...               ...                ...   \n",
       "788               136.091                 1                  0   \n",
       "789               247.000                 0                  1   \n",
       "790               146.750                 0                  1   \n",
       "791                93.846                 1                  0   \n",
       "792               223.800                 1                  0   \n",
       "\n",
       "     Segment_Home Office  \n",
       "0                      0  \n",
       "1                      0  \n",
       "2                      0  \n",
       "3                      0  \n",
       "4                      0  \n",
       "..                   ...  \n",
       "788                    0  \n",
       "789                    0  \n",
       "790                    0  \n",
       "791                    0  \n",
       "792                    0  \n",
       "\n",
       "[793 rows x 8 columns]"
      ]
     },
     "execution_count": 136,
     "metadata": {},
     "output_type": "execute_result"
    },
    {
     "data": {
      "text/plain": [
       "(793, 7)"
      ]
     },
     "execution_count": 136,
     "metadata": {},
     "output_type": "execute_result"
    }
   ],
   "source": [
    "# Aggregate RFM data per customer and reset the index\n",
    "rfm_agg = transaction_enc.groupby(['Customer ID'],\n",
    "                                  as_index=False).agg({'sales_roll_sum_7D': 'median',\n",
    "                                                       'quantity_roll_sum_7D': 'median',\n",
    "                                                       'last_visit_ndays_int': 'mean',\n",
    "                                                       'Segment_Consumer': 'first',\n",
    "                                                       'Segment_Corporate': 'first',\n",
    "                                                       'Segment_Home Office': 'first'})\n",
    "rfm_agg.reset_index()\n",
    "\n",
    "# Diagnostic output\n",
    "rfm_agg.shape"
   ]
  },
  {
   "cell_type": "markdown",
   "metadata": {},
   "source": [
    "After aggregating the RFM data set per customer, we now have 793 rows, one per customer with RFM values aggregated for median *sales_roll_sum_7D*, median *quantity_roll_sum_7D*, and mean *last_visit_ndays_int*."
   ]
  },
  {
   "cell_type": "markdown",
   "metadata": {},
   "source": [
    "To perform K-means clustering we have to set aside the *Customer ID* column and keep the numeric and encoded fields:"
   ]
  },
  {
   "cell_type": "code",
   "execution_count": 138,
   "metadata": {},
   "outputs": [
    {
     "data": {
      "text/html": [
       "<div>\n",
       "<style scoped>\n",
       "    .dataframe tbody tr th:only-of-type {\n",
       "        vertical-align: middle;\n",
       "    }\n",
       "\n",
       "    .dataframe tbody tr th {\n",
       "        vertical-align: top;\n",
       "    }\n",
       "\n",
       "    .dataframe thead th {\n",
       "        text-align: right;\n",
       "    }\n",
       "</style>\n",
       "<table border=\"1\" class=\"dataframe\">\n",
       "  <thead>\n",
       "    <tr style=\"text-align: right;\">\n",
       "      <th></th>\n",
       "      <th>sales_roll_sum_7D</th>\n",
       "      <th>quantity_roll_sum_7D</th>\n",
       "      <th>last_visit_ndays_int</th>\n",
       "      <th>Segment_Consumer</th>\n",
       "      <th>Segment_Corporate</th>\n",
       "      <th>Segment_Home Office</th>\n",
       "    </tr>\n",
       "  </thead>\n",
       "  <tbody>\n",
       "    <tr>\n",
       "      <th>0</th>\n",
       "      <td>374.480</td>\n",
       "      <td>5.000</td>\n",
       "      <td>257.200</td>\n",
       "      <td>1</td>\n",
       "      <td>0</td>\n",
       "      <td>0</td>\n",
       "    </tr>\n",
       "    <tr>\n",
       "      <th>1</th>\n",
       "      <td>56.860</td>\n",
       "      <td>5.000</td>\n",
       "      <td>158.889</td>\n",
       "      <td>1</td>\n",
       "      <td>0</td>\n",
       "      <td>0</td>\n",
       "    </tr>\n",
       "    <tr>\n",
       "      <th>2</th>\n",
       "      <td>308.490</td>\n",
       "      <td>9.000</td>\n",
       "      <td>294.250</td>\n",
       "      <td>1</td>\n",
       "      <td>0</td>\n",
       "      <td>0</td>\n",
       "    </tr>\n",
       "    <tr>\n",
       "      <th>3</th>\n",
       "      <td>717.165</td>\n",
       "      <td>11.500</td>\n",
       "      <td>222.000</td>\n",
       "      <td>1</td>\n",
       "      <td>0</td>\n",
       "      <td>0</td>\n",
       "    </tr>\n",
       "    <tr>\n",
       "      <th>4</th>\n",
       "      <td>309.592</td>\n",
       "      <td>4.000</td>\n",
       "      <td>365.333</td>\n",
       "      <td>1</td>\n",
       "      <td>0</td>\n",
       "      <td>0</td>\n",
       "    </tr>\n",
       "  </tbody>\n",
       "</table>\n",
       "</div>"
      ],
      "text/plain": [
       "   sales_roll_sum_7D  quantity_roll_sum_7D  last_visit_ndays_int  \\\n",
       "0            374.480                 5.000               257.200   \n",
       "1             56.860                 5.000               158.889   \n",
       "2            308.490                 9.000               294.250   \n",
       "3            717.165                11.500               222.000   \n",
       "4            309.592                 4.000               365.333   \n",
       "\n",
       "   Segment_Consumer  Segment_Corporate  Segment_Home Office  \n",
       "0                 1                  0                    0  \n",
       "1                 1                  0                    0  \n",
       "2                 1                  0                    0  \n",
       "3                 1                  0                    0  \n",
       "4                 1                  0                    0  "
      ]
     },
     "execution_count": 138,
     "metadata": {},
     "output_type": "execute_result"
    }
   ],
   "source": [
    "# Set aside customer ID's in an array\n",
    "customer_ids = np.array(rfm_agg['Customer ID'].values)\n",
    "\n",
    "# Drop customer ID from the data set to keep only numeric columns\n",
    "rfm_agg = rfm_agg.drop(['Customer ID'], axis=1)\n",
    "\n",
    "# Display updated data set\n",
    "rfm_agg.head()"
   ]
  },
  {
   "cell_type": "markdown",
   "metadata": {},
   "source": [
    "Here we use a function to determine a suitable number of clusters using the \"elbow\" method:"
   ]
  },
  {
   "cell_type": "code",
   "execution_count": 139,
   "metadata": {},
   "outputs": [
    {
     "data": {
      "text/plain": [
       "[<matplotlib.lines.Line2D at 0xa6ad700548>]"
      ]
     },
     "execution_count": 139,
     "metadata": {},
     "output_type": "execute_result"
    },
    {
     "data": {
      "text/plain": [
       "Text(0.5, 0, 'k')"
      ]
     },
     "execution_count": 139,
     "metadata": {},
     "output_type": "execute_result"
    },
    {
     "data": {
      "text/plain": [
       "Text(0, 0.5, 'Sum of squared distances')"
      ]
     },
     "execution_count": 139,
     "metadata": {},
     "output_type": "execute_result"
    },
    {
     "data": {
      "text/plain": [
       "Text(0.5, 1.0, 'Elbow Method For Optimal k')"
      ]
     },
     "execution_count": 139,
     "metadata": {},
     "output_type": "execute_result"
    },
    {
     "data": {
      "image/png": "[encoded data removed]",
      "text/plain": [
       "<Figure size 432x288 with 1 Axes>"
      ]
     },
     "metadata": {
      "needs_background": "light"
     },
     "output_type": "display_data"
    }
   ],
   "source": [
    "# Compute sums of squares per number of clusters for plotting \"elbow\"\n",
    "sum_of_sqs = []\n",
    "K = range(2,8)\n",
    "for k in K:\n",
    "    km = KMeans(n_clusters=k).fit(rfm_agg)\n",
    "    sum_of_sqs.append(km.inertia_)\n",
    "\n",
    "# Display \"elbow\" plot\n",
    "plt.plot(K, sum_of_sqs, 'bx-')\n",
    "plt.xlabel('k')\n",
    "plt.ylabel('Sum of squared distances')\n",
    "plt.title('Elbow Method For Optimal k')\n",
    "plt.show()"
   ]
  },
  {
   "cell_type": "markdown",
   "metadata": {},
   "source": [
    "The \"elbow\" appears at 3 clusters, so we choose 3 as our number of clusters for segmentation:"
   ]
  },
  {
   "cell_type": "code",
   "execution_count": 87,
   "metadata": {},
   "outputs": [],
   "source": [
    "# Set number of clusters based on \"elbow\" method\n",
    "CLUSTERS = 3"
   ]
  },
  {
   "cell_type": "markdown",
   "metadata": {},
   "source": [
    "Now we perform K-means clustering and extract the cluster assignments:"
   ]
  },
  {
   "cell_type": "code",
   "execution_count": 140,
   "metadata": {},
   "outputs": [],
   "source": [
    "# Fit K-means clusters to aggregated RFM data per customer\n",
    "kmeans = KMeans(init='k-means++', n_clusters=CLUSTERS).fit(rfm_agg)\n",
    "\n",
    "# Assign clusters per customer\n",
    "classes = kmeans.predict(rfm_agg)"
   ]
  },
  {
   "cell_type": "markdown",
   "metadata": {},
   "source": [
    "To interpret the results, we examine the principal components:"
   ]
  },
  {
   "cell_type": "code",
   "execution_count": 141,
   "metadata": {},
   "outputs": [],
   "source": [
    "# Perform PCA decomposition on the K-means data set\n",
    "pca = PCA(n_components=len(rfm_agg.columns))\n",
    "pc = pca.fit_transform(rfm_agg)\n",
    "\n",
    "# Extract the explained variance per component\n",
    "explained_variance_ratio = np.sort(np.array(pca.explained_variance_ratio_))[::-1]"
   ]
  },
  {
   "cell_type": "markdown",
   "metadata": {},
   "source": [
    "Display the explained variance for each of the three resulting components:"
   ]
  },
  {
   "cell_type": "code",
   "execution_count": 142,
   "metadata": {},
   "outputs": [
    {
     "name": "stdout",
     "output_type": "stream",
     "text": [
      "Principal Component 1:\n",
      "Percent of variance explained is 89.8%\n",
      "\n",
      "Principal component 1, least and most significant features by score:\n",
      "Least significant feature(s) (negative end of axis of variation)\n",
      "   score              feature\n",
      "3 -0.000     Segment_Consumer\n",
      "5 -0.000  Segment_Home Office\n",
      "4  0.000    Segment_Corporate\n",
      "\n",
      "Most significant feature(s) (positive end of axis of variation)\n",
      "   score               feature\n",
      "1  0.006  quantity_roll_sum_7D\n",
      "2  0.037  last_visit_ndays_int\n",
      "0  0.999     sales_roll_sum_7D\n",
      "\n",
      "\n",
      "Principal Component 2:\n",
      "Percent of variance explained is 10.19%\n",
      "\n",
      "Principal component 2, least and most significant features by score:\n",
      "Least significant feature(s) (negative end of axis of variation)\n",
      "   score               feature\n",
      "0 -0.037     sales_roll_sum_7D\n",
      "1 -0.003  quantity_roll_sum_7D\n",
      "4 -0.000     Segment_Corporate\n",
      "\n",
      "Most significant feature(s) (positive end of axis of variation)\n",
      "   score               feature\n",
      "3  0.000      Segment_Consumer\n",
      "5  0.000   Segment_Home Office\n",
      "2  0.999  last_visit_ndays_int\n",
      "\n",
      "\n",
      "Principal Component 3:\n",
      "Percent of variance explained is 0.01%\n",
      "\n",
      "Principal component 3, least and most significant features by score:\n",
      "Least significant feature(s) (negative end of axis of variation)\n",
      "   score              feature\n",
      "0 -0.006    sales_roll_sum_7D\n",
      "3 -0.005     Segment_Consumer\n",
      "5  0.002  Segment_Home Office\n",
      "\n",
      "Most significant feature(s) (positive end of axis of variation)\n",
      "   score               feature\n",
      "2  0.003  last_visit_ndays_int\n",
      "4  0.003     Segment_Corporate\n",
      "1  1.000  quantity_roll_sum_7D\n",
      "\n",
      "\n"
     ]
    }
   ],
   "source": [
    "# First component\n",
    "analyze_pca(rfm_agg, 0, pca.components_, explained_variance_ratio)\n",
    "\n",
    "# Second component\n",
    "analyze_pca(rfm_agg, 1, pca.components_, explained_variance_ratio)\n",
    "\n",
    "# Third component\n",
    "analyze_pca(rfm_agg, 2, pca.components_, explained_variance_ratio)"
   ]
  },
  {
   "cell_type": "markdown",
   "metadata": {},
   "source": [
    "The first component accounts for almost 90% of the variance, while the second component accounts for nearly all the rest of the variance at 10%. The most significant feature for the first component is the rolling sales figure, while the most significant feature for the second component is the number of days since the last visit. The *Segment* category does not seem to contribute significantly to the analysis."
   ]
  },
  {
   "cell_type": "markdown",
   "metadata": {},
   "source": [
    "Now we plot our clusters against the first two principal components, indicating clusters by color: "
   ]
  },
  {
   "cell_type": "code",
   "execution_count": 143,
   "metadata": {},
   "outputs": [
    {
     "data": {
      "text/plain": [
       "Text(0.5, 0, 'Principal Component 1')"
      ]
     },
     "execution_count": 143,
     "metadata": {},
     "output_type": "execute_result"
    },
    {
     "data": {
      "text/plain": [
       "Text(0, 0.5, 'Principal Component 2')"
      ]
     },
     "execution_count": 143,
     "metadata": {},
     "output_type": "execute_result"
    },
    {
     "data": {
      "text/plain": [
       "Text(0.5, 0.98, 'Clusters by Color - Principal Components 1 and 2')"
      ]
     },
     "execution_count": 143,
     "metadata": {},
     "output_type": "execute_result"
    },
    {
     "data": {
      "text/plain": [
       "Text(0.5, 1.0, '(K = 3, with dimensionality reduction)')"
      ]
     },
     "execution_count": 143,
     "metadata": {},
     "output_type": "execute_result"
    },
    {
     "data": {
      "text/plain": [
       "<matplotlib.collections.PathCollection at 0xa6ad77efc8>"
      ]
     },
     "execution_count": 143,
     "metadata": {},
     "output_type": "execute_result"
    },
    {
     "data": {
      "image/png": "[encoded data removed]",
      "text/plain": [
       "<Figure size 432x288 with 1 Axes>"
      ]
     },
     "metadata": {
      "needs_background": "light"
     },
     "output_type": "display_data"
    }
   ],
   "source": [
    "# Plot the cluster against the first two principal components\n",
    "plt.xlabel('Principal Component 1')\n",
    "plt.ylabel('Principal Component 2')\n",
    "plt.suptitle('Clusters by Color - Principal Components 1 and 2')\n",
    "plt.title('(K = ' + str(CLUSTERS) + ', with dimensionality reduction)')\n",
    "plt.scatter(pc[:, 0], pc[:, 1], c=classes, s=1, cmap='rainbow')\n",
    "plt.show()"
   ]
  },
  {
   "cell_type": "markdown",
   "metadata": {},
   "source": [
    "Note: there may be some variability between K-means runs! The cluster boundaries are not clearly differentiated. Customers are distributed along a spectrum according to their rolling sales figures (principal component 1). Each band of customers reflects essentially the full range of recency values. As rolling sales figures increase, the clusters become more diffuse."
   ]
  },
  {
   "cell_type": "markdown",
   "metadata": {},
   "source": [
    "Next we examine the centroids of each cluster and their properties:"
   ]
  },
  {
   "cell_type": "code",
   "execution_count": 146,
   "metadata": {},
   "outputs": [
    {
     "name": "stdout",
     "output_type": "stream",
     "text": [
      "CLUSTER 1 CENTER:  PM-19135\n",
      "Rolling sales:     375.644\n",
      "Rolling quantity:  6.5\n",
      "Recency:           197.8\n",
      "Is corporate?      0\n",
      "Is consumer?       0\n",
      "Is home office?    1\n",
      "Color of points:   violet\n",
      "\n",
      "CLUSTER 2 CENTER:  EM-13960\n",
      "Rolling sales:     120.46199999999999\n",
      "Rolling quantity:  3.0\n",
      "Recency:           192.5\n",
      "Is corporate?      0\n",
      "Is consumer?       1\n",
      "Is home office?    0\n",
      "Color of points:   sea green\n",
      "\n",
      "CLUSTER 3 CENTER:  EM-14140\n",
      "Rolling sales:     889.81\n",
      "Rolling quantity:  8.5\n",
      "Recency:           218.7\n",
      "Is corporate?      0\n",
      "Is consumer?       0\n",
      "Is home office?    1\n",
      "Color of points:   red\n",
      "\n"
     ]
    }
   ],
   "source": [
    "# Identify colors in k-means plot\n",
    "norm = mpl.colors.Normalize(vmin=0, vmax=CLUSTERS-1)\n",
    "cmap = cm.rainbow\n",
    "smappable = cm.ScalarMappable(norm=norm, cmap=cmap)\n",
    "\n",
    "# Display the centroids and their properties\n",
    "points, _ = pairwise_distances_argmin_min(kmeans.cluster_centers_, rfm_agg)\n",
    "i = 0\n",
    "for point in range(len(points)):\n",
    "    \n",
    "    print('CLUSTER ' + str(i + 1) + ' CENTER: ', customer_ids[points[point]])\n",
    "    print('Rolling sales:    ', str(rfm_agg['sales_roll_sum_7D'].values[points[point]]))\n",
    "    print('Rolling quantity: ', str(rfm_agg['quantity_roll_sum_7D'].values[points[point]]))\n",
    "    print('Recency:          ', str(round(rfm_agg['last_visit_ndays_int'].values[points[point]], 1)))\n",
    "    print('Is corporate?     ', str(rfm_agg['Segment_Corporate'].values[points[point]]))\n",
    "    print('Is consumer?      ', str(rfm_agg['Segment_Consumer'].values[points[point]]))\n",
    "    print('Is home office?   ', str(rfm_agg['Segment_Home Office'].values[points[point]]))\n",
    "    print('Color of points:  ', \n",
    "          color_name_from_rainbow_color_map(colors.rgb2hex(smappable.to_rgba(i))))\n",
    "    print('')\n",
    "\n",
    "    i = i + 1"
   ]
  },
  {
   "cell_type": "markdown",
   "metadata": {},
   "source": [
    "Examination of the cluster centroids reveals that rolling sales is the predominent feature distinguishing the groups, while the recency and the segment to which a customer belongs is neutral. Not surprisingly the rolling quantity tracks with rolling sales. The primary contributing feature to our customer segmentation is rolling weekly sales."
   ]
  },
  {
   "cell_type": "markdown",
   "metadata": {},
   "source": [
    "## 4. Describe your results"
   ]
  },
  {
   "cell_type": "markdown",
   "metadata": {},
   "source": [
    "After loading the data set (Part 1), the results of Part 2 consisted of a new data set of aggregated sales, quantity, and recency figures derived from individual transactions by customer and order date. The results of Part 2 were then used in Part 3 to perfom a segmentation analysis by customer.\n",
    "\n",
    "The first part of the segmentation analysis required us to aggregate the RFM results from Part 2 by customer. The following six features were used for customer segmentation:\n",
    "1. *monetary* represented by the *sales_roll_sum_7D* column\n",
    "1. *frequency* represented by the *quantity_roll_sum_7D* column\n",
    "1. *recency* represented by the *last_visit_ndays* column\n",
    "1. *Segment_Consumer* if the customer belongs to the *consumer* segment\n",
    "1. *Segment_Corporate* if the customer belongs to the *corporate* segment\n",
    "1. *Segment_Home Office* the customer belongs to the *home office* segment\n",
    "\n",
    "The second part of the segmentation analysis was to perform K-means clustering on the RFM data set aggregated by customer. We found three clusters to be the optimal division of clusters by the \"elbow\" method.\n",
    "\n",
    "The third part of the segmentation analysis consisted of an analysis of the principal components of the RFM data set aggregated by customer in which we plotted the clusters against the first two principal components. The first principal component was found to account for nearly 90% of the variance in the data set, while the second principal component accounted for the remaining 10% of variance. The most significant feature along the first principal component was rolling sales (*monetory*), while the most significant feature along the second component was days between sales (*recency*). Customer segment did not contribute significantly to the placement of customers by cluster. Rolling quantity (*frequency*) tracked with rolling sales.\n",
    "\n",
    "In sum, we found that cluster boundaries were not clearly differentiated. As noted above, customers tend to distribute along a spectrum according to their rolling sales figures (principal component 1), while each cluster reflects essentially the full range of recency values. As rolling sales figures increase, the clusters become more diffuse with fewer customer at the high end."
   ]
  }
 ],
 "metadata": {
  "kernelspec": {
   "display_name": "Python 3",
   "language": "python",
   "name": "python3"
  },
  "language_info": {
   "codemirror_mode": {
    "name": "ipython",
    "version": 3
   },
   "file_extension": ".py",
   "mimetype": "text/x-python",
   "name": "python",
   "nbconvert_exporter": "python",
   "pygments_lexer": "ipython3",
   "version": "3.7.7"
  }
 },
 "nbformat": 4,
 "nbformat_minor": 2
}
