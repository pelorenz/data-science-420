{
 "cells": [
  {
   "cell_type": "markdown",
   "metadata": {},
   "source": [
    "# Lesson 03\n",
    "# Peter Lorenz"
   ]
  },
  {
   "cell_type": "markdown",
   "metadata": {},
   "source": [
    "## 0. Preliminaries\n",
    "First import the required libraries:"
   ]
  },
  {
   "cell_type": "code",
   "execution_count": 117,
   "metadata": {},
   "outputs": [],
   "source": [
    "import numpy as np\n",
    "import pandas as pd\n",
    "\n",
    "from matplotlib import cm\n",
    "from matplotlib import colors\n",
    "from sklearn.cluster import KMeans\n",
    "from sklearn.decomposition import PCA\n",
    "from sklearn.metrics import pairwise_distances_argmin_min\n",
    "\n",
    "import matplotlib as mpl\n",
    "import matplotlib.pyplot as plt"
   ]
  },
  {
   "cell_type": "markdown",
   "metadata": {},
   "source": [
    "Check pandas version:"
   ]
  },
  {
   "cell_type": "code",
   "execution_count": 3,
   "metadata": {},
   "outputs": [
    {
     "name": "stdout",
     "output_type": "stream",
     "text": [
      "Pandas version: 1.0.3\n"
     ]
    }
   ],
   "source": [
    "print(\"Pandas version: \" + pd.__version__)"
   ]
  },
  {
   "cell_type": "markdown",
   "metadata": {},
   "source": [
    "Set some global options:"
   ]
  },
  {
   "cell_type": "code",
   "execution_count": 6,
   "metadata": {},
   "outputs": [],
   "source": [
    "# Display plots inline\n",
    "%matplotlib inline\n",
    "\n",
    "# Display multiple cell outputs\n",
    "from IPython.core.interactiveshell import InteractiveShell\n",
    "InteractiveShell.ast_node_interactivity = \"all\"\n",
    "\n",
    "# Suppress scientific notation\n",
    "np.set_printoptions(suppress=True)\n",
    "np.set_printoptions(precision=3)\n",
    "pd.set_option('display.float_format', lambda x: '%.3f' % x)"
   ]
  },
  {
   "cell_type": "markdown",
   "metadata": {},
   "source": [
    "Utility and convenience functions:"
   ]
  },
  {
   "cell_type": "code",
   "execution_count": 120,
   "metadata": {},
   "outputs": [],
   "source": [
    "# Principal components analysis of axes of variation for k-means clustering\n",
    "def analyze_pca(df, index, components, explained_variance_ratio):\n",
    "    print('Principal Component ' + str(index + 1) + ':')\n",
    "    print('Percent of variance explained is ' + \\\n",
    "          str((explained_variance_ratio[index]*100).round(2)) + '%')\n",
    "    print('')\n",
    "    \n",
    "    pc_df = pd.DataFrame({'score':components[index], 'feature':df.columns})\n",
    "    pc_df = pc_df.sort_values('score')\n",
    "    print('Principal component ' + str(index + 1) + \\\n",
    "          ', least and most significant features by score:')\n",
    "    print('Least significant feature (negative end of axis of variation)')\n",
    "    print(pc_df.iloc[0:1])\n",
    "    print('')\n",
    "\n",
    "    print('Most significant feature (positive end of axis of variation)')\n",
    "    print(pc_df.iloc[-1:])\n",
    "    print('')\n",
    "    print('')\n",
    "\n",
    "# Utility function to convert arbitrary hex color values to color names, used for k-means plotting\n",
    "# There is no attempt at a general solution: add additional colors as needed\n",
    "# The current colors derive from matplotlib's 'rainbow' color map normalized to particular number of clusters to render\n",
    "def color_name_from_rainbow_color_map(hex_value):\n",
    "    if hex_value == '#8000ff':\n",
    "        return 'violet'\n",
    "    if hex_value == '#1996f3':\n",
    "        return 'blue'\n",
    "    if hex_value == '#80ffb4':\n",
    "        return 'sea green'\n",
    "    if hex_value == '#b2f396':\n",
    "        return 'yellow-green'\n",
    "    if hex_value == '#ff964f':\n",
    "        return 'orange'\n",
    "    if hex_value == '#ff0000':\n",
    "        return 'red'"
   ]
  },
  {
   "cell_type": "markdown",
   "metadata": {},
   "source": [
    "## 1. Read Data\n",
    "\n",
    "Next import the data set:"
   ]
  },
  {
   "cell_type": "code",
   "execution_count": 47,
   "metadata": {},
   "outputs": [
    {
     "data": {
      "text/plain": [
       "(9994, 21)"
      ]
     },
     "execution_count": 47,
     "metadata": {},
     "output_type": "execute_result"
    },
    {
     "data": {
      "text/html": [
       "<div>\n",
       "<style scoped>\n",
       "    .dataframe tbody tr th:only-of-type {\n",
       "        vertical-align: middle;\n",
       "    }\n",
       "\n",
       "    .dataframe tbody tr th {\n",
       "        vertical-align: top;\n",
       "    }\n",
       "\n",
       "    .dataframe thead th {\n",
       "        text-align: right;\n",
       "    }\n",
       "</style>\n",
       "<table border=\"1\" class=\"dataframe\">\n",
       "  <thead>\n",
       "    <tr style=\"text-align: right;\">\n",
       "      <th></th>\n",
       "      <th>Row ID</th>\n",
       "      <th>Order ID</th>\n",
       "      <th>Order Date</th>\n",
       "      <th>Ship Date</th>\n",
       "      <th>Ship Mode</th>\n",
       "      <th>Customer ID</th>\n",
       "      <th>Customer Name</th>\n",
       "      <th>Segment</th>\n",
       "      <th>Country</th>\n",
       "      <th>City</th>\n",
       "      <th>...</th>\n",
       "      <th>Postal Code</th>\n",
       "      <th>Region</th>\n",
       "      <th>Product ID</th>\n",
       "      <th>Category</th>\n",
       "      <th>Sub-Category</th>\n",
       "      <th>Product Name</th>\n",
       "      <th>Sales</th>\n",
       "      <th>Quantity</th>\n",
       "      <th>Discount</th>\n",
       "      <th>Profit</th>\n",
       "    </tr>\n",
       "  </thead>\n",
       "  <tbody>\n",
       "    <tr>\n",
       "      <th>0</th>\n",
       "      <td>1</td>\n",
       "      <td>CA-2016-152156</td>\n",
       "      <td>11/8/2016</td>\n",
       "      <td>11/11/2016</td>\n",
       "      <td>Second Class</td>\n",
       "      <td>CG-12520</td>\n",
       "      <td>Claire Gute</td>\n",
       "      <td>Consumer</td>\n",
       "      <td>United States</td>\n",
       "      <td>Henderson</td>\n",
       "      <td>...</td>\n",
       "      <td>42420</td>\n",
       "      <td>South</td>\n",
       "      <td>FUR-BO-10001798</td>\n",
       "      <td>Furniture</td>\n",
       "      <td>Bookcases</td>\n",
       "      <td>Bush Somerset Collection Bookcase</td>\n",
       "      <td>261.960</td>\n",
       "      <td>2</td>\n",
       "      <td>0.000</td>\n",
       "      <td>41.914</td>\n",
       "    </tr>\n",
       "    <tr>\n",
       "      <th>1</th>\n",
       "      <td>2</td>\n",
       "      <td>CA-2016-152156</td>\n",
       "      <td>11/8/2016</td>\n",
       "      <td>11/11/2016</td>\n",
       "      <td>Second Class</td>\n",
       "      <td>CG-12520</td>\n",
       "      <td>Claire Gute</td>\n",
       "      <td>Consumer</td>\n",
       "      <td>United States</td>\n",
       "      <td>Henderson</td>\n",
       "      <td>...</td>\n",
       "      <td>42420</td>\n",
       "      <td>South</td>\n",
       "      <td>FUR-CH-10000454</td>\n",
       "      <td>Furniture</td>\n",
       "      <td>Chairs</td>\n",
       "      <td>Hon Deluxe Fabric Upholstered Stacking Chairs,...</td>\n",
       "      <td>731.940</td>\n",
       "      <td>3</td>\n",
       "      <td>0.000</td>\n",
       "      <td>219.582</td>\n",
       "    </tr>\n",
       "    <tr>\n",
       "      <th>2</th>\n",
       "      <td>3</td>\n",
       "      <td>CA-2016-138688</td>\n",
       "      <td>6/12/2016</td>\n",
       "      <td>6/16/2016</td>\n",
       "      <td>Second Class</td>\n",
       "      <td>DV-13045</td>\n",
       "      <td>Darrin Van Huff</td>\n",
       "      <td>Corporate</td>\n",
       "      <td>United States</td>\n",
       "      <td>Los Angeles</td>\n",
       "      <td>...</td>\n",
       "      <td>90036</td>\n",
       "      <td>West</td>\n",
       "      <td>OFF-LA-10000240</td>\n",
       "      <td>Office Supplies</td>\n",
       "      <td>Labels</td>\n",
       "      <td>Self-Adhesive Address Labels for Typewriters b...</td>\n",
       "      <td>14.620</td>\n",
       "      <td>2</td>\n",
       "      <td>0.000</td>\n",
       "      <td>6.871</td>\n",
       "    </tr>\n",
       "    <tr>\n",
       "      <th>3</th>\n",
       "      <td>4</td>\n",
       "      <td>US-2015-108966</td>\n",
       "      <td>10/11/2015</td>\n",
       "      <td>10/18/2015</td>\n",
       "      <td>Standard Class</td>\n",
       "      <td>SO-20335</td>\n",
       "      <td>Sean O'Donnell</td>\n",
       "      <td>Consumer</td>\n",
       "      <td>United States</td>\n",
       "      <td>Fort Lauderdale</td>\n",
       "      <td>...</td>\n",
       "      <td>33311</td>\n",
       "      <td>South</td>\n",
       "      <td>FUR-TA-10000577</td>\n",
       "      <td>Furniture</td>\n",
       "      <td>Tables</td>\n",
       "      <td>Bretford CR4500 Series Slim Rectangular Table</td>\n",
       "      <td>957.577</td>\n",
       "      <td>5</td>\n",
       "      <td>0.450</td>\n",
       "      <td>-383.031</td>\n",
       "    </tr>\n",
       "    <tr>\n",
       "      <th>4</th>\n",
       "      <td>5</td>\n",
       "      <td>US-2015-108966</td>\n",
       "      <td>10/11/2015</td>\n",
       "      <td>10/18/2015</td>\n",
       "      <td>Standard Class</td>\n",
       "      <td>SO-20335</td>\n",
       "      <td>Sean O'Donnell</td>\n",
       "      <td>Consumer</td>\n",
       "      <td>United States</td>\n",
       "      <td>Fort Lauderdale</td>\n",
       "      <td>...</td>\n",
       "      <td>33311</td>\n",
       "      <td>South</td>\n",
       "      <td>OFF-ST-10000760</td>\n",
       "      <td>Office Supplies</td>\n",
       "      <td>Storage</td>\n",
       "      <td>Eldon Fold 'N Roll Cart System</td>\n",
       "      <td>22.368</td>\n",
       "      <td>2</td>\n",
       "      <td>0.200</td>\n",
       "      <td>2.516</td>\n",
       "    </tr>\n",
       "  </tbody>\n",
       "</table>\n",
       "<p>5 rows × 21 columns</p>\n",
       "</div>"
      ],
      "text/plain": [
       "   Row ID        Order ID  Order Date   Ship Date       Ship Mode Customer ID  \\\n",
       "0       1  CA-2016-152156   11/8/2016  11/11/2016    Second Class    CG-12520   \n",
       "1       2  CA-2016-152156   11/8/2016  11/11/2016    Second Class    CG-12520   \n",
       "2       3  CA-2016-138688   6/12/2016   6/16/2016    Second Class    DV-13045   \n",
       "3       4  US-2015-108966  10/11/2015  10/18/2015  Standard Class    SO-20335   \n",
       "4       5  US-2015-108966  10/11/2015  10/18/2015  Standard Class    SO-20335   \n",
       "\n",
       "     Customer Name    Segment        Country             City  ...  \\\n",
       "0      Claire Gute   Consumer  United States        Henderson  ...   \n",
       "1      Claire Gute   Consumer  United States        Henderson  ...   \n",
       "2  Darrin Van Huff  Corporate  United States      Los Angeles  ...   \n",
       "3   Sean O'Donnell   Consumer  United States  Fort Lauderdale  ...   \n",
       "4   Sean O'Donnell   Consumer  United States  Fort Lauderdale  ...   \n",
       "\n",
       "  Postal Code  Region       Product ID         Category Sub-Category  \\\n",
       "0       42420   South  FUR-BO-10001798        Furniture    Bookcases   \n",
       "1       42420   South  FUR-CH-10000454        Furniture       Chairs   \n",
       "2       90036    West  OFF-LA-10000240  Office Supplies       Labels   \n",
       "3       33311   South  FUR-TA-10000577        Furniture       Tables   \n",
       "4       33311   South  OFF-ST-10000760  Office Supplies      Storage   \n",
       "\n",
       "                                        Product Name   Sales  Quantity  \\\n",
       "0                  Bush Somerset Collection Bookcase 261.960         2   \n",
       "1  Hon Deluxe Fabric Upholstered Stacking Chairs,... 731.940         3   \n",
       "2  Self-Adhesive Address Labels for Typewriters b...  14.620         2   \n",
       "3      Bretford CR4500 Series Slim Rectangular Table 957.577         5   \n",
       "4                     Eldon Fold 'N Roll Cart System  22.368         2   \n",
       "\n",
       "   Discount   Profit  \n",
       "0     0.000   41.914  \n",
       "1     0.000  219.582  \n",
       "2     0.000    6.871  \n",
       "3     0.450 -383.031  \n",
       "4     0.200    2.516  \n",
       "\n",
       "[5 rows x 21 columns]"
      ]
     },
     "execution_count": 47,
     "metadata": {},
     "output_type": "execute_result"
    }
   ],
   "source": [
    "# Internet location of the data set\n",
    "url = \"https://library.startlearninglabs.uw.edu/DATASCI420/2019/Datasets/SuperstoreTransaction.csv\"\n",
    "\n",
    "# Download the data into a dataframe object\n",
    "transaction_data = pd.read_csv(url)\n",
    "\n",
    "# Display shape and initial data\n",
    "transaction_data.shape\n",
    "transaction_data.head()"
   ]
  },
  {
   "cell_type": "markdown",
   "metadata": {},
   "source": [
    "Note that there are 9994 transactions in the data set and 21 columns."
   ]
  },
  {
   "cell_type": "markdown",
   "metadata": {},
   "source": [
    "## 2. Calculate the Recency, Frequency, Monitory for each customer"
   ]
  },
  {
   "cell_type": "markdown",
   "metadata": {},
   "source": [
    "In this section, we compute the *recency*, *frequency*, and *monitory* for each customer. First we check the data types of the columns in our data set to determine whether any data type conversions are necessary:"
   ]
  },
  {
   "cell_type": "code",
   "execution_count": 48,
   "metadata": {},
   "outputs": [
    {
     "name": "stdout",
     "output_type": "stream",
     "text": [
      "<class 'pandas.core.frame.DataFrame'>\n",
      "RangeIndex: 9994 entries, 0 to 9993\n",
      "Data columns (total 21 columns):\n",
      " #   Column         Non-Null Count  Dtype  \n",
      "---  ------         --------------  -----  \n",
      " 0   Row ID         9994 non-null   int64  \n",
      " 1   Order ID       9994 non-null   object \n",
      " 2   Order Date     9994 non-null   object \n",
      " 3   Ship Date      9994 non-null   object \n",
      " 4   Ship Mode      9994 non-null   object \n",
      " 5   Customer ID    9994 non-null   object \n",
      " 6   Customer Name  9994 non-null   object \n",
      " 7   Segment        9994 non-null   object \n",
      " 8   Country        9994 non-null   object \n",
      " 9   City           9994 non-null   object \n",
      " 10  State          9994 non-null   object \n",
      " 11  Postal Code    9994 non-null   int64  \n",
      " 12  Region         9994 non-null   object \n",
      " 13  Product ID     9994 non-null   object \n",
      " 14  Category       9994 non-null   object \n",
      " 15  Sub-Category   9994 non-null   object \n",
      " 16  Product Name   9994 non-null   object \n",
      " 17  Sales          9994 non-null   float64\n",
      " 18  Quantity       9994 non-null   int64  \n",
      " 19  Discount       9994 non-null   float64\n",
      " 20  Profit         9994 non-null   float64\n",
      "dtypes: float64(3), int64(3), object(15)\n",
      "memory usage: 1.6+ MB\n"
     ]
    }
   ],
   "source": [
    "# Display info for each column including data type\n",
    "transaction_data.info()"
   ]
  },
  {
   "cell_type": "markdown",
   "metadata": {},
   "source": [
    "Our date features appear to be represented in the data set as strings, so we convert them to the datetime data type:"
   ]
  },
  {
   "cell_type": "code",
   "execution_count": 49,
   "metadata": {},
   "outputs": [],
   "source": [
    "# Convert date columns to datetime data type\n",
    "transaction_data['Order Date'] = pd.to_datetime(transaction_data['Order Date'],\n",
    "                                                format = '%m/%d/%Y')\n",
    "transaction_data['Ship Date'] = pd.to_datetime(transaction_data['Ship Date'],\n",
    "                                               format = '%m/%d/%Y')"
   ]
  },
  {
   "cell_type": "markdown",
   "metadata": {},
   "source": [
    "Because the transactions in the data set represent transactions rather than daily spending, we must perform aggregation on the individual transactions to obtain daily spending data per customer. We use the date of the order rather than the ship date as the date on which the transaction occurred:"
   ]
  },
  {
   "cell_type": "code",
   "execution_count": 64,
   "metadata": {},
   "outputs": [
    {
     "data": {
      "text/html": [
       "<div>\n",
       "<style scoped>\n",
       "    .dataframe tbody tr th:only-of-type {\n",
       "        vertical-align: middle;\n",
       "    }\n",
       "\n",
       "    .dataframe tbody tr th {\n",
       "        vertical-align: top;\n",
       "    }\n",
       "\n",
       "    .dataframe thead th {\n",
       "        text-align: right;\n",
       "    }\n",
       "</style>\n",
       "<table border=\"1\" class=\"dataframe\">\n",
       "  <thead>\n",
       "    <tr style=\"text-align: right;\">\n",
       "      <th></th>\n",
       "      <th>index</th>\n",
       "      <th>Customer ID</th>\n",
       "      <th>Order Date</th>\n",
       "      <th>Sales</th>\n",
       "      <th>Quantity</th>\n",
       "      <th>Region</th>\n",
       "      <th>Segment</th>\n",
       "    </tr>\n",
       "  </thead>\n",
       "  <tbody>\n",
       "    <tr>\n",
       "      <th>0</th>\n",
       "      <td>0</td>\n",
       "      <td>AA-10315</td>\n",
       "      <td>2014-03-31</td>\n",
       "      <td>726.548</td>\n",
       "      <td>4</td>\n",
       "      <td>West</td>\n",
       "      <td>Consumer</td>\n",
       "    </tr>\n",
       "    <tr>\n",
       "      <th>1</th>\n",
       "      <td>1</td>\n",
       "      <td>AA-10315</td>\n",
       "      <td>2014-09-15</td>\n",
       "      <td>29.500</td>\n",
       "      <td>5</td>\n",
       "      <td>East</td>\n",
       "      <td>Consumer</td>\n",
       "    </tr>\n",
       "    <tr>\n",
       "      <th>2</th>\n",
       "      <td>2</td>\n",
       "      <td>AA-10315</td>\n",
       "      <td>2015-10-04</td>\n",
       "      <td>26.960</td>\n",
       "      <td>2</td>\n",
       "      <td>West</td>\n",
       "      <td>Consumer</td>\n",
       "    </tr>\n",
       "    <tr>\n",
       "      <th>3</th>\n",
       "      <td>3</td>\n",
       "      <td>AA-10315</td>\n",
       "      <td>2016-03-03</td>\n",
       "      <td>4406.072</td>\n",
       "      <td>14</td>\n",
       "      <td>Central</td>\n",
       "      <td>Consumer</td>\n",
       "    </tr>\n",
       "    <tr>\n",
       "      <th>4</th>\n",
       "      <td>4</td>\n",
       "      <td>AA-10315</td>\n",
       "      <td>2017-06-29</td>\n",
       "      <td>374.480</td>\n",
       "      <td>5</td>\n",
       "      <td>Central</td>\n",
       "      <td>Consumer</td>\n",
       "    </tr>\n",
       "    <tr>\n",
       "      <th>...</th>\n",
       "      <td>...</td>\n",
       "      <td>...</td>\n",
       "      <td>...</td>\n",
       "      <td>...</td>\n",
       "      <td>...</td>\n",
       "      <td>...</td>\n",
       "      <td>...</td>\n",
       "    </tr>\n",
       "    <tr>\n",
       "      <th>4987</th>\n",
       "      <td>4987</td>\n",
       "      <td>ZD-21925</td>\n",
       "      <td>2014-08-27</td>\n",
       "      <td>244.760</td>\n",
       "      <td>9</td>\n",
       "      <td>West</td>\n",
       "      <td>Consumer</td>\n",
       "    </tr>\n",
       "    <tr>\n",
       "      <th>4988</th>\n",
       "      <td>4988</td>\n",
       "      <td>ZD-21925</td>\n",
       "      <td>2016-04-03</td>\n",
       "      <td>331.080</td>\n",
       "      <td>8</td>\n",
       "      <td>Central</td>\n",
       "      <td>Consumer</td>\n",
       "    </tr>\n",
       "    <tr>\n",
       "      <th>4989</th>\n",
       "      <td>4989</td>\n",
       "      <td>ZD-21925</td>\n",
       "      <td>2016-05-05</td>\n",
       "      <td>16.720</td>\n",
       "      <td>5</td>\n",
       "      <td>South</td>\n",
       "      <td>Consumer</td>\n",
       "    </tr>\n",
       "    <tr>\n",
       "      <th>4990</th>\n",
       "      <td>4990</td>\n",
       "      <td>ZD-21925</td>\n",
       "      <td>2016-07-08</td>\n",
       "      <td>839.944</td>\n",
       "      <td>7</td>\n",
       "      <td>South</td>\n",
       "      <td>Consumer</td>\n",
       "    </tr>\n",
       "    <tr>\n",
       "      <th>4991</th>\n",
       "      <td>4991</td>\n",
       "      <td>ZD-21925</td>\n",
       "      <td>2017-06-11</td>\n",
       "      <td>61.440</td>\n",
       "      <td>3</td>\n",
       "      <td>West</td>\n",
       "      <td>Consumer</td>\n",
       "    </tr>\n",
       "  </tbody>\n",
       "</table>\n",
       "<p>4992 rows × 7 columns</p>\n",
       "</div>"
      ],
      "text/plain": [
       "      index Customer ID Order Date    Sales  Quantity   Region   Segment\n",
       "0         0    AA-10315 2014-03-31  726.548         4     West  Consumer\n",
       "1         1    AA-10315 2014-09-15   29.500         5     East  Consumer\n",
       "2         2    AA-10315 2015-10-04   26.960         2     West  Consumer\n",
       "3         3    AA-10315 2016-03-03 4406.072        14  Central  Consumer\n",
       "4         4    AA-10315 2017-06-29  374.480         5  Central  Consumer\n",
       "...     ...         ...        ...      ...       ...      ...       ...\n",
       "4987   4987    ZD-21925 2014-08-27  244.760         9     West  Consumer\n",
       "4988   4988    ZD-21925 2016-04-03  331.080         8  Central  Consumer\n",
       "4989   4989    ZD-21925 2016-05-05   16.720         5    South  Consumer\n",
       "4990   4990    ZD-21925 2016-07-08  839.944         7    South  Consumer\n",
       "4991   4991    ZD-21925 2017-06-11   61.440         3     West  Consumer\n",
       "\n",
       "[4992 rows x 7 columns]"
      ]
     },
     "execution_count": 64,
     "metadata": {},
     "output_type": "execute_result"
    },
    {
     "data": {
      "text/plain": [
       "(4992, 6)"
      ]
     },
     "execution_count": 64,
     "metadata": {},
     "output_type": "execute_result"
    },
    {
     "data": {
      "text/plain": [
       "Customer ID            object\n",
       "Order Date     datetime64[ns]\n",
       "Sales                 float64\n",
       "Quantity                int64\n",
       "Region                 object\n",
       "Segment                object\n",
       "dtype: object"
      ]
     },
     "execution_count": 64,
     "metadata": {},
     "output_type": "execute_result"
    }
   ],
   "source": [
    "# Aggregate transaction data per customer per day and reset the index\n",
    "transaction_agg = transaction_data.groupby(['Customer ID', \n",
    "                                            'Order Date'], as_index=False).agg({'Sales': 'sum', \n",
    "                                                                                'Quantity': 'sum'})\n",
    "transaction_agg.reset_index()\n",
    "\n",
    "# Diagnostic output\n",
    "transaction_agg.shape\n",
    "transaction_agg.dtypes"
   ]
  },
  {
   "cell_type": "markdown",
   "metadata": {},
   "source": [
    "Note that the number of rows in the data set has decreased from 9994 to 4992 as individual transactions have been consolidated into customer daily spending."
   ]
  },
  {
   "cell_type": "markdown",
   "metadata": {},
   "source": [
    "Now we compute the rolling features from the aggregated data:"
   ]
  },
  {
   "cell_type": "code",
   "execution_count": 56,
   "metadata": {},
   "outputs": [],
   "source": [
    "# Compute rolling features\n",
    "roll_sum = transaction_agg.groupby('Customer ID').rolling(window = '7D',\n",
    "                                                          on = 'Order Date')['Sales'].sum()\n",
    "roll_cnt = transaction_agg.groupby('Customer ID').rolling(window = '7D',\n",
    "                                                          on = 'Order Date')['Quantity'].sum()\n",
    "roll_min = transaction_agg.groupby('Customer ID')['Order Date'].diff(periods = 1)"
   ]
  },
  {
   "cell_type": "markdown",
   "metadata": {},
   "source": [
    "Next we combine these rolling features into a new data frame:"
   ]
  },
  {
   "cell_type": "code",
   "execution_count": 58,
   "metadata": {},
   "outputs": [],
   "source": [
    "# Create new dataframe for rolling features\n",
    "transaction_roll = pd.concat([roll_sum, roll_cnt], axis = 1)\n",
    "transaction_roll.columns = ['sales_roll_sum_7D', 'quantity_roll_sum_7D']\n",
    "transaction_roll = transaction_roll.reset_index()\n",
    "transaction_roll['last_visit_ndays'] = roll_min.fillna(pd.Timedelta('100 days'))"
   ]
  },
  {
   "cell_type": "markdown",
   "metadata": {},
   "source": [
    "To view the results, we combine the aggregated data with the rolling data:"
   ]
  },
  {
   "cell_type": "code",
   "execution_count": 61,
   "metadata": {
    "scrolled": true
   },
   "outputs": [
    {
     "data": {
      "text/html": [
       "<div>\n",
       "<style scoped>\n",
       "    .dataframe tbody tr th:only-of-type {\n",
       "        vertical-align: middle;\n",
       "    }\n",
       "\n",
       "    .dataframe tbody tr th {\n",
       "        vertical-align: top;\n",
       "    }\n",
       "\n",
       "    .dataframe thead th {\n",
       "        text-align: right;\n",
       "    }\n",
       "</style>\n",
       "<table border=\"1\" class=\"dataframe\">\n",
       "  <thead>\n",
       "    <tr style=\"text-align: right;\">\n",
       "      <th></th>\n",
       "      <th>Customer ID</th>\n",
       "      <th>Order Date</th>\n",
       "      <th>Sales</th>\n",
       "      <th>Quantity</th>\n",
       "      <th>sales_roll_sum_7D</th>\n",
       "      <th>quantity_roll_sum_7D</th>\n",
       "      <th>last_visit_ndays</th>\n",
       "    </tr>\n",
       "  </thead>\n",
       "  <tbody>\n",
       "    <tr>\n",
       "      <th>0</th>\n",
       "      <td>AA-10315</td>\n",
       "      <td>2014-03-31</td>\n",
       "      <td>726.548</td>\n",
       "      <td>4</td>\n",
       "      <td>726.548</td>\n",
       "      <td>4.000</td>\n",
       "      <td>100 days</td>\n",
       "    </tr>\n",
       "    <tr>\n",
       "      <th>1</th>\n",
       "      <td>AA-10315</td>\n",
       "      <td>2014-09-15</td>\n",
       "      <td>29.500</td>\n",
       "      <td>5</td>\n",
       "      <td>29.500</td>\n",
       "      <td>5.000</td>\n",
       "      <td>168 days</td>\n",
       "    </tr>\n",
       "    <tr>\n",
       "      <th>2</th>\n",
       "      <td>AA-10315</td>\n",
       "      <td>2015-10-04</td>\n",
       "      <td>26.960</td>\n",
       "      <td>2</td>\n",
       "      <td>26.960</td>\n",
       "      <td>2.000</td>\n",
       "      <td>384 days</td>\n",
       "    </tr>\n",
       "    <tr>\n",
       "      <th>3</th>\n",
       "      <td>AA-10315</td>\n",
       "      <td>2016-03-03</td>\n",
       "      <td>4406.072</td>\n",
       "      <td>14</td>\n",
       "      <td>4406.072</td>\n",
       "      <td>14.000</td>\n",
       "      <td>151 days</td>\n",
       "    </tr>\n",
       "    <tr>\n",
       "      <th>4</th>\n",
       "      <td>AA-10315</td>\n",
       "      <td>2017-06-29</td>\n",
       "      <td>374.480</td>\n",
       "      <td>5</td>\n",
       "      <td>374.480</td>\n",
       "      <td>5.000</td>\n",
       "      <td>483 days</td>\n",
       "    </tr>\n",
       "  </tbody>\n",
       "</table>\n",
       "</div>"
      ],
      "text/plain": [
       "  Customer ID Order Date    Sales  Quantity  sales_roll_sum_7D  \\\n",
       "0    AA-10315 2014-03-31  726.548         4            726.548   \n",
       "1    AA-10315 2014-09-15   29.500         5             29.500   \n",
       "2    AA-10315 2015-10-04   26.960         2             26.960   \n",
       "3    AA-10315 2016-03-03 4406.072        14           4406.072   \n",
       "4    AA-10315 2017-06-29  374.480         5            374.480   \n",
       "\n",
       "   quantity_roll_sum_7D last_visit_ndays  \n",
       "0                 4.000         100 days  \n",
       "1                 5.000         168 days  \n",
       "2                 2.000         384 days  \n",
       "3                14.000         151 days  \n",
       "4                 5.000         483 days  "
      ]
     },
     "execution_count": 61,
     "metadata": {},
     "output_type": "execute_result"
    }
   ],
   "source": [
    "# Combine aggregated data with rolling data\n",
    "transaction_all = transaction_agg.merge(transaction_roll,\n",
    "                                        how = \"inner\", \n",
    "                                        on = ['Customer ID', 'Order Date'], \n",
    "                                        validate = 'one_to_one')\n",
    "transaction_all.head()"
   ]
  },
  {
   "cell_type": "markdown",
   "metadata": {},
   "source": [
    "In the above output, *recency* is found in the *last_visit_ndays* column, *frequency* is found in the *quantity_roll_sum_7D* column, and *monetary* is found in the *sales_roll_sum_7D* column."
   ]
  },
  {
   "cell_type": "markdown",
   "metadata": {},
   "source": [
    "## 3. Using K-means algorithm, perform customer segmentation"
   ]
  },
  {
   "cell_type": "markdown",
   "metadata": {},
   "source": [
    "In this section, we perform customer segmentation using the k-means algorithm. First we convert the timedelta data type of *last_visit_ndays* to integer so we can aggregate it:"
   ]
  },
  {
   "cell_type": "code",
   "execution_count": 77,
   "metadata": {},
   "outputs": [],
   "source": [
    "# Convert timedelta to integer for aggregation by mean\n",
    "transaction_all['last_visit_ndays_int'] = transaction_all['last_visit_ndays'].dt.days"
   ]
  },
  {
   "cell_type": "markdown",
   "metadata": {},
   "source": [
    "Now we aggregate the RFM data computed in the previous section by customer. For *sales_roll_sum_7D* and *quantity_roll_sum_7D* we aggregate by the median to prevent large orders from unduly influencing the typical value. For *last_visit_ndays_int* we aggregate by the mean."
   ]
  },
  {
   "cell_type": "code",
   "execution_count": 78,
   "metadata": {},
   "outputs": [
    {
     "data": {
      "text/html": [
       "<div>\n",
       "<style scoped>\n",
       "    .dataframe tbody tr th:only-of-type {\n",
       "        vertical-align: middle;\n",
       "    }\n",
       "\n",
       "    .dataframe tbody tr th {\n",
       "        vertical-align: top;\n",
       "    }\n",
       "\n",
       "    .dataframe thead th {\n",
       "        text-align: right;\n",
       "    }\n",
       "</style>\n",
       "<table border=\"1\" class=\"dataframe\">\n",
       "  <thead>\n",
       "    <tr style=\"text-align: right;\">\n",
       "      <th></th>\n",
       "      <th>index</th>\n",
       "      <th>Customer ID</th>\n",
       "      <th>sales_roll_sum_7D</th>\n",
       "      <th>quantity_roll_sum_7D</th>\n",
       "      <th>last_visit_ndays_int</th>\n",
       "    </tr>\n",
       "  </thead>\n",
       "  <tbody>\n",
       "    <tr>\n",
       "      <th>0</th>\n",
       "      <td>0</td>\n",
       "      <td>AA-10315</td>\n",
       "      <td>374.480</td>\n",
       "      <td>5.000</td>\n",
       "      <td>257.200</td>\n",
       "    </tr>\n",
       "    <tr>\n",
       "      <th>1</th>\n",
       "      <td>1</td>\n",
       "      <td>AA-10375</td>\n",
       "      <td>56.860</td>\n",
       "      <td>5.000</td>\n",
       "      <td>158.889</td>\n",
       "    </tr>\n",
       "    <tr>\n",
       "      <th>2</th>\n",
       "      <td>2</td>\n",
       "      <td>AA-10480</td>\n",
       "      <td>308.490</td>\n",
       "      <td>9.000</td>\n",
       "      <td>294.250</td>\n",
       "    </tr>\n",
       "    <tr>\n",
       "      <th>3</th>\n",
       "      <td>3</td>\n",
       "      <td>AA-10645</td>\n",
       "      <td>717.165</td>\n",
       "      <td>11.500</td>\n",
       "      <td>222.000</td>\n",
       "    </tr>\n",
       "    <tr>\n",
       "      <th>4</th>\n",
       "      <td>4</td>\n",
       "      <td>AB-10015</td>\n",
       "      <td>309.592</td>\n",
       "      <td>4.000</td>\n",
       "      <td>365.333</td>\n",
       "    </tr>\n",
       "    <tr>\n",
       "      <th>...</th>\n",
       "      <td>...</td>\n",
       "      <td>...</td>\n",
       "      <td>...</td>\n",
       "      <td>...</td>\n",
       "      <td>...</td>\n",
       "    </tr>\n",
       "    <tr>\n",
       "      <th>788</th>\n",
       "      <td>788</td>\n",
       "      <td>XP-21865</td>\n",
       "      <td>186.540</td>\n",
       "      <td>8.000</td>\n",
       "      <td>136.091</td>\n",
       "    </tr>\n",
       "    <tr>\n",
       "      <th>789</th>\n",
       "      <td>789</td>\n",
       "      <td>YC-21895</td>\n",
       "      <td>750.680</td>\n",
       "      <td>5.000</td>\n",
       "      <td>247.000</td>\n",
       "    </tr>\n",
       "    <tr>\n",
       "      <th>790</th>\n",
       "      <td>790</td>\n",
       "      <td>YS-21880</td>\n",
       "      <td>457.500</td>\n",
       "      <td>6.000</td>\n",
       "      <td>146.750</td>\n",
       "    </tr>\n",
       "    <tr>\n",
       "      <th>791</th>\n",
       "      <td>791</td>\n",
       "      <td>ZC-21910</td>\n",
       "      <td>148.884</td>\n",
       "      <td>7.000</td>\n",
       "      <td>93.846</td>\n",
       "    </tr>\n",
       "    <tr>\n",
       "      <th>792</th>\n",
       "      <td>792</td>\n",
       "      <td>ZD-21925</td>\n",
       "      <td>244.760</td>\n",
       "      <td>7.000</td>\n",
       "      <td>223.800</td>\n",
       "    </tr>\n",
       "  </tbody>\n",
       "</table>\n",
       "<p>793 rows × 5 columns</p>\n",
       "</div>"
      ],
      "text/plain": [
       "     index Customer ID  sales_roll_sum_7D  quantity_roll_sum_7D  \\\n",
       "0        0    AA-10315            374.480                 5.000   \n",
       "1        1    AA-10375             56.860                 5.000   \n",
       "2        2    AA-10480            308.490                 9.000   \n",
       "3        3    AA-10645            717.165                11.500   \n",
       "4        4    AB-10015            309.592                 4.000   \n",
       "..     ...         ...                ...                   ...   \n",
       "788    788    XP-21865            186.540                 8.000   \n",
       "789    789    YC-21895            750.680                 5.000   \n",
       "790    790    YS-21880            457.500                 6.000   \n",
       "791    791    ZC-21910            148.884                 7.000   \n",
       "792    792    ZD-21925            244.760                 7.000   \n",
       "\n",
       "     last_visit_ndays_int  \n",
       "0                 257.200  \n",
       "1                 158.889  \n",
       "2                 294.250  \n",
       "3                 222.000  \n",
       "4                 365.333  \n",
       "..                    ...  \n",
       "788               136.091  \n",
       "789               247.000  \n",
       "790               146.750  \n",
       "791                93.846  \n",
       "792               223.800  \n",
       "\n",
       "[793 rows x 5 columns]"
      ]
     },
     "execution_count": 78,
     "metadata": {},
     "output_type": "execute_result"
    },
    {
     "data": {
      "text/plain": [
       "(793, 4)"
      ]
     },
     "execution_count": 78,
     "metadata": {},
     "output_type": "execute_result"
    },
    {
     "data": {
      "text/plain": [
       "Customer ID              object\n",
       "sales_roll_sum_7D       float64\n",
       "quantity_roll_sum_7D    float64\n",
       "last_visit_ndays_int    float64\n",
       "dtype: object"
      ]
     },
     "execution_count": 78,
     "metadata": {},
     "output_type": "execute_result"
    }
   ],
   "source": [
    "# Aggregate RFM data per customer and reset the index\n",
    "rfm_agg = transaction_all.groupby(['Customer ID'],\n",
    "                                  as_index=False).agg({'sales_roll_sum_7D': 'median',\n",
    "                                                       'quantity_roll_sum_7D': 'median',\n",
    "                                                       'last_visit_ndays_int': 'mean'})\n",
    "rfm_agg.reset_index()\n",
    "\n",
    "# Diagnostic output\n",
    "rfm_agg.shape"
   ]
  },
  {
   "cell_type": "markdown",
   "metadata": {},
   "source": [
    "After aggregating the RFM data set per customer, we now have 793 rows, one per customer with RFM values aggregated for median *sales_roll_sum_7D*, median *quantity_roll_sum_7D*, and mean *last_visit_ndays_int*."
   ]
  },
  {
   "cell_type": "markdown",
   "metadata": {},
   "source": [
    "To perform K-means clustering we have to set aside the *Customer ID* column and keep the numeric fields:"
   ]
  },
  {
   "cell_type": "code",
   "execution_count": 81,
   "metadata": {},
   "outputs": [
    {
     "data": {
      "text/html": [
       "<div>\n",
       "<style scoped>\n",
       "    .dataframe tbody tr th:only-of-type {\n",
       "        vertical-align: middle;\n",
       "    }\n",
       "\n",
       "    .dataframe tbody tr th {\n",
       "        vertical-align: top;\n",
       "    }\n",
       "\n",
       "    .dataframe thead th {\n",
       "        text-align: right;\n",
       "    }\n",
       "</style>\n",
       "<table border=\"1\" class=\"dataframe\">\n",
       "  <thead>\n",
       "    <tr style=\"text-align: right;\">\n",
       "      <th></th>\n",
       "      <th>sales_roll_sum_7D</th>\n",
       "      <th>quantity_roll_sum_7D</th>\n",
       "      <th>last_visit_ndays_int</th>\n",
       "    </tr>\n",
       "  </thead>\n",
       "  <tbody>\n",
       "    <tr>\n",
       "      <th>0</th>\n",
       "      <td>374.480</td>\n",
       "      <td>5.000</td>\n",
       "      <td>257.200</td>\n",
       "    </tr>\n",
       "    <tr>\n",
       "      <th>1</th>\n",
       "      <td>56.860</td>\n",
       "      <td>5.000</td>\n",
       "      <td>158.889</td>\n",
       "    </tr>\n",
       "    <tr>\n",
       "      <th>2</th>\n",
       "      <td>308.490</td>\n",
       "      <td>9.000</td>\n",
       "      <td>294.250</td>\n",
       "    </tr>\n",
       "    <tr>\n",
       "      <th>3</th>\n",
       "      <td>717.165</td>\n",
       "      <td>11.500</td>\n",
       "      <td>222.000</td>\n",
       "    </tr>\n",
       "    <tr>\n",
       "      <th>4</th>\n",
       "      <td>309.592</td>\n",
       "      <td>4.000</td>\n",
       "      <td>365.333</td>\n",
       "    </tr>\n",
       "  </tbody>\n",
       "</table>\n",
       "</div>"
      ],
      "text/plain": [
       "   sales_roll_sum_7D  quantity_roll_sum_7D  last_visit_ndays_int\n",
       "0            374.480                 5.000               257.200\n",
       "1             56.860                 5.000               158.889\n",
       "2            308.490                 9.000               294.250\n",
       "3            717.165                11.500               222.000\n",
       "4            309.592                 4.000               365.333"
      ]
     },
     "execution_count": 81,
     "metadata": {},
     "output_type": "execute_result"
    }
   ],
   "source": [
    "# Set aside customer ID's in an array\n",
    "customer_ids = np.array(rfm_agg['Customer ID'].values)\n",
    "\n",
    "# Drop customer ID from the data set to keep only numeric columns\n",
    "rfm_agg = rfm_agg.drop(['Customer ID'], axis=1)\n",
    "\n",
    "# Display updated data set\n",
    "rfm_agg.head()"
   ]
  },
  {
   "cell_type": "markdown",
   "metadata": {},
   "source": [
    "Here we use a function to determine a suitable number of clusters using the \"elbow\" method:"
   ]
  },
  {
   "cell_type": "code",
   "execution_count": 86,
   "metadata": {},
   "outputs": [
    {
     "data": {
      "text/plain": [
       "[<matplotlib.lines.Line2D at 0xa6ab0f6dc8>]"
      ]
     },
     "execution_count": 86,
     "metadata": {},
     "output_type": "execute_result"
    },
    {
     "data": {
      "text/plain": [
       "Text(0.5, 0, 'k')"
      ]
     },
     "execution_count": 86,
     "metadata": {},
     "output_type": "execute_result"
    },
    {
     "data": {
      "text/plain": [
       "Text(0, 0.5, 'Sum of squared distances')"
      ]
     },
     "execution_count": 86,
     "metadata": {},
     "output_type": "execute_result"
    },
    {
     "data": {
      "text/plain": [
       "Text(0.5, 1.0, 'Elbow Method For Optimal k')"
      ]
     },
     "execution_count": 86,
     "metadata": {},
     "output_type": "execute_result"
    },
    {
     "data": {
      "image/png": "[encoded data removed]",
      "text/plain": [
       "<Figure size 432x288 with 1 Axes>"
      ]
     },
     "metadata": {
      "needs_background": "light"
     },
     "output_type": "display_data"
    }
   ],
   "source": [
    "# Compute sums of squares per number of clusters for plotting \"elbow\"\n",
    "sum_of_sqs = []\n",
    "K = range(2,8)\n",
    "for k in K:\n",
    "    km = KMeans(n_clusters=k).fit(rfm_agg)\n",
    "    sum_of_sqs.append(km.inertia_)\n",
    "\n",
    "# Display \"elbow\" plot\n",
    "plt.plot(K, sum_of_sqs, 'bx-')\n",
    "plt.xlabel('k')\n",
    "plt.ylabel('Sum of squared distances')\n",
    "plt.title('Elbow Method For Optimal k')\n",
    "plt.show()"
   ]
  },
  {
   "cell_type": "markdown",
   "metadata": {},
   "source": [
    "The \"elbow\" appears at 3 clusters, so we choose 3 as our number of clusters for segmentation:"
   ]
  },
  {
   "cell_type": "code",
   "execution_count": 87,
   "metadata": {},
   "outputs": [],
   "source": [
    "# Set number of clusters based on \"elbow\" method\n",
    "CLUSTERS = 3"
   ]
  },
  {
   "cell_type": "markdown",
   "metadata": {},
   "source": [
    "Now we perform K-means clustering and extract the cluster assignments:"
   ]
  },
  {
   "cell_type": "code",
   "execution_count": 88,
   "metadata": {},
   "outputs": [],
   "source": [
    "# Fit K-means clusters to aggregated RFM data per customer\n",
    "kmeans = KMeans(init='k-means++', n_clusters=CLUSTERS).fit(rfm_agg)\n",
    "\n",
    "# Assign clusters per customer\n",
    "classes = kmeans.predict(rfm_agg)"
   ]
  },
  {
   "cell_type": "markdown",
   "metadata": {},
   "source": [
    "To interpret the results, we examine the principal components:"
   ]
  },
  {
   "cell_type": "code",
   "execution_count": 90,
   "metadata": {},
   "outputs": [],
   "source": [
    "# Perform PCA decomposition on the K-means data set\n",
    "pca = PCA(n_components=len(rfm_agg.columns))\n",
    "pc = pca.fit_transform(rfm_agg)\n",
    "\n",
    "# Extract the explained variance per component\n",
    "explained_variance_ratio = np.sort(np.array(pca.explained_variance_ratio_))[::-1]"
   ]
  },
  {
   "cell_type": "markdown",
   "metadata": {},
   "source": [
    "Display the explained variance for each of the three resulting components:"
   ]
  },
  {
   "cell_type": "code",
   "execution_count": 107,
   "metadata": {},
   "outputs": [
    {
     "name": "stdout",
     "output_type": "stream",
     "text": [
      "Principal Component 1:\n",
      "Percent of variance explained is 89.8%\n",
      "\n",
      "Principal component 1, least and most significant features by score:\n",
      "Least significant feature (negative end of axis of variation)\n",
      "   score               feature\n",
      "1  0.006  quantity_roll_sum_7D\n",
      "\n",
      "Most significant feature (positive end of axis of variation)\n",
      "   score            feature\n",
      "0  0.999  sales_roll_sum_7D\n",
      "\n",
      "\n",
      "Principal Component 2:\n",
      "Percent of variance explained is 10.19%\n",
      "\n",
      "Principal component 2, least and most significant features by score:\n",
      "Least significant feature (negative end of axis of variation)\n",
      "   score            feature\n",
      "0 -0.037  sales_roll_sum_7D\n",
      "\n",
      "Most significant feature (positive end of axis of variation)\n",
      "   score               feature\n",
      "2  0.999  last_visit_ndays_int\n",
      "\n",
      "\n",
      "Principal Component 3:\n",
      "Percent of variance explained is 0.01%\n",
      "\n",
      "Principal component 3, least and most significant features by score:\n",
      "Least significant feature (negative end of axis of variation)\n",
      "   score            feature\n",
      "0 -0.006  sales_roll_sum_7D\n",
      "\n",
      "Most significant feature (positive end of axis of variation)\n",
      "   score               feature\n",
      "1  1.000  quantity_roll_sum_7D\n",
      "\n",
      "\n"
     ]
    }
   ],
   "source": [
    "# First component\n",
    "analyze_pca(rfm_agg, 0, pca.components_, explained_variance_ratio)\n",
    "\n",
    "# Second component\n",
    "analyze_pca(rfm_agg, 1, pca.components_, explained_variance_ratio)\n",
    "\n",
    "# Third component\n",
    "analyze_pca(rfm_agg, 2, pca.components_, explained_variance_ratio)"
   ]
  },
  {
   "cell_type": "markdown",
   "metadata": {},
   "source": [
    "The first component accounts for almost 90% of the variance, while the second component accounts for nearly all the rest of the variance at 10%. The most significant feature for the first component is the rolling sales figure, while the most significant feature for the second component is the number of days since the last visit."
   ]
  },
  {
   "cell_type": "markdown",
   "metadata": {},
   "source": [
    "Now we plot our clusters against the first two principal components, indicating clusters by color: "
   ]
  },
  {
   "cell_type": "code",
   "execution_count": 99,
   "metadata": {},
   "outputs": [
    {
     "data": {
      "text/plain": [
       "Text(0.5, 0, 'Principal Component 1')"
      ]
     },
     "execution_count": 99,
     "metadata": {},
     "output_type": "execute_result"
    },
    {
     "data": {
      "text/plain": [
       "Text(0, 0.5, 'Principal Component 2')"
      ]
     },
     "execution_count": 99,
     "metadata": {},
     "output_type": "execute_result"
    },
    {
     "data": {
      "text/plain": [
       "Text(0.5, 0.98, 'Clusters by Color - Principal Components 1 and 2')"
      ]
     },
     "execution_count": 99,
     "metadata": {},
     "output_type": "execute_result"
    },
    {
     "data": {
      "text/plain": [
       "Text(0.5, 1.0, '(K = 3, with dimensionality reduction)')"
      ]
     },
     "execution_count": 99,
     "metadata": {},
     "output_type": "execute_result"
    },
    {
     "data": {
      "text/plain": [
       "<matplotlib.collections.PathCollection at 0xa6ac6dfd88>"
      ]
     },
     "execution_count": 99,
     "metadata": {},
     "output_type": "execute_result"
    },
    {
     "data": {
      "image/png": "[encoded data removed]",
      "text/plain": [
       "<Figure size 432x288 with 1 Axes>"
      ]
     },
     "metadata": {
      "needs_background": "light"
     },
     "output_type": "display_data"
    }
   ],
   "source": [
    "# Plot the cluster against the first two principal components\n",
    "plt.xlabel('Principal Component 1')\n",
    "plt.ylabel('Principal Component 2')\n",
    "plt.suptitle('Clusters by Color - Principal Components 1 and 2')\n",
    "plt.title('(K = ' + str(CLUSTERS) + ', with dimensionality reduction)')\n",
    "plt.scatter(pc[:, 0], pc[:, 1], c=classes, s=1, cmap='rainbow')\n",
    "plt.show()"
   ]
  },
  {
   "cell_type": "markdown",
   "metadata": {},
   "source": [
    "Note: there may be some variability between K-means runs!"
   ]
  },
  {
   "cell_type": "code",
   "execution_count": 110,
   "metadata": {},
   "outputs": [],
   "source": [
    "# Identify colors in k-means plot\n",
    "norm = mpl.colors.Normalize(vmin=0, vmax=CLUSTERS-1)\n",
    "cmap = cm.rainbow\n",
    "smappable = cm.ScalarMappable(norm=norm, cmap=cmap)"
   ]
  },
  {
   "cell_type": "code",
   "execution_count": 127,
   "metadata": {},
   "outputs": [
    {
     "name": "stdout",
     "output_type": "stream",
     "text": [
      "CLUSTER 1 CENTER:  DB-12970\n",
      "Rolling sales:     369.56\n",
      "Rolling quantity:  8.0\n",
      "Recency:           200.6\n",
      "Color of points:   violet\n",
      "\n",
      "CLUSTER 2 CENTER:  MH-17785\n",
      "Rolling sales:     104.696\n",
      "Rolling quantity:  3.0\n",
      "Recency:           187.9\n",
      "Color of points:   sea green\n",
      "\n",
      "CLUSTER 3 CENTER:  EM-14140\n",
      "Rolling sales:     889.81\n",
      "Rolling quantity:  8.5\n",
      "Recency:           218.7\n",
      "Color of points:   red\n",
      "\n"
     ]
    }
   ],
   "source": [
    "points, _ = pairwise_distances_argmin_min(kmeans.cluster_centers_, rfm_agg)\n",
    "i = 0\n",
    "for point in range(len(points)):\n",
    "    \n",
    "    print('CLUSTER ' + str(i + 1) + ' CENTER: ', customer_ids[points[point]])\n",
    "    print('Rolling sales:    ', str(rfm_agg['sales_roll_sum_7D'].values[points[point]]))\n",
    "    print('Rolling quantity: ', str(rfm_agg['quantity_roll_sum_7D'].values[points[point]]))\n",
    "    print('Recency:          ', str(round(rfm_agg['last_visit_ndays_int'].values[points[point]], 1)))\n",
    "    print('Color of points:  ', \n",
    "          color_name_from_rainbow_color_map(colors.rgb2hex(smappable.to_rgba(i))))\n",
    "    print('')\n",
    "\n",
    "    i = i + 1"
   ]
  },
  {
   "cell_type": "markdown",
   "metadata": {},
   "source": [
    "## 4. Describe your results"
   ]
  },
  {
   "cell_type": "markdown",
   "metadata": {},
   "source": [
    "TODO"
   ]
  }
 ],
 "metadata": {
  "kernelspec": {
   "display_name": "Python 3",
   "language": "python",
   "name": "python3"
  },
  "language_info": {
   "codemirror_mode": {
    "name": "ipython",
    "version": 3
   },
   "file_extension": ".py",
   "mimetype": "text/x-python",
   "name": "python",
   "nbconvert_exporter": "python",
   "pygments_lexer": "ipython3",
   "version": "3.7.7"
  }
 },
 "nbformat": 4,
 "nbformat_minor": 2
}
