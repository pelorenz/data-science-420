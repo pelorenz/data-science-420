{
 "cells": [
  {
   "cell_type": "markdown",
   "metadata": {},
   "source": [
    "# Lesson 08\n",
    "# Peter Lorenz\n",
    "\n",
    "## 0. Preparation\n",
    "Import required libraries:"
   ]
  },
  {
   "cell_type": "code",
   "execution_count": 71,
   "metadata": {},
   "outputs": [],
   "source": [
    "import numpy as np\n",
    "import pandas as pd\n",
    "import seaborn as sns\n",
    "\n",
    "from sklearn.metrics import classification_report\n",
    "from sklearn.metrics import confusion_matrix\n",
    "from sklearn.model_selection import train_test_split\n",
    "from sklearn.preprocessing import StandardScaler"
   ]
  },
  {
   "cell_type": "markdown",
   "metadata": {},
   "source": [
    "Set global options:"
   ]
  },
  {
   "cell_type": "code",
   "execution_count": 3,
   "metadata": {},
   "outputs": [],
   "source": [
    "# Display plots inline\n",
    "%matplotlib inline\n",
    "\n",
    "# Display multiple cell outputs\n",
    "from IPython.core.interactiveshell import InteractiveShell\n",
    "InteractiveShell.ast_node_interactivity = \"all\"\n",
    "\n",
    "# Suppress scientific notation\n",
    "np.set_printoptions(suppress=True)\n",
    "np.set_printoptions(precision=3)\n",
    "pd.set_option('display.float_format', lambda x: '%.3f' % x)"
   ]
  },
  {
   "cell_type": "markdown",
   "metadata": {},
   "source": [
    "Declare functions:"
   ]
  },
  {
   "cell_type": "code",
   "execution_count": 60,
   "metadata": {},
   "outputs": [],
   "source": [
    "# Activation function\n",
    "def sigmoid(x):\n",
    "    x = np.clip(x, -500, 500)\n",
    "    return 1/(1 + np.exp(-x))\n",
    "\n",
    "# Initializes parameters to random values\n",
    "def init_parameters(dim1, dim2 = 1, std = 1e-1, random = True):\n",
    "    if(random):\n",
    "        return(np.random.random([dim1, dim2]) * std)\n",
    "    else:\n",
    "        return(np.zeros([dim1, dim2]))\n",
    "\n",
    "# Perform forward pass\n",
    "def forward(W1, bias, X):\n",
    "    Z1 = np.dot(X, W1) + bias\n",
    "    A1 = sigmoid(Z1)\n",
    "    return(A1)\n",
    "\n",
    "# Perform backward pass\n",
    "def backward(A1, W1, bias, X, Y):\n",
    "    m = np.shape(X)[0] # used the calculate the cost by the number of inputs -1/m\n",
    "   \n",
    "    loss = Y * np.log(A1) + (1 - Y)*np.log(1 - A1)           # loss at each row\n",
    "    cost = (-1/m) * np.sum(loss)                             # loss across all rows\n",
    "    dZ1 = A1 - Y                                             # derivative of loss wrt Z1\n",
    "    dW1 = (1/m) * np.dot(X.T, dZ1)                           # derivative of loss wrt weights\n",
    "    dBias = (1/m) * np.sum(dZ1, axis = 0, keepdims = True) # derivative of loss wrt bias\n",
    "    \n",
    "    # Homework: measure derivative loss with respect to Z2 then Z1\n",
    "    \n",
    "    \n",
    "    grads = {\"dW1\": dW1, \"dB1\": dBias}                       # updated weights and biases\n",
    "    \n",
    "    return(grads, cost)\n",
    "\n",
    "# Perform gradient descent\n",
    "def run_grad_desc(num_epochs, learning_rate, X, Y):\n",
    "    \n",
    "    m, input_cols = X.shape\n",
    "    \n",
    "    W1 = init_parameters(input_cols, output_cols)\n",
    "    B1 = init_parameters(output_cols)\n",
    "    \n",
    "    loss_array = np.ones([num_epochs])*np.nan     # place-holder of keeping track of loss\n",
    "    \n",
    "    for i in np.arange(num_epochs):\n",
    "        A1 = forward(W1, B1, X)                   # get activations in final layer\n",
    "        grads, cost = backward(A1, W1, B1, X, Y)  # get gradient and the cost from BP \n",
    "        \n",
    "        W1 = W1 - learning_rate*grads[\"dW1\"]      # update weights\n",
    "        B1 = B1 - learning_rate*grads[\"dB1\"]      # update bias\n",
    "        \n",
    "        loss_array[i] = cost                      # record loss for current iteration\n",
    "        \n",
    "        parameter = {\"W1\": W1, \"B1\": B1}          # record parameters for current iteration\n",
    "    \n",
    "    return(parameter, loss_array)"
   ]
  },
  {
   "cell_type": "markdown",
   "metadata": {},
   "source": [
    "## 1. Use the provided RedWhiteWine.csv file\n",
    "In this section, we load and prepare the provided RedWhiteWine.csv file. We include all features, using “Class” as the output vector. First we read and prepare the data:"
   ]
  },
  {
   "cell_type": "code",
   "execution_count": 85,
   "metadata": {},
   "outputs": [
    {
     "data": {
      "text/plain": [
       "(6497, 13)"
      ]
     },
     "execution_count": 85,
     "metadata": {},
     "output_type": "execute_result"
    },
    {
     "data": {
      "text/html": [
       "<div>\n",
       "<style scoped>\n",
       "    .dataframe tbody tr th:only-of-type {\n",
       "        vertical-align: middle;\n",
       "    }\n",
       "\n",
       "    .dataframe tbody tr th {\n",
       "        vertical-align: top;\n",
       "    }\n",
       "\n",
       "    .dataframe thead th {\n",
       "        text-align: right;\n",
       "    }\n",
       "</style>\n",
       "<table border=\"1\" class=\"dataframe\">\n",
       "  <thead>\n",
       "    <tr style=\"text-align: right;\">\n",
       "      <th></th>\n",
       "      <th>fixed acidity</th>\n",
       "      <th>volatile acidity</th>\n",
       "      <th>citric acid</th>\n",
       "      <th>residual sugar</th>\n",
       "      <th>chlorides</th>\n",
       "      <th>free sulfur dioxide</th>\n",
       "      <th>total sulfur dioxide</th>\n",
       "      <th>density</th>\n",
       "      <th>pH</th>\n",
       "      <th>sulphates</th>\n",
       "      <th>alcohol</th>\n",
       "      <th>quality</th>\n",
       "      <th>Class</th>\n",
       "    </tr>\n",
       "  </thead>\n",
       "  <tbody>\n",
       "    <tr>\n",
       "      <th>0</th>\n",
       "      <td>7.400</td>\n",
       "      <td>0.700</td>\n",
       "      <td>0.000</td>\n",
       "      <td>1.900</td>\n",
       "      <td>0.076</td>\n",
       "      <td>11.000</td>\n",
       "      <td>34.000</td>\n",
       "      <td>0.998</td>\n",
       "      <td>3.510</td>\n",
       "      <td>0.560</td>\n",
       "      <td>9.400</td>\n",
       "      <td>5</td>\n",
       "      <td>1</td>\n",
       "    </tr>\n",
       "    <tr>\n",
       "      <th>1</th>\n",
       "      <td>7.800</td>\n",
       "      <td>0.880</td>\n",
       "      <td>0.000</td>\n",
       "      <td>2.600</td>\n",
       "      <td>0.098</td>\n",
       "      <td>25.000</td>\n",
       "      <td>67.000</td>\n",
       "      <td>0.997</td>\n",
       "      <td>3.200</td>\n",
       "      <td>0.680</td>\n",
       "      <td>9.800</td>\n",
       "      <td>5</td>\n",
       "      <td>1</td>\n",
       "    </tr>\n",
       "    <tr>\n",
       "      <th>2</th>\n",
       "      <td>7.800</td>\n",
       "      <td>0.760</td>\n",
       "      <td>0.040</td>\n",
       "      <td>2.300</td>\n",
       "      <td>0.092</td>\n",
       "      <td>15.000</td>\n",
       "      <td>54.000</td>\n",
       "      <td>0.997</td>\n",
       "      <td>3.260</td>\n",
       "      <td>0.650</td>\n",
       "      <td>9.800</td>\n",
       "      <td>5</td>\n",
       "      <td>1</td>\n",
       "    </tr>\n",
       "    <tr>\n",
       "      <th>3</th>\n",
       "      <td>11.200</td>\n",
       "      <td>0.280</td>\n",
       "      <td>0.560</td>\n",
       "      <td>1.900</td>\n",
       "      <td>0.075</td>\n",
       "      <td>17.000</td>\n",
       "      <td>60.000</td>\n",
       "      <td>0.998</td>\n",
       "      <td>3.160</td>\n",
       "      <td>0.580</td>\n",
       "      <td>9.800</td>\n",
       "      <td>6</td>\n",
       "      <td>1</td>\n",
       "    </tr>\n",
       "    <tr>\n",
       "      <th>4</th>\n",
       "      <td>7.400</td>\n",
       "      <td>0.700</td>\n",
       "      <td>0.000</td>\n",
       "      <td>1.900</td>\n",
       "      <td>0.076</td>\n",
       "      <td>11.000</td>\n",
       "      <td>34.000</td>\n",
       "      <td>0.998</td>\n",
       "      <td>3.510</td>\n",
       "      <td>0.560</td>\n",
       "      <td>9.400</td>\n",
       "      <td>5</td>\n",
       "      <td>1</td>\n",
       "    </tr>\n",
       "  </tbody>\n",
       "</table>\n",
       "</div>"
      ],
      "text/plain": [
       "   fixed acidity  volatile acidity  citric acid  residual sugar  chlorides  \\\n",
       "0          7.400             0.700        0.000           1.900      0.076   \n",
       "1          7.800             0.880        0.000           2.600      0.098   \n",
       "2          7.800             0.760        0.040           2.300      0.092   \n",
       "3         11.200             0.280        0.560           1.900      0.075   \n",
       "4          7.400             0.700        0.000           1.900      0.076   \n",
       "\n",
       "   free sulfur dioxide  total sulfur dioxide  density    pH  sulphates  \\\n",
       "0               11.000                34.000    0.998 3.510      0.560   \n",
       "1               25.000                67.000    0.997 3.200      0.680   \n",
       "2               15.000                54.000    0.997 3.260      0.650   \n",
       "3               17.000                60.000    0.998 3.160      0.580   \n",
       "4               11.000                34.000    0.998 3.510      0.560   \n",
       "\n",
       "   alcohol  quality  Class  \n",
       "0    9.400        5      1  \n",
       "1    9.800        5      1  \n",
       "2    9.800        5      1  \n",
       "3    9.800        6      1  \n",
       "4    9.400        5      1  "
      ]
     },
     "execution_count": 85,
     "metadata": {},
     "output_type": "execute_result"
    },
    {
     "name": "stdout",
     "output_type": "stream",
     "text": [
      "<class 'pandas.core.frame.DataFrame'>\n",
      "RangeIndex: 6497 entries, 0 to 6496\n",
      "Data columns (total 13 columns):\n",
      " #   Column                Non-Null Count  Dtype  \n",
      "---  ------                --------------  -----  \n",
      " 0   fixed acidity         6497 non-null   float64\n",
      " 1   volatile acidity      6497 non-null   float64\n",
      " 2   citric acid           6497 non-null   float64\n",
      " 3   residual sugar        6497 non-null   float64\n",
      " 4   chlorides             6497 non-null   float64\n",
      " 5   free sulfur dioxide   6497 non-null   float64\n",
      " 6   total sulfur dioxide  6497 non-null   float64\n",
      " 7   density               6497 non-null   float64\n",
      " 8   pH                    6497 non-null   float64\n",
      " 9   sulphates             6497 non-null   float64\n",
      " 10  alcohol               6497 non-null   float64\n",
      " 11  quality               6497 non-null   int64  \n",
      " 12  Class                 6497 non-null   int64  \n",
      "dtypes: float64(11), int64(2)\n",
      "memory usage: 660.0 KB\n"
     ]
    }
   ],
   "source": [
    "# Internet location of the data set\n",
    "url = \"https://library.startlearninglabs.uw.edu/DATASCI420/2019/Datasets/RedWhiteWine.csv\"\n",
    "\n",
    "# Download the data into a dataframe object\n",
    "wine_data = pd.read_csv(url)\n",
    "\n",
    "# Display shape and initial data\n",
    "wine_data.shape\n",
    "wine_data.head()\n",
    "\n",
    "# Examine column types\n",
    "wine_data.info()"
   ]
  },
  {
   "cell_type": "markdown",
   "metadata": {},
   "source": [
    "Next we set aside the output variable:"
   ]
  },
  {
   "cell_type": "code",
   "execution_count": 86,
   "metadata": {},
   "outputs": [
    {
     "data": {
      "text/plain": [
       "(6497, 12)"
      ]
     },
     "execution_count": 86,
     "metadata": {},
     "output_type": "execute_result"
    }
   ],
   "source": [
    "# Set aside the output variable\n",
    "output = wine_data['Class']\n",
    "\n",
    "# Drop output from main data frame\n",
    "wine_data = wine_data.drop('Class', axis=1)\n",
    "wine_data.shape"
   ]
  },
  {
   "cell_type": "markdown",
   "metadata": {},
   "source": [
    "Now we scale the features:"
   ]
  },
  {
   "cell_type": "code",
   "execution_count": 87,
   "metadata": {},
   "outputs": [
    {
     "data": {
      "text/html": [
       "<div>\n",
       "<style scoped>\n",
       "    .dataframe tbody tr th:only-of-type {\n",
       "        vertical-align: middle;\n",
       "    }\n",
       "\n",
       "    .dataframe tbody tr th {\n",
       "        vertical-align: top;\n",
       "    }\n",
       "\n",
       "    .dataframe thead th {\n",
       "        text-align: right;\n",
       "    }\n",
       "</style>\n",
       "<table border=\"1\" class=\"dataframe\">\n",
       "  <thead>\n",
       "    <tr style=\"text-align: right;\">\n",
       "      <th></th>\n",
       "      <th>fixed acidity</th>\n",
       "      <th>volatile acidity</th>\n",
       "      <th>citric acid</th>\n",
       "      <th>residual sugar</th>\n",
       "      <th>chlorides</th>\n",
       "      <th>free sulfur dioxide</th>\n",
       "      <th>total sulfur dioxide</th>\n",
       "      <th>density</th>\n",
       "      <th>pH</th>\n",
       "      <th>sulphates</th>\n",
       "      <th>alcohol</th>\n",
       "      <th>quality</th>\n",
       "    </tr>\n",
       "  </thead>\n",
       "  <tbody>\n",
       "    <tr>\n",
       "      <th>0</th>\n",
       "      <td>0.142</td>\n",
       "      <td>2.189</td>\n",
       "      <td>-2.193</td>\n",
       "      <td>-0.745</td>\n",
       "      <td>0.570</td>\n",
       "      <td>-1.100</td>\n",
       "      <td>-1.446</td>\n",
       "      <td>1.035</td>\n",
       "      <td>1.813</td>\n",
       "      <td>0.193</td>\n",
       "      <td>-0.915</td>\n",
       "      <td>-0.937</td>\n",
       "    </tr>\n",
       "    <tr>\n",
       "      <th>1</th>\n",
       "      <td>0.451</td>\n",
       "      <td>3.282</td>\n",
       "      <td>-2.193</td>\n",
       "      <td>-0.598</td>\n",
       "      <td>1.198</td>\n",
       "      <td>-0.311</td>\n",
       "      <td>-0.862</td>\n",
       "      <td>0.701</td>\n",
       "      <td>-0.115</td>\n",
       "      <td>1.000</td>\n",
       "      <td>-0.580</td>\n",
       "      <td>-0.937</td>\n",
       "    </tr>\n",
       "    <tr>\n",
       "      <th>2</th>\n",
       "      <td>0.451</td>\n",
       "      <td>2.553</td>\n",
       "      <td>-1.918</td>\n",
       "      <td>-0.661</td>\n",
       "      <td>1.027</td>\n",
       "      <td>-0.875</td>\n",
       "      <td>-1.092</td>\n",
       "      <td>0.768</td>\n",
       "      <td>0.258</td>\n",
       "      <td>0.798</td>\n",
       "      <td>-0.580</td>\n",
       "      <td>-0.937</td>\n",
       "    </tr>\n",
       "    <tr>\n",
       "      <th>3</th>\n",
       "      <td>3.074</td>\n",
       "      <td>-0.362</td>\n",
       "      <td>1.661</td>\n",
       "      <td>-0.745</td>\n",
       "      <td>0.541</td>\n",
       "      <td>-0.762</td>\n",
       "      <td>-0.986</td>\n",
       "      <td>1.102</td>\n",
       "      <td>-0.364</td>\n",
       "      <td>0.328</td>\n",
       "      <td>-0.580</td>\n",
       "      <td>0.208</td>\n",
       "    </tr>\n",
       "    <tr>\n",
       "      <th>4</th>\n",
       "      <td>0.142</td>\n",
       "      <td>2.189</td>\n",
       "      <td>-2.193</td>\n",
       "      <td>-0.745</td>\n",
       "      <td>0.570</td>\n",
       "      <td>-1.100</td>\n",
       "      <td>-1.446</td>\n",
       "      <td>1.035</td>\n",
       "      <td>1.813</td>\n",
       "      <td>0.193</td>\n",
       "      <td>-0.915</td>\n",
       "      <td>-0.937</td>\n",
       "    </tr>\n",
       "  </tbody>\n",
       "</table>\n",
       "</div>"
      ],
      "text/plain": [
       "   fixed acidity  volatile acidity  citric acid  residual sugar  chlorides  \\\n",
       "0          0.142             2.189       -2.193          -0.745      0.570   \n",
       "1          0.451             3.282       -2.193          -0.598      1.198   \n",
       "2          0.451             2.553       -1.918          -0.661      1.027   \n",
       "3          3.074            -0.362        1.661          -0.745      0.541   \n",
       "4          0.142             2.189       -2.193          -0.745      0.570   \n",
       "\n",
       "   free sulfur dioxide  total sulfur dioxide  density     pH  sulphates  \\\n",
       "0               -1.100                -1.446    1.035  1.813      0.193   \n",
       "1               -0.311                -0.862    0.701 -0.115      1.000   \n",
       "2               -0.875                -1.092    0.768  0.258      0.798   \n",
       "3               -0.762                -0.986    1.102 -0.364      0.328   \n",
       "4               -1.100                -1.446    1.035  1.813      0.193   \n",
       "\n",
       "   alcohol  quality  \n",
       "0   -0.915   -0.937  \n",
       "1   -0.580   -0.937  \n",
       "2   -0.580   -0.937  \n",
       "3   -0.580    0.208  \n",
       "4   -0.915   -0.937  "
      ]
     },
     "execution_count": 87,
     "metadata": {},
     "output_type": "execute_result"
    }
   ],
   "source": [
    "# Scale data\n",
    "scaler = StandardScaler()\n",
    "wine_data = pd.DataFrame(scaler.fit_transform(wine_data), \n",
    "                         columns=wine_data.columns)\n",
    "\n",
    "# Display scaled data set\n",
    "wine_data.head()"
   ]
  },
  {
   "cell_type": "markdown",
   "metadata": {},
   "source": [
    "To prepare for building our network, we partition the data set into training and test data, reserving 10% of the data for test:"
   ]
  },
  {
   "cell_type": "code",
   "execution_count": 88,
   "metadata": {},
   "outputs": [
    {
     "name": "stdout",
     "output_type": "stream",
     "text": [
      "Training data has 3248 rows.\n",
      "Test data has 3249 rows.\n"
     ]
    }
   ],
   "source": [
    "# Split data into training and test\n",
    "X_train, X_test, y_train, y_test = train_test_split(wine_data, \n",
    "                                                    output, \n",
    "                                                    test_size = 0.5,\n",
    "                                                    random_state = 0)\n",
    "\n",
    "# Convert output to arrays\n",
    "y_train = np.array(y_train)\n",
    "y_test = np.array(y_test)\n",
    "\n",
    "# Describe training and test data sets\n",
    "print(\"Training data has {} rows.\".format(X_train.shape[0]))\n",
    "print(\"Test data has {} rows.\".format(X_test.shape[0]))"
   ]
  },
  {
   "cell_type": "markdown",
   "metadata": {},
   "source": [
    "## 2. Develop multi-layer feed-forward/backpropagation neural network\n",
    "In this section, we use the provided Simple Perceptron Neural Network notebook to develop a multi-layer feed-forward/backpropagation neural network. We begin with a single forward pass:"
   ]
  },
  {
   "cell_type": "code",
   "execution_count": 89,
   "metadata": {},
   "outputs": [
    {
     "name": "stdout",
     "output_type": "stream",
     "text": [
      "Checking dimensions: (3248, 12) * (12, 1) + (1, 1)\n"
     ]
    },
    {
     "data": {
      "text/plain": [
       "array([[0.565],\n",
       "       [0.563],\n",
       "       [0.536],\n",
       "       ...,\n",
       "       [0.527],\n",
       "       [0.537],\n",
       "       [0.476]])"
      ]
     },
     "execution_count": 89,
     "metadata": {},
     "output_type": "execute_result"
    }
   ],
   "source": [
    "# Determine data set dimensions\n",
    "_, input_cols = X_train.shape\n",
    "\n",
    "# only one output column\n",
    "output_cols = 1\n",
    "\n",
    "# Initialize parameters\n",
    "weights = init_parameters(input_cols, output_cols)\n",
    "bias = init_parameters(output_cols)\n",
    "\n",
    "# Display dimensions\n",
    "print(\"Checking dimensions: {} * {} + {}\".format(X_train.shape, weights.shape, bias.shape))\n",
    "\n",
    "# Perform forward pass and display predictions\n",
    "pred = forward(weights, bias, X_train)\n",
    "pred"
   ]
  },
  {
   "cell_type": "markdown",
   "metadata": {},
   "source": [
    "Next we test the backward pass:"
   ]
  },
  {
   "cell_type": "code",
   "execution_count": 27,
   "metadata": {},
   "outputs": [
    {
     "data": {
      "text/plain": [
       "{'dW1': array([[ 0.005,  0.005,  0.006, ...,  0.005,  0.005,  0.005],\n",
       "        [ 0.019,  0.019,  0.018, ...,  0.019,  0.019,  0.019],\n",
       "        [ 0.001,  0.001,  0.001, ...,  0.001,  0.001,  0.001],\n",
       "        ...,\n",
       "        [ 0.017,  0.017,  0.017, ...,  0.017,  0.017,  0.017],\n",
       "        [-0.005, -0.005, -0.003, ..., -0.005, -0.005, -0.005],\n",
       "        [-0.003, -0.003, -0.002, ..., -0.003, -0.003, -0.003]]),\n",
       " 'dB1': array([[ 0.501,  0.501, -0.499, ...,  0.501,  0.501,  0.501]])}"
      ]
     },
     "execution_count": 27,
     "metadata": {},
     "output_type": "execute_result"
    }
   ],
   "source": [
    "# Perform backward pass\n",
    "gradients, _ = backward(pred, weights, bias, X_train, y_train)\n",
    "gradients"
   ]
  },
  {
   "cell_type": "markdown",
   "metadata": {},
   "source": [
    "With our functions tested, we perform gradient descent for 1000 iterations to see our neural network in action:"
   ]
  },
  {
   "cell_type": "code",
   "execution_count": 30,
   "metadata": {},
   "outputs": [],
   "source": [
    "# Perform gradient descent\n",
    "num_epochs = 100\n",
    "learning_rate = 0.01\n",
    "params, loss_array = run_grad_desc(num_epochs, learning_rate, X_train, y_train)"
   ]
  },
  {
   "cell_type": "code",
   "execution_count": 36,
   "metadata": {},
   "outputs": [
    {
     "name": "stdout",
     "output_type": "stream",
     "text": [
      "[-0.429 -0.429  0.458 ... -0.429 -0.429 -0.429]\n",
      "[0.016 0.016 0.016 ... 0.04  0.04  0.04 ]\n"
     ]
    }
   ],
   "source": [
    "# Display final parameters\n",
    "print(params['B1'][0])\n",
    "print(params['W1'].ravel())"
   ]
  },
  {
   "cell_type": "markdown",
   "metadata": {},
   "source": [
    "Now we display the predictions from our neural network:"
   ]
  },
  {
   "cell_type": "code",
   "execution_count": 84,
   "metadata": {},
   "outputs": [
    {
     "data": {
      "text/plain": [
       "5847"
      ]
     },
     "execution_count": 84,
     "metadata": {},
     "output_type": "execute_result"
    }
   ],
   "source": [
    "len(params['B1'][0])"
   ]
  },
  {
   "cell_type": "code",
   "execution_count": 69,
   "metadata": {},
   "outputs": [
    {
     "data": {
      "text/plain": [
       "array([0, 0, 1, ..., 0, 0, 0], dtype=int64)"
      ]
     },
     "execution_count": 69,
     "metadata": {},
     "output_type": "execute_result"
    }
   ],
   "source": [
    "# Compute final predictions from training params\n",
    "Y_pred_nn = forward(params['W1'], params['B1'], X_train)[0]\n",
    "\n",
    "# Convert probabilities to binary\n",
    "Y_pred_nn = np.where(Y_pred_nn > 0.5, 1, 0)\n",
    "\n",
    "# Compare predictions to actual\n",
    "np.hstack([Y_pred_nn, y_train])"
   ]
  },
  {
   "cell_type": "code",
   "execution_count": 70,
   "metadata": {},
   "outputs": [
    {
     "data": {
      "text/plain": [
       "array([0, 0, 1, ..., 0, 0, 0], dtype=int64)"
      ]
     },
     "execution_count": 70,
     "metadata": {},
     "output_type": "execute_result"
    }
   ],
   "source": [
    "# Compute final predictions from training params\n",
    "y_pred = forward(params['W1'], params['B1'], X_test)[0]\n",
    "\n",
    "# Convert probabilities to binary\n",
    "y_pred = np.where(y_pred > 0.5, 1, 0)\n",
    "\n",
    "# Compare predictions to actual\n",
    "np.hstack([y_pred, y_test])"
   ]
  },
  {
   "cell_type": "code",
   "execution_count": 72,
   "metadata": {},
   "outputs": [
    {
     "ename": "ValueError",
     "evalue": "Found input variables with inconsistent numbers of samples: [650, 5847]",
     "output_type": "error",
     "traceback": [
      "\u001b[1;31m---------------------------------------------------------------------------\u001b[0m",
      "\u001b[1;31mValueError\u001b[0m                                Traceback (most recent call last)",
      "\u001b[1;32m<ipython-input-72-88bcd919393d>\u001b[0m in \u001b[0;36m<module>\u001b[1;34m\u001b[0m\n\u001b[0;32m      1\u001b[0m \u001b[1;31m# Display confusion matrix\u001b[0m\u001b[1;33m\u001b[0m\u001b[1;33m\u001b[0m\u001b[1;33m\u001b[0m\u001b[0m\n\u001b[1;32m----> 2\u001b[1;33m \u001b[0mprint\u001b[0m\u001b[1;33m(\u001b[0m\u001b[0mconfusion_matrix\u001b[0m\u001b[1;33m(\u001b[0m\u001b[0my_test\u001b[0m\u001b[1;33m,\u001b[0m \u001b[0my_pred\u001b[0m\u001b[1;33m)\u001b[0m\u001b[1;33m)\u001b[0m\u001b[1;33m\u001b[0m\u001b[1;33m\u001b[0m\u001b[0m\n\u001b[0m\u001b[0;32m      3\u001b[0m \u001b[1;33m\u001b[0m\u001b[0m\n\u001b[0;32m      4\u001b[0m \u001b[1;31m# Display performance metrics\u001b[0m\u001b[1;33m\u001b[0m\u001b[1;33m\u001b[0m\u001b[1;33m\u001b[0m\u001b[0m\n\u001b[0;32m      5\u001b[0m \u001b[0mprint\u001b[0m\u001b[1;33m(\u001b[0m\u001b[0mclassification_report\u001b[0m\u001b[1;33m(\u001b[0m\u001b[0my_test\u001b[0m\u001b[1;33m,\u001b[0m \u001b[0my_pred\u001b[0m\u001b[1;33m)\u001b[0m\u001b[1;33m)\u001b[0m\u001b[1;33m\u001b[0m\u001b[1;33m\u001b[0m\u001b[0m\n",
      "\u001b[1;32m~\\Anaconda3\\lib\\site-packages\\sklearn\\metrics\\_classification.py\u001b[0m in \u001b[0;36mconfusion_matrix\u001b[1;34m(y_true, y_pred, labels, sample_weight, normalize)\u001b[0m\n\u001b[0;32m    266\u001b[0m \u001b[1;33m\u001b[0m\u001b[0m\n\u001b[0;32m    267\u001b[0m     \"\"\"\n\u001b[1;32m--> 268\u001b[1;33m     \u001b[0my_type\u001b[0m\u001b[1;33m,\u001b[0m \u001b[0my_true\u001b[0m\u001b[1;33m,\u001b[0m \u001b[0my_pred\u001b[0m \u001b[1;33m=\u001b[0m \u001b[0m_check_targets\u001b[0m\u001b[1;33m(\u001b[0m\u001b[0my_true\u001b[0m\u001b[1;33m,\u001b[0m \u001b[0my_pred\u001b[0m\u001b[1;33m)\u001b[0m\u001b[1;33m\u001b[0m\u001b[1;33m\u001b[0m\u001b[0m\n\u001b[0m\u001b[0;32m    269\u001b[0m     \u001b[1;32mif\u001b[0m \u001b[0my_type\u001b[0m \u001b[1;32mnot\u001b[0m \u001b[1;32min\u001b[0m \u001b[1;33m(\u001b[0m\u001b[1;34m\"binary\"\u001b[0m\u001b[1;33m,\u001b[0m \u001b[1;34m\"multiclass\"\u001b[0m\u001b[1;33m)\u001b[0m\u001b[1;33m:\u001b[0m\u001b[1;33m\u001b[0m\u001b[1;33m\u001b[0m\u001b[0m\n\u001b[0;32m    270\u001b[0m         \u001b[1;32mraise\u001b[0m \u001b[0mValueError\u001b[0m\u001b[1;33m(\u001b[0m\u001b[1;34m\"%s is not supported\"\u001b[0m \u001b[1;33m%\u001b[0m \u001b[0my_type\u001b[0m\u001b[1;33m)\u001b[0m\u001b[1;33m\u001b[0m\u001b[1;33m\u001b[0m\u001b[0m\n",
      "\u001b[1;32m~\\Anaconda3\\lib\\site-packages\\sklearn\\metrics\\_classification.py\u001b[0m in \u001b[0;36m_check_targets\u001b[1;34m(y_true, y_pred)\u001b[0m\n\u001b[0;32m     78\u001b[0m     \u001b[0my_pred\u001b[0m \u001b[1;33m:\u001b[0m \u001b[0marray\u001b[0m \u001b[1;32mor\u001b[0m \u001b[0mindicator\u001b[0m \u001b[0mmatrix\u001b[0m\u001b[1;33m\u001b[0m\u001b[1;33m\u001b[0m\u001b[0m\n\u001b[0;32m     79\u001b[0m     \"\"\"\n\u001b[1;32m---> 80\u001b[1;33m     \u001b[0mcheck_consistent_length\u001b[0m\u001b[1;33m(\u001b[0m\u001b[0my_true\u001b[0m\u001b[1;33m,\u001b[0m \u001b[0my_pred\u001b[0m\u001b[1;33m)\u001b[0m\u001b[1;33m\u001b[0m\u001b[1;33m\u001b[0m\u001b[0m\n\u001b[0m\u001b[0;32m     81\u001b[0m     \u001b[0mtype_true\u001b[0m \u001b[1;33m=\u001b[0m \u001b[0mtype_of_target\u001b[0m\u001b[1;33m(\u001b[0m\u001b[0my_true\u001b[0m\u001b[1;33m)\u001b[0m\u001b[1;33m\u001b[0m\u001b[1;33m\u001b[0m\u001b[0m\n\u001b[0;32m     82\u001b[0m     \u001b[0mtype_pred\u001b[0m \u001b[1;33m=\u001b[0m \u001b[0mtype_of_target\u001b[0m\u001b[1;33m(\u001b[0m\u001b[0my_pred\u001b[0m\u001b[1;33m)\u001b[0m\u001b[1;33m\u001b[0m\u001b[1;33m\u001b[0m\u001b[0m\n",
      "\u001b[1;32m~\\Anaconda3\\lib\\site-packages\\sklearn\\utils\\validation.py\u001b[0m in \u001b[0;36mcheck_consistent_length\u001b[1;34m(*arrays)\u001b[0m\n\u001b[0;32m    210\u001b[0m     \u001b[1;32mif\u001b[0m \u001b[0mlen\u001b[0m\u001b[1;33m(\u001b[0m\u001b[0muniques\u001b[0m\u001b[1;33m)\u001b[0m \u001b[1;33m>\u001b[0m \u001b[1;36m1\u001b[0m\u001b[1;33m:\u001b[0m\u001b[1;33m\u001b[0m\u001b[1;33m\u001b[0m\u001b[0m\n\u001b[0;32m    211\u001b[0m         raise ValueError(\"Found input variables with inconsistent numbers of\"\n\u001b[1;32m--> 212\u001b[1;33m                          \" samples: %r\" % [int(l) for l in lengths])\n\u001b[0m\u001b[0;32m    213\u001b[0m \u001b[1;33m\u001b[0m\u001b[0m\n\u001b[0;32m    214\u001b[0m \u001b[1;33m\u001b[0m\u001b[0m\n",
      "\u001b[1;31mValueError\u001b[0m: Found input variables with inconsistent numbers of samples: [650, 5847]"
     ]
    }
   ],
   "source": [
    "# Display confusion matrix\n",
    "print(confusion_matrix(y_test, y_pred))\n",
    "\n",
    "# Display performance metrics\n",
    "print(classification_report(y_test, y_pred))"
   ]
  },
  {
   "cell_type": "markdown",
   "metadata": {},
   "source": [
    "Finally, we plot the loss:"
   ]
  },
  {
   "cell_type": "code",
   "execution_count": 51,
   "metadata": {},
   "outputs": [
    {
     "data": {
      "text/plain": [
       "<matplotlib.axes._subplots.AxesSubplot at 0x62d2784e08>"
      ]
     },
     "execution_count": 51,
     "metadata": {},
     "output_type": "execute_result"
    },
    {
     "data": {
      "image/png": "[encoded data removed]",
      "text/plain": [
       "<Figure size 432x288 with 1 Axes>"
      ]
     },
     "metadata": {
      "needs_background": "light"
     },
     "output_type": "display_data"
    }
   ],
   "source": [
    "# Plot the loss per epoch\n",
    "sns.lineplot(data = loss_array)"
   ]
  },
  {
   "cell_type": "markdown",
   "metadata": {},
   "source": [
    "Now that we have trained our initial neural network, we are ready to experiment with the parameters."
   ]
  },
  {
   "cell_type": "markdown",
   "metadata": {},
   "source": [
    "## 3. Adjust the following between experiments:\n",
    "In this section, we adjust various settings and run experiments.\n",
    "\n",
    "### Learning Rate\n",
    "In this section, we adjust the learning rate."
   ]
  },
  {
   "cell_type": "code",
   "execution_count": null,
   "metadata": {},
   "outputs": [],
   "source": []
  },
  {
   "cell_type": "markdown",
   "metadata": {},
   "source": [
    "### Number of epochs\n",
    "In this section, we adjust the number of epochs."
   ]
  },
  {
   "cell_type": "code",
   "execution_count": null,
   "metadata": {},
   "outputs": [],
   "source": []
  },
  {
   "cell_type": "markdown",
   "metadata": {},
   "source": [
    "### Depth of architecture\n",
    "In this section, we adjust the depth of the architecture, that is, the number of hidden layers between the input and output layers."
   ]
  },
  {
   "cell_type": "code",
   "execution_count": null,
   "metadata": {},
   "outputs": [],
   "source": []
  },
  {
   "cell_type": "markdown",
   "metadata": {},
   "source": [
    "### Number of nodes per hidden layer\n",
    "In this section, we adjust the number of nodes in a hidden layer, the width of the hidden layers."
   ]
  },
  {
   "cell_type": "code",
   "execution_count": null,
   "metadata": {},
   "outputs": [],
   "source": []
  },
  {
   "cell_type": "markdown",
   "metadata": {},
   "source": [
    "## 4. Determine best neural network structure and settings\n",
    "In this section, we determine the best neural network structure and hyperparameter settings, resulting in the best predictive capability."
   ]
  },
  {
   "cell_type": "code",
   "execution_count": null,
   "metadata": {},
   "outputs": [],
   "source": []
  },
  {
   "cell_type": "markdown",
   "metadata": {},
   "source": [
    "## Summary\n",
    "In this assignment, we ..."
   ]
  }
 ],
 "metadata": {
  "kernelspec": {
   "display_name": "Python 3",
   "language": "python",
   "name": "python3"
  },
  "language_info": {
   "codemirror_mode": {
    "name": "ipython",
    "version": 3
   },
   "file_extension": ".py",
   "mimetype": "text/x-python",
   "name": "python",
   "nbconvert_exporter": "python",
   "pygments_lexer": "ipython3",
   "version": "3.7.7"
  }
 },
 "nbformat": 4,
 "nbformat_minor": 2
}
