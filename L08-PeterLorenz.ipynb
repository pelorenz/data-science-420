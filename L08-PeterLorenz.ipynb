{
 "cells": [
  {
   "cell_type": "markdown",
   "metadata": {},
   "source": [
    "# Lesson 08\n",
    "# Peter Lorenz\n",
    "\n",
    "## 0. Preparation\n",
    "Import required libraries:"
   ]
  },
  {
   "cell_type": "code",
   "execution_count": 11,
   "metadata": {},
   "outputs": [],
   "source": [
    "import numpy as np\n",
    "import pandas as pd\n",
    "\n",
    "from sklearn.model_selection import train_test_split\n",
    "from sklearn.preprocessing import StandardScaler"
   ]
  },
  {
   "cell_type": "markdown",
   "metadata": {},
   "source": [
    "Set global options:"
   ]
  },
  {
   "cell_type": "code",
   "execution_count": 3,
   "metadata": {},
   "outputs": [],
   "source": [
    "# Display plots inline\n",
    "%matplotlib inline\n",
    "\n",
    "# Display multiple cell outputs\n",
    "from IPython.core.interactiveshell import InteractiveShell\n",
    "InteractiveShell.ast_node_interactivity = \"all\"\n",
    "\n",
    "# Suppress scientific notation\n",
    "np.set_printoptions(suppress=True)\n",
    "np.set_printoptions(precision=3)\n",
    "pd.set_option('display.float_format', lambda x: '%.3f' % x)"
   ]
  },
  {
   "cell_type": "markdown",
   "metadata": {},
   "source": [
    "Declare utility functions:"
   ]
  },
  {
   "cell_type": "code",
   "execution_count": null,
   "metadata": {},
   "outputs": [],
   "source": []
  },
  {
   "cell_type": "markdown",
   "metadata": {},
   "source": [
    "## 1. Use the provided RedWhiteWine.csv file\n",
    "In this section, we load and prepare the provided RedWhiteWine.csv file. We include all features, using “Class” as the output vector. First we read and prepare the data:"
   ]
  },
  {
   "cell_type": "code",
   "execution_count": 8,
   "metadata": {},
   "outputs": [
    {
     "data": {
      "text/plain": [
       "(6497, 13)"
      ]
     },
     "execution_count": 8,
     "metadata": {},
     "output_type": "execute_result"
    },
    {
     "data": {
      "text/html": [
       "<div>\n",
       "<style scoped>\n",
       "    .dataframe tbody tr th:only-of-type {\n",
       "        vertical-align: middle;\n",
       "    }\n",
       "\n",
       "    .dataframe tbody tr th {\n",
       "        vertical-align: top;\n",
       "    }\n",
       "\n",
       "    .dataframe thead th {\n",
       "        text-align: right;\n",
       "    }\n",
       "</style>\n",
       "<table border=\"1\" class=\"dataframe\">\n",
       "  <thead>\n",
       "    <tr style=\"text-align: right;\">\n",
       "      <th></th>\n",
       "      <th>fixed acidity</th>\n",
       "      <th>volatile acidity</th>\n",
       "      <th>citric acid</th>\n",
       "      <th>residual sugar</th>\n",
       "      <th>chlorides</th>\n",
       "      <th>free sulfur dioxide</th>\n",
       "      <th>total sulfur dioxide</th>\n",
       "      <th>density</th>\n",
       "      <th>pH</th>\n",
       "      <th>sulphates</th>\n",
       "      <th>alcohol</th>\n",
       "      <th>quality</th>\n",
       "      <th>Class</th>\n",
       "    </tr>\n",
       "  </thead>\n",
       "  <tbody>\n",
       "    <tr>\n",
       "      <th>0</th>\n",
       "      <td>7.400</td>\n",
       "      <td>0.700</td>\n",
       "      <td>0.000</td>\n",
       "      <td>1.900</td>\n",
       "      <td>0.076</td>\n",
       "      <td>11.000</td>\n",
       "      <td>34.000</td>\n",
       "      <td>0.998</td>\n",
       "      <td>3.510</td>\n",
       "      <td>0.560</td>\n",
       "      <td>9.400</td>\n",
       "      <td>5</td>\n",
       "      <td>1</td>\n",
       "    </tr>\n",
       "    <tr>\n",
       "      <th>1</th>\n",
       "      <td>7.800</td>\n",
       "      <td>0.880</td>\n",
       "      <td>0.000</td>\n",
       "      <td>2.600</td>\n",
       "      <td>0.098</td>\n",
       "      <td>25.000</td>\n",
       "      <td>67.000</td>\n",
       "      <td>0.997</td>\n",
       "      <td>3.200</td>\n",
       "      <td>0.680</td>\n",
       "      <td>9.800</td>\n",
       "      <td>5</td>\n",
       "      <td>1</td>\n",
       "    </tr>\n",
       "    <tr>\n",
       "      <th>2</th>\n",
       "      <td>7.800</td>\n",
       "      <td>0.760</td>\n",
       "      <td>0.040</td>\n",
       "      <td>2.300</td>\n",
       "      <td>0.092</td>\n",
       "      <td>15.000</td>\n",
       "      <td>54.000</td>\n",
       "      <td>0.997</td>\n",
       "      <td>3.260</td>\n",
       "      <td>0.650</td>\n",
       "      <td>9.800</td>\n",
       "      <td>5</td>\n",
       "      <td>1</td>\n",
       "    </tr>\n",
       "    <tr>\n",
       "      <th>3</th>\n",
       "      <td>11.200</td>\n",
       "      <td>0.280</td>\n",
       "      <td>0.560</td>\n",
       "      <td>1.900</td>\n",
       "      <td>0.075</td>\n",
       "      <td>17.000</td>\n",
       "      <td>60.000</td>\n",
       "      <td>0.998</td>\n",
       "      <td>3.160</td>\n",
       "      <td>0.580</td>\n",
       "      <td>9.800</td>\n",
       "      <td>6</td>\n",
       "      <td>1</td>\n",
       "    </tr>\n",
       "    <tr>\n",
       "      <th>4</th>\n",
       "      <td>7.400</td>\n",
       "      <td>0.700</td>\n",
       "      <td>0.000</td>\n",
       "      <td>1.900</td>\n",
       "      <td>0.076</td>\n",
       "      <td>11.000</td>\n",
       "      <td>34.000</td>\n",
       "      <td>0.998</td>\n",
       "      <td>3.510</td>\n",
       "      <td>0.560</td>\n",
       "      <td>9.400</td>\n",
       "      <td>5</td>\n",
       "      <td>1</td>\n",
       "    </tr>\n",
       "  </tbody>\n",
       "</table>\n",
       "</div>"
      ],
      "text/plain": [
       "   fixed acidity  volatile acidity  citric acid  residual sugar  chlorides  \\\n",
       "0          7.400             0.700        0.000           1.900      0.076   \n",
       "1          7.800             0.880        0.000           2.600      0.098   \n",
       "2          7.800             0.760        0.040           2.300      0.092   \n",
       "3         11.200             0.280        0.560           1.900      0.075   \n",
       "4          7.400             0.700        0.000           1.900      0.076   \n",
       "\n",
       "   free sulfur dioxide  total sulfur dioxide  density    pH  sulphates  \\\n",
       "0               11.000                34.000    0.998 3.510      0.560   \n",
       "1               25.000                67.000    0.997 3.200      0.680   \n",
       "2               15.000                54.000    0.997 3.260      0.650   \n",
       "3               17.000                60.000    0.998 3.160      0.580   \n",
       "4               11.000                34.000    0.998 3.510      0.560   \n",
       "\n",
       "   alcohol  quality  Class  \n",
       "0    9.400        5      1  \n",
       "1    9.800        5      1  \n",
       "2    9.800        5      1  \n",
       "3    9.800        6      1  \n",
       "4    9.400        5      1  "
      ]
     },
     "execution_count": 8,
     "metadata": {},
     "output_type": "execute_result"
    },
    {
     "name": "stdout",
     "output_type": "stream",
     "text": [
      "<class 'pandas.core.frame.DataFrame'>\n",
      "RangeIndex: 6497 entries, 0 to 6496\n",
      "Data columns (total 13 columns):\n",
      " #   Column                Non-Null Count  Dtype  \n",
      "---  ------                --------------  -----  \n",
      " 0   fixed acidity         6497 non-null   float64\n",
      " 1   volatile acidity      6497 non-null   float64\n",
      " 2   citric acid           6497 non-null   float64\n",
      " 3   residual sugar        6497 non-null   float64\n",
      " 4   chlorides             6497 non-null   float64\n",
      " 5   free sulfur dioxide   6497 non-null   float64\n",
      " 6   total sulfur dioxide  6497 non-null   float64\n",
      " 7   density               6497 non-null   float64\n",
      " 8   pH                    6497 non-null   float64\n",
      " 9   sulphates             6497 non-null   float64\n",
      " 10  alcohol               6497 non-null   float64\n",
      " 11  quality               6497 non-null   int64  \n",
      " 12  Class                 6497 non-null   int64  \n",
      "dtypes: float64(11), int64(2)\n",
      "memory usage: 660.0 KB\n"
     ]
    }
   ],
   "source": [
    "# Internet location of the data set\n",
    "url = \"https://library.startlearninglabs.uw.edu/DATASCI420/2019/Datasets/RedWhiteWine.csv\"\n",
    "\n",
    "# Download the data into a dataframe object\n",
    "wine_data = pd.read_csv(url)\n",
    "\n",
    "# Display shape and initial data\n",
    "wine_data.shape\n",
    "wine_data.head()\n",
    "\n",
    "# Examine column types\n",
    "wine_data.info()"
   ]
  },
  {
   "cell_type": "markdown",
   "metadata": {},
   "source": [
    "Next we set aside the output variable:"
   ]
  },
  {
   "cell_type": "code",
   "execution_count": 9,
   "metadata": {},
   "outputs": [
    {
     "data": {
      "text/plain": [
       "(6497, 12)"
      ]
     },
     "execution_count": 9,
     "metadata": {},
     "output_type": "execute_result"
    }
   ],
   "source": [
    "# Set aside the output variable\n",
    "output = wine_data['Class']\n",
    "\n",
    "# Drop output from main data frame\n",
    "wine_data = wine_data.drop('Class', axis=1)\n",
    "wine_data.shape"
   ]
  },
  {
   "cell_type": "markdown",
   "metadata": {},
   "source": [
    "Now we scale the features:"
   ]
  },
  {
   "cell_type": "code",
   "execution_count": 10,
   "metadata": {},
   "outputs": [
    {
     "data": {
      "text/html": [
       "<div>\n",
       "<style scoped>\n",
       "    .dataframe tbody tr th:only-of-type {\n",
       "        vertical-align: middle;\n",
       "    }\n",
       "\n",
       "    .dataframe tbody tr th {\n",
       "        vertical-align: top;\n",
       "    }\n",
       "\n",
       "    .dataframe thead th {\n",
       "        text-align: right;\n",
       "    }\n",
       "</style>\n",
       "<table border=\"1\" class=\"dataframe\">\n",
       "  <thead>\n",
       "    <tr style=\"text-align: right;\">\n",
       "      <th></th>\n",
       "      <th>fixed acidity</th>\n",
       "      <th>volatile acidity</th>\n",
       "      <th>citric acid</th>\n",
       "      <th>residual sugar</th>\n",
       "      <th>chlorides</th>\n",
       "      <th>free sulfur dioxide</th>\n",
       "      <th>total sulfur dioxide</th>\n",
       "      <th>density</th>\n",
       "      <th>pH</th>\n",
       "      <th>sulphates</th>\n",
       "      <th>alcohol</th>\n",
       "      <th>quality</th>\n",
       "    </tr>\n",
       "  </thead>\n",
       "  <tbody>\n",
       "    <tr>\n",
       "      <th>0</th>\n",
       "      <td>0.142</td>\n",
       "      <td>2.189</td>\n",
       "      <td>-2.193</td>\n",
       "      <td>-0.745</td>\n",
       "      <td>0.570</td>\n",
       "      <td>-1.100</td>\n",
       "      <td>-1.446</td>\n",
       "      <td>1.035</td>\n",
       "      <td>1.813</td>\n",
       "      <td>0.193</td>\n",
       "      <td>-0.915</td>\n",
       "      <td>-0.937</td>\n",
       "    </tr>\n",
       "    <tr>\n",
       "      <th>1</th>\n",
       "      <td>0.451</td>\n",
       "      <td>3.282</td>\n",
       "      <td>-2.193</td>\n",
       "      <td>-0.598</td>\n",
       "      <td>1.198</td>\n",
       "      <td>-0.311</td>\n",
       "      <td>-0.862</td>\n",
       "      <td>0.701</td>\n",
       "      <td>-0.115</td>\n",
       "      <td>1.000</td>\n",
       "      <td>-0.580</td>\n",
       "      <td>-0.937</td>\n",
       "    </tr>\n",
       "    <tr>\n",
       "      <th>2</th>\n",
       "      <td>0.451</td>\n",
       "      <td>2.553</td>\n",
       "      <td>-1.918</td>\n",
       "      <td>-0.661</td>\n",
       "      <td>1.027</td>\n",
       "      <td>-0.875</td>\n",
       "      <td>-1.092</td>\n",
       "      <td>0.768</td>\n",
       "      <td>0.258</td>\n",
       "      <td>0.798</td>\n",
       "      <td>-0.580</td>\n",
       "      <td>-0.937</td>\n",
       "    </tr>\n",
       "    <tr>\n",
       "      <th>3</th>\n",
       "      <td>3.074</td>\n",
       "      <td>-0.362</td>\n",
       "      <td>1.661</td>\n",
       "      <td>-0.745</td>\n",
       "      <td>0.541</td>\n",
       "      <td>-0.762</td>\n",
       "      <td>-0.986</td>\n",
       "      <td>1.102</td>\n",
       "      <td>-0.364</td>\n",
       "      <td>0.328</td>\n",
       "      <td>-0.580</td>\n",
       "      <td>0.208</td>\n",
       "    </tr>\n",
       "    <tr>\n",
       "      <th>4</th>\n",
       "      <td>0.142</td>\n",
       "      <td>2.189</td>\n",
       "      <td>-2.193</td>\n",
       "      <td>-0.745</td>\n",
       "      <td>0.570</td>\n",
       "      <td>-1.100</td>\n",
       "      <td>-1.446</td>\n",
       "      <td>1.035</td>\n",
       "      <td>1.813</td>\n",
       "      <td>0.193</td>\n",
       "      <td>-0.915</td>\n",
       "      <td>-0.937</td>\n",
       "    </tr>\n",
       "  </tbody>\n",
       "</table>\n",
       "</div>"
      ],
      "text/plain": [
       "   fixed acidity  volatile acidity  citric acid  residual sugar  chlorides  \\\n",
       "0          0.142             2.189       -2.193          -0.745      0.570   \n",
       "1          0.451             3.282       -2.193          -0.598      1.198   \n",
       "2          0.451             2.553       -1.918          -0.661      1.027   \n",
       "3          3.074            -0.362        1.661          -0.745      0.541   \n",
       "4          0.142             2.189       -2.193          -0.745      0.570   \n",
       "\n",
       "   free sulfur dioxide  total sulfur dioxide  density     pH  sulphates  \\\n",
       "0               -1.100                -1.446    1.035  1.813      0.193   \n",
       "1               -0.311                -0.862    0.701 -0.115      1.000   \n",
       "2               -0.875                -1.092    0.768  0.258      0.798   \n",
       "3               -0.762                -0.986    1.102 -0.364      0.328   \n",
       "4               -1.100                -1.446    1.035  1.813      0.193   \n",
       "\n",
       "   alcohol  quality  \n",
       "0   -0.915   -0.937  \n",
       "1   -0.580   -0.937  \n",
       "2   -0.580   -0.937  \n",
       "3   -0.580    0.208  \n",
       "4   -0.915   -0.937  "
      ]
     },
     "execution_count": 10,
     "metadata": {},
     "output_type": "execute_result"
    }
   ],
   "source": [
    "# Scale data\n",
    "scaler = StandardScaler()\n",
    "wine_data = pd.DataFrame(scaler.fit_transform(wine_data), \n",
    "                         columns=wine_data.columns)\n",
    "\n",
    "# Display scaled data set\n",
    "wine_data.head()"
   ]
  },
  {
   "cell_type": "markdown",
   "metadata": {},
   "source": [
    "To prepare for building our network, we partition the data set into training and test data, reserving 10% of the data for test:"
   ]
  },
  {
   "cell_type": "code",
   "execution_count": 12,
   "metadata": {},
   "outputs": [
    {
     "name": "stdout",
     "output_type": "stream",
     "text": [
      "Training data has 5847 rows.\n",
      "Test data has 650 rows.\n"
     ]
    }
   ],
   "source": [
    "# Split data into training and test\n",
    "X_train, X_test, y_train, y_test = train_test_split(wine_data, \n",
    "                                                    output, \n",
    "                                                    test_size = 0.1,\n",
    "                                                    random_state = 0)\n",
    "\n",
    "# Describe training and test data sets\n",
    "print(\"Training data has {} rows.\".format(X_train.shape[0]))\n",
    "print(\"Test data has {} rows.\".format(X_test.shape[0]))"
   ]
  },
  {
   "cell_type": "markdown",
   "metadata": {},
   "source": [
    "## 2. Develop multi-layer feed-forward/backpropagation neural network\n",
    "In this section, we use the provided Simple Perceptron Neural Network notebook to develop a multi-layer feed-forward/backpropagation neural network."
   ]
  },
  {
   "cell_type": "code",
   "execution_count": null,
   "metadata": {},
   "outputs": [],
   "source": []
  },
  {
   "cell_type": "markdown",
   "metadata": {},
   "source": [
    "## 3. Adjust the following between experiments:\n",
    "In this section, we adjust various settings and run experiments.\n",
    "\n",
    "### Learning Rate\n",
    "In this section, we adjust the learning rate."
   ]
  },
  {
   "cell_type": "code",
   "execution_count": null,
   "metadata": {},
   "outputs": [],
   "source": []
  },
  {
   "cell_type": "markdown",
   "metadata": {},
   "source": [
    "### Number of epochs\n",
    "In this section, we adjust the number of epochs."
   ]
  },
  {
   "cell_type": "code",
   "execution_count": null,
   "metadata": {},
   "outputs": [],
   "source": []
  },
  {
   "cell_type": "markdown",
   "metadata": {},
   "source": [
    "### Depth of architecture\n",
    "In this section, we adjust the depth of the architecture, that is, the number of hidden layers between the input and output layers."
   ]
  },
  {
   "cell_type": "code",
   "execution_count": null,
   "metadata": {},
   "outputs": [],
   "source": []
  },
  {
   "cell_type": "markdown",
   "metadata": {},
   "source": [
    "### Number of nodes per hidden layer\n",
    "In this section, we adjust the number of nodes in a hidden layer, the width of the hidden layers."
   ]
  },
  {
   "cell_type": "code",
   "execution_count": null,
   "metadata": {},
   "outputs": [],
   "source": []
  },
  {
   "cell_type": "markdown",
   "metadata": {},
   "source": [
    "## 4. Determine best neural network structure and settings\n",
    "In this section, we determine the best neural network structure and hyperparameter settings, resulting in the best predictive capability."
   ]
  },
  {
   "cell_type": "code",
   "execution_count": null,
   "metadata": {},
   "outputs": [],
   "source": []
  },
  {
   "cell_type": "markdown",
   "metadata": {},
   "source": [
    "## Summary\n",
    "In this assignment, we ..."
   ]
  }
 ],
 "metadata": {
  "kernelspec": {
   "display_name": "Python 3",
   "language": "python",
   "name": "python3"
  },
  "language_info": {
   "codemirror_mode": {
    "name": "ipython",
    "version": 3
   },
   "file_extension": ".py",
   "mimetype": "text/x-python",
   "name": "python",
   "nbconvert_exporter": "python",
   "pygments_lexer": "ipython3",
   "version": "3.7.7"
  }
 },
 "nbformat": 4,
 "nbformat_minor": 2
}
