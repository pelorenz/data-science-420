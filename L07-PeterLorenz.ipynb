{
 "cells": [
  {
   "cell_type": "markdown",
   "metadata": {},
   "source": [
    "# Lesson 07\n",
    "# Peter Lorenz\n",
    "\n",
    "In this assignment, we use support vector machines to identify useful predictors for the age of abalones when data about their number of rings is unavailable.\n",
    "\n",
    "## 0. Preparation\n",
    "\n",
    "Import the required libraries:"
   ]
  },
  {
   "cell_type": "code",
   "execution_count": 66,
   "metadata": {},
   "outputs": [],
   "source": [
    "import matplotlib as mpl\n",
    "import matplotlib.pyplot as plt\n",
    "import numpy as np\n",
    "import pandas as pd\n",
    "\n",
    "from sklearn import metrics\n",
    "from sklearn.metrics import classification_report\n",
    "from sklearn.metrics import confusion_matrix\n",
    "from sklearn.metrics import explained_variance_score\n",
    "from sklearn.metrics import mean_squared_error\n",
    "from sklearn.metrics import roc_auc_score\n",
    "from sklearn.model_selection import GridSearchCV\n",
    "from sklearn.model_selection import train_test_split\n",
    "from sklearn.svm import SVC\n",
    "from sklearn.svm import SVR"
   ]
  },
  {
   "cell_type": "markdown",
   "metadata": {},
   "source": [
    "Set global options:"
   ]
  },
  {
   "cell_type": "code",
   "execution_count": 2,
   "metadata": {},
   "outputs": [],
   "source": [
    "# Display plots inline\n",
    "%matplotlib inline\n",
    "\n",
    "# Display multiple cell outputs\n",
    "from IPython.core.interactiveshell import InteractiveShell\n",
    "InteractiveShell.ast_node_interactivity = \"all\"\n",
    "\n",
    "# Suppress scientific notation\n",
    "np.set_printoptions(suppress=True)\n",
    "np.set_printoptions(precision=3)\n",
    "pd.set_option('display.float_format', lambda x: '%.3f' % x)"
   ]
  },
  {
   "cell_type": "markdown",
   "metadata": {},
   "source": [
    "Declare utility functions:"
   ]
  },
  {
   "cell_type": "code",
   "execution_count": 43,
   "metadata": {},
   "outputs": [],
   "source": [
    "# Output key metrics\n",
    "def display_metrics(y_test, y_pred):\n",
    "    # Display confusion matrix\n",
    "    print(confusion_matrix(y_test, y_pred))\n",
    "\n",
    "    # Display performance metrics\n",
    "    print(classification_report(y_test, y_pred))\n",
    "\n",
    "    # Compute ROC metrics\n",
    "    fpr, tpr, thresholds = metrics.roc_curve(y_test, y_pred)\n",
    "    roc_auc = metrics.auc(fpr, tpr)\n",
    "\n",
    "    # Display ROC plot\n",
    "    plt.title('Receiver Operating Characteristic')\n",
    "    plt.plot(fpr, tpr, 'b', label = 'AUC = %0.2f' % roc_auc)\n",
    "    plt.legend(loc = 'lower right')\n",
    "    plt.plot([0, 1], [0, 1],'r--')\n",
    "    plt.xlim([0, 1])\n",
    "    plt.ylim([0, 1])\n",
    "    plt.ylabel('True Positive Rate')\n",
    "    plt.xlabel('False Positive Rate')\n",
    "    plt.show()\n",
    "\n",
    "    # Display ROC score\n",
    "    print('Area under the ROC curve (AUC):', roc_auc_score(y_test, y_pred))"
   ]
  },
  {
   "cell_type": "markdown",
   "metadata": {},
   "source": [
    "Define constants:"
   ]
  },
  {
   "cell_type": "code",
   "execution_count": 39,
   "metadata": {},
   "outputs": [],
   "source": [
    "CACHE_SIZE=2048"
   ]
  },
  {
   "cell_type": "markdown",
   "metadata": {},
   "source": [
    "Read and prepare the data:"
   ]
  },
  {
   "cell_type": "code",
   "execution_count": 5,
   "metadata": {},
   "outputs": [
    {
     "data": {
      "text/plain": [
       "(4177, 9)"
      ]
     },
     "execution_count": 5,
     "metadata": {},
     "output_type": "execute_result"
    },
    {
     "data": {
      "text/html": [
       "<div>\n",
       "<style scoped>\n",
       "    .dataframe tbody tr th:only-of-type {\n",
       "        vertical-align: middle;\n",
       "    }\n",
       "\n",
       "    .dataframe tbody tr th {\n",
       "        vertical-align: top;\n",
       "    }\n",
       "\n",
       "    .dataframe thead th {\n",
       "        text-align: right;\n",
       "    }\n",
       "</style>\n",
       "<table border=\"1\" class=\"dataframe\">\n",
       "  <thead>\n",
       "    <tr style=\"text-align: right;\">\n",
       "      <th></th>\n",
       "      <th>Sex</th>\n",
       "      <th>Length</th>\n",
       "      <th>Diameter</th>\n",
       "      <th>Height</th>\n",
       "      <th>Whole Weight</th>\n",
       "      <th>Shucked Weight</th>\n",
       "      <th>Viscera Weight</th>\n",
       "      <th>Shell Weight</th>\n",
       "      <th>Rings</th>\n",
       "    </tr>\n",
       "  </thead>\n",
       "  <tbody>\n",
       "    <tr>\n",
       "      <th>0</th>\n",
       "      <td>M</td>\n",
       "      <td>0.455</td>\n",
       "      <td>0.365</td>\n",
       "      <td>0.095</td>\n",
       "      <td>0.514</td>\n",
       "      <td>0.225</td>\n",
       "      <td>0.101</td>\n",
       "      <td>0.150</td>\n",
       "      <td>15</td>\n",
       "    </tr>\n",
       "    <tr>\n",
       "      <th>1</th>\n",
       "      <td>M</td>\n",
       "      <td>0.350</td>\n",
       "      <td>0.265</td>\n",
       "      <td>0.090</td>\n",
       "      <td>0.226</td>\n",
       "      <td>0.100</td>\n",
       "      <td>0.049</td>\n",
       "      <td>0.070</td>\n",
       "      <td>7</td>\n",
       "    </tr>\n",
       "    <tr>\n",
       "      <th>2</th>\n",
       "      <td>F</td>\n",
       "      <td>0.530</td>\n",
       "      <td>0.420</td>\n",
       "      <td>0.135</td>\n",
       "      <td>0.677</td>\n",
       "      <td>0.257</td>\n",
       "      <td>0.141</td>\n",
       "      <td>0.210</td>\n",
       "      <td>9</td>\n",
       "    </tr>\n",
       "    <tr>\n",
       "      <th>3</th>\n",
       "      <td>M</td>\n",
       "      <td>0.440</td>\n",
       "      <td>0.365</td>\n",
       "      <td>0.125</td>\n",
       "      <td>0.516</td>\n",
       "      <td>0.215</td>\n",
       "      <td>0.114</td>\n",
       "      <td>0.155</td>\n",
       "      <td>10</td>\n",
       "    </tr>\n",
       "    <tr>\n",
       "      <th>4</th>\n",
       "      <td>I</td>\n",
       "      <td>0.330</td>\n",
       "      <td>0.255</td>\n",
       "      <td>0.080</td>\n",
       "      <td>0.205</td>\n",
       "      <td>0.089</td>\n",
       "      <td>0.040</td>\n",
       "      <td>0.055</td>\n",
       "      <td>7</td>\n",
       "    </tr>\n",
       "  </tbody>\n",
       "</table>\n",
       "</div>"
      ],
      "text/plain": [
       "  Sex  Length  Diameter  Height  Whole Weight  Shucked Weight  Viscera Weight  \\\n",
       "0   M   0.455     0.365   0.095         0.514           0.225           0.101   \n",
       "1   M   0.350     0.265   0.090         0.226           0.100           0.049   \n",
       "2   F   0.530     0.420   0.135         0.677           0.257           0.141   \n",
       "3   M   0.440     0.365   0.125         0.516           0.215           0.114   \n",
       "4   I   0.330     0.255   0.080         0.205           0.089           0.040   \n",
       "\n",
       "   Shell Weight  Rings  \n",
       "0         0.150     15  \n",
       "1         0.070      7  \n",
       "2         0.210      9  \n",
       "3         0.155     10  \n",
       "4         0.055      7  "
      ]
     },
     "execution_count": 5,
     "metadata": {},
     "output_type": "execute_result"
    },
    {
     "name": "stdout",
     "output_type": "stream",
     "text": [
      "<class 'pandas.core.frame.DataFrame'>\n",
      "RangeIndex: 4177 entries, 0 to 4176\n",
      "Data columns (total 9 columns):\n",
      " #   Column          Non-Null Count  Dtype  \n",
      "---  ------          --------------  -----  \n",
      " 0   Sex             4177 non-null   object \n",
      " 1   Length          4177 non-null   float64\n",
      " 2   Diameter        4177 non-null   float64\n",
      " 3   Height          4177 non-null   float64\n",
      " 4   Whole Weight    4177 non-null   float64\n",
      " 5   Shucked Weight  4177 non-null   float64\n",
      " 6   Viscera Weight  4177 non-null   float64\n",
      " 7   Shell Weight    4177 non-null   float64\n",
      " 8   Rings           4177 non-null   int64  \n",
      "dtypes: float64(7), int64(1), object(1)\n",
      "memory usage: 293.8+ KB\n"
     ]
    }
   ],
   "source": [
    "# Internet location of the data set\n",
    "url = \"https://library.startlearninglabs.uw.edu/DATASCI420/2019/Datasets/Abalone.csv\"\n",
    "\n",
    "# Download the data into a dataframe object\n",
    "abalone_data = pd.read_csv(url)\n",
    "\n",
    "# Display shape and initial data\n",
    "abalone_data.shape\n",
    "abalone_data.head()\n",
    "\n",
    "# Examine column types\n",
    "abalone_data.info()"
   ]
  },
  {
   "cell_type": "markdown",
   "metadata": {},
   "source": [
    "One-hot encode the Sex column:"
   ]
  },
  {
   "cell_type": "code",
   "execution_count": 9,
   "metadata": {},
   "outputs": [
    {
     "data": {
      "text/plain": [
       "(4177, 10)"
      ]
     },
     "execution_count": 9,
     "metadata": {},
     "output_type": "execute_result"
    },
    {
     "data": {
      "text/html": [
       "<div>\n",
       "<style scoped>\n",
       "    .dataframe tbody tr th:only-of-type {\n",
       "        vertical-align: middle;\n",
       "    }\n",
       "\n",
       "    .dataframe tbody tr th {\n",
       "        vertical-align: top;\n",
       "    }\n",
       "\n",
       "    .dataframe thead th {\n",
       "        text-align: right;\n",
       "    }\n",
       "</style>\n",
       "<table border=\"1\" class=\"dataframe\">\n",
       "  <thead>\n",
       "    <tr style=\"text-align: right;\">\n",
       "      <th></th>\n",
       "      <th>Length</th>\n",
       "      <th>Diameter</th>\n",
       "      <th>Height</th>\n",
       "      <th>Whole Weight</th>\n",
       "      <th>Shucked Weight</th>\n",
       "      <th>Viscera Weight</th>\n",
       "      <th>Shell Weight</th>\n",
       "      <th>Rings</th>\n",
       "      <th>Sex_I</th>\n",
       "      <th>Sex_M</th>\n",
       "    </tr>\n",
       "  </thead>\n",
       "  <tbody>\n",
       "    <tr>\n",
       "      <th>0</th>\n",
       "      <td>0.455</td>\n",
       "      <td>0.365</td>\n",
       "      <td>0.095</td>\n",
       "      <td>0.514</td>\n",
       "      <td>0.225</td>\n",
       "      <td>0.101</td>\n",
       "      <td>0.150</td>\n",
       "      <td>15</td>\n",
       "      <td>0</td>\n",
       "      <td>1</td>\n",
       "    </tr>\n",
       "    <tr>\n",
       "      <th>1</th>\n",
       "      <td>0.350</td>\n",
       "      <td>0.265</td>\n",
       "      <td>0.090</td>\n",
       "      <td>0.226</td>\n",
       "      <td>0.100</td>\n",
       "      <td>0.049</td>\n",
       "      <td>0.070</td>\n",
       "      <td>7</td>\n",
       "      <td>0</td>\n",
       "      <td>1</td>\n",
       "    </tr>\n",
       "    <tr>\n",
       "      <th>2</th>\n",
       "      <td>0.530</td>\n",
       "      <td>0.420</td>\n",
       "      <td>0.135</td>\n",
       "      <td>0.677</td>\n",
       "      <td>0.257</td>\n",
       "      <td>0.141</td>\n",
       "      <td>0.210</td>\n",
       "      <td>9</td>\n",
       "      <td>0</td>\n",
       "      <td>0</td>\n",
       "    </tr>\n",
       "    <tr>\n",
       "      <th>3</th>\n",
       "      <td>0.440</td>\n",
       "      <td>0.365</td>\n",
       "      <td>0.125</td>\n",
       "      <td>0.516</td>\n",
       "      <td>0.215</td>\n",
       "      <td>0.114</td>\n",
       "      <td>0.155</td>\n",
       "      <td>10</td>\n",
       "      <td>0</td>\n",
       "      <td>1</td>\n",
       "    </tr>\n",
       "    <tr>\n",
       "      <th>4</th>\n",
       "      <td>0.330</td>\n",
       "      <td>0.255</td>\n",
       "      <td>0.080</td>\n",
       "      <td>0.205</td>\n",
       "      <td>0.089</td>\n",
       "      <td>0.040</td>\n",
       "      <td>0.055</td>\n",
       "      <td>7</td>\n",
       "      <td>1</td>\n",
       "      <td>0</td>\n",
       "    </tr>\n",
       "  </tbody>\n",
       "</table>\n",
       "</div>"
      ],
      "text/plain": [
       "   Length  Diameter  Height  Whole Weight  Shucked Weight  Viscera Weight  \\\n",
       "0   0.455     0.365   0.095         0.514           0.225           0.101   \n",
       "1   0.350     0.265   0.090         0.226           0.100           0.049   \n",
       "2   0.530     0.420   0.135         0.677           0.257           0.141   \n",
       "3   0.440     0.365   0.125         0.516           0.215           0.114   \n",
       "4   0.330     0.255   0.080         0.205           0.089           0.040   \n",
       "\n",
       "   Shell Weight  Rings  Sex_I  Sex_M  \n",
       "0         0.150     15      0      1  \n",
       "1         0.070      7      0      1  \n",
       "2         0.210      9      0      0  \n",
       "3         0.155     10      0      1  \n",
       "4         0.055      7      1      0  "
      ]
     },
     "execution_count": 9,
     "metadata": {},
     "output_type": "execute_result"
    }
   ],
   "source": [
    "# Use pandas to one-hot encode categorical variables\n",
    "abalone_data_enc = pd.get_dummies(abalone_data, columns=['Sex'], drop_first=True)\n",
    "\n",
    "# Display shape and sample contents\n",
    "abalone_data_enc.shape\n",
    "abalone_data_enc.head()"
   ]
  },
  {
   "cell_type": "markdown",
   "metadata": {},
   "source": [
    "We are now ready to build our model.\n",
    "\n",
    "## 1. Convert continuous output value to binary and build SVC\n",
    "In this section we convert the continuous output value (Rings) from continuous to binary (0,1) and build an SVC, with class '0' representing specimens less than 11 years old and '1' representing specimens 11 years old and greater. First, we convert the continuous target variable to binary:"
   ]
  },
  {
   "cell_type": "code",
   "execution_count": 24,
   "metadata": {},
   "outputs": [
    {
     "data": {
      "text/plain": [
       "array([1, 0, 0, ..., 0, 0, 1])"
      ]
     },
     "execution_count": 24,
     "metadata": {},
     "output_type": "execute_result"
    }
   ],
   "source": [
    "# Convert number of rings to binary using 11+ as the cutoff\n",
    "is_old = np.array(pd.cut(abalone_data_enc['Rings'], [0, 11, 1000], labels=['0', '1'])).astype(int)\n",
    "is_old"
   ]
  },
  {
   "cell_type": "markdown",
   "metadata": {},
   "source": [
    "We must determine the relative weight of each class by considering its representation in the total:"
   ]
  },
  {
   "cell_type": "code",
   "execution_count": 31,
   "metadata": {},
   "outputs": [
    {
     "data": {
      "text/plain": [
       "[Text(0, 0.5, 'Count'), Text(0.5, 0, 'Is Older than 10 years old?')]"
      ]
     },
     "execution_count": 31,
     "metadata": {},
     "output_type": "execute_result"
    },
    {
     "data": {
      "image/png": "[encoded data removed]",
      "text/plain": [
       "<Figure size 432x288 with 1 Axes>"
      ]
     },
     "metadata": {
      "needs_background": "light"
     },
     "output_type": "display_data"
    }
   ],
   "source": [
    "# Plot distribution by output\n",
    "ax = sns.countplot(x=is_old)\n",
    "ax.set(xlabel='Is Older than 10 years old?', ylabel='Count')"
   ]
  },
  {
   "cell_type": "markdown",
   "metadata": {},
   "source": [
    "The population has roughly three times as many members under 11 years old as 11 or older. So we must consider the class weights accordingly below in our models. Fortunately, we can use 'balanced' mode for the class weights, which automatically adjusts the class weights in a manner that is inversely proportional to their frequencies in the input data.\n",
    "\n",
    "Next we partition the data into training and test sets:"
   ]
  },
  {
   "cell_type": "code",
   "execution_count": 29,
   "metadata": {},
   "outputs": [
    {
     "name": "stdout",
     "output_type": "stream",
     "text": [
      "Training data has 3759 rows.\n",
      "Test data has 418 rows.\n"
     ]
    }
   ],
   "source": [
    "# Model columns\n",
    "cols = ['Length', 'Diameter', 'Height', 'Whole Weight', 'Shucked Weight', 'Viscera Weight', \n",
    "        'Shell Weight', 'Sex_I', 'Sex_M']\n",
    "\n",
    "# Split data into training and test\n",
    "X_train, X_test, y_train, y_test = train_test_split(abalone_data_enc[cols], \n",
    "                                                    is_old, \n",
    "                                                    test_size = 0.1,\n",
    "                                                    random_state = 0)\n",
    "\n",
    "# Describe training and test\n",
    "print(\"Training data has {} rows.\".format(X_train.shape[0]))\n",
    "print(\"Test data has {} rows.\".format(X_test.shape[0]))"
   ]
  },
  {
   "cell_type": "markdown",
   "metadata": {},
   "source": [
    "Now we build an SVM classifier using the linear kernel:"
   ]
  },
  {
   "cell_type": "code",
   "execution_count": 33,
   "metadata": {},
   "outputs": [
    {
     "data": {
      "text/plain": [
       "SVC(C=1.0, break_ties=False, cache_size=2048, class_weight='balanced',\n",
       "    coef0=0.0, decision_function_shape='ovr', degree=3, gamma='scale',\n",
       "    kernel='linear', max_iter=-1, probability=False, random_state=None,\n",
       "    shrinking=True, tol=0.001, verbose=False)"
      ]
     },
     "execution_count": 33,
     "metadata": {},
     "output_type": "execute_result"
    }
   ],
   "source": [
    "# Build and fit SVC\n",
    "svmc = SVC(kernel='linear', class_weight='balanced', cache_size=CACHE_SIZE)\n",
    "svmc.fit(X_train, y_train)\n",
    "\n",
    "# Get predictions\n",
    "y_pred = svmc.predict(X_test)"
   ]
  },
  {
   "cell_type": "markdown",
   "metadata": {},
   "source": [
    "We have build and fit our SVM classifier. Next we examine its performance.\n",
    "\n",
    "## 2.  Determine percentage of correctly classified results\n",
    "In this section we determine the percentage of correctly classified results using our best guess for hyperparameters and kernel. We do this by examining the metrics:"
   ]
  },
  {
   "cell_type": "code",
   "execution_count": 44,
   "metadata": {},
   "outputs": [
    {
     "name": "stdout",
     "output_type": "stream",
     "text": [
      "[[261  52]\n",
      " [ 28  77]]\n",
      "              precision    recall  f1-score   support\n",
      "\n",
      "           0       0.90      0.83      0.87       313\n",
      "           1       0.60      0.73      0.66       105\n",
      "\n",
      "    accuracy                           0.81       418\n",
      "   macro avg       0.75      0.78      0.76       418\n",
      "weighted avg       0.83      0.81      0.81       418\n",
      "\n"
     ]
    },
    {
     "data": {
      "image/png": "[encoded data removed]",
      "text/plain": [
       "<Figure size 432x288 with 1 Axes>"
      ]
     },
     "metadata": {
      "needs_background": "light"
     },
     "output_type": "display_data"
    },
    {
     "name": "stdout",
     "output_type": "stream",
     "text": [
      "Area under the ROC curve (AUC): 0.7835995740149095\n"
     ]
    }
   ],
   "source": [
    "# Display key metrics\n",
    "display_metrics(y_test, y_pred)"
   ]
  },
  {
   "cell_type": "markdown",
   "metadata": {},
   "source": [
    "Our initial simplistic SVM classifier did not do badly, with 0.6 precision, 0.73 recall, and 0.78 under the ROC curve. But there remains room for improvement. We now turn to tuning the hyperparameters to extract better performance if possible.\n",
    "\n",
    "## 3. Test different hyperparameters for each kernel\n",
    "\n",
    "In this section we find the best hyperparameters for each kernel using sklearn.model_selection.SearchGridCV to determine which kernel performed best with what settings. We begin with the linear kernel, with its single main hyperparameter C. We choose hyperparameters that are exponentially spaced as recommended by https://scikit-learn.org/stable/modules/svm.html#svm-kernels:"
   ]
  },
  {
   "cell_type": "code",
   "execution_count": 40,
   "metadata": {},
   "outputs": [
    {
     "data": {
      "text/plain": [
       "GridSearchCV(cv=5, error_score=nan,\n",
       "             estimator=SVC(C=1.0, break_ties=False, cache_size=2048,\n",
       "                           class_weight=None, coef0=0.0,\n",
       "                           decision_function_shape='ovr', degree=3,\n",
       "                           gamma='scale', kernel='rbf', max_iter=-1,\n",
       "                           probability=False, random_state=None, shrinking=True,\n",
       "                           tol=0.001, verbose=False),\n",
       "             iid='deprecated', n_jobs=None, param_grid={'C': [0.1, 1, 10]},\n",
       "             pre_dispatch='2*n_jobs', refit=True, return_train_score=True,\n",
       "             scoring=None, verbose=0)"
      ]
     },
     "execution_count": 40,
     "metadata": {},
     "output_type": "execute_result"
    },
    {
     "data": {
      "text/plain": [
       "SVC(C=10, break_ties=False, cache_size=2048, class_weight=None, coef0=0.0,\n",
       "    decision_function_shape='ovr', degree=3, gamma='scale', kernel='rbf',\n",
       "    max_iter=-1, probability=False, random_state=None, shrinking=True,\n",
       "    tol=0.001, verbose=False)"
      ]
     },
     "execution_count": 40,
     "metadata": {},
     "output_type": "execute_result"
    }
   ],
   "source": [
    "# Hyperparameters to test\n",
    "hyper_parameter_space = {'C': [0.1, 1, 10]}\n",
    "\n",
    "# Search for best parameters\n",
    "svc = SVC(cache_size = CACHE_SIZE)\n",
    "clf = GridSearchCV(svc, hyper_parameter_space, \n",
    "                   cv = 5, refit = True, \n",
    "                   return_train_score = True)\n",
    "clf.fit(X_train, y_train)\n",
    "\n",
    "# Display best parameters\n",
    "clf.best_estimator_"
   ]
  },
  {
   "cell_type": "markdown",
   "metadata": {},
   "source": [
    "Our search for the best hyperparameters reveals that the model performs better with C=10 than with the default value of C=1. Let's try this model and examine its metrics:"
   ]
  },
  {
   "cell_type": "code",
   "execution_count": 45,
   "metadata": {},
   "outputs": [
    {
     "data": {
      "text/plain": [
       "SVC(C=10, break_ties=False, cache_size=2048, class_weight='balanced', coef0=0.0,\n",
       "    decision_function_shape='ovr', degree=3, gamma='scale', kernel='linear',\n",
       "    max_iter=-1, probability=False, random_state=None, shrinking=True,\n",
       "    tol=0.001, verbose=False)"
      ]
     },
     "execution_count": 45,
     "metadata": {},
     "output_type": "execute_result"
    },
    {
     "name": "stdout",
     "output_type": "stream",
     "text": [
      "[[271  42]\n",
      " [ 28  77]]\n",
      "              precision    recall  f1-score   support\n",
      "\n",
      "           0       0.91      0.87      0.89       313\n",
      "           1       0.65      0.73      0.69       105\n",
      "\n",
      "    accuracy                           0.83       418\n",
      "   macro avg       0.78      0.80      0.79       418\n",
      "weighted avg       0.84      0.83      0.84       418\n",
      "\n"
     ]
    },
    {
     "data": {
      "image/png": "[encoded data removed]",
      "text/plain": [
       "<Figure size 432x288 with 1 Axes>"
      ]
     },
     "metadata": {
      "needs_background": "light"
     },
     "output_type": "display_data"
    },
    {
     "name": "stdout",
     "output_type": "stream",
     "text": [
      "Area under the ROC curve (AUC): 0.7995740149094782\n"
     ]
    }
   ],
   "source": [
    "# Build and fit SVC\n",
    "svmc = SVC(C=10, kernel='linear', class_weight='balanced', cache_size=CACHE_SIZE)\n",
    "svmc.fit(X_train, y_train)\n",
    "\n",
    "# Get predictions\n",
    "y_pred = svmc.predict(X_test)\n",
    "\n",
    "# Display metrics\n",
    "display_metrics(y_test, y_pred)"
   ]
  },
  {
   "cell_type": "markdown",
   "metadata": {},
   "source": [
    "The AUC has improved slightly from 0.78 to 0.8. Recall has remained steady at 0.73, while the precision has increased from 0.6 to 0.65.\n",
    "\n",
    "Now we experiment with hyperparameters for the more complex kernels, keeping C=10 in line with our linear SVM:"
   ]
  },
  {
   "cell_type": "code",
   "execution_count": 52,
   "metadata": {},
   "outputs": [
    {
     "data": {
      "text/plain": [
       "GridSearchCV(cv=5, error_score=nan,\n",
       "             estimator=SVC(C=10, break_ties=False, cache_size=2048,\n",
       "                           class_weight=None, coef0=0.0,\n",
       "                           decision_function_shape='ovr', degree=3,\n",
       "                           gamma='scale', kernel='rbf', max_iter=-1,\n",
       "                           probability=False, random_state=None, shrinking=True,\n",
       "                           tol=0.001, verbose=False),\n",
       "             iid='deprecated', n_jobs=None,\n",
       "             param_grid={'degree': [2, 3, 4],\n",
       "                         'kernel': ['poly', 'rbf', 'sigmoid']},\n",
       "             pre_dispatch='2*n_jobs', refit=True, return_train_score=True,\n",
       "             scoring=None, verbose=0)"
      ]
     },
     "execution_count": 52,
     "metadata": {},
     "output_type": "execute_result"
    },
    {
     "data": {
      "text/plain": [
       "SVC(C=10, break_ties=False, cache_size=2048, class_weight=None, coef0=0.0,\n",
       "    decision_function_shape='ovr', degree=2, gamma='scale', kernel='rbf',\n",
       "    max_iter=-1, probability=False, random_state=None, shrinking=True,\n",
       "    tol=0.001, verbose=False)"
      ]
     },
     "execution_count": 52,
     "metadata": {},
     "output_type": "execute_result"
    }
   ],
   "source": [
    "# Hyperparameters to test\n",
    "hyper_parameter_space = {'kernel': ['poly', 'rbf', 'sigmoid'], \n",
    "                         'degree': [2, 3, 4]}\n",
    "\n",
    "# Search for best parameters\n",
    "svc = SVC(C=10, cache_size = CACHE_SIZE)\n",
    "clf = GridSearchCV(svc, hyper_parameter_space, \n",
    "                   cv = 5, refit = True, \n",
    "                   return_train_score = True)\n",
    "clf.fit(X_train, y_train)\n",
    "\n",
    "# Display best parameters\n",
    "clf.best_estimator_"
   ]
  },
  {
   "cell_type": "markdown",
   "metadata": {},
   "source": [
    "Our search of hyperparameters among the other kernels identifies the best model as kernel='rbf' and degree='2'. We build and fit this model and display the metrics:"
   ]
  },
  {
   "cell_type": "code",
   "execution_count": 54,
   "metadata": {},
   "outputs": [
    {
     "data": {
      "text/plain": [
       "SVC(C=1.0, break_ties=False, cache_size=2048, class_weight='balanced',\n",
       "    coef0=0.0, decision_function_shape='ovr', degree=2, gamma='scale',\n",
       "    kernel='rbf', max_iter=-1, probability=False, random_state=None,\n",
       "    shrinking=True, tol=0.001, verbose=False)"
      ]
     },
     "execution_count": 54,
     "metadata": {},
     "output_type": "execute_result"
    },
    {
     "name": "stdout",
     "output_type": "stream",
     "text": [
      "[[261  52]\n",
      " [ 24  81]]\n",
      "              precision    recall  f1-score   support\n",
      "\n",
      "           0       0.92      0.83      0.87       313\n",
      "           1       0.61      0.77      0.68       105\n",
      "\n",
      "    accuracy                           0.82       418\n",
      "   macro avg       0.76      0.80      0.78       418\n",
      "weighted avg       0.84      0.82      0.82       418\n",
      "\n"
     ]
    },
    {
     "data": {
      "image/png": "[encoded data removed]",
      "text/plain": [
       "<Figure size 432x288 with 1 Axes>"
      ]
     },
     "metadata": {
      "needs_background": "light"
     },
     "output_type": "display_data"
    },
    {
     "name": "stdout",
     "output_type": "stream",
     "text": [
      "Area under the ROC curve (AUC): 0.8026471930625285\n"
     ]
    }
   ],
   "source": [
    "# Build and fit SVC\n",
    "svmc = SVC(kernel='rbf', degree=2, class_weight='balanced', cache_size=CACHE_SIZE)\n",
    "svmc.fit(X_train, y_train)\n",
    "\n",
    "# Get predictions\n",
    "y_pred = svmc.predict(X_test)\n",
    "\n",
    "# Display metrics\n",
    "display_metrics(y_test, y_pred)"
   ]
  },
  {
   "cell_type": "markdown",
   "metadata": {},
   "source": [
    "Our model using the radial-basis function kernel with degree=2 performs essentially the same as our model using the linear kernel, with recall slightly better (0.77 vs. 0.73), precision slightly worse (0.61 vs. 0.65), f1 score slightly worse (0.68 vs. 0.69), and AUC the same (0.80). Appealing to Occam's razor, we go with the simpler linear model as our best model.\n",
    "\n",
    "## 4. Show recall, precision and f-measure for the best model\n",
    "\n",
    "In this section we report the recall, precision, and f-measure for the best model, which is the model with the linear kernel and C=10, which have already been listed above. These values are:\n",
    "\n",
    "- Recall:    0.73\n",
    "- Precision: 0.65\n",
    "- F1 score:  0.69\n",
    "\n",
    "## 5. Create an SVR model using the original data\n",
    "\n",
    "In this section we create an SVR model using the original data with rings as a continuous variable. We should point out the inherent problem in treating number of rings as a continuous variable, given that it is not represented by the continuous real numbers, but by discrete states that happen to be ranked sequentially."
   ]
  },
  {
   "cell_type": "code",
   "execution_count": 70,
   "metadata": {},
   "outputs": [
    {
     "data": {
      "text/plain": [
       "SVR(C=10, cache_size=2048, coef0=0.0, degree=3, epsilon=0.1, gamma='scale',\n",
       "    kernel='rbf', max_iter=-1, shrinking=True, tol=0.001, verbose=False)"
      ]
     },
     "execution_count": 70,
     "metadata": {},
     "output_type": "execute_result"
    },
    {
     "name": "stdout",
     "output_type": "stream",
     "text": [
      "R squared:           0.255\n",
      "Mean-squared error:  0.14\n",
      "Explained variance:  0.299\n"
     ]
    }
   ],
   "source": [
    "# Build and fit SVR\n",
    "svmr = SVR(C=10, cache_size=CACHE_SIZE)\n",
    "svmr.fit(X_train, y_train)\n",
    "\n",
    "# Get predictions\n",
    "y_pred = svmr.predict(X_test)\n",
    "\n",
    "# Display metrics\n",
    "print('R squared:          ', round(svmr.score(X_test, y_test), 3))\n",
    "print('Mean-squared error: ', round(mean_squared_error(y_test, y_pred), 3))\n",
    "print('Explained variance: ', round(explained_variance_score(y_test, y_pred), 3))"
   ]
  },
  {
   "cell_type": "markdown",
   "metadata": {},
   "source": [
    "The low value of R squared and explained variance suggest that the regression model does not do a great job of accounting for variability in the data set. In addition, we would prefer the mean-squared error to be closer to zero to have confidence that our model fits the data points in a way that is more helpful than simply predicting from the mean. The poor performance of the regression model is not terribly surprising considering that the target is not strictly continuous. Regression is just not the best tool here.\n",
    "\n",
    "## 6. Report on the predicted variance and the mean squared error\n",
    "\n",
    "In this section we report on the predicted variance and the mean squared error, which are as follows (from above):\n",
    "\n",
    "- Mean-squared error:  0.14\n",
    "- Explained variance:  0.30\n",
    "\n",
    "## Summary\n",
    "\n",
    "In this assignment we applied support vector machines (SVM's) to the task of predicting the number of rings found in abalone shells and, hence, the age of the abalone from other physical features that are easier to measure than the number of rings. We produced two types of models: a support vector classifier (SVC) and a support vector regressor (SVR). The SVC performed better than the SVR, though of course it was only able to tell us whether or not the abalone was likely to be 11 years old or older, rather than give us a specific age as the SVR attempts to do. Our best SVC model was able to predict this with 0.73 recall and 0.65 precision. Although these numbers are not terrible, they do suggest that a significant amount of the variation within the species is not correlated with age. As the data set background suggests, we may have to include environmental data to improve the model further."
   ]
  }
 ],
 "metadata": {
  "kernelspec": {
   "display_name": "Python 3",
   "language": "python",
   "name": "python3"
  },
  "language_info": {
   "codemirror_mode": {
    "name": "ipython",
    "version": 3
   },
   "file_extension": ".py",
   "mimetype": "text/x-python",
   "name": "python",
   "nbconvert_exporter": "python",
   "pygments_lexer": "ipython3",
   "version": "3.7.7"
  }
 },
 "nbformat": 4,
 "nbformat_minor": 2
}
