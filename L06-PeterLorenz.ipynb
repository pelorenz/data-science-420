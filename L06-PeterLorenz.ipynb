{
 "cells": [
  {
   "cell_type": "markdown",
   "metadata": {},
   "source": [
    "# Lesson 06\n",
    "# Peter Lorenz"
   ]
  },
  {
   "cell_type": "markdown",
   "metadata": {},
   "source": [
    "In this assignment, we build a model to predict whether an individual is a PEP (politically exposed person) based on their banking data."
   ]
  },
  {
   "cell_type": "markdown",
   "metadata": {},
   "source": [
    "## 0. Preliminaries\n",
    "\n",
    "Import the required libraries:"
   ]
  },
  {
   "cell_type": "code",
   "execution_count": 9,
   "metadata": {},
   "outputs": [],
   "source": [
    "import matplotlib as mpl\n",
    "import numpy as np\n",
    "import pandas as pd\n",
    "import seaborn as sns\n",
    "\n",
    "import matplotlib.pyplot as plt"
   ]
  },
  {
   "cell_type": "markdown",
   "metadata": {},
   "source": [
    "Set global options:"
   ]
  },
  {
   "cell_type": "code",
   "execution_count": 2,
   "metadata": {},
   "outputs": [],
   "source": [
    "# Display plots inline\n",
    "%matplotlib inline\n",
    "\n",
    "# Display multiple cell outputs\n",
    "from IPython.core.interactiveshell import InteractiveShell\n",
    "InteractiveShell.ast_node_interactivity = \"all\"\n",
    "\n",
    "# Suppress scientific notation\n",
    "np.set_printoptions(suppress=True)\n",
    "np.set_printoptions(precision=3)\n",
    "pd.set_option('display.float_format', lambda x: '%.3f' % x)"
   ]
  },
  {
   "cell_type": "markdown",
   "metadata": {},
   "source": [
    "Declare utility functions:"
   ]
  },
  {
   "cell_type": "code",
   "execution_count": null,
   "metadata": {},
   "outputs": [],
   "source": []
  },
  {
   "cell_type": "markdown",
   "metadata": {},
   "source": [
    "## 1. Read, parse, and pre-process the data\n",
    "In this section, we read, parse, and pre-process the data."
   ]
  },
  {
   "cell_type": "code",
   "execution_count": 81,
   "metadata": {},
   "outputs": [
    {
     "data": {
      "text/plain": [
       "(600, 11)"
      ]
     },
     "execution_count": 81,
     "metadata": {},
     "output_type": "execute_result"
    },
    {
     "data": {
      "text/html": [
       "<div>\n",
       "<style scoped>\n",
       "    .dataframe tbody tr th:only-of-type {\n",
       "        vertical-align: middle;\n",
       "    }\n",
       "\n",
       "    .dataframe tbody tr th {\n",
       "        vertical-align: top;\n",
       "    }\n",
       "\n",
       "    .dataframe thead th {\n",
       "        text-align: right;\n",
       "    }\n",
       "</style>\n",
       "<table border=\"1\" class=\"dataframe\">\n",
       "  <thead>\n",
       "    <tr style=\"text-align: right;\">\n",
       "      <th></th>\n",
       "      <th>age</th>\n",
       "      <th>sex</th>\n",
       "      <th>region</th>\n",
       "      <th>income</th>\n",
       "      <th>married</th>\n",
       "      <th>children</th>\n",
       "      <th>car</th>\n",
       "      <th>save_act</th>\n",
       "      <th>current_act</th>\n",
       "      <th>mortgage</th>\n",
       "      <th>pep</th>\n",
       "    </tr>\n",
       "  </thead>\n",
       "  <tbody>\n",
       "    <tr>\n",
       "      <th>0</th>\n",
       "      <td>48</td>\n",
       "      <td>FEMALE</td>\n",
       "      <td>INNER_CITY</td>\n",
       "      <td>17546.000</td>\n",
       "      <td>NO</td>\n",
       "      <td>1</td>\n",
       "      <td>NO</td>\n",
       "      <td>NO</td>\n",
       "      <td>NO</td>\n",
       "      <td>NO</td>\n",
       "      <td>YES</td>\n",
       "    </tr>\n",
       "    <tr>\n",
       "      <th>1</th>\n",
       "      <td>40</td>\n",
       "      <td>MALE</td>\n",
       "      <td>TOWN</td>\n",
       "      <td>30085.100</td>\n",
       "      <td>YES</td>\n",
       "      <td>3</td>\n",
       "      <td>YES</td>\n",
       "      <td>NO</td>\n",
       "      <td>YES</td>\n",
       "      <td>YES</td>\n",
       "      <td>NO</td>\n",
       "    </tr>\n",
       "    <tr>\n",
       "      <th>2</th>\n",
       "      <td>51</td>\n",
       "      <td>FEMALE</td>\n",
       "      <td>INNER_CITY</td>\n",
       "      <td>16575.400</td>\n",
       "      <td>YES</td>\n",
       "      <td>0</td>\n",
       "      <td>YES</td>\n",
       "      <td>YES</td>\n",
       "      <td>YES</td>\n",
       "      <td>NO</td>\n",
       "      <td>NO</td>\n",
       "    </tr>\n",
       "    <tr>\n",
       "      <th>3</th>\n",
       "      <td>23</td>\n",
       "      <td>FEMALE</td>\n",
       "      <td>TOWN</td>\n",
       "      <td>20375.400</td>\n",
       "      <td>YES</td>\n",
       "      <td>3</td>\n",
       "      <td>NO</td>\n",
       "      <td>NO</td>\n",
       "      <td>YES</td>\n",
       "      <td>NO</td>\n",
       "      <td>NO</td>\n",
       "    </tr>\n",
       "    <tr>\n",
       "      <th>4</th>\n",
       "      <td>57</td>\n",
       "      <td>FEMALE</td>\n",
       "      <td>RURAL</td>\n",
       "      <td>50576.300</td>\n",
       "      <td>YES</td>\n",
       "      <td>0</td>\n",
       "      <td>NO</td>\n",
       "      <td>YES</td>\n",
       "      <td>NO</td>\n",
       "      <td>NO</td>\n",
       "      <td>NO</td>\n",
       "    </tr>\n",
       "  </tbody>\n",
       "</table>\n",
       "</div>"
      ],
      "text/plain": [
       "   age     sex      region    income married  children  car save_act  \\\n",
       "0   48  FEMALE  INNER_CITY 17546.000      NO         1   NO       NO   \n",
       "1   40    MALE        TOWN 30085.100     YES         3  YES       NO   \n",
       "2   51  FEMALE  INNER_CITY 16575.400     YES         0  YES      YES   \n",
       "3   23  FEMALE        TOWN 20375.400     YES         3   NO       NO   \n",
       "4   57  FEMALE       RURAL 50576.300     YES         0   NO      YES   \n",
       "\n",
       "  current_act mortgage  pep  \n",
       "0          NO       NO  YES  \n",
       "1         YES      YES   NO  \n",
       "2         YES       NO   NO  \n",
       "3         YES       NO   NO  \n",
       "4          NO       NO   NO  "
      ]
     },
     "execution_count": 81,
     "metadata": {},
     "output_type": "execute_result"
    },
    {
     "name": "stdout",
     "output_type": "stream",
     "text": [
      "<class 'pandas.core.frame.DataFrame'>\n",
      "RangeIndex: 600 entries, 0 to 599\n",
      "Data columns (total 11 columns):\n",
      " #   Column       Non-Null Count  Dtype  \n",
      "---  ------       --------------  -----  \n",
      " 0   age          600 non-null    int64  \n",
      " 1   sex          600 non-null    object \n",
      " 2   region       600 non-null    object \n",
      " 3   income       600 non-null    float64\n",
      " 4   married      600 non-null    object \n",
      " 5   children     600 non-null    int64  \n",
      " 6   car          600 non-null    object \n",
      " 7   save_act     600 non-null    object \n",
      " 8   current_act  600 non-null    object \n",
      " 9   mortgage     600 non-null    object \n",
      " 10  pep          600 non-null    object \n",
      "dtypes: float64(1), int64(2), object(8)\n",
      "memory usage: 51.7+ KB\n"
     ]
    }
   ],
   "source": [
    "# Internet location of the data set\n",
    "url = \"https://library.startlearninglabs.uw.edu/DATASCI420/2019/Datasets/Bank%20Data.csv\"\n",
    "\n",
    "# Download the data into a dataframe object\n",
    "bank_data = pd.read_csv(url)\n",
    "\n",
    "# Display shape and initial data\n",
    "bank_data.shape\n",
    "bank_data.head()\n",
    "\n",
    "# Examine column types\n",
    "bank_data.info()"
   ]
  },
  {
   "cell_type": "markdown",
   "metadata": {},
   "source": [
    "First we have to deal with categorical columns, converting these to one-hot-encoded format:"
   ]
  },
  {
   "cell_type": "code",
   "execution_count": 82,
   "metadata": {},
   "outputs": [
    {
     "data": {
      "text/plain": [
       "(600, 17)"
      ]
     },
     "execution_count": 82,
     "metadata": {},
     "output_type": "execute_result"
    },
    {
     "data": {
      "text/html": [
       "<div>\n",
       "<style scoped>\n",
       "    .dataframe tbody tr th:only-of-type {\n",
       "        vertical-align: middle;\n",
       "    }\n",
       "\n",
       "    .dataframe tbody tr th {\n",
       "        vertical-align: top;\n",
       "    }\n",
       "\n",
       "    .dataframe thead th {\n",
       "        text-align: right;\n",
       "    }\n",
       "</style>\n",
       "<table border=\"1\" class=\"dataframe\">\n",
       "  <thead>\n",
       "    <tr style=\"text-align: right;\">\n",
       "      <th></th>\n",
       "      <th>age</th>\n",
       "      <th>income</th>\n",
       "      <th>sex_MALE</th>\n",
       "      <th>married_YES</th>\n",
       "      <th>car_YES</th>\n",
       "      <th>save_act_YES</th>\n",
       "      <th>current_act_YES</th>\n",
       "      <th>mortgage_YES</th>\n",
       "      <th>pep_YES</th>\n",
       "      <th>region_INNER_CITY</th>\n",
       "      <th>region_RURAL</th>\n",
       "      <th>region_SUBURBAN</th>\n",
       "      <th>region_TOWN</th>\n",
       "      <th>children_0</th>\n",
       "      <th>children_1</th>\n",
       "      <th>children_2</th>\n",
       "      <th>children_3</th>\n",
       "    </tr>\n",
       "  </thead>\n",
       "  <tbody>\n",
       "    <tr>\n",
       "      <th>0</th>\n",
       "      <td>48</td>\n",
       "      <td>17546.000</td>\n",
       "      <td>0</td>\n",
       "      <td>0</td>\n",
       "      <td>0</td>\n",
       "      <td>0</td>\n",
       "      <td>0</td>\n",
       "      <td>0</td>\n",
       "      <td>1</td>\n",
       "      <td>1</td>\n",
       "      <td>0</td>\n",
       "      <td>0</td>\n",
       "      <td>0</td>\n",
       "      <td>0</td>\n",
       "      <td>1</td>\n",
       "      <td>0</td>\n",
       "      <td>0</td>\n",
       "    </tr>\n",
       "    <tr>\n",
       "      <th>1</th>\n",
       "      <td>40</td>\n",
       "      <td>30085.100</td>\n",
       "      <td>1</td>\n",
       "      <td>1</td>\n",
       "      <td>1</td>\n",
       "      <td>0</td>\n",
       "      <td>1</td>\n",
       "      <td>1</td>\n",
       "      <td>0</td>\n",
       "      <td>0</td>\n",
       "      <td>0</td>\n",
       "      <td>0</td>\n",
       "      <td>1</td>\n",
       "      <td>0</td>\n",
       "      <td>0</td>\n",
       "      <td>0</td>\n",
       "      <td>1</td>\n",
       "    </tr>\n",
       "    <tr>\n",
       "      <th>2</th>\n",
       "      <td>51</td>\n",
       "      <td>16575.400</td>\n",
       "      <td>0</td>\n",
       "      <td>1</td>\n",
       "      <td>1</td>\n",
       "      <td>1</td>\n",
       "      <td>1</td>\n",
       "      <td>0</td>\n",
       "      <td>0</td>\n",
       "      <td>1</td>\n",
       "      <td>0</td>\n",
       "      <td>0</td>\n",
       "      <td>0</td>\n",
       "      <td>1</td>\n",
       "      <td>0</td>\n",
       "      <td>0</td>\n",
       "      <td>0</td>\n",
       "    </tr>\n",
       "    <tr>\n",
       "      <th>3</th>\n",
       "      <td>23</td>\n",
       "      <td>20375.400</td>\n",
       "      <td>0</td>\n",
       "      <td>1</td>\n",
       "      <td>0</td>\n",
       "      <td>0</td>\n",
       "      <td>1</td>\n",
       "      <td>0</td>\n",
       "      <td>0</td>\n",
       "      <td>0</td>\n",
       "      <td>0</td>\n",
       "      <td>0</td>\n",
       "      <td>1</td>\n",
       "      <td>0</td>\n",
       "      <td>0</td>\n",
       "      <td>0</td>\n",
       "      <td>1</td>\n",
       "    </tr>\n",
       "    <tr>\n",
       "      <th>4</th>\n",
       "      <td>57</td>\n",
       "      <td>50576.300</td>\n",
       "      <td>0</td>\n",
       "      <td>1</td>\n",
       "      <td>0</td>\n",
       "      <td>1</td>\n",
       "      <td>0</td>\n",
       "      <td>0</td>\n",
       "      <td>0</td>\n",
       "      <td>0</td>\n",
       "      <td>1</td>\n",
       "      <td>0</td>\n",
       "      <td>0</td>\n",
       "      <td>1</td>\n",
       "      <td>0</td>\n",
       "      <td>0</td>\n",
       "      <td>0</td>\n",
       "    </tr>\n",
       "  </tbody>\n",
       "</table>\n",
       "</div>"
      ],
      "text/plain": [
       "   age    income  sex_MALE  married_YES  car_YES  save_act_YES  \\\n",
       "0   48 17546.000         0            0        0             0   \n",
       "1   40 30085.100         1            1        1             0   \n",
       "2   51 16575.400         0            1        1             1   \n",
       "3   23 20375.400         0            1        0             0   \n",
       "4   57 50576.300         0            1        0             1   \n",
       "\n",
       "   current_act_YES  mortgage_YES  pep_YES  region_INNER_CITY  region_RURAL  \\\n",
       "0                0             0        1                  1             0   \n",
       "1                1             1        0                  0             0   \n",
       "2                1             0        0                  1             0   \n",
       "3                1             0        0                  0             0   \n",
       "4                0             0        0                  0             1   \n",
       "\n",
       "   region_SUBURBAN  region_TOWN  children_0  children_1  children_2  \\\n",
       "0                0            0           0           1           0   \n",
       "1                0            1           0           0           0   \n",
       "2                0            0           1           0           0   \n",
       "3                0            1           0           0           0   \n",
       "4                0            0           1           0           0   \n",
       "\n",
       "   children_3  \n",
       "0           0  \n",
       "1           1  \n",
       "2           0  \n",
       "3           1  \n",
       "4           0  "
      ]
     },
     "execution_count": 82,
     "metadata": {},
     "output_type": "execute_result"
    },
    {
     "name": "stdout",
     "output_type": "stream",
     "text": [
      "<class 'pandas.core.frame.DataFrame'>\n",
      "RangeIndex: 600 entries, 0 to 599\n",
      "Data columns (total 17 columns):\n",
      " #   Column             Non-Null Count  Dtype  \n",
      "---  ------             --------------  -----  \n",
      " 0   age                600 non-null    int64  \n",
      " 1   income             600 non-null    float64\n",
      " 2   sex_MALE           600 non-null    uint8  \n",
      " 3   married_YES        600 non-null    uint8  \n",
      " 4   car_YES            600 non-null    uint8  \n",
      " 5   save_act_YES       600 non-null    uint8  \n",
      " 6   current_act_YES    600 non-null    uint8  \n",
      " 7   mortgage_YES       600 non-null    uint8  \n",
      " 8   pep_YES            600 non-null    uint8  \n",
      " 9   region_INNER_CITY  600 non-null    uint8  \n",
      " 10  region_RURAL       600 non-null    uint8  \n",
      " 11  region_SUBURBAN    600 non-null    uint8  \n",
      " 12  region_TOWN        600 non-null    uint8  \n",
      " 13  children_0         600 non-null    uint8  \n",
      " 14  children_1         600 non-null    uint8  \n",
      " 15  children_2         600 non-null    uint8  \n",
      " 16  children_3         600 non-null    uint8  \n",
      "dtypes: float64(1), int64(1), uint8(15)\n",
      "memory usage: 18.3 KB\n"
     ]
    }
   ],
   "source": [
    "# Use pandas to one-hot encode binary variables, excluding the inverse column\n",
    "bank_data_enc = pd.get_dummies(bank_data, \n",
    "                               columns=[\"sex\", \"married\", \"car\", \n",
    "                                        \"save_act\", \"current_act\", \"mortgage\", \"pep\"], \n",
    "                               drop_first=True)\n",
    "\n",
    "# Use pandas to one-hot encode categorical variables, including one column per value\n",
    "bank_data_enc = pd.get_dummies(bank_data_enc, \n",
    "                               columns=[\"region\", \"children\"])\n",
    "\n",
    "# Display shape and sample contents\n",
    "bank_data_enc.shape\n",
    "bank_data_enc.head()\n",
    "\n",
    "# Examine column types\n",
    "bank_data_enc.info()"
   ]
  },
  {
   "cell_type": "markdown",
   "metadata": {},
   "source": [
    "One challenge is how to represent the age column in our data set. The column is sequential and, hence, an age of 42 is more related to an age of 41 than, say, an age of 20. Yet the column is also categorical in that a person who is 40 is not in any sense \"twice\" a person who is 20. It seems preferable to represent age as a series of bins. First we determine the range of ages:"
   ]
  },
  {
   "cell_type": "code",
   "execution_count": 83,
   "metadata": {},
   "outputs": [
    {
     "name": "stdout",
     "output_type": "stream",
     "text": [
      "Min age is 18\n",
      "Max age is 67\n"
     ]
    }
   ],
   "source": [
    "# Display max and min ages\n",
    "print('Min age is', bank_data_enc['age'].min())\n",
    "print('Max age is', bank_data_enc['age'].max())"
   ]
  },
  {
   "cell_type": "markdown",
   "metadata": {},
   "source": [
    "The range of ages is essentially the \"working\" ages from 18 to 67. One straightforward way to bin the data is by decade: 20's, 30's, 40's, 50's, 60's. For convenience, we combine ages 18 and 19 with the 20's."
   ]
  },
  {
   "cell_type": "code",
   "execution_count": 84,
   "metadata": {},
   "outputs": [
    {
     "data": {
      "text/plain": [
       "(600, 22)"
      ]
     },
     "execution_count": 84,
     "metadata": {},
     "output_type": "execute_result"
    },
    {
     "data": {
      "text/html": [
       "<div>\n",
       "<style scoped>\n",
       "    .dataframe tbody tr th:only-of-type {\n",
       "        vertical-align: middle;\n",
       "    }\n",
       "\n",
       "    .dataframe tbody tr th {\n",
       "        vertical-align: top;\n",
       "    }\n",
       "\n",
       "    .dataframe thead th {\n",
       "        text-align: right;\n",
       "    }\n",
       "</style>\n",
       "<table border=\"1\" class=\"dataframe\">\n",
       "  <thead>\n",
       "    <tr style=\"text-align: right;\">\n",
       "      <th></th>\n",
       "      <th>age</th>\n",
       "      <th>income</th>\n",
       "      <th>sex_MALE</th>\n",
       "      <th>married_YES</th>\n",
       "      <th>car_YES</th>\n",
       "      <th>save_act_YES</th>\n",
       "      <th>current_act_YES</th>\n",
       "      <th>mortgage_YES</th>\n",
       "      <th>pep_YES</th>\n",
       "      <th>region_INNER_CITY</th>\n",
       "      <th>...</th>\n",
       "      <th>region_TOWN</th>\n",
       "      <th>children_0</th>\n",
       "      <th>children_1</th>\n",
       "      <th>children_2</th>\n",
       "      <th>children_3</th>\n",
       "      <th>is_twenties</th>\n",
       "      <th>is_thirties</th>\n",
       "      <th>is_forties</th>\n",
       "      <th>is_fifties</th>\n",
       "      <th>is_sixties</th>\n",
       "    </tr>\n",
       "  </thead>\n",
       "  <tbody>\n",
       "    <tr>\n",
       "      <th>0</th>\n",
       "      <td>48</td>\n",
       "      <td>17546.000</td>\n",
       "      <td>0</td>\n",
       "      <td>0</td>\n",
       "      <td>0</td>\n",
       "      <td>0</td>\n",
       "      <td>0</td>\n",
       "      <td>0</td>\n",
       "      <td>1</td>\n",
       "      <td>1</td>\n",
       "      <td>...</td>\n",
       "      <td>0</td>\n",
       "      <td>0</td>\n",
       "      <td>1</td>\n",
       "      <td>0</td>\n",
       "      <td>0</td>\n",
       "      <td>0</td>\n",
       "      <td>0</td>\n",
       "      <td>1</td>\n",
       "      <td>0</td>\n",
       "      <td>0</td>\n",
       "    </tr>\n",
       "    <tr>\n",
       "      <th>1</th>\n",
       "      <td>40</td>\n",
       "      <td>30085.100</td>\n",
       "      <td>1</td>\n",
       "      <td>1</td>\n",
       "      <td>1</td>\n",
       "      <td>0</td>\n",
       "      <td>1</td>\n",
       "      <td>1</td>\n",
       "      <td>0</td>\n",
       "      <td>0</td>\n",
       "      <td>...</td>\n",
       "      <td>1</td>\n",
       "      <td>0</td>\n",
       "      <td>0</td>\n",
       "      <td>0</td>\n",
       "      <td>1</td>\n",
       "      <td>0</td>\n",
       "      <td>0</td>\n",
       "      <td>1</td>\n",
       "      <td>0</td>\n",
       "      <td>0</td>\n",
       "    </tr>\n",
       "    <tr>\n",
       "      <th>2</th>\n",
       "      <td>51</td>\n",
       "      <td>16575.400</td>\n",
       "      <td>0</td>\n",
       "      <td>1</td>\n",
       "      <td>1</td>\n",
       "      <td>1</td>\n",
       "      <td>1</td>\n",
       "      <td>0</td>\n",
       "      <td>0</td>\n",
       "      <td>1</td>\n",
       "      <td>...</td>\n",
       "      <td>0</td>\n",
       "      <td>1</td>\n",
       "      <td>0</td>\n",
       "      <td>0</td>\n",
       "      <td>0</td>\n",
       "      <td>0</td>\n",
       "      <td>0</td>\n",
       "      <td>0</td>\n",
       "      <td>1</td>\n",
       "      <td>0</td>\n",
       "    </tr>\n",
       "    <tr>\n",
       "      <th>3</th>\n",
       "      <td>23</td>\n",
       "      <td>20375.400</td>\n",
       "      <td>0</td>\n",
       "      <td>1</td>\n",
       "      <td>0</td>\n",
       "      <td>0</td>\n",
       "      <td>1</td>\n",
       "      <td>0</td>\n",
       "      <td>0</td>\n",
       "      <td>0</td>\n",
       "      <td>...</td>\n",
       "      <td>1</td>\n",
       "      <td>0</td>\n",
       "      <td>0</td>\n",
       "      <td>0</td>\n",
       "      <td>1</td>\n",
       "      <td>1</td>\n",
       "      <td>0</td>\n",
       "      <td>0</td>\n",
       "      <td>0</td>\n",
       "      <td>0</td>\n",
       "    </tr>\n",
       "    <tr>\n",
       "      <th>4</th>\n",
       "      <td>57</td>\n",
       "      <td>50576.300</td>\n",
       "      <td>0</td>\n",
       "      <td>1</td>\n",
       "      <td>0</td>\n",
       "      <td>1</td>\n",
       "      <td>0</td>\n",
       "      <td>0</td>\n",
       "      <td>0</td>\n",
       "      <td>0</td>\n",
       "      <td>...</td>\n",
       "      <td>0</td>\n",
       "      <td>1</td>\n",
       "      <td>0</td>\n",
       "      <td>0</td>\n",
       "      <td>0</td>\n",
       "      <td>0</td>\n",
       "      <td>0</td>\n",
       "      <td>0</td>\n",
       "      <td>1</td>\n",
       "      <td>0</td>\n",
       "    </tr>\n",
       "  </tbody>\n",
       "</table>\n",
       "<p>5 rows × 22 columns</p>\n",
       "</div>"
      ],
      "text/plain": [
       "   age    income  sex_MALE  married_YES  car_YES  save_act_YES  \\\n",
       "0   48 17546.000         0            0        0             0   \n",
       "1   40 30085.100         1            1        1             0   \n",
       "2   51 16575.400         0            1        1             1   \n",
       "3   23 20375.400         0            1        0             0   \n",
       "4   57 50576.300         0            1        0             1   \n",
       "\n",
       "   current_act_YES  mortgage_YES  pep_YES  region_INNER_CITY  ...  \\\n",
       "0                0             0        1                  1  ...   \n",
       "1                1             1        0                  0  ...   \n",
       "2                1             0        0                  1  ...   \n",
       "3                1             0        0                  0  ...   \n",
       "4                0             0        0                  0  ...   \n",
       "\n",
       "   region_TOWN  children_0  children_1  children_2  children_3  is_twenties  \\\n",
       "0            0           0           1           0           0            0   \n",
       "1            1           0           0           0           1            0   \n",
       "2            0           1           0           0           0            0   \n",
       "3            1           0           0           0           1            1   \n",
       "4            0           1           0           0           0            0   \n",
       "\n",
       "   is_thirties  is_forties  is_fifties  is_sixties  \n",
       "0            0           1           0           0  \n",
       "1            0           1           0           0  \n",
       "2            0           0           1           0  \n",
       "3            0           0           0           0  \n",
       "4            0           0           1           0  \n",
       "\n",
       "[5 rows x 22 columns]"
      ]
     },
     "execution_count": 84,
     "metadata": {},
     "output_type": "execute_result"
    },
    {
     "name": "stdout",
     "output_type": "stream",
     "text": [
      "<class 'pandas.core.frame.DataFrame'>\n",
      "RangeIndex: 600 entries, 0 to 599\n",
      "Data columns (total 22 columns):\n",
      " #   Column             Non-Null Count  Dtype  \n",
      "---  ------             --------------  -----  \n",
      " 0   age                600 non-null    int64  \n",
      " 1   income             600 non-null    float64\n",
      " 2   sex_MALE           600 non-null    uint8  \n",
      " 3   married_YES        600 non-null    uint8  \n",
      " 4   car_YES            600 non-null    uint8  \n",
      " 5   save_act_YES       600 non-null    uint8  \n",
      " 6   current_act_YES    600 non-null    uint8  \n",
      " 7   mortgage_YES       600 non-null    uint8  \n",
      " 8   pep_YES            600 non-null    uint8  \n",
      " 9   region_INNER_CITY  600 non-null    uint8  \n",
      " 10  region_RURAL       600 non-null    uint8  \n",
      " 11  region_SUBURBAN    600 non-null    uint8  \n",
      " 12  region_TOWN        600 non-null    uint8  \n",
      " 13  children_0         600 non-null    uint8  \n",
      " 14  children_1         600 non-null    uint8  \n",
      " 15  children_2         600 non-null    uint8  \n",
      " 16  children_3         600 non-null    uint8  \n",
      " 17  is_twenties        600 non-null    int32  \n",
      " 18  is_thirties        600 non-null    int32  \n",
      " 19  is_forties         600 non-null    int32  \n",
      " 20  is_fifties         600 non-null    int32  \n",
      " 21  is_sixties         600 non-null    int32  \n",
      "dtypes: float64(1), int32(5), int64(1), uint8(15)\n",
      "memory usage: 30.0 KB\n"
     ]
    }
   ],
   "source": [
    "# Bin age by decade\n",
    "bank_data_enc['is_twenties'] = np.array((bank_data_enc['age'] >= 18).astype(int) & \n",
    "                                        (bank_data_enc['age'] < 30).astype(int))\n",
    "bank_data_enc['is_thirties'] = np.array((bank_data_enc['age'] >= 30).astype(int) & \n",
    "                                        (bank_data_enc['age'] < 40).astype(int))\n",
    "bank_data_enc['is_forties'] = np.array((bank_data_enc['age'] >= 40).astype(int) & \n",
    "                                       (bank_data_enc['age'] < 50).astype(int))\n",
    "bank_data_enc['is_fifties'] = np.array((bank_data_enc['age'] >= 50).astype(int) & \n",
    "                                        (bank_data_enc['age'] < 60).astype(int))\n",
    "bank_data_enc['is_sixties'] = np.array((bank_data_enc['age'] >= 60).astype(int))\n",
    "\n",
    "# Display shape and sample contents\n",
    "bank_data_enc.shape\n",
    "bank_data_enc.head()\n",
    "\n",
    "# Examine column types\n",
    "bank_data_enc.info()"
   ]
  },
  {
   "cell_type": "markdown",
   "metadata": {},
   "source": [
    "We lose some information concerning the sequential nature of the data, but avoid the meaninglessness of implying that numerical operations apply to ages. We now drop the original age column:"
   ]
  },
  {
   "cell_type": "code",
   "execution_count": 85,
   "metadata": {},
   "outputs": [
    {
     "data": {
      "text/plain": [
       "(600, 21)"
      ]
     },
     "execution_count": 85,
     "metadata": {},
     "output_type": "execute_result"
    },
    {
     "data": {
      "text/html": [
       "<div>\n",
       "<style scoped>\n",
       "    .dataframe tbody tr th:only-of-type {\n",
       "        vertical-align: middle;\n",
       "    }\n",
       "\n",
       "    .dataframe tbody tr th {\n",
       "        vertical-align: top;\n",
       "    }\n",
       "\n",
       "    .dataframe thead th {\n",
       "        text-align: right;\n",
       "    }\n",
       "</style>\n",
       "<table border=\"1\" class=\"dataframe\">\n",
       "  <thead>\n",
       "    <tr style=\"text-align: right;\">\n",
       "      <th></th>\n",
       "      <th>income</th>\n",
       "      <th>sex_MALE</th>\n",
       "      <th>married_YES</th>\n",
       "      <th>car_YES</th>\n",
       "      <th>save_act_YES</th>\n",
       "      <th>current_act_YES</th>\n",
       "      <th>mortgage_YES</th>\n",
       "      <th>pep_YES</th>\n",
       "      <th>region_INNER_CITY</th>\n",
       "      <th>region_RURAL</th>\n",
       "      <th>...</th>\n",
       "      <th>region_TOWN</th>\n",
       "      <th>children_0</th>\n",
       "      <th>children_1</th>\n",
       "      <th>children_2</th>\n",
       "      <th>children_3</th>\n",
       "      <th>is_twenties</th>\n",
       "      <th>is_thirties</th>\n",
       "      <th>is_forties</th>\n",
       "      <th>is_fifties</th>\n",
       "      <th>is_sixties</th>\n",
       "    </tr>\n",
       "  </thead>\n",
       "  <tbody>\n",
       "    <tr>\n",
       "      <th>0</th>\n",
       "      <td>17546.000</td>\n",
       "      <td>0</td>\n",
       "      <td>0</td>\n",
       "      <td>0</td>\n",
       "      <td>0</td>\n",
       "      <td>0</td>\n",
       "      <td>0</td>\n",
       "      <td>1</td>\n",
       "      <td>1</td>\n",
       "      <td>0</td>\n",
       "      <td>...</td>\n",
       "      <td>0</td>\n",
       "      <td>0</td>\n",
       "      <td>1</td>\n",
       "      <td>0</td>\n",
       "      <td>0</td>\n",
       "      <td>0</td>\n",
       "      <td>0</td>\n",
       "      <td>1</td>\n",
       "      <td>0</td>\n",
       "      <td>0</td>\n",
       "    </tr>\n",
       "    <tr>\n",
       "      <th>1</th>\n",
       "      <td>30085.100</td>\n",
       "      <td>1</td>\n",
       "      <td>1</td>\n",
       "      <td>1</td>\n",
       "      <td>0</td>\n",
       "      <td>1</td>\n",
       "      <td>1</td>\n",
       "      <td>0</td>\n",
       "      <td>0</td>\n",
       "      <td>0</td>\n",
       "      <td>...</td>\n",
       "      <td>1</td>\n",
       "      <td>0</td>\n",
       "      <td>0</td>\n",
       "      <td>0</td>\n",
       "      <td>1</td>\n",
       "      <td>0</td>\n",
       "      <td>0</td>\n",
       "      <td>1</td>\n",
       "      <td>0</td>\n",
       "      <td>0</td>\n",
       "    </tr>\n",
       "    <tr>\n",
       "      <th>2</th>\n",
       "      <td>16575.400</td>\n",
       "      <td>0</td>\n",
       "      <td>1</td>\n",
       "      <td>1</td>\n",
       "      <td>1</td>\n",
       "      <td>1</td>\n",
       "      <td>0</td>\n",
       "      <td>0</td>\n",
       "      <td>1</td>\n",
       "      <td>0</td>\n",
       "      <td>...</td>\n",
       "      <td>0</td>\n",
       "      <td>1</td>\n",
       "      <td>0</td>\n",
       "      <td>0</td>\n",
       "      <td>0</td>\n",
       "      <td>0</td>\n",
       "      <td>0</td>\n",
       "      <td>0</td>\n",
       "      <td>1</td>\n",
       "      <td>0</td>\n",
       "    </tr>\n",
       "    <tr>\n",
       "      <th>3</th>\n",
       "      <td>20375.400</td>\n",
       "      <td>0</td>\n",
       "      <td>1</td>\n",
       "      <td>0</td>\n",
       "      <td>0</td>\n",
       "      <td>1</td>\n",
       "      <td>0</td>\n",
       "      <td>0</td>\n",
       "      <td>0</td>\n",
       "      <td>0</td>\n",
       "      <td>...</td>\n",
       "      <td>1</td>\n",
       "      <td>0</td>\n",
       "      <td>0</td>\n",
       "      <td>0</td>\n",
       "      <td>1</td>\n",
       "      <td>1</td>\n",
       "      <td>0</td>\n",
       "      <td>0</td>\n",
       "      <td>0</td>\n",
       "      <td>0</td>\n",
       "    </tr>\n",
       "    <tr>\n",
       "      <th>4</th>\n",
       "      <td>50576.300</td>\n",
       "      <td>0</td>\n",
       "      <td>1</td>\n",
       "      <td>0</td>\n",
       "      <td>1</td>\n",
       "      <td>0</td>\n",
       "      <td>0</td>\n",
       "      <td>0</td>\n",
       "      <td>0</td>\n",
       "      <td>1</td>\n",
       "      <td>...</td>\n",
       "      <td>0</td>\n",
       "      <td>1</td>\n",
       "      <td>0</td>\n",
       "      <td>0</td>\n",
       "      <td>0</td>\n",
       "      <td>0</td>\n",
       "      <td>0</td>\n",
       "      <td>0</td>\n",
       "      <td>1</td>\n",
       "      <td>0</td>\n",
       "    </tr>\n",
       "  </tbody>\n",
       "</table>\n",
       "<p>5 rows × 21 columns</p>\n",
       "</div>"
      ],
      "text/plain": [
       "     income  sex_MALE  married_YES  car_YES  save_act_YES  current_act_YES  \\\n",
       "0 17546.000         0            0        0             0                0   \n",
       "1 30085.100         1            1        1             0                1   \n",
       "2 16575.400         0            1        1             1                1   \n",
       "3 20375.400         0            1        0             0                1   \n",
       "4 50576.300         0            1        0             1                0   \n",
       "\n",
       "   mortgage_YES  pep_YES  region_INNER_CITY  region_RURAL  ...  region_TOWN  \\\n",
       "0             0        1                  1             0  ...            0   \n",
       "1             1        0                  0             0  ...            1   \n",
       "2             0        0                  1             0  ...            0   \n",
       "3             0        0                  0             0  ...            1   \n",
       "4             0        0                  0             1  ...            0   \n",
       "\n",
       "   children_0  children_1  children_2  children_3  is_twenties  is_thirties  \\\n",
       "0           0           1           0           0            0            0   \n",
       "1           0           0           0           1            0            0   \n",
       "2           1           0           0           0            0            0   \n",
       "3           0           0           0           1            1            0   \n",
       "4           1           0           0           0            0            0   \n",
       "\n",
       "   is_forties  is_fifties  is_sixties  \n",
       "0           1           0           0  \n",
       "1           1           0           0  \n",
       "2           0           1           0  \n",
       "3           0           0           0  \n",
       "4           0           1           0  \n",
       "\n",
       "[5 rows x 21 columns]"
      ]
     },
     "execution_count": 85,
     "metadata": {},
     "output_type": "execute_result"
    },
    {
     "name": "stdout",
     "output_type": "stream",
     "text": [
      "<class 'pandas.core.frame.DataFrame'>\n",
      "RangeIndex: 600 entries, 0 to 599\n",
      "Data columns (total 21 columns):\n",
      " #   Column             Non-Null Count  Dtype  \n",
      "---  ------             --------------  -----  \n",
      " 0   income             600 non-null    float64\n",
      " 1   sex_MALE           600 non-null    uint8  \n",
      " 2   married_YES        600 non-null    uint8  \n",
      " 3   car_YES            600 non-null    uint8  \n",
      " 4   save_act_YES       600 non-null    uint8  \n",
      " 5   current_act_YES    600 non-null    uint8  \n",
      " 6   mortgage_YES       600 non-null    uint8  \n",
      " 7   pep_YES            600 non-null    uint8  \n",
      " 8   region_INNER_CITY  600 non-null    uint8  \n",
      " 9   region_RURAL       600 non-null    uint8  \n",
      " 10  region_SUBURBAN    600 non-null    uint8  \n",
      " 11  region_TOWN        600 non-null    uint8  \n",
      " 12  children_0         600 non-null    uint8  \n",
      " 13  children_1         600 non-null    uint8  \n",
      " 14  children_2         600 non-null    uint8  \n",
      " 15  children_3         600 non-null    uint8  \n",
      " 16  is_twenties        600 non-null    int32  \n",
      " 17  is_thirties        600 non-null    int32  \n",
      " 18  is_forties         600 non-null    int32  \n",
      " 19  is_fifties         600 non-null    int32  \n",
      " 20  is_sixties         600 non-null    int32  \n",
      "dtypes: float64(1), int32(5), uint8(15)\n",
      "memory usage: 25.3 KB\n"
     ]
    }
   ],
   "source": [
    "# Drop age column\n",
    "bank_data_enc = bank_data_enc.drop(['age'], axis=1)\n",
    "\n",
    "# Display shape and sample contents\n",
    "bank_data_enc.shape\n",
    "bank_data_enc.head()\n",
    "\n",
    "# Examine column types\n",
    "bank_data_enc.info()"
   ]
  },
  {
   "cell_type": "markdown",
   "metadata": {},
   "source": [
    "Next we extract the target variable:"
   ]
  },
  {
   "cell_type": "code",
   "execution_count": 86,
   "metadata": {},
   "outputs": [],
   "source": [
    "# Extract and reserve the target column\n",
    "is_pep = np.array(bank_data_enc['pep_YES'].values)\n",
    "bank_data_enc = bank_data_enc.drop(['pep_YES'], axis=1)"
   ]
  },
  {
   "cell_type": "markdown",
   "metadata": {},
   "source": [
    "We can now proceed to exploratory analysis."
   ]
  },
  {
   "cell_type": "markdown",
   "metadata": {},
   "source": [
    "## 2. Perform exploratory analysis\n",
    "In this section, we perform a brief exploratory analysis, beginning with an analysis of column distributions.\n",
    "### Column distributions\n",
    "Here we examine the column distributions per column.\n",
    "\n",
    "#### Income"
   ]
  },
  {
   "cell_type": "code",
   "execution_count": 87,
   "metadata": {
    "scrolled": true
   },
   "outputs": [
    {
     "data": {
      "text/plain": [
       "<matplotlib.axes._subplots.AxesSubplot at 0x822782c648>"
      ]
     },
     "execution_count": 87,
     "metadata": {},
     "output_type": "execute_result"
    },
    {
     "data": {
      "image/png": "[encoded data removed]",
      "text/plain": [
       "<Figure size 432x288 with 1 Axes>"
      ]
     },
     "metadata": {
      "needs_background": "light"
     },
     "output_type": "display_data"
    }
   ],
   "source": [
    "sns.kdeplot(bank_data_enc['income'], bw = 3000)"
   ]
  },
  {
   "cell_type": "markdown",
   "metadata": {},
   "source": [
    "We find that income is positively skewed with a peak around 20K.\n",
    "\n",
    "#### Sex"
   ]
  },
  {
   "cell_type": "code",
   "execution_count": 88,
   "metadata": {},
   "outputs": [
    {
     "data": {
      "text/plain": [
       "[Text(0, 0.5, 'Count'), Text(0.5, 0, 'Is Male?')]"
      ]
     },
     "execution_count": 88,
     "metadata": {},
     "output_type": "execute_result"
    },
    {
     "data": {
      "image/png": "[encoded data removed]",
      "text/plain": [
       "<Figure size 432x288 with 1 Axes>"
      ]
     },
     "metadata": {
      "needs_background": "light"
     },
     "output_type": "display_data"
    }
   ],
   "source": [
    "# Plot distribution by sex\n",
    "ax = sns.countplot(x='sex_MALE', data=bank_data_enc)\n",
    "ax.set(xlabel='Is Male?', ylabel='Count')"
   ]
  },
  {
   "cell_type": "markdown",
   "metadata": {},
   "source": [
    "The data set has an equal number of males and females.\n",
    "\n",
    "#### Age"
   ]
  },
  {
   "cell_type": "code",
   "execution_count": 91,
   "metadata": {},
   "outputs": [
    {
     "data": {
      "text/plain": [
       "[Text(0, 0.5, 'Count'), Text(0.5, 0, 'Age Group')]"
      ]
     },
     "execution_count": 91,
     "metadata": {},
     "output_type": "execute_result"
    },
    {
     "data": {
      "image/png": "[encoded data removed]",
      "text/plain": [
       "<Figure size 432x288 with 1 Axes>"
      ]
     },
     "metadata": {
      "needs_background": "light"
     },
     "output_type": "display_data"
    }
   ],
   "source": [
    "# Plot distribution by age group\n",
    "df = pd.melt(bank_data_enc[['is_twenties', 'is_thirties', 'is_forties', 'is_fifties', 'is_sixties']])\n",
    "ax = sns.countplot(data=df.loc[df['value']!=0], x='variable')\n",
    "ax.set(xlabel='Age Group', ylabel='Count')"
   ]
  },
  {
   "cell_type": "markdown",
   "metadata": {},
   "source": [
    "The age groups are fairly evenly distributed, with most customers in their twenties or forties (note, however, that the twenties group also includes 18 and 19 year olds). Fewer customers are in their fifties and sixties respectively.\n",
    "\n",
    "#### Region Category"
   ]
  },
  {
   "cell_type": "code",
   "execution_count": 93,
   "metadata": {},
   "outputs": [
    {
     "data": {
      "text/plain": [
       "[Text(0, 0.5, 'Count'), Text(0.5, 0, 'Region Category')]"
      ]
     },
     "execution_count": 93,
     "metadata": {},
     "output_type": "execute_result"
    },
    {
     "data": {
      "image/png": "[encoded data removed]",
      "text/plain": [
       "<Figure size 432x288 with 1 Axes>"
      ]
     },
     "metadata": {
      "needs_background": "light"
     },
     "output_type": "display_data"
    }
   ],
   "source": [
    "# Plot distribution by region\n",
    "df = pd.melt(bank_data_enc[['region_RURAL', 'region_SUBURBAN', 'region_TOWN', 'region_INNER_CITY']])\n",
    "ax = sns.countplot(data=df.loc[df['value']!=0], x='variable')\n",
    "ax.set(xlabel='Region Category', ylabel='Count')"
   ]
  },
  {
   "cell_type": "markdown",
   "metadata": {},
   "source": [
    "The plot of customers by region shows that most live in the inner city followed by towns, while fewer live in rural areas and still fewer in suburban areas.\n",
    "\n",
    "#### Number of Children"
   ]
  },
  {
   "cell_type": "code",
   "execution_count": 94,
   "metadata": {},
   "outputs": [
    {
     "data": {
      "text/plain": [
       "[Text(0, 0.5, 'Count'), Text(0.5, 0, 'Number of children')]"
      ]
     },
     "execution_count": 94,
     "metadata": {},
     "output_type": "execute_result"
    },
    {
     "data": {
      "image/png": "[encoded data removed]",
      "text/plain": [
       "<Figure size 432x288 with 1 Axes>"
      ]
     },
     "metadata": {
      "needs_background": "light"
     },
     "output_type": "display_data"
    }
   ],
   "source": [
    "# Plot distribution by number of children\n",
    "df = pd.melt(bank_data_enc[['children_0', 'children_1', 'children_2', 'children_3']])\n",
    "ax = sns.countplot(data=df.loc[df['value']!=0], x='variable')\n",
    "ax.set(xlabel='Number of children', ylabel='Count')"
   ]
  },
  {
   "cell_type": "markdown",
   "metadata": {},
   "source": [
    "Most customers have no children, while about half of the number with no children have one or two children respectively. The fewest number of customers have three children.\n",
    "\n",
    "#### Car Ownership"
   ]
  },
  {
   "cell_type": "code",
   "execution_count": 95,
   "metadata": {},
   "outputs": [
    {
     "data": {
      "text/plain": [
       "[Text(0, 0.5, 'Count'), Text(0.5, 0, 'Owns a car?')]"
      ]
     },
     "execution_count": 95,
     "metadata": {},
     "output_type": "execute_result"
    },
    {
     "data": {
      "image/png": "[encoded data removed]",
      "text/plain": [
       "<Figure size 432x288 with 1 Axes>"
      ]
     },
     "metadata": {
      "needs_background": "light"
     },
     "output_type": "display_data"
    }
   ],
   "source": [
    "# Plot distribution by car ownership\n",
    "ax = sns.countplot(x='car_YES', data=bank_data_enc)\n",
    "ax.set(xlabel='Owns a car?', ylabel='Count')"
   ]
  },
  {
   "cell_type": "markdown",
   "metadata": {},
   "source": [
    "Approximately equal numbers of customers own a car as do not own a car.\n",
    "\n",
    "### Account and Mortgage Status"
   ]
  },
  {
   "cell_type": "code",
   "execution_count": 96,
   "metadata": {},
   "outputs": [
    {
     "data": {
      "text/plain": [
       "[Text(0, 0.5, 'Count'), Text(0.5, 0, 'Account and Mortgage Status')]"
      ]
     },
     "execution_count": 96,
     "metadata": {},
     "output_type": "execute_result"
    },
    {
     "data": {
      "image/png": "[encoded data removed]",
      "text/plain": [
       "<Figure size 432x288 with 1 Axes>"
      ]
     },
     "metadata": {
      "needs_background": "light"
     },
     "output_type": "display_data"
    }
   ],
   "source": [
    "# Plot distribution by account ownership and possession of a mortgage\n",
    "df = pd.melt(bank_data_enc[['save_act_YES', 'current_act_YES', 'mortgage_YES']])\n",
    "ax = sns.countplot(data=df.loc[df['value']!=0], x='variable')\n",
    "\n",
    "ax.set(xlabel='Account and Mortgage Status', ylabel='Count')"
   ]
  },
  {
   "cell_type": "markdown",
   "metadata": {},
   "source": [
    "Roughly two thirds of customers have a savings account, while slightly more have a current account. Roughly one third has a mortgage.\n",
    "\n",
    "#### PEP Status"
   ]
  },
  {
   "cell_type": "code",
   "execution_count": 99,
   "metadata": {},
   "outputs": [
    {
     "data": {
      "text/plain": [
       "[Text(0, 0.5, 'Count'), Text(0.5, 0, 'Is Politically Exposed?')]"
      ]
     },
     "execution_count": 99,
     "metadata": {},
     "output_type": "execute_result"
    },
    {
     "data": {
      "image/png": "[encoded data removed]",
      "text/plain": [
       "<Figure size 432x288 with 1 Axes>"
      ]
     },
     "metadata": {
      "needs_background": "light"
     },
     "output_type": "display_data"
    }
   ],
   "source": [
    "# Plot distribution by PEP status\n",
    "ax = sns.countplot(x='pep', data=bank_data)\n",
    "ax.set(xlabel='Is Politically Exposed?', ylabel='Count')"
   ]
  },
  {
   "cell_type": "markdown",
   "metadata": {},
   "source": [
    "Interestingly, about equal numbers of the banks customers have political exposure. Given these roughly proportionate outcomes, it is unnecessary to balance the data set."
   ]
  },
  {
   "cell_type": "markdown",
   "metadata": {},
   "source": [
    "## 3. Compare the performance of decision tree and random forest approaches\n",
    "In this section, we compare the performance between a decision tree and a random forest approach by assessing the accuracy of each model."
   ]
  },
  {
   "cell_type": "code",
   "execution_count": null,
   "metadata": {},
   "outputs": [],
   "source": []
  },
  {
   "cell_type": "markdown",
   "metadata": {},
   "source": [
    "## 4. Graph structure of the decision tree\n",
    "In this section, we graph the structure of our decision tree."
   ]
  },
  {
   "cell_type": "code",
   "execution_count": null,
   "metadata": {},
   "outputs": [],
   "source": []
  },
  {
   "cell_type": "markdown",
   "metadata": {},
   "source": [
    "## 5. Graph the confusion matrix of your random forest model\n",
    "In this section, we graph the confusion matrix of our random forest model."
   ]
  },
  {
   "cell_type": "code",
   "execution_count": null,
   "metadata": {},
   "outputs": [],
   "source": []
  }
 ],
 "metadata": {
  "kernelspec": {
   "display_name": "Python 3",
   "language": "python",
   "name": "python3"
  },
  "language_info": {
   "codemirror_mode": {
    "name": "ipython",
    "version": 3
   },
   "file_extension": ".py",
   "mimetype": "text/x-python",
   "name": "python",
   "nbconvert_exporter": "python",
   "pygments_lexer": "ipython3",
   "version": "3.7.7"
  }
 },
 "nbformat": 4,
 "nbformat_minor": 2
}
